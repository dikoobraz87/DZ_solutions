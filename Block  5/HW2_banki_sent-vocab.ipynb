{
 "cells": [
  {
   "cell_type": "code",
   "execution_count": 2,
   "metadata": {
    "colab": {
     "autoexec": {
      "startup": false,
      "wait_interval": 0
     },
     "base_uri": "https://localhost:8080/",
     "height": 51
    },
    "colab_type": "code",
    "executionInfo": {
     "elapsed": 5697,
     "status": "ok",
     "timestamp": 1530624480220,
     "user": {
      "displayName": "Вячеслав Потапов",
      "photoUrl": "//lh3.googleusercontent.com/-Qs46tABGvLU/AAAAAAAAAAI/AAAAAAAAPJ8/IeFwx4WvI9Q/s50-c-k-no/photo.jpg",
      "userId": "113860555012653070214"
     },
     "user_tz": -180
    },
    "id": "JIEeBXS5xW9M",
    "outputId": "13c75a9c-1ff6-4644-e827-07389b882f82"
   },
   "outputs": [
    {
     "name": "stdout",
     "output_type": "stream",
     "text": [
      "Requirement already satisfied: tqdm in /usr/local/lib/python3.6/dist-packages (4.23.4)\n",
      "Requirement already satisfied: regex in /usr/local/lib/python3.6/dist-packages (2018.6.21)\n"
     ]
    }
   ],
   "source": [
    "! pip install tqdm\n",
    "! pip install regex"
   ]
  },
  {
   "cell_type": "code",
   "execution_count": 0,
   "metadata": {
    "colab": {
     "autoexec": {
      "startup": false,
      "wait_interval": 0
     }
    },
    "colab_type": "code",
    "id": "ftqTa2QxUPoN"
   },
   "outputs": [],
   "source": []
  },
  {
   "cell_type": "code",
   "execution_count": 68,
   "metadata": {
    "colab": {
     "autoexec": {
      "startup": false,
      "wait_interval": 0
     }
    },
    "colab_type": "code",
    "id": "BkabBLOsxLR1"
   },
   "outputs": [],
   "source": [
    "import json\n",
    "\n",
    "import bz2\n",
    "import regex\n",
    "from tqdm import tqdm\n",
    "from scipy import sparse"
   ]
  },
  {
   "cell_type": "code",
   "execution_count": 69,
   "metadata": {
    "colab": {
     "autoexec": {
      "startup": false,
      "wait_interval": 0
     },
     "base_uri": "https://localhost:8080/",
     "height": 34
    },
    "colab_type": "code",
    "executionInfo": {
     "elapsed": 851,
     "status": "ok",
     "timestamp": 1530624489284,
     "user": {
      "displayName": "Вячеслав Потапов",
      "photoUrl": "//lh3.googleusercontent.com/-Qs46tABGvLU/AAAAAAAAAAI/AAAAAAAAPJ8/IeFwx4WvI9Q/s50-c-k-no/photo.jpg",
      "userId": "113860555012653070214"
     },
     "user_tz": -180
    },
    "id": "sEuNcDdhxLSA",
    "outputId": "a3405d39-bc9b-46ec-d4d4-bf8a58526731"
   },
   "outputs": [
    {
     "name": "stdout",
     "output_type": "stream",
     "text": [
      "Populating the interactive namespace from numpy and matplotlib\n"
     ]
    },
    {
     "name": "stderr",
     "output_type": "stream",
     "text": [
      "C:\\Users\\Python\\Anaconda3\\lib\\site-packages\\IPython\\core\\magics\\pylab.py:160: UserWarning: pylab import has clobbered these variables: ['text']\n",
      "`%matplotlib` prevents importing * from pylab and numpy\n",
      "  \"\\n`%matplotlib` prevents importing * from pylab and numpy\"\n"
     ]
    }
   ],
   "source": [
    "import pandas as pd\n",
    "import numpy as np\n",
    "import nltk\n",
    "import matplotlib.pyplot as plt\n",
    "import seaborn as sns\n",
    "%matplotlib inline\n",
    "%pylab inline"
   ]
  },
  {
   "cell_type": "code",
   "execution_count": 7,
   "metadata": {
    "colab": {
     "autoexec": {
      "startup": false,
      "wait_interval": 0
     },
     "base_uri": "https://localhost:8080/",
     "height": 350
    },
    "colab_type": "code",
    "collapsed": true,
    "executionInfo": {
     "elapsed": 626,
     "status": "error",
     "timestamp": 1530621152845,
     "user": {
      "displayName": "Вячеслав Потапов",
      "photoUrl": "//lh3.googleusercontent.com/-Qs46tABGvLU/AAAAAAAAAAI/AAAAAAAAPJ8/IeFwx4WvI9Q/s50-c-k-no/photo.jpg",
      "userId": "113860555012653070214"
     },
     "user_tz": -180
    },
    "id": "mgfkQrjAxLSL",
    "outputId": "3ab6b6af-9391-40fe-fd11-91ce225229c2"
   },
   "outputs": [
    {
     "ename": "FileNotFoundError",
     "evalue": "ignored",
     "output_type": "error",
     "traceback": [
      "\u001b[0;31m---------------------------------------------------------------------------\u001b[0m",
      "\u001b[0;31mFileNotFoundError\u001b[0m                         Traceback (most recent call last)",
      "\u001b[0;32m<ipython-input-7-6de37dfaceb1>\u001b[0m in \u001b[0;36m<module>\u001b[0;34m()\u001b[0m\n\u001b[1;32m      1\u001b[0m \u001b[0mresponses\u001b[0m \u001b[0;34m=\u001b[0m \u001b[0;34m[\u001b[0m\u001b[0;34m]\u001b[0m\u001b[0;34m\u001b[0m\u001b[0m\n\u001b[0;32m----> 2\u001b[0;31m \u001b[0;32mwith\u001b[0m \u001b[0mbz2\u001b[0m\u001b[0;34m.\u001b[0m\u001b[0mBZ2File\u001b[0m\u001b[0;34m(\u001b[0m\u001b[0;34m'../data/banki_responses.json.bz2'\u001b[0m\u001b[0;34m,\u001b[0m \u001b[0;34m'r'\u001b[0m\u001b[0;34m)\u001b[0m \u001b[0;32mas\u001b[0m \u001b[0mthefile\u001b[0m\u001b[0;34m:\u001b[0m\u001b[0;34m\u001b[0m\u001b[0m\n\u001b[0m\u001b[1;32m      3\u001b[0m     \u001b[0;32mfor\u001b[0m \u001b[0mrow\u001b[0m \u001b[0;32min\u001b[0m \u001b[0mtqdm\u001b[0m\u001b[0;34m(\u001b[0m\u001b[0mthefile\u001b[0m\u001b[0;34m)\u001b[0m\u001b[0;34m:\u001b[0m\u001b[0;34m\u001b[0m\u001b[0m\n\u001b[1;32m      4\u001b[0m         \u001b[0mresp\u001b[0m \u001b[0;34m=\u001b[0m \u001b[0mjson\u001b[0m\u001b[0;34m.\u001b[0m\u001b[0mloads\u001b[0m\u001b[0;34m(\u001b[0m\u001b[0mrow\u001b[0m\u001b[0;34m)\u001b[0m\u001b[0;34m\u001b[0m\u001b[0m\n\u001b[1;32m      5\u001b[0m         \u001b[0;32mif\u001b[0m \u001b[0;32mnot\u001b[0m \u001b[0mresp\u001b[0m\u001b[0;34m[\u001b[0m\u001b[0;34m'rating_not_checked'\u001b[0m\u001b[0;34m]\u001b[0m \u001b[0;32mand\u001b[0m \u001b[0;34m(\u001b[0m\u001b[0mlen\u001b[0m\u001b[0;34m(\u001b[0m\u001b[0mresp\u001b[0m\u001b[0;34m[\u001b[0m\u001b[0;34m'text'\u001b[0m\u001b[0;34m]\u001b[0m\u001b[0;34m.\u001b[0m\u001b[0msplit\u001b[0m\u001b[0;34m(\u001b[0m\u001b[0;34m)\u001b[0m\u001b[0;34m)\u001b[0m \u001b[0;34m>\u001b[0m \u001b[0;36m0\u001b[0m\u001b[0;34m)\u001b[0m\u001b[0;34m:\u001b[0m\u001b[0;34m\u001b[0m\u001b[0m\n",
      "\u001b[0;32m/usr/lib/python3.6/bz2.py\u001b[0m in \u001b[0;36m__init__\u001b[0;34m(self, filename, mode, buffering, compresslevel)\u001b[0m\n\u001b[1;32m     94\u001b[0m \u001b[0;34m\u001b[0m\u001b[0m\n\u001b[1;32m     95\u001b[0m         \u001b[0;32mif\u001b[0m \u001b[0misinstance\u001b[0m\u001b[0;34m(\u001b[0m\u001b[0mfilename\u001b[0m\u001b[0;34m,\u001b[0m \u001b[0;34m(\u001b[0m\u001b[0mstr\u001b[0m\u001b[0;34m,\u001b[0m \u001b[0mbytes\u001b[0m\u001b[0;34m,\u001b[0m \u001b[0mos\u001b[0m\u001b[0;34m.\u001b[0m\u001b[0mPathLike\u001b[0m\u001b[0;34m)\u001b[0m\u001b[0;34m)\u001b[0m\u001b[0;34m:\u001b[0m\u001b[0;34m\u001b[0m\u001b[0m\n\u001b[0;32m---> 96\u001b[0;31m             \u001b[0mself\u001b[0m\u001b[0;34m.\u001b[0m\u001b[0m_fp\u001b[0m \u001b[0;34m=\u001b[0m \u001b[0m_builtin_open\u001b[0m\u001b[0;34m(\u001b[0m\u001b[0mfilename\u001b[0m\u001b[0;34m,\u001b[0m \u001b[0mmode\u001b[0m\u001b[0;34m)\u001b[0m\u001b[0;34m\u001b[0m\u001b[0m\n\u001b[0m\u001b[1;32m     97\u001b[0m             \u001b[0mself\u001b[0m\u001b[0;34m.\u001b[0m\u001b[0m_closefp\u001b[0m \u001b[0;34m=\u001b[0m \u001b[0;32mTrue\u001b[0m\u001b[0;34m\u001b[0m\u001b[0m\n\u001b[1;32m     98\u001b[0m             \u001b[0mself\u001b[0m\u001b[0;34m.\u001b[0m\u001b[0m_mode\u001b[0m \u001b[0;34m=\u001b[0m \u001b[0mmode_code\u001b[0m\u001b[0;34m\u001b[0m\u001b[0m\n",
      "\u001b[0;31mFileNotFoundError\u001b[0m: [Errno 2] No such file or directory: '../data/banki_responses.json.bz2'"
     ]
    }
   ],
   "source": [
    "responses = []\n",
    "with bz2.BZ2File('../data/banki_responses.json.bz2', 'r') as thefile:\n",
    "    for row in tqdm(thefile):\n",
    "        resp = json.loads(row)\n",
    "        if not resp['rating_not_checked'] and (len(resp['text'].split()) > 0):\n",
    "            responses.append(resp)"
   ]
  },
  {
   "cell_type": "code",
   "execution_count": 8,
   "metadata": {
    "colab": {
     "autoexec": {
      "startup": false,
      "wait_interval": 0
     },
     "base_uri": "https://localhost:8080/",
     "height": 102
    },
    "colab_type": "code",
    "executionInfo": {
     "elapsed": 137569,
     "status": "ok",
     "timestamp": 1530624673876,
     "user": {
      "displayName": "Вячеслав Потапов",
      "photoUrl": "//lh3.googleusercontent.com/-Qs46tABGvLU/AAAAAAAAAAI/AAAAAAAAPJ8/IeFwx4WvI9Q/s50-c-k-no/photo.jpg",
      "userId": "113860555012653070214"
     },
     "user_tz": -180
    },
    "id": "cWPnh6LR0TA3",
    "outputId": "515780ab-911a-4976-9506-86a4cfdf95ab"
   },
   "outputs": [
    {
     "name": "stdout",
     "output_type": "stream",
     "text": [
      "title: HW2_banki_sent-vocab.ipynb, id: 1fSDUbtpAqvTQm95dR9jxjbf2sOpj31lx\n",
      "downloading to /content/data/HW2_banki_sent-vocab.ipynb\n",
      "title: banki_responses.json.bz2, id: 1Pmg5qoggsx3xt5VUyqpGnIJUF-gR61qZ\n",
      "downloading to /content/data/banki_responses.json.bz2\n"
     ]
    },
    {
     "name": "stderr",
     "output_type": "stream",
     "text": [
      "201030it [02:08, 1567.74it/s]\n"
     ]
    }
   ],
   "source": [
    "!pip install -U -q PyDrive\n",
    "import os\n",
    "from pydrive.auth import GoogleAuth\n",
    "from pydrive.drive import GoogleDrive\n",
    "from google.colab import auth\n",
    "from oauth2client.client import GoogleCredentials\n",
    "\n",
    "# 1. Authenticate and create the PyDrive client.\n",
    "auth.authenticate_user()\n",
    "gauth = GoogleAuth()\n",
    "gauth.credentials = GoogleCredentials.get_application_default()\n",
    "drive = GoogleDrive(gauth)\n",
    "\n",
    "# choose a local (colab) directory to store the data.\n",
    "local_download_path = os.path.expanduser('~/data')\n",
    "try:\n",
    "  os.makedirs(local_download_path)\n",
    "except: pass\n",
    "\n",
    "# 2. Auto-iterate using the query syntax\n",
    "#    https://developers.google.com/drive/v2/web/search-parameters\n",
    "file_list = drive.ListFile(\n",
    "    {'q': \"'1UdMM6GRG706jvagUmAzwMIahcUKwj9Fr' in parents and trashed=false\"}).GetList()\n",
    "\n",
    "for f in file_list:\n",
    "  # 3. Create & download by id.\n",
    "  print('title: %s, id: %s' % (f['title'], f['id']))\n",
    "  fname = os.path.join(local_download_path, f['title'])\n",
    "  print('downloading to {}'.format(fname))\n",
    "  f_ = drive.CreateFile({'id': f['id']})\n",
    "  f_.GetContentFile(fname)\n",
    "\n",
    "\n",
    "responses = []\n",
    "with bz2.BZ2File(fname, 'r') as thefile:\n",
    "    for row in tqdm(thefile):\n",
    "        resp = json.loads(row)\n",
    "        if not resp['rating_not_checked'] and (len(resp['text'].split()) > 0):\n",
    "            responses.append(resp)\n",
    "        "
   ]
  },
  {
   "cell_type": "markdown",
   "metadata": {
    "colab_type": "text",
    "id": "npgHUh-SxLSS"
   },
   "source": [
    "#  Домашнее задание по NLP # 2 [100 баллов] \n",
    "## Составление словарей для классификации по тональности\n",
    "При классификации текстов или предложений по тональности необходимо использовать оценочные словари для предметной области, то есть, такие словари, в которых содержатся отрицательные и позитивные слова для какой-то предметной области. Идея подобных словарей основана на следующих наблюдениях: во-первых, для разных товаров используются разные оценочные слова (например бывает “захватывающая книга”, но не бывает “захватывающих лыж”), во-вторых, в контексте разных товаров одни и те же слова могут иметь разную окраску (слово “тормоз” в отзыве на велосипед имеет нейтральную окраску, в отзыве на компьютер – резко негативную, “пыль” в контексте пылесосов – нейтральную, в контексте кофемолок – положительную (“мелкий помол в пыль”)). Еще один пример: \"теплое пиво\" – это плохо, а \"теплый свитер\" – это хорошо.  \n",
    "\n",
    "Составление таких словарей в ручную – трудоемкий процесс, но, к счастью, его не сложно автоматизировать, если собрать достаточно большие корпуса отзывов. В этом домашнем задании вам предстоит попробовать реализовать один их подходов к составлению оценочных словарей, основанный на статье Inducing Domain-Specific Sentiment Lexicons from Unlabeled Corpora (https://nlp.stanford.edu/pubs/hamilton2016inducing.pdf).\n",
    "\n",
    "\n",
    "Данные для задания – уже знакомые вам отзывы на банки, собранные с нескольких сайтов Рунета. Отзывы могут быть как положительными (оценка 5), так и отрицательными (оценка 1)."
   ]
  },
  {
   "cell_type": "code",
   "execution_count": 9,
   "metadata": {
    "colab": {
     "autoexec": {
      "startup": false,
      "wait_interval": 0
     },
     "base_uri": "https://localhost:8080/",
     "height": 54
    },
    "colab_type": "code",
    "executionInfo": {
     "elapsed": 581,
     "status": "ok",
     "timestamp": 1530624705390,
     "user": {
      "displayName": "Вячеслав Потапов",
      "photoUrl": "//lh3.googleusercontent.com/-Qs46tABGvLU/AAAAAAAAAAI/AAAAAAAAPJ8/IeFwx4WvI9Q/s50-c-k-no/photo.jpg",
      "userId": "113860555012653070214"
     },
     "user_tz": -180
    },
    "id": "2Mw6REtdxLSU",
    "outputId": "9425f27d-c5c0-4a8a-f38d-8ce94c8ec5e2"
   },
   "outputs": [
    {
     "data": {
      "text/plain": [
       "'Здравствуйте! Хотела написать, что мне месяц не выдают карту ко вкладу, ссылаясь на \"нам же их из Самары везут\" (на секундочку 5 часов езды от нашего города). Но! Прочитала, что людям 3,5 месяцев не выдают карту, и поняла, что у меня все хорошо, пока что. И подарок мне дали, и кулер в отделении есть. Так что я, конечно, готова ждать. Правда хотелось бы не очень долго.'"
      ]
     },
     "execution_count": 9,
     "metadata": {
      "tags": []
     },
     "output_type": "execute_result"
    }
   ],
   "source": [
    "responses[99]['text']"
   ]
  },
  {
   "cell_type": "markdown",
   "metadata": {
    "colab_type": "text",
    "id": "DTyq8EQuxLSc"
   },
   "source": [
    "## Часть 1. Обучение модели word2vec [50 баллов]\n",
    "\n",
    "1. Разбейте всю коллекцию отзывов на предложения. Лемматизируйте все слова. \n",
    "2. Обучите по коллекции предложений word2vec\n",
    "3. Приведите несколько удачных и неудачных примеров решения стандартных текстов для word2vec:\n",
    "    * тест на определение ближайших слов\n",
    "    * тест на аналогии (мужчина – король : женщина – королева)\n",
    "    * тест на определение лишнего слова.\n",
    "    \n",
    "4. Постройте несколько визуализаций:\n",
    "    * TSNE для топ-100 (или топ-500) слов и найдите осмысленные кластеры слов\n",
    "    * задайте координаты для нового пространства следующим образом: одна  ось описывает отношение \"плохо – хорошо\", вторая – \"медленно – быстро\" и найдите координаты названий банков в этих координатах.  Более формально:\n",
    "    берем вектор слова \"хорошо\", вычитаем из него вектор слова \"плохо\", получаем новый вектор, который описывает разницу между хорошими и плохими словами. Берем вектор слова \"сбербанк\" и умножаем его на этот новый вектор – получаем координату по первой оси. Аналогично – для второй оси. Две координаты уже можно нарисовать на плоскости.  \n",
    " \n",
    "\n",
    "\n",
    "Ссылка на примеры визуализаций: https://towardsdatascience.com/game-of-thrones-word-embeddings-does-r-l-j-part-2-30290b1c0b4b"
   ]
  },
  {
   "cell_type": "code",
   "execution_count": 15,
   "metadata": {
    "colab": {
     "autoexec": {
      "startup": false,
      "wait_interval": 0
     },
     "base_uri": "https://localhost:8080/",
     "height": 207
    },
    "colab_type": "code",
    "executionInfo": {
     "elapsed": 609,
     "status": "ok",
     "timestamp": 1530532625944,
     "user": {
      "displayName": "Вячеслав Потапов",
      "photoUrl": "//lh3.googleusercontent.com/-Qs46tABGvLU/AAAAAAAAAAI/AAAAAAAAPJ8/IeFwx4WvI9Q/s50-c-k-no/photo.jpg",
      "userId": "113860555012653070214"
     },
     "user_tz": -180
    },
    "id": "GGZsZcfDxLSd",
    "outputId": "7381c147-bfde-4c65-98c0-40f5fdcc1164"
   },
   "outputs": [
    {
     "data": {
      "text/plain": [
       "{'author': 'uhnov1',\n",
       " 'bank_license': 'лицензия № 2562',\n",
       " 'bank_name': 'Бинбанк',\n",
       " 'city': 'г. Москва',\n",
       " 'datetime': '2015-06-08 12:50:54',\n",
       " 'num_comments': 0,\n",
       " 'rating_grade': None,\n",
       " 'rating_not_checked': False,\n",
       " 'text': 'Добрый день! Я не являюсь клиентом банка и поручителем по кредитному договору, а также не являюсь каким-либо другим лицом, письменно  оформившим отношения с банком по поводу урегулирования чьей-либо  задолженности.  Начиная с марта 2015 года начали приходить бесконечные письма из ООО \"Примо коллект\"на мой адрес: город Москва, Уваровский переулок, дом 10, квартира 111, с угрозами о возбуждении уголовного дела в отношении гражданина Филиппова Эдуарда Владимировича, который уклоняется от уплаты взятых им кредитов: договор № 81014 от 20.10.2013 года и договор № 2464946 от 09.10.2014 года. Со всей ответственностью\\xa0 хочу Вас заверить, что вышеуказанный гражданин, которого Вы разыскиваете, мне не знаком и никогда в моем адресе не был зарегистрирован. Каким образом Вы не удостоверившись в подлинности его документов оформили на его имя кредитный договор, мне по меньшей мере не понятно,\\xa0 и почему по Вашей милости я должна переживать и бояться за себе и свое имущество. Письма доставляют мне серьезные неудобства, нарушают мои гражданские права, а также нарушают закон о защите персональных данных. Убедительно прошу прекратить посылать на мой адрес письма с угрозами по вопросам, к которым я не имею отношения. В случае отклонения моей претензии буду вынуждена обратиться с жалобами в  другие органы: Росспотребнадзор, Центральный банк, Службу Финансового  омбудсмена. Кроме этого будет подано заявление в полицию и заявление в  суд возмещение причиненного мне морального вреда. Надеюсь на скорое решение моего вопроса.',\n",
       " 'title': 'Жалоба'}"
      ]
     },
     "execution_count": 15,
     "metadata": {
      "tags": []
     },
     "output_type": "execute_result"
    }
   ],
   "source": [
    "responses[0]"
   ]
  },
  {
   "cell_type": "code",
   "execution_count": 11,
   "metadata": {
    "colab": {
     "autoexec": {
      "startup": false,
      "wait_interval": 0
     },
     "base_uri": "https://localhost:8080/",
     "height": 17
    },
    "colab_type": "code",
    "executionInfo": {
     "elapsed": 600,
     "status": "ok",
     "timestamp": 1530624717794,
     "user": {
      "displayName": "Вячеслав Потапов",
      "photoUrl": "//lh3.googleusercontent.com/-Qs46tABGvLU/AAAAAAAAAAI/AAAAAAAAPJ8/IeFwx4WvI9Q/s50-c-k-no/photo.jpg",
      "userId": "113860555012653070214"
     },
     "user_tz": -180
    },
    "id": "Nk22VtLyxLSl",
    "outputId": "133a5105-6101-4fa4-f964-80e72c2827f3"
   },
   "outputs": [],
   "source": [
    "texts = []\n",
    "\n",
    "for i in range(len(responses)):\n",
    "    texts.append(responses[i]['text'])\n",
    "        \n",
    "  "
   ]
  },
  {
   "cell_type": "code",
   "execution_count": 41,
   "metadata": {
    "colab": {
     "autoexec": {
      "startup": false,
      "wait_interval": 0
     },
     "base_uri": "https://localhost:8080/",
     "height": 54
    },
    "colab_type": "code",
    "executionInfo": {
     "elapsed": 646,
     "status": "ok",
     "timestamp": 1530632642684,
     "user": {
      "displayName": "Вячеслав Потапов",
      "photoUrl": "//lh3.googleusercontent.com/-Qs46tABGvLU/AAAAAAAAAAI/AAAAAAAAPJ8/IeFwx4WvI9Q/s50-c-k-no/photo.jpg",
      "userId": "113860555012653070214"
     },
     "user_tz": -180
    },
    "id": "4h-xN8XuxLSq",
    "outputId": "31d15c71-9b3e-4cd9-cd92-09819d7c78db"
   },
   "outputs": [
    {
     "data": {
      "text/plain": [
       "'Добрый день! Я не являюсь клиентом банка и поручителем по кредитному договору, а также не являюсь каким-либо другим лицом, письменно  оформившим отношения с банком по поводу урегулирования чьей-либо  задолженности.  Начиная с марта 2015 года начали приходить бесконечные письма из ООО \"Примо коллект\"на мой адрес: город Москва, Уваровский переулок, дом 10, квартира 111, с угрозами о возбуждении уголовного дела в отношении гражданина Филиппова Эдуарда Владимировича, который уклоняется от уплаты взятых им кредитов: договор № 81014 от 20.10.2013 года и договор № 2464946 от 09.10.2014 года. Со всей ответственностью\\xa0 хочу Вас заверить, что вышеуказанный гражданин, которого Вы разыскиваете, мне не знаком и никогда в моем адресе не был зарегистрирован. Каким образом Вы не удостоверившись в подлинности его документов оформили на его имя кредитный договор, мне по меньшей мере не понятно,\\xa0 и почему по Вашей милости я должна переживать и бояться за себе и свое имущество. Письма доставляют мне серьезные неудобства, нарушают мои гражданские права, а также нарушают закон о защите персональных данных. Убедительно прошу прекратить посылать на мой адрес письма с угрозами по вопросам, к которым я не имею отношения. В случае отклонения моей претензии буду вынуждена обратиться с жалобами в  другие органы: Росспотребнадзор, Центральный банк, Службу Финансового  омбудсмена. Кроме этого будет подано заявление в полицию и заявление в  суд возмещение причиненного мне морального вреда. Надеюсь на скорое решение моего вопроса.'"
      ]
     },
     "execution_count": 41,
     "metadata": {
      "tags": []
     },
     "output_type": "execute_result"
    }
   ],
   "source": [
    "texts[0]"
   ]
  },
  {
   "cell_type": "code",
   "execution_count": 12,
   "metadata": {
    "colab": {
     "autoexec": {
      "startup": false,
      "wait_interval": 0
     },
     "base_uri": "https://localhost:8080/",
     "height": 68
    },
    "colab_type": "code",
    "executionInfo": {
     "elapsed": 122488,
     "status": "ok",
     "timestamp": 1530624844408,
     "user": {
      "displayName": "Вячеслав Потапов",
      "photoUrl": "//lh3.googleusercontent.com/-Qs46tABGvLU/AAAAAAAAAAI/AAAAAAAAPJ8/IeFwx4WvI9Q/s50-c-k-no/photo.jpg",
      "userId": "113860555012653070214"
     },
     "user_tz": -180
    },
    "id": "-R5g73kyxLSz",
    "outputId": "2b23a335-8a47-44ee-9c05-8f3bf4cea7d0"
   },
   "outputs": [
    {
     "name": "stdout",
     "output_type": "stream",
     "text": [
      "[nltk_data] Downloading package punkt to /content/nltk_data...\n",
      "[nltk_data]   Package punkt is already up-to-date!\n",
      "2664456\n"
     ]
    }
   ],
   "source": [
    "import nltk\n",
    "nltk.download('punkt')\n",
    "from nltk.tokenize import sent_tokenize\n",
    "\n",
    "text_sents= []\n",
    "\n",
    "for text in texts:\n",
    "    \n",
    "    for sent in sent_tokenize(text):\n",
    "      text_sents.append(sent)\n",
    "      \n",
    "print(len(text_sents))\n"
   ]
  },
  {
   "cell_type": "code",
   "execution_count": 13,
   "metadata": {
    "colab": {
     "autoexec": {
      "startup": false,
      "wait_interval": 0
     },
     "base_uri": "https://localhost:8080/",
     "height": 34
    },
    "colab_type": "code",
    "executionInfo": {
     "elapsed": 620,
     "status": "ok",
     "timestamp": 1530624860442,
     "user": {
      "displayName": "Вячеслав Потапов",
      "photoUrl": "//lh3.googleusercontent.com/-Qs46tABGvLU/AAAAAAAAAAI/AAAAAAAAPJ8/IeFwx4WvI9Q/s50-c-k-no/photo.jpg",
      "userId": "113860555012653070214"
     },
     "user_tz": -180
    },
    "id": "c43KF7D6xLS7",
    "outputId": "d48c2181-ed6f-475c-a127-30fabe4a656e"
   },
   "outputs": [
    {
     "data": {
      "text/plain": [
       "'Добрый день!'"
      ]
     },
     "execution_count": 13,
     "metadata": {
      "tags": []
     },
     "output_type": "execute_result"
    }
   ],
   "source": [
    "text_sents[0]"
   ]
  },
  {
   "cell_type": "code",
   "execution_count": 14,
   "metadata": {
    "colab": {
     "autoexec": {
      "startup": false,
      "wait_interval": 0
     },
     "base_uri": "https://localhost:8080/",
     "height": 119
    },
    "colab_type": "code",
    "executionInfo": {
     "elapsed": 2872,
     "status": "ok",
     "timestamp": 1530624865299,
     "user": {
      "displayName": "Вячеслав Потапов",
      "photoUrl": "//lh3.googleusercontent.com/-Qs46tABGvLU/AAAAAAAAAAI/AAAAAAAAPJ8/IeFwx4WvI9Q/s50-c-k-no/photo.jpg",
      "userId": "113860555012653070214"
     },
     "user_tz": -180
    },
    "id": "JCpOYCZe46dJ",
    "outputId": "32434d42-9952-45b7-801c-6eb21e697bfc"
   },
   "outputs": [
    {
     "name": "stdout",
     "output_type": "stream",
     "text": [
      "Requirement already satisfied: pymystem3 in /usr/local/lib/python3.6/dist-packages (0.1.9)\r\n",
      "Requirement already satisfied: requests in /usr/local/lib/python3.6/dist-packages (from pymystem3) (2.18.4)\r\n",
      "Requirement already satisfied: chardet<3.1.0,>=3.0.2 in /usr/local/lib/python3.6/dist-packages (from requests->pymystem3) (3.0.4)\r\n",
      "Requirement already satisfied: certifi>=2017.4.17 in /usr/local/lib/python3.6/dist-packages (from requests->pymystem3) (2018.4.16)\r\n",
      "Requirement already satisfied: idna<2.7,>=2.5 in /usr/local/lib/python3.6/dist-packages (from requests->pymystem3) (2.6)\r\n",
      "Requirement already satisfied: urllib3<1.23,>=1.21.1 in /usr/local/lib/python3.6/dist-packages (from requests->pymystem3) (1.22)\r\n"
     ]
    }
   ],
   "source": [
    "! pip install pymystem3"
   ]
  },
  {
   "cell_type": "code",
   "execution_count": 76,
   "metadata": {
    "colab": {
     "autoexec": {
      "startup": false,
      "wait_interval": 0
     },
     "base_uri": "https://localhost:8080/",
     "height": 17
    },
    "colab_type": "code",
    "executionInfo": {
     "elapsed": 625,
     "status": "ok",
     "timestamp": 1530624900205,
     "user": {
      "displayName": "Вячеслав Потапов",
      "photoUrl": "//lh3.googleusercontent.com/-Qs46tABGvLU/AAAAAAAAAAI/AAAAAAAAPJ8/IeFwx4WvI9Q/s50-c-k-no/photo.jpg",
      "userId": "113860555012653070214"
     },
     "user_tz": -180
    },
    "id": "Sj4Nn8nExLTC",
    "outputId": "6db5f697-cc92-4159-8eec-174bdcf5b950"
   },
   "outputs": [
    {
     "ename": "error",
     "evalue": "unbalanced parenthesis at position 13",
     "output_type": "error",
     "traceback": [
      "\u001b[1;31m---------------------------------------------------------------------------\u001b[0m",
      "\u001b[1;31merror\u001b[0m                                     Traceback (most recent call last)",
      "\u001b[1;32m<ipython-input-76-3d7a3dda38b5>\u001b[0m in \u001b[0;36m<module>\u001b[1;34m()\u001b[0m\n\u001b[0;32m     10\u001b[0m \u001b[1;33m\u001b[0m\u001b[0m\n\u001b[0;32m     11\u001b[0m \u001b[1;33m\u001b[0m\u001b[0m\n\u001b[1;32m---> 12\u001b[1;33m \u001b[0mregex\u001b[0m \u001b[1;33m=\u001b[0m \u001b[0mre\u001b[0m\u001b[1;33m.\u001b[0m\u001b[0mcompile\u001b[0m\u001b[1;33m(\u001b[0m\u001b[1;34m\"А-Яа-я:=!\\)\\()A-z\\_\\%/|+\"\u001b[0m\u001b[1;33m)\u001b[0m\u001b[1;33m\u001b[0m\u001b[0m\n\u001b[0m\u001b[0;32m     13\u001b[0m \u001b[1;33m\u001b[0m\u001b[0m\n\u001b[0;32m     14\u001b[0m \u001b[1;32mdef\u001b[0m \u001b[0mwords_only\u001b[0m\u001b[1;33m(\u001b[0m\u001b[0mtext\u001b[0m\u001b[1;33m,\u001b[0m \u001b[0mregex\u001b[0m\u001b[1;33m=\u001b[0m\u001b[0mregex\u001b[0m\u001b[1;33m)\u001b[0m\u001b[1;33m:\u001b[0m\u001b[1;33m\u001b[0m\u001b[0m\n",
      "\u001b[1;32m~\\Anaconda3\\lib\\re.py\u001b[0m in \u001b[0;36mcompile\u001b[1;34m(pattern, flags)\u001b[0m\n\u001b[0;32m    231\u001b[0m \u001b[1;32mdef\u001b[0m \u001b[0mcompile\u001b[0m\u001b[1;33m(\u001b[0m\u001b[0mpattern\u001b[0m\u001b[1;33m,\u001b[0m \u001b[0mflags\u001b[0m\u001b[1;33m=\u001b[0m\u001b[1;36m0\u001b[0m\u001b[1;33m)\u001b[0m\u001b[1;33m:\u001b[0m\u001b[1;33m\u001b[0m\u001b[0m\n\u001b[0;32m    232\u001b[0m     \u001b[1;34m\"Compile a regular expression pattern, returning a pattern object.\"\u001b[0m\u001b[1;33m\u001b[0m\u001b[0m\n\u001b[1;32m--> 233\u001b[1;33m     \u001b[1;32mreturn\u001b[0m \u001b[0m_compile\u001b[0m\u001b[1;33m(\u001b[0m\u001b[0mpattern\u001b[0m\u001b[1;33m,\u001b[0m \u001b[0mflags\u001b[0m\u001b[1;33m)\u001b[0m\u001b[1;33m\u001b[0m\u001b[0m\n\u001b[0m\u001b[0;32m    234\u001b[0m \u001b[1;33m\u001b[0m\u001b[0m\n\u001b[0;32m    235\u001b[0m \u001b[1;32mdef\u001b[0m \u001b[0mpurge\u001b[0m\u001b[1;33m(\u001b[0m\u001b[1;33m)\u001b[0m\u001b[1;33m:\u001b[0m\u001b[1;33m\u001b[0m\u001b[0m\n",
      "\u001b[1;32m~\\Anaconda3\\lib\\re.py\u001b[0m in \u001b[0;36m_compile\u001b[1;34m(pattern, flags)\u001b[0m\n\u001b[0;32m    299\u001b[0m     \u001b[1;32mif\u001b[0m \u001b[1;32mnot\u001b[0m \u001b[0msre_compile\u001b[0m\u001b[1;33m.\u001b[0m\u001b[0misstring\u001b[0m\u001b[1;33m(\u001b[0m\u001b[0mpattern\u001b[0m\u001b[1;33m)\u001b[0m\u001b[1;33m:\u001b[0m\u001b[1;33m\u001b[0m\u001b[0m\n\u001b[0;32m    300\u001b[0m         \u001b[1;32mraise\u001b[0m \u001b[0mTypeError\u001b[0m\u001b[1;33m(\u001b[0m\u001b[1;34m\"first argument must be string or compiled pattern\"\u001b[0m\u001b[1;33m)\u001b[0m\u001b[1;33m\u001b[0m\u001b[0m\n\u001b[1;32m--> 301\u001b[1;33m     \u001b[0mp\u001b[0m \u001b[1;33m=\u001b[0m \u001b[0msre_compile\u001b[0m\u001b[1;33m.\u001b[0m\u001b[0mcompile\u001b[0m\u001b[1;33m(\u001b[0m\u001b[0mpattern\u001b[0m\u001b[1;33m,\u001b[0m \u001b[0mflags\u001b[0m\u001b[1;33m)\u001b[0m\u001b[1;33m\u001b[0m\u001b[0m\n\u001b[0m\u001b[0;32m    302\u001b[0m     \u001b[1;32mif\u001b[0m \u001b[1;32mnot\u001b[0m \u001b[1;33m(\u001b[0m\u001b[0mflags\u001b[0m \u001b[1;33m&\u001b[0m \u001b[0mDEBUG\u001b[0m\u001b[1;33m)\u001b[0m\u001b[1;33m:\u001b[0m\u001b[1;33m\u001b[0m\u001b[0m\n\u001b[0;32m    303\u001b[0m         \u001b[1;32mif\u001b[0m \u001b[0mlen\u001b[0m\u001b[1;33m(\u001b[0m\u001b[0m_cache\u001b[0m\u001b[1;33m)\u001b[0m \u001b[1;33m>=\u001b[0m \u001b[0m_MAXCACHE\u001b[0m\u001b[1;33m:\u001b[0m\u001b[1;33m\u001b[0m\u001b[0m\n",
      "\u001b[1;32m~\\Anaconda3\\lib\\sre_compile.py\u001b[0m in \u001b[0;36mcompile\u001b[1;34m(p, flags)\u001b[0m\n\u001b[0;32m    560\u001b[0m     \u001b[1;32mif\u001b[0m \u001b[0misstring\u001b[0m\u001b[1;33m(\u001b[0m\u001b[0mp\u001b[0m\u001b[1;33m)\u001b[0m\u001b[1;33m:\u001b[0m\u001b[1;33m\u001b[0m\u001b[0m\n\u001b[0;32m    561\u001b[0m         \u001b[0mpattern\u001b[0m \u001b[1;33m=\u001b[0m \u001b[0mp\u001b[0m\u001b[1;33m\u001b[0m\u001b[0m\n\u001b[1;32m--> 562\u001b[1;33m         \u001b[0mp\u001b[0m \u001b[1;33m=\u001b[0m \u001b[0msre_parse\u001b[0m\u001b[1;33m.\u001b[0m\u001b[0mparse\u001b[0m\u001b[1;33m(\u001b[0m\u001b[0mp\u001b[0m\u001b[1;33m,\u001b[0m \u001b[0mflags\u001b[0m\u001b[1;33m)\u001b[0m\u001b[1;33m\u001b[0m\u001b[0m\n\u001b[0m\u001b[0;32m    563\u001b[0m     \u001b[1;32melse\u001b[0m\u001b[1;33m:\u001b[0m\u001b[1;33m\u001b[0m\u001b[0m\n\u001b[0;32m    564\u001b[0m         \u001b[0mpattern\u001b[0m \u001b[1;33m=\u001b[0m \u001b[1;32mNone\u001b[0m\u001b[1;33m\u001b[0m\u001b[0m\n",
      "\u001b[1;32m~\\Anaconda3\\lib\\sre_parse.py\u001b[0m in \u001b[0;36mparse\u001b[1;34m(str, flags, pattern)\u001b[0m\n\u001b[0;32m    867\u001b[0m     \u001b[1;32mif\u001b[0m \u001b[0msource\u001b[0m\u001b[1;33m.\u001b[0m\u001b[0mnext\u001b[0m \u001b[1;32mis\u001b[0m \u001b[1;32mnot\u001b[0m \u001b[1;32mNone\u001b[0m\u001b[1;33m:\u001b[0m\u001b[1;33m\u001b[0m\u001b[0m\n\u001b[0;32m    868\u001b[0m         \u001b[1;32massert\u001b[0m \u001b[0msource\u001b[0m\u001b[1;33m.\u001b[0m\u001b[0mnext\u001b[0m \u001b[1;33m==\u001b[0m \u001b[1;34m\")\"\u001b[0m\u001b[1;33m\u001b[0m\u001b[0m\n\u001b[1;32m--> 869\u001b[1;33m         \u001b[1;32mraise\u001b[0m \u001b[0msource\u001b[0m\u001b[1;33m.\u001b[0m\u001b[0merror\u001b[0m\u001b[1;33m(\u001b[0m\u001b[1;34m\"unbalanced parenthesis\"\u001b[0m\u001b[1;33m)\u001b[0m\u001b[1;33m\u001b[0m\u001b[0m\n\u001b[0m\u001b[0;32m    870\u001b[0m \u001b[1;33m\u001b[0m\u001b[0m\n\u001b[0;32m    871\u001b[0m     \u001b[1;32mif\u001b[0m \u001b[0mflags\u001b[0m \u001b[1;33m&\u001b[0m \u001b[0mSRE_FLAG_DEBUG\u001b[0m\u001b[1;33m:\u001b[0m\u001b[1;33m\u001b[0m\u001b[0m\n",
      "\u001b[1;31merror\u001b[0m: unbalanced parenthesis at position 13"
     ]
    }
   ],
   "source": [
    "\n",
    "from pymystem3 import Mystem\n",
    "import re\n",
    "import pandas as pd\n",
    "import numpy as np\n",
    "\n",
    "from sklearn.model_selection import train_test_split\n",
    "\n",
    "m = Mystem()\n",
    "\n",
    "\n",
    "regex = re.compile(\"А-Яа-я:=!\\)\\()A-z\\_\\%/|+\")\n",
    "\n",
    "def words_only(text, regex=regex):\n",
    "    try:\n",
    "        return \" \".join(regex.findall(text))\n",
    "    except:\n",
    "        return \"\"\n",
    "\n",
    "\n",
    "\n",
    "def lemmatize(text, mystem=m):\n",
    "    try:\n",
    "        return \"\".join(m.lemmatize(text)).strip()  \n",
    "    except:\n",
    "        return \" \"\n"
   ]
  },
  {
   "cell_type": "code",
   "execution_count": 16,
   "metadata": {
    "colab": {
     "autoexec": {
      "startup": false,
      "wait_interval": 0
     },
     "base_uri": "https://localhost:8080/",
     "height": 17
    },
    "colab_type": "code",
    "executionInfo": {
     "elapsed": 15341,
     "status": "ok",
     "timestamp": 1530624918839,
     "user": {
      "displayName": "Вячеслав Потапов",
      "photoUrl": "//lh3.googleusercontent.com/-Qs46tABGvLU/AAAAAAAAAAI/AAAAAAAAPJ8/IeFwx4WvI9Q/s50-c-k-no/photo.jpg",
      "userId": "113860555012653070214"
     },
     "user_tz": -180
    },
    "id": "1lEJCdYRxLTI",
    "outputId": "42ad973b-b835-4c7e-e6e9-22cb83f436a9"
   },
   "outputs": [],
   "source": [
    "sents_words_only = []\n",
    "for sent in text_sents:\n",
    "    \n",
    "    sents_words_only.append(words_only(sent))\n"
   ]
  },
  {
   "cell_type": "code",
   "execution_count": 42,
   "metadata": {
    "colab": {
     "autoexec": {
      "startup": false,
      "wait_interval": 0
     },
     "base_uri": "https://localhost:8080/",
     "height": 34
    },
    "colab_type": "code",
    "executionInfo": {
     "elapsed": 2073932,
     "status": "ok",
     "timestamp": 1530634725129,
     "user": {
      "displayName": "Вячеслав Потапов",
      "photoUrl": "//lh3.googleusercontent.com/-Qs46tABGvLU/AAAAAAAAAAI/AAAAAAAAPJ8/IeFwx4WvI9Q/s50-c-k-no/photo.jpg",
      "userId": "113860555012653070214"
     },
     "user_tz": -180
    },
    "id": "g2_uSVBNxLTU",
    "outputId": "0d80a8f5-3637-4ebb-ea97-4d2701dafb74"
   },
   "outputs": [
    {
     "name": "stderr",
     "output_type": "stream",
     "text": [
      "100%|██████████| 2664456/2664456 [34:33<00:00, 1285.18it/s]\n"
     ]
    }
   ],
   "source": [
    "from tqdm import tqdm\n",
    "sents_lemm = []\n",
    "i=0\n",
    "for text in tqdm(sents_words_only):\n",
    "    sents_lemm.append(lemmatize(text,m).split())\n",
    "    "
   ]
  },
  {
   "cell_type": "code",
   "execution_count": 19,
   "metadata": {
    "colab": {
     "autoexec": {
      "startup": false,
      "wait_interval": 0
     },
     "base_uri": "https://localhost:8080/",
     "height": 34
    },
    "colab_type": "code",
    "executionInfo": {
     "elapsed": 549,
     "status": "ok",
     "timestamp": 1530627336490,
     "user": {
      "displayName": "Вячеслав Потапов",
      "photoUrl": "//lh3.googleusercontent.com/-Qs46tABGvLU/AAAAAAAAAAI/AAAAAAAAPJ8/IeFwx4WvI9Q/s50-c-k-no/photo.jpg",
      "userId": "113860555012653070214"
     },
     "user_tz": -180
    },
    "id": "AGJPQfUwdoHZ",
    "outputId": "6ec9201a-27d5-4688-8673-d0d3633ff597"
   },
   "outputs": [
    {
     "data": {
      "text/plain": [
       "['добрый', ' ', 'день', '!', '\\n']"
      ]
     },
     "execution_count": 19,
     "metadata": {
      "tags": []
     },
     "output_type": "execute_result"
    }
   ],
   "source": [
    "m.lemmatize(sents_words_only[0])"
   ]
  },
  {
   "cell_type": "code",
   "execution_count": 43,
   "metadata": {
    "colab": {
     "autoexec": {
      "startup": false,
      "wait_interval": 0
     },
     "base_uri": "https://localhost:8080/",
     "height": 510
    },
    "colab_type": "code",
    "executionInfo": {
     "elapsed": 565,
     "status": "ok",
     "timestamp": 1530634732075,
     "user": {
      "displayName": "Вячеслав Потапов",
      "photoUrl": "//lh3.googleusercontent.com/-Qs46tABGvLU/AAAAAAAAAAI/AAAAAAAAPJ8/IeFwx4WvI9Q/s50-c-k-no/photo.jpg",
      "userId": "113860555012653070214"
     },
     "user_tz": -180
    },
    "id": "iBWkdEeMeiB5",
    "outputId": "6af69fac-19e2-4b2f-ce1d-18628f33526d"
   },
   "outputs": [
    {
     "data": {
      "text/plain": [
       "['я',\n",
       " 'не',\n",
       " 'являться',\n",
       " 'клиент',\n",
       " 'банк',\n",
       " 'и',\n",
       " 'поручитель',\n",
       " 'по',\n",
       " 'кредитный',\n",
       " 'договор',\n",
       " 'а',\n",
       " 'также',\n",
       " 'не',\n",
       " 'являться',\n",
       " 'какой',\n",
       " 'либо',\n",
       " 'другой',\n",
       " 'лицо',\n",
       " 'письменно',\n",
       " 'оформлять',\n",
       " 'отношение',\n",
       " 'с',\n",
       " 'банк',\n",
       " 'по',\n",
       " 'повод',\n",
       " 'урегулирование',\n",
       " 'чей',\n",
       " 'либо',\n",
       " 'задолженность']"
      ]
     },
     "execution_count": 43,
     "metadata": {
      "tags": []
     },
     "output_type": "execute_result"
    }
   ],
   "source": [
    "sents_lemm[1]"
   ]
  },
  {
   "cell_type": "code",
   "execution_count": 35,
   "metadata": {
    "colab": {
     "autoexec": {
      "startup": false,
      "wait_interval": 0
     },
     "base_uri": "https://localhost:8080/",
     "height": 34
    },
    "colab_type": "code",
    "executionInfo": {
     "elapsed": 624,
     "status": "ok",
     "timestamp": 1530628350742,
     "user": {
      "displayName": "Вячеслав Потапов",
      "photoUrl": "//lh3.googleusercontent.com/-Qs46tABGvLU/AAAAAAAAAAI/AAAAAAAAPJ8/IeFwx4WvI9Q/s50-c-k-no/photo.jpg",
      "userId": "113860555012653070214"
     },
     "user_tz": -180
    },
    "id": "PdEVlQrdxLTf",
    "outputId": "923dc1fb-9762-461e-d8dd-f573125b1197"
   },
   "outputs": [
    {
     "data": {
      "text/plain": [
       "'кроме это быть подавать заявление в полиция и заявление в суд возмещение причинять я моральный вред'"
      ]
     },
     "execution_count": 35,
     "metadata": {
      "tags": []
     },
     "output_type": "execute_result"
    }
   ],
   "source": [
    "sents_lemm[8]"
   ]
  },
  {
   "cell_type": "code",
   "execution_count": 56,
   "metadata": {
    "colab": {
     "autoexec": {
      "startup": false,
      "wait_interval": 0
     },
     "base_uri": "https://localhost:8080/",
     "height": 442
    },
    "colab_type": "code",
    "executionInfo": {
     "elapsed": 161123,
     "status": "ok",
     "timestamp": 1530634902139,
     "user": {
      "displayName": "Вячеслав Потапов",
      "photoUrl": "//lh3.googleusercontent.com/-Qs46tABGvLU/AAAAAAAAAAI/AAAAAAAAPJ8/IeFwx4WvI9Q/s50-c-k-no/photo.jpg",
      "userId": "113860555012653070214"
     },
     "user_tz": -180
    },
    "id": "YF2uPHl-7gQi",
    "outputId": "f8d5bc08-c304-4296-b9a8-da2c827d879e",
    "scrolled": true
   },
   "outputs": [
    {
     "ename": "IndentationError",
     "evalue": "expected an indented block (<ipython-input-56-00fc828f000e>, line 3)",
     "output_type": "error",
     "traceback": [
      "\u001b[1;36m  File \u001b[1;32m\"<ipython-input-56-00fc828f000e>\"\u001b[1;36m, line \u001b[1;32m3\u001b[0m\n\u001b[1;33m    for item in fdata:\u001b[0m\n\u001b[1;37m      ^\u001b[0m\n\u001b[1;31mIndentationError\u001b[0m\u001b[1;31m:\u001b[0m expected an indented block\n"
     ]
    }
   ],
   "source": [
    "import codecs\n",
    "with codecs.open('lemm.txt', \"r\",encoding='utf-8', errors='ignore') as fdata:\n",
    "for item in fdata:\n",
    "    thefile.write(\"%s\\n\" % item)\n"
   ]
  },
  {
   "cell_type": "code",
   "execution_count": 15,
   "metadata": {},
   "outputs": [],
   "source": []
  },
  {
   "cell_type": "code",
   "execution_count": 71,
   "metadata": {
    "scrolled": true
   },
   "outputs": [],
   "source": [
    "\n",
    "\n",
    "sents_lemm = []\n",
    "\n",
    "# open file and read the content in a list\n",
    "import codecs\n",
    "with codecs.open('lemm.txt', \"r\",encoding='utf-8', errors='ignore') as filehandle:\n",
    "    for line in filehandle:\n",
    "        # remove linebreak which is the last character of the string\n",
    "        currentPlace = line[:-1]\n",
    "\n",
    "        # add item to the list\n",
    "        sents_lemm.append(currentPlace)"
   ]
  },
  {
   "cell_type": "code",
   "execution_count": 81,
   "metadata": {
    "colab_type": "text",
    "id": "mn4m2yPY9OYX"
   },
   "outputs": [],
   "source": [
    "sents_lemm2 = []\n",
    "for sent in sents_lemm:\n",
    "    \n",
    "    sents_lemm2.append(words_only(sent))\n"
   ]
  },
  {
   "cell_type": "code",
   "execution_count": 83,
   "metadata": {},
   "outputs": [],
   "source": [
    "sents_lemm3 = [i.split()  for i in sents_lemm2]"
   ]
  },
  {
   "cell_type": "code",
   "execution_count": 84,
   "metadata": {},
   "outputs": [
    {
     "data": {
      "text/plain": [
       "['[',\n",
       " 'я',\n",
       " 'не',\n",
       " 'являться',\n",
       " 'клиент',\n",
       " 'банк',\n",
       " 'и',\n",
       " 'поручитель',\n",
       " 'по',\n",
       " 'кредитный',\n",
       " 'договор',\n",
       " 'а',\n",
       " 'также',\n",
       " 'не',\n",
       " 'являться',\n",
       " 'какой',\n",
       " 'либо',\n",
       " 'другой',\n",
       " 'лицо',\n",
       " 'письменно',\n",
       " 'оформлять',\n",
       " 'отношение',\n",
       " 'с',\n",
       " 'банк',\n",
       " 'по',\n",
       " 'повод',\n",
       " 'урегулирование',\n",
       " 'чей',\n",
       " 'либо',\n",
       " 'задолженность',\n",
       " ']']"
      ]
     },
     "execution_count": 84,
     "metadata": {},
     "output_type": "execute_result"
    }
   ],
   "source": [
    "sents_lemm3[1]"
   ]
  },
  {
   "cell_type": "code",
   "execution_count": 0,
   "metadata": {
    "colab": {
     "autoexec": {
      "startup": false,
      "wait_interval": 0
     }
    },
    "colab_type": "code",
    "id": "tBAhDZ8NbDU9"
   },
   "outputs": [],
   "source": [
    "thefile.close()"
   ]
  },
  {
   "cell_type": "code",
   "execution_count": 22,
   "metadata": {
    "colab": {
     "autoexec": {
      "startup": false,
      "wait_interval": 0
     },
     "base_uri": "https://localhost:8080/",
     "height": 734
    },
    "colab_type": "code",
    "collapsed": true,
    "executionInfo": {
     "elapsed": 12152,
     "status": "ok",
     "timestamp": 1530627532490,
     "user": {
      "displayName": "Вячеслав Потапов",
      "photoUrl": "//lh3.googleusercontent.com/-Qs46tABGvLU/AAAAAAAAAAI/AAAAAAAAPJ8/IeFwx4WvI9Q/s50-c-k-no/photo.jpg",
      "userId": "113860555012653070214"
     },
     "user_tz": -180
    },
    "id": "lOsUIrPMPEmp",
    "outputId": "957a7272-f885-4b4c-d289-c4dd242354c5"
   },
   "outputs": [
    {
     "name": "stdout",
     "output_type": "stream",
     "text": [
      "Collecting gensim\n",
      "\u001b[?25l  Downloading https://files.pythonhosted.org/packages/33/33/df6cb7acdcec5677ed130f4800f67509d24dbec74a03c329fcbf6b0864f0/gensim-3.4.0-cp36-cp36m-manylinux1_x86_64.whl (22.6MB)\n",
      "\u001b[K    100% |████████████████████████████████| 22.6MB 1.5MB/s \n",
      "\u001b[?25hCollecting smart-open>=1.2.1 (from gensim)\n",
      "  Downloading https://files.pythonhosted.org/packages/cf/3d/5f3a9a296d0ba8e00e263a8dee76762076b9eb5ddc254ccaa834651c8d65/smart_open-1.6.0.tar.gz\n",
      "Requirement already satisfied: scipy>=0.18.1 in /usr/local/lib/python3.6/dist-packages (from gensim) (0.19.1)\n",
      "Requirement already satisfied: numpy>=1.11.3 in /usr/local/lib/python3.6/dist-packages (from gensim) (1.14.5)\n",
      "Requirement already satisfied: six>=1.5.0 in /usr/local/lib/python3.6/dist-packages (from gensim) (1.11.0)\n",
      "Collecting boto>=2.32 (from smart-open>=1.2.1->gensim)\n",
      "\u001b[?25l  Downloading https://files.pythonhosted.org/packages/bd/b7/a88a67002b1185ed9a8e8a6ef15266728c2361fcb4f1d02ea331e4c7741d/boto-2.48.0-py2.py3-none-any.whl (1.4MB)\n",
      "\u001b[K    100% |████████████████████████████████| 1.4MB 7.5MB/s \n",
      "\u001b[?25hCollecting bz2file (from smart-open>=1.2.1->gensim)\n",
      "  Downloading https://files.pythonhosted.org/packages/61/39/122222b5e85cd41c391b68a99ee296584b2a2d1d233e7ee32b4532384f2d/bz2file-0.98.tar.gz\n",
      "Requirement already satisfied: requests in /usr/local/lib/python3.6/dist-packages (from smart-open>=1.2.1->gensim) (2.18.4)\n",
      "Collecting boto3 (from smart-open>=1.2.1->gensim)\n",
      "\u001b[?25l  Downloading https://files.pythonhosted.org/packages/21/2b/24eb0fa322679c835171ca8b0ccad345c42afe270e846e22f9b0bcfce66b/boto3-1.7.49-py2.py3-none-any.whl (128kB)\n",
      "\u001b[K    100% |████████████████████████████████| 133kB 18.3MB/s \n",
      "\u001b[?25hRequirement already satisfied: urllib3<1.23,>=1.21.1 in /usr/local/lib/python3.6/dist-packages (from requests->smart-open>=1.2.1->gensim) (1.22)\n",
      "Requirement already satisfied: certifi>=2017.4.17 in /usr/local/lib/python3.6/dist-packages (from requests->smart-open>=1.2.1->gensim) (2018.4.16)\n",
      "Requirement already satisfied: chardet<3.1.0,>=3.0.2 in /usr/local/lib/python3.6/dist-packages (from requests->smart-open>=1.2.1->gensim) (3.0.4)\n",
      "Requirement already satisfied: idna<2.7,>=2.5 in /usr/local/lib/python3.6/dist-packages (from requests->smart-open>=1.2.1->gensim) (2.6)\n",
      "Collecting jmespath<1.0.0,>=0.7.1 (from boto3->smart-open>=1.2.1->gensim)\n",
      "  Downloading https://files.pythonhosted.org/packages/b7/31/05c8d001f7f87f0f07289a5fc0fc3832e9a57f2dbd4d3b0fee70e0d51365/jmespath-0.9.3-py2.py3-none-any.whl\n",
      "Collecting s3transfer<0.2.0,>=0.1.10 (from boto3->smart-open>=1.2.1->gensim)\n",
      "\u001b[?25l  Downloading https://files.pythonhosted.org/packages/d7/14/2a0004d487464d120c9fb85313a75cd3d71a7506955be458eebfe19a6b1d/s3transfer-0.1.13-py2.py3-none-any.whl (59kB)\n",
      "\u001b[K    100% |████████████████████████████████| 61kB 18.8MB/s \n",
      "\u001b[?25hCollecting botocore<1.11.0,>=1.10.49 (from boto3->smart-open>=1.2.1->gensim)\n",
      "\u001b[?25l  Downloading https://files.pythonhosted.org/packages/8d/10/488051d15156c325fec7347559dd4a54edc903d4cda9158f310a3e26e311/botocore-1.10.49-py2.py3-none-any.whl (4.4MB)\n",
      "\u001b[K    100% |████████████████████████████████| 4.4MB 7.0MB/s \n",
      "\u001b[?25hCollecting docutils>=0.10 (from botocore<1.11.0,>=1.10.49->boto3->smart-open>=1.2.1->gensim)\n",
      "\u001b[?25l  Downloading https://files.pythonhosted.org/packages/36/fa/08e9e6e0e3cbd1d362c3bbee8d01d0aedb2155c4ac112b19ef3cae8eed8d/docutils-0.14-py3-none-any.whl (543kB)\n",
      "\u001b[K    100% |████████████████████████████████| 552kB 20.1MB/s \n",
      "\u001b[?25hRequirement already satisfied: python-dateutil<3.0.0,>=2.1; python_version >= \"2.7\" in /usr/local/lib/python3.6/dist-packages (from botocore<1.11.0,>=1.10.49->boto3->smart-open>=1.2.1->gensim) (2.5.3)\n",
      "Building wheels for collected packages: smart-open, bz2file\n",
      "  Running setup.py bdist_wheel for smart-open ... \u001b[?25l-\b \b\\\b \bdone\n",
      "\u001b[?25h  Stored in directory: /content/.cache/pip/wheels/73/f1/9b/ccf93d4ba073b6f79b1ed9df68ab5ce048d8136d0efcf90b30\n",
      "  Running setup.py bdist_wheel for bz2file ... \u001b[?25l-\b \bdone\n",
      "\u001b[?25h  Stored in directory: /content/.cache/pip/wheels/81/75/d6/e1317bf09bf1af5a30befc2a007869fa6e1f516b8f7c591cb9\n",
      "Successfully built smart-open bz2file\n",
      "Installing collected packages: boto, bz2file, jmespath, docutils, botocore, s3transfer, boto3, smart-open, gensim\n",
      "Successfully installed boto-2.48.0 boto3-1.7.49 botocore-1.10.49 bz2file-0.98 docutils-0.14 gensim-3.4.0 jmespath-0.9.3 s3transfer-0.1.13 smart-open-1.6.0\n"
     ]
    }
   ],
   "source": [
    "! pip install gensim"
   ]
  },
  {
   "cell_type": "code",
   "execution_count": 3,
   "metadata": {
    "colab": {
     "autoexec": {
      "startup": false,
      "wait_interval": 0
     },
     "base_uri": "https://localhost:8080/",
     "height": 51
    },
    "colab_type": "code",
    "executionInfo": {
     "elapsed": 272414,
     "status": "ok",
     "timestamp": 1530635699542,
     "user": {
      "displayName": "Вячеслав Потапов",
      "photoUrl": "//lh3.googleusercontent.com/-Qs46tABGvLU/AAAAAAAAAAI/AAAAAAAAPJ8/IeFwx4WvI9Q/s50-c-k-no/photo.jpg",
      "userId": "113860555012653070214"
     },
     "user_tz": -180
    },
    "id": "7PWK3FfADsEk",
    "outputId": "3c568a97-d61b-41e5-f564-cdb63f33bd79"
   },
   "outputs": [
    {
     "name": "stderr",
     "output_type": "stream",
     "text": [
      "C:\\Users\\Python\\Anaconda3\\lib\\site-packages\\gensim\\utils.py:1197: UserWarning: detected Windows; aliasing chunkize to chunkize_serial\n",
      "  warnings.warn(\"detected Windows; aliasing chunkize to chunkize_serial\")\n"
     ]
    },
    {
     "ename": "NameError",
     "evalue": "name 'sents_lemm' is not defined",
     "output_type": "error",
     "traceback": [
      "\u001b[1;31m---------------------------------------------------------------------------\u001b[0m",
      "\u001b[1;31mNameError\u001b[0m                                 Traceback (most recent call last)",
      "\u001b[1;32m<timed exec>\u001b[0m in \u001b[0;36m<module>\u001b[1;34m()\u001b[0m\n",
      "\u001b[1;31mNameError\u001b[0m: name 'sents_lemm' is not defined"
     ]
    }
   ],
   "source": [
    "  %%time\n",
    "from gensim.models import Word2Vec\n",
    "model = Word2Vec(sents_lemm, size=100, window=3, min_count=5, workers=32)\n",
    "model.save(\"sent_w2v.model\")"
   ]
  },
  {
   "cell_type": "code",
   "execution_count": 4,
   "metadata": {
    "colab": {
     "autoexec": {
      "startup": false,
      "wait_interval": 0
     }
    },
    "colab_type": "code",
    "id": "DVxbP7A_Srv6"
   },
   "outputs": [],
   "source": [
    "model = Word2Vec.load(\"sent_w2v.model\") "
   ]
  },
  {
   "cell_type": "code",
   "execution_count": 0,
   "metadata": {
    "colab": {
     "autoexec": {
      "startup": false,
      "wait_interval": 0
     }
    },
    "colab_type": "code",
    "id": "idO_uMZ6S0O6"
   },
   "outputs": [],
   "source": [
    "from google.colab import files\n",
    "files.download('sent_w2v.model')"
   ]
  },
  {
   "cell_type": "code",
   "execution_count": 6,
   "metadata": {
    "colab": {
     "autoexec": {
      "startup": false,
      "wait_interval": 0
     },
     "base_uri": "https://localhost:8080/",
     "height": 34
    },
    "colab_type": "code",
    "executionInfo": {
     "elapsed": 720,
     "status": "ok",
     "timestamp": 1530635850825,
     "user": {
      "displayName": "Вячеслав Потапов",
      "photoUrl": "//lh3.googleusercontent.com/-Qs46tABGvLU/AAAAAAAAAAI/AAAAAAAAPJ8/IeFwx4WvI9Q/s50-c-k-no/photo.jpg",
      "userId": "113860555012653070214"
     },
     "user_tz": -180
    },
    "id": "g9uIyjpiTUVy",
    "outputId": "e30fd58d-f988-4cf7-bc7f-7d8b9d7b3276"
   },
   "outputs": [
    {
     "name": "stdout",
     "output_type": "stream",
     "text": [
      "(надувательство\n"
     ]
    }
   ],
   "source": [
    "vocab_size = len(model.wv.vocab)\n",
    "print(model.wv.index2word[vocab_size - 1])"
   ]
  },
  {
   "cell_type": "code",
   "execution_count": 8,
   "metadata": {
    "colab": {
     "autoexec": {
      "startup": false,
      "wait_interval": 0
     },
     "base_uri": "https://localhost:8080/",
     "height": 241
    },
    "colab_type": "code",
    "executionInfo": {
     "elapsed": 633,
     "status": "ok",
     "timestamp": 1530636056827,
     "user": {
      "displayName": "Вячеслав Потапов",
      "photoUrl": "//lh3.googleusercontent.com/-Qs46tABGvLU/AAAAAAAAAAI/AAAAAAAAPJ8/IeFwx4WvI9Q/s50-c-k-no/photo.jpg",
      "userId": "113860555012653070214"
     },
     "user_tz": -180
    },
    "id": "Zqvy9VMzi5-z",
    "outputId": "a302ddc7-dd7e-4f00-865b-3ee1d3f1c323",
    "scrolled": false
   },
   "outputs": [
    {
     "name": "stderr",
     "output_type": "stream",
     "text": [
      "C:\\Users\\Python\\Anaconda3\\lib\\site-packages\\ipykernel_launcher.py:1: DeprecationWarning: Call to deprecated `most_similar` (Method will be removed in 4.0.0, use self.wv.most_similar() instead).\n",
      "  \"\"\"Entry point for launching an IPython kernel.\n"
     ]
    },
    {
     "data": {
      "text/plain": [
       "[('банка', 0.8276962041854858),\n",
       " ('банк)', 0.8032518625259399),\n",
       " ('банк!', 0.7613455057144165),\n",
       " ('сбербанк', 0.6706583499908447),\n",
       " ('ситибанк', 0.6400394439697266),\n",
       " ('банка)', 0.6363973617553711),\n",
       " ('росбанк', 0.602057695388794),\n",
       " ('сбера', 0.5882582664489746),\n",
       " ('БРС', 0.5836309194564819),\n",
       " ('сбер', 0.5561813712120056)]"
      ]
     },
     "execution_count": 8,
     "metadata": {},
     "output_type": "execute_result"
    }
   ],
   "source": [
    "model.most_similar(\"банк\")"
   ]
  },
  {
   "cell_type": "code",
   "execution_count": 13,
   "metadata": {},
   "outputs": [
    {
     "name": "stderr",
     "output_type": "stream",
     "text": [
      "C:\\Users\\Python\\Anaconda3\\lib\\site-packages\\ipykernel_launcher.py:1: DeprecationWarning: Call to deprecated `most_similar` (Method will be removed in 4.0.0, use self.wv.most_similar() instead).\n",
      "  \"\"\"Entry point for launching an IPython kernel.\n"
     ]
    },
    {
     "data": {
      "text/plain": [
       "[('мкб', 0.5362464189529419),\n",
       " ('очередь)', 0.5252681970596313),\n",
       " ('СБ', 0.46801820397377014),\n",
       " ('ситибанк', 0.465644508600235),\n",
       " ('очередь!', 0.44585591554641724),\n",
       " ('сбера', 0.43524935841560364),\n",
       " ('очередь:', 0.39914894104003906),\n",
       " ('ПСБ', 0.3979168236255646),\n",
       " ('окно', 0.3935149013996124),\n",
       " ('бинбанк', 0.38939368724823)]"
      ]
     },
     "execution_count": 13,
     "metadata": {},
     "output_type": "execute_result"
    }
   ],
   "source": [
    "model.most_similar(positive=[\"сбербанк\",\"очередь\"], negative=[\"плохо\"])"
   ]
  },
  {
   "cell_type": "code",
   "execution_count": 10,
   "metadata": {
    "colab": {
     "autoexec": {
      "startup": false,
      "wait_interval": 0
     }
    },
    "colab_type": "code",
    "id": "gGAXwuhdBRgY",
    "scrolled": true
   },
   "outputs": [
    {
     "name": "stderr",
     "output_type": "stream",
     "text": [
      "C:\\Users\\Python\\Anaconda3\\lib\\site-packages\\ipykernel_launcher.py:1: DeprecationWarning: Call to deprecated `doesnt_match` (Method will be removed in 4.0.0, use self.wv.doesnt_match() instead).\n",
      "  \"\"\"Entry point for launching an IPython kernel.\n"
     ]
    },
    {
     "data": {
      "text/plain": [
       "'пирожок'"
      ]
     },
     "execution_count": 10,
     "metadata": {},
     "output_type": "execute_result"
    }
   ],
   "source": [
    "model.doesnt_match(\"борщ сметана макароны пирожок консомэ кошка\".split())"
   ]
  },
  {
   "cell_type": "code",
   "execution_count": 99,
   "metadata": {},
   "outputs": [
    {
     "name": "stderr",
     "output_type": "stream",
     "text": [
      "C:\\Users\\Python\\Anaconda3\\lib\\site-packages\\ipykernel_launcher.py:1: DeprecationWarning: Call to deprecated `doesnt_match` (Method will be removed in 4.0.0, use self.wv.doesnt_match() instead).\n",
      "  \"\"\"Entry point for launching an IPython kernel.\n"
     ]
    },
    {
     "data": {
      "text/plain": [
       "'деньги'"
      ]
     },
     "execution_count": 99,
     "metadata": {},
     "output_type": "execute_result"
    }
   ],
   "source": [
    "model.doesnt_match(\"банк деньги клиент государство сбербанк\".split())"
   ]
  },
  {
   "cell_type": "code",
   "execution_count": 89,
   "metadata": {
    "scrolled": true
   },
   "outputs": [
    {
     "name": "stdout",
     "output_type": "stream",
     "text": [
      "[']', '[', 'в', 'я', 'и', 'не', 'на', 'что', 'банк', 'с', 'быть', 'по', 'карта', 'то', 'мой', 'это', 'а', 'как', 'но', 'этот', 'за', 'к', 'у', 'деньги', 'о', 'день', 'который', 'сотрудник', 'кредит', 'так', 'вы', 'клиент', 'весь', 'от', 'отделение', 'они', 'свой', 'счет', 'мочь', 'сумма', 'для', 'же', 'она', 'из', 'год', 'вклад', 'до', 'сказать', 'такой', 'уже', 'получать', 'он', 'заявление', 'при', 'все', 'данный', 'через', 'договор', 'ваш', 'т', 'время', 'мы', 'номер', 'какой', 'вопрос', 'раз', 'только', 'кредитный', 'нет', 'платеж', 'если', 'телефон', 'приходить', 'другой', 'средство', 'тот', 'г', 'после', 'еще', 'обращаться', 'один', 'ответ', 'звонок', 'офис', 'звонить', ')', 'сбербанк', 'когда', 'бы', 'рубль', 'со', 'ни', 'или', 'написать', 'проблема', 'чтобы', 'решать', 'месяц', 'очень', 'позвонить', 'ситуация', 'без', 'человек', 'работа', 'информация', 'смс', 'отвечать', 'операция', 'работать', 'почему', 'документ', 'просить', 'услуга', 'хотеть', 'давать', 'сообщать', 'должный', 'являться', 'где', 'срок', 'сделать', 'банка', 'банкомат', 'оформлять', 'говорить', 'руб', 'сегодня', 'очередь', 'вот', 'просто', ':', 'знать', 'можно', 'даже', 'открывать', 'много', 'заявка', 'принимать', 'претензия', 'никакой', 'там', 'новый', 'процент', 'ли', 'обслуживание', 'сайт', 'иметь', 'денежный', 'кто', 'ничто', 'оплачивать', 'выдавать', 'закрывать', 'условие', 'сам', 'два', 'перевод', 'об', 'интернет', 'указывать', 'также', 'задолженность', 'первый', 'ждать', 'снимать', '%', 'становиться', 'оператор', 'понимать', 'обращение', 'момент', 'поступать', 'несколько', 'предлагать', 'е', 'комиссия', 'минута', 'данные', 'случай', 'проходить', 'объяснять', 'предоставлять', 'писать', 'час', 'нужно', 'теперь', 'течение', 'девушка', 'оказываться', 'самый', 'добрый', 'вносить', '(', 'неделя', 'пользоваться', 'решение', 'оплата', 'начинать', 'служба', '/', 'взять', 'да', 'смочь', 'тут', 'вообще', 'центр', 'отправлять', 'никто', 'надо', 'система', 'специалист', 'более', 'делать', 'отзыв', '[]', 'себя', 'сейчас', 'сразу', 'хотя', 'вс', 'следующий', 'узнавать', 'связь', 'отношение', 'декабрь', 'приходиться', 'вернуть', 'каждый', 'линия', 'р', 'ну', 'дело', 'потом', 'лицо', 'разбираться', 'просьба', 'отказываться', 'наш', 'платить', 'итог', 'адрес', 'менеджер', 'погашение', 'происходить', 'тоже', 'оставлять', 'чем', 'нужный', 'горячий', 'долг', 'поддержка', 'банковский', 'оставаться', 'возможность', 'альфа', 'во', 'опять', 'действие', 'дата', 'либо', 'история', 'списывать', 'спрашивать', 'слово', 'идти', 'причина', 'последний', 'страховка', '!', 'получение', 'попросить', 'рабочий', 'пока', 'москва', 'помогать', 'д', 'письмо', 'находиться', 'уточнять', 'их', 'сотрудница', 'брать', 'второй', 'касса', 'просрочка', 'м', 'отказ', 'снова', 'приезжать', 'думать', 'всегда', 'право', 'его', 'подавать', 'полный', 'ставка', 'общий', 'лимит', 'списание', 'курс', 'паспорт', 'именно', 'конец', 'заблокировать', 'составлять', 'ошибка', 'спасибо', 'поэтому', 'сообщение', 'под', 'переводить', 'открытие', 'место', 'дебетовый', 'хороший', 'размер', 'оформление', 'мобильный', 'жалоба', 'видеть', 'требовать', 'большой', 'пытаться', 'закрытие', 'любой', 'хорошо', 'рф', 'про', 'проводить', 'хотеться', 'январь', 'покупка', 'выписка', 'получаться', 'погасить', 'суд', 'операционист', 'находить', 'терминал', 'возникать', 'назад', 'возврат', 'число', 'результат', 'пойти', 'уходить', 'снятие', 'однако', 'проверять', 'сей', 'онлайн', 'личный', 'считать', 'связываться', 'день!', 'справка', 'никогда', 'пора', 'сторона', 'страхование', 'конечно', 'забирать', 'перезванивать', 'сч', 'три', 'ещ', 'закон', 'отказывать', 'требование', 'ул', 'заказывать', 'надеяться', 'тогда', 'втб', 'рассмотрение', 'отдел', 'порядок', 'город', 'выдача', 'быстро', 'подписывать', 'утро', 'копия', 'досрочный', 'около', 'организация', 'разговор', 'п', 'электронный', 'ноябрь', 'куда', 'образ', 'перед', 'подтверждать', 'запрос', 'потому', 'валюта', 'представитель', 'колл', 'очередной', 'компания', 'начинаться', 'подключать', 'предложение', 'почта', 'россия', 'остаток', 'программа', 'дополнительный', 'передавать', 'наличный', 'основание', 'далее', 'октябрь', 'мало', 'таки', 'тыс', 'администратор:', 'имя', 'ведь', 'факт', 'штраф', 'тариф', 'февраль', 'обещать', 'уважаемый', 'персональный', 'подходить', 'называть', 'тысяча', 'зачем', 'рассматривать', 'ее', 'стоять', 'сколько', 'далеко', 'апрель', 'филиал', 'совершать', 'л', 'вечер', 'период', 'код', 'депозит', 'пожалуйста', 'видимо', 'внимание', 'магазин', 'сервис', 'больше', 'часть', 'полагать', 'необходимый', 'необходимо', 'база', 'рука', 'готовый', 'уведомление', 'пополнять', 'работник', 'зайти', 'одобрять', 'март', 'нельзя', 'форма', 'подобный', 'рассказывать', 'страховой', 'долго', 'начислять', 'ежемесячный', 'разный', 'повод', 'х', 'кошелек', 'выходить', 'доллар', 'вид', 'руководство', 'технический', 'цель', 'увидеть', 'плата', 'здесь', 'третий', 'финансовый', 'согласие', 'производить', 'обязательство', 'выполнять', 'график', 'указанный', 'выясняться', 'письменный', 'вкладчик', 'направлять', 'заканчиваться', 'попытка', 'близкий', 'ранее', 'заплатить', 'обслуживать', 'руководитель', 'жизнь', 'качество', 'поздно', 'сожаление', 'телефонный', 'оао', 'кроме', 'текущий', 'платежный', 'чек', 'цб', 'вчера', 'почти', 'сначала', 'складываться', 'вводить', 'появляться', 'попадать', 'продукт', 'давно', 'заполнять', 'пополнение', 'кассир', 'рано', 'занимать', 'пара', 'контактный', 'причем', 'помощь', 'просрочивать', 'точно', 'изменение', 'согласно', 'годовой', 'карточка', 'правило', 'ты', 'возможно', 'н', 'обнаруживать', 'банк!', 'некоторый', 'ко', 'потребительский', 'оценка', 'трубка', 'сидеть', 'действительно', 'здравствовать', '(в', 'полностью', 'хоть', 'вопрос:', 'иметься', 'общение', 'заявлять', 'дозваниваться', 'начало', 'лично', 'воспользоваться', 'постоянно', 'заниматься', 'безопасность', 'потерять', 'зачислять', 'ипотека', 'потратить', 'русский', 'отсутствие', 'выбирать', 'квартира', 'собираться', 'возможный', 'ехать', 'спустя', 'прийти', 'примерно', 'общаться', 'присылать', 'ва', 'пункт', 'друг', 'представляться', 'взыскание', 'май', 'посмотреть', 'поскольку', 'отдавать', 'евро', 'положительный', 'вынуждать', 'сутки', 'якобы', 'старый', 'естественно', 'лишь', 'стандарт', 'купюра', 'продолжать', 'ч', 'уважение', 'заранее', 'сентябрь', 'кабинет', 'знакомый', 'допы', 'подтверждение', 'выяснять', 'ладно', 'ожидание', 'использование', 'списываться', 'бесплатный', 'баланс', 'подождать', 'предоставление', 'го', 'совсем', 'ст', 'туда', 'равный', 'вернуться', 'выплачивать', 'муж', 'предупреждать', 'мера', 'сталкиваться', 'дальнейший', 'поставлять', 'сбой', 'мама', 'проверка', 'заемщик', 'ожидать', 'прокуратура', 'вместо', 'траст', 'завтра', 'впечатление', 'нарушение', 'устраивать', 'желание', 'приносить', 'единственный', 'основной', 'доверенность', 'достаточно', 'ооо', 'транзакция', 'досрочно', 'скоро', 'анкета', 'уж', 'подпись', 'здравствовать!', 'обращать', 'удобный', 'между', 'затем', 'удаваться', 'прекращать', 'товар', 'пояснять', 'нарушать', 'киви', 'настоящий', 'выплата', 'обработка', 'высокий', 'процедура', 'ru', 'задавать', 'соглашаться', 'отмечать', 'удалять', 'перевыпуск', 'пароль', 'возвращать', 'плюс', 'ребенок', 'наконец', 'реструктуризация', 'забывать', 'официальный', 'огромный', 'успевать', 'заключать', 'угроза', 'искать', 'вроде', 'выпускать', 'никак', 'реквизит', 'рекомендовать', 'отключать', 'фамилия', 'состояние', 'уведомлять', 'валютный', 'перечислять', 'полиция', 'московский', 'мо', 'доход', 'банк)', 'ипотечный', 'соответствие', 'расчетный', 'понятно', 'пакет', 'вызывать', 'входить', 'наличие', 'подумать', 'процентный', 'соответственно', 'акция', 'внесение', 'показывать', 'посоветовать', 'стоить', 'операционистка', 'осуществлять', 'вина', 'жить', 'зачисление', 'заверять', 'небольшой', 'поехать', 'замечать', 'исправлять', 'зарегистрировать', 'использовать', 'процесс', 'защита', 'должник', 'ж', 'читать', 'дом', 'устанавливать', 'собственный', 'судебный', 'жена', 'связной', 'услышать', 'разговаривать', 'суть', 'совершенно', 'список', 'может', 'объяснение', 'обслуживаться', 'минус', 'запись', 'доступ', 'ссылаться', 'сделка', 'зарплатный', 'зарплата', 'описывать', 'нибудь', 'интересный', 'необходимость', 'контакт', 'окно', 'способ', 'б', 'срочно', 'кстати', 'вариант', 'выходной', 'купить', 'менее', 'управляющий', 'окончание', 'орган', 'ставить', 'позволять', 'случаться', 'довольный', 'мол', 'прошлый', 'пин', 'блокировка', 'родственник', 'нормальный', 'крупный', 'мкб', 'домой', 'чтоб', 'молодой', 'переставать', 'несмотря', 'статья', 'СБ', 'смотреть', 'всякий', 'предыдущий', 'действовать', 'консультант', 'бумага', 'слышать', 'коллектор', 'невозможно', 'правда', 'доходить', 'ответ:', 'простой', 'попытаться', 'вывод', 'некий', 'количество', 'вовремя', 'запрашивать', 'пользование', 'иной', 'соответствующий', 'понедельник', 'изменять', 'S', 'приводить', 'удивлять', 'тратить', 'маленький', 'неоднократно', 'минимальный', 'продолжаться', 'удобно', 'записывать', 'фз', 'оно', 'озвучивать', 'немного', 'уверять', 'положение', 'потребитель', 'посещать', 'P', 'квитанция', 'обратно', 'статус', 'тинькофф', 'желать', 'бывать', 'сегодняшний', 'крайне', 'приложение', 'решаться', 'начисление', 'мтс', 'проведение', 'центральный', 'изменяться', 'ТКС', 'абсолютно', 'подарок', 'плохой', 'представлять', 'откуда', 'наверное', 'повторно', 'заказ', 'заключение', 'всего', 'пр', 'чуть', 'отменять', 'выпуск', 'потеря', 'сила', 'зарплатной', 'гражданин', 'уровень', 'относиться', 'дверь', 'вежливый', 'информирование', 'вдруг', 'обычно', 'наличные', 'названивать', 'дождаться', 'копейка', 'стоимость', 'страна', 'обязательно', 'извинение', 'коллега', 'остальной', 'взнос', 'попробовать', 'внутренний', 'ходить', 'подача', 'хоум', 'учитывать', 'часто', 'менять', 'многий', 'Visa', 'пусть', 'вновь', 'честно', 'получатель', 'вместе', 'постоянный', 'иначе', 'опыт', 'принцип', 'расчет', 'сотрудничество', 'продажа', 'зал', 'угрожать', 'суббота', 'банк:', 'долгий', 'подсказывать', 'перевыпускать', 'например', 'персонал', '(я', 'высылать', 'август', 'прочитывать', 'план', 'улица', 'допускать', 'планировать', '(не', 'ИБ', 'помнить', 'приятный', 'семья', 'исполнять', 'заходить', 'значит', 'поменять', 'удивление', 'тип', 'прием', 'ответственность', 'недавно', '(а', 'нормально', 'лишний', 'неприятный', 'учет', 'полгода', 'должно', 'вести', 'расторжение', 'поручение', 'проспект', 'практически', 'ограничение', 'комментарий', 'ока', 'праздник', 'доступный', 'российский', 'banki', 'посещение', 'мнение', 'бинбанк', 'талон', 'висеть', 'пристав', 'кредитование', 'пеня', 'смысл', 'телебанк', 'правильно', 'народ', 'выражать', 'SMS', 'обычный', 'прописывать', 'идентификация', 'продавать', 'регистрация', 'обязательный', 'кредитка', 'ОТП', 'вход', 'закрываться', 'активировать', 'советовать', 'тело', 'пять', 'оба', 'нести', 'благодарность', 'законодательство', 'обманывать', 'обязанный', 'вой']"
     ]
    },
    {
     "name": "stdout",
     "output_type": "stream",
     "text": [
      "\n"
     ]
    }
   ],
   "source": [
    "top_words = []\n",
    "from nltk import FreqDist\n",
    "fd = FreqDist()\n",
    "for text in sents_lemm3:\n",
    "    fd.update(text)\n",
    "for i in fd.most_common(1000):\n",
    "    top_words.append(i[0])\n",
    "print(top_words)"
   ]
  },
  {
   "cell_type": "code",
   "execution_count": 96,
   "metadata": {
    "scrolled": true
   },
   "outputs": [
    {
     "name": "stderr",
     "output_type": "stream",
     "text": [
      "C:\\Users\\Python\\Anaconda3\\lib\\site-packages\\ipykernel_launcher.py:1: DeprecationWarning: Call to deprecated `__getitem__` (Method will be removed in 4.0.0, use self.wv.__getitem__() instead).\n",
      "  \"\"\"Entry point for launching an IPython kernel.\n"
     ]
    }
   ],
   "source": [
    "top_words_vec = model[top_words]"
   ]
  },
  {
   "cell_type": "code",
   "execution_count": 97,
   "metadata": {},
   "outputs": [],
   "source": [
    "from sklearn.manifold import TSNE\n",
    "tsne = TSNE(n_components=2, random_state=0)\n",
    "top_words_tsne = tsne.fit_transform(top_words_vec)"
   ]
  },
  {
   "cell_type": "code",
   "execution_count": 98,
   "metadata": {
    "collapsed": true
   },
   "outputs": [
    {
     "data": {
      "text/html": [
       "\n",
       "    <div class=\"bk-root\">\n",
       "        <a href=\"https://bokeh.pydata.org\" target=\"_blank\" class=\"bk-logo bk-logo-small bk-logo-notebook\"></a>\n",
       "        <span id=\"dde5e8cf-ca5a-486f-a0b9-fc0f4b27b5e2\">Loading BokehJS ...</span>\n",
       "    </div>"
      ]
     },
     "metadata": {},
     "output_type": "display_data"
    },
    {
     "data": {
      "application/javascript": [
       "\n",
       "(function(root) {\n",
       "  function now() {\n",
       "    return new Date();\n",
       "  }\n",
       "\n",
       "  var force = true;\n",
       "\n",
       "  if (typeof (root._bokeh_onload_callbacks) === \"undefined\" || force === true) {\n",
       "    root._bokeh_onload_callbacks = [];\n",
       "    root._bokeh_is_loading = undefined;\n",
       "  }\n",
       "\n",
       "  var JS_MIME_TYPE = 'application/javascript';\n",
       "  var HTML_MIME_TYPE = 'text/html';\n",
       "  var EXEC_MIME_TYPE = 'application/vnd.bokehjs_exec.v0+json';\n",
       "  var CLASS_NAME = 'output_bokeh rendered_html';\n",
       "\n",
       "  /**\n",
       "   * Render data to the DOM node\n",
       "   */\n",
       "  function render(props, node) {\n",
       "    var script = document.createElement(\"script\");\n",
       "    node.appendChild(script);\n",
       "  }\n",
       "\n",
       "  /**\n",
       "   * Handle when an output is cleared or removed\n",
       "   */\n",
       "  function handleClearOutput(event, handle) {\n",
       "    var cell = handle.cell;\n",
       "\n",
       "    var id = cell.output_area._bokeh_element_id;\n",
       "    var server_id = cell.output_area._bokeh_server_id;\n",
       "    // Clean up Bokeh references\n",
       "    if (id !== undefined) {\n",
       "      Bokeh.index[id].model.document.clear();\n",
       "      delete Bokeh.index[id];\n",
       "    }\n",
       "\n",
       "    if (server_id !== undefined) {\n",
       "      // Clean up Bokeh references\n",
       "      var cmd = \"from bokeh.io.state import curstate; print(curstate().uuid_to_server['\" + server_id + \"'].get_sessions()[0].document.roots[0]._id)\";\n",
       "      cell.notebook.kernel.execute(cmd, {\n",
       "        iopub: {\n",
       "          output: function(msg) {\n",
       "            var element_id = msg.content.text.trim();\n",
       "            Bokeh.index[element_id].model.document.clear();\n",
       "            delete Bokeh.index[element_id];\n",
       "          }\n",
       "        }\n",
       "      });\n",
       "      // Destroy server and session\n",
       "      var cmd = \"import bokeh.io.notebook as ion; ion.destroy_server('\" + server_id + \"')\";\n",
       "      cell.notebook.kernel.execute(cmd);\n",
       "    }\n",
       "  }\n",
       "\n",
       "  /**\n",
       "   * Handle when a new output is added\n",
       "   */\n",
       "  function handleAddOutput(event, handle) {\n",
       "    var output_area = handle.output_area;\n",
       "    var output = handle.output;\n",
       "\n",
       "    // limit handleAddOutput to display_data with EXEC_MIME_TYPE content only\n",
       "    if ((output.output_type != \"display_data\") || (!output.data.hasOwnProperty(EXEC_MIME_TYPE))) {\n",
       "      return\n",
       "    }\n",
       "\n",
       "    var toinsert = output_area.element.find(\".\" + CLASS_NAME.split(' ')[0]);\n",
       "\n",
       "    if (output.metadata[EXEC_MIME_TYPE][\"id\"] !== undefined) {\n",
       "      toinsert[0].firstChild.textContent = output.data[JS_MIME_TYPE];\n",
       "      // store reference to embed id on output_area\n",
       "      output_area._bokeh_element_id = output.metadata[EXEC_MIME_TYPE][\"id\"];\n",
       "    }\n",
       "    if (output.metadata[EXEC_MIME_TYPE][\"server_id\"] !== undefined) {\n",
       "      var bk_div = document.createElement(\"div\");\n",
       "      bk_div.innerHTML = output.data[HTML_MIME_TYPE];\n",
       "      var script_attrs = bk_div.children[0].attributes;\n",
       "      for (var i = 0; i < script_attrs.length; i++) {\n",
       "        toinsert[0].firstChild.setAttribute(script_attrs[i].name, script_attrs[i].value);\n",
       "      }\n",
       "      // store reference to server id on output_area\n",
       "      output_area._bokeh_server_id = output.metadata[EXEC_MIME_TYPE][\"server_id\"];\n",
       "    }\n",
       "  }\n",
       "\n",
       "  function register_renderer(events, OutputArea) {\n",
       "\n",
       "    function append_mime(data, metadata, element) {\n",
       "      // create a DOM node to render to\n",
       "      var toinsert = this.create_output_subarea(\n",
       "        metadata,\n",
       "        CLASS_NAME,\n",
       "        EXEC_MIME_TYPE\n",
       "      );\n",
       "      this.keyboard_manager.register_events(toinsert);\n",
       "      // Render to node\n",
       "      var props = {data: data, metadata: metadata[EXEC_MIME_TYPE]};\n",
       "      render(props, toinsert[0]);\n",
       "      element.append(toinsert);\n",
       "      return toinsert\n",
       "    }\n",
       "\n",
       "    /* Handle when an output is cleared or removed */\n",
       "    events.on('clear_output.CodeCell', handleClearOutput);\n",
       "    events.on('delete.Cell', handleClearOutput);\n",
       "\n",
       "    /* Handle when a new output is added */\n",
       "    events.on('output_added.OutputArea', handleAddOutput);\n",
       "\n",
       "    /**\n",
       "     * Register the mime type and append_mime function with output_area\n",
       "     */\n",
       "    OutputArea.prototype.register_mime_type(EXEC_MIME_TYPE, append_mime, {\n",
       "      /* Is output safe? */\n",
       "      safe: true,\n",
       "      /* Index of renderer in `output_area.display_order` */\n",
       "      index: 0\n",
       "    });\n",
       "  }\n",
       "\n",
       "  // register the mime type if in Jupyter Notebook environment and previously unregistered\n",
       "  if (root.Jupyter !== undefined) {\n",
       "    var events = require('base/js/events');\n",
       "    var OutputArea = require('notebook/js/outputarea').OutputArea;\n",
       "\n",
       "    if (OutputArea.prototype.mime_types().indexOf(EXEC_MIME_TYPE) == -1) {\n",
       "      register_renderer(events, OutputArea);\n",
       "    }\n",
       "  }\n",
       "\n",
       "  \n",
       "  if (typeof (root._bokeh_timeout) === \"undefined\" || force === true) {\n",
       "    root._bokeh_timeout = Date.now() + 5000;\n",
       "    root._bokeh_failed_load = false;\n",
       "  }\n",
       "\n",
       "  var NB_LOAD_WARNING = {'data': {'text/html':\n",
       "     \"<div style='background-color: #fdd'>\\n\"+\n",
       "     \"<p>\\n\"+\n",
       "     \"BokehJS does not appear to have successfully loaded. If loading BokehJS from CDN, this \\n\"+\n",
       "     \"may be due to a slow or bad network connection. Possible fixes:\\n\"+\n",
       "     \"</p>\\n\"+\n",
       "     \"<ul>\\n\"+\n",
       "     \"<li>re-rerun `output_notebook()` to attempt to load from CDN again, or</li>\\n\"+\n",
       "     \"<li>use INLINE resources instead, as so:</li>\\n\"+\n",
       "     \"</ul>\\n\"+\n",
       "     \"<code>\\n\"+\n",
       "     \"from bokeh.resources import INLINE\\n\"+\n",
       "     \"output_notebook(resources=INLINE)\\n\"+\n",
       "     \"</code>\\n\"+\n",
       "     \"</div>\"}};\n",
       "\n",
       "  function display_loaded() {\n",
       "    var el = document.getElementById(\"dde5e8cf-ca5a-486f-a0b9-fc0f4b27b5e2\");\n",
       "    if (el != null) {\n",
       "      el.textContent = \"BokehJS is loading...\";\n",
       "    }\n",
       "    if (root.Bokeh !== undefined) {\n",
       "      if (el != null) {\n",
       "        el.textContent = \"BokehJS \" + root.Bokeh.version + \" successfully loaded.\";\n",
       "      }\n",
       "    } else if (Date.now() < root._bokeh_timeout) {\n",
       "      setTimeout(display_loaded, 100)\n",
       "    }\n",
       "  }\n",
       "\n",
       "\n",
       "  function run_callbacks() {\n",
       "    try {\n",
       "      root._bokeh_onload_callbacks.forEach(function(callback) { callback() });\n",
       "    }\n",
       "    finally {\n",
       "      delete root._bokeh_onload_callbacks\n",
       "    }\n",
       "    console.info(\"Bokeh: all callbacks have finished\");\n",
       "  }\n",
       "\n",
       "  function load_libs(js_urls, callback) {\n",
       "    root._bokeh_onload_callbacks.push(callback);\n",
       "    if (root._bokeh_is_loading > 0) {\n",
       "      console.log(\"Bokeh: BokehJS is being loaded, scheduling callback at\", now());\n",
       "      return null;\n",
       "    }\n",
       "    if (js_urls == null || js_urls.length === 0) {\n",
       "      run_callbacks();\n",
       "      return null;\n",
       "    }\n",
       "    console.log(\"Bokeh: BokehJS not loaded, scheduling load and callback at\", now());\n",
       "    root._bokeh_is_loading = js_urls.length;\n",
       "    for (var i = 0; i < js_urls.length; i++) {\n",
       "      var url = js_urls[i];\n",
       "      var s = document.createElement('script');\n",
       "      s.src = url;\n",
       "      s.async = false;\n",
       "      s.onreadystatechange = s.onload = function() {\n",
       "        root._bokeh_is_loading--;\n",
       "        if (root._bokeh_is_loading === 0) {\n",
       "          console.log(\"Bokeh: all BokehJS libraries loaded\");\n",
       "          run_callbacks()\n",
       "        }\n",
       "      };\n",
       "      s.onerror = function() {\n",
       "        console.warn(\"failed to load library \" + url);\n",
       "      };\n",
       "      console.log(\"Bokeh: injecting script tag for BokehJS library: \", url);\n",
       "      document.getElementsByTagName(\"head\")[0].appendChild(s);\n",
       "    }\n",
       "  };var element = document.getElementById(\"dde5e8cf-ca5a-486f-a0b9-fc0f4b27b5e2\");\n",
       "  if (element == null) {\n",
       "    console.log(\"Bokeh: ERROR: autoload.js configured with elementid 'dde5e8cf-ca5a-486f-a0b9-fc0f4b27b5e2' but no matching script tag was found. \")\n",
       "    return false;\n",
       "  }\n",
       "\n",
       "  var js_urls = [\"https://cdn.pydata.org/bokeh/release/bokeh-0.12.13.min.js\", \"https://cdn.pydata.org/bokeh/release/bokeh-widgets-0.12.13.min.js\", \"https://cdn.pydata.org/bokeh/release/bokeh-tables-0.12.13.min.js\", \"https://cdn.pydata.org/bokeh/release/bokeh-gl-0.12.13.min.js\"];\n",
       "\n",
       "  var inline_js = [\n",
       "    function(Bokeh) {\n",
       "      Bokeh.set_log_level(\"info\");\n",
       "    },\n",
       "    \n",
       "    function(Bokeh) {\n",
       "      \n",
       "    },\n",
       "    function(Bokeh) {\n",
       "      console.log(\"Bokeh: injecting CSS: https://cdn.pydata.org/bokeh/release/bokeh-0.12.13.min.css\");\n",
       "      Bokeh.embed.inject_css(\"https://cdn.pydata.org/bokeh/release/bokeh-0.12.13.min.css\");\n",
       "      console.log(\"Bokeh: injecting CSS: https://cdn.pydata.org/bokeh/release/bokeh-widgets-0.12.13.min.css\");\n",
       "      Bokeh.embed.inject_css(\"https://cdn.pydata.org/bokeh/release/bokeh-widgets-0.12.13.min.css\");\n",
       "      console.log(\"Bokeh: injecting CSS: https://cdn.pydata.org/bokeh/release/bokeh-tables-0.12.13.min.css\");\n",
       "      Bokeh.embed.inject_css(\"https://cdn.pydata.org/bokeh/release/bokeh-tables-0.12.13.min.css\");\n",
       "    }\n",
       "  ];\n",
       "\n",
       "  function run_inline_js() {\n",
       "    \n",
       "    if ((root.Bokeh !== undefined) || (force === true)) {\n",
       "      for (var i = 0; i < inline_js.length; i++) {\n",
       "        inline_js[i].call(root, root.Bokeh);\n",
       "      }if (force === true) {\n",
       "        display_loaded();\n",
       "      }} else if (Date.now() < root._bokeh_timeout) {\n",
       "      setTimeout(run_inline_js, 100);\n",
       "    } else if (!root._bokeh_failed_load) {\n",
       "      console.log(\"Bokeh: BokehJS failed to load within specified timeout.\");\n",
       "      root._bokeh_failed_load = true;\n",
       "    } else if (force !== true) {\n",
       "      var cell = $(document.getElementById(\"dde5e8cf-ca5a-486f-a0b9-fc0f4b27b5e2\")).parents('.cell').data().cell;\n",
       "      cell.output_area.append_execute_result(NB_LOAD_WARNING)\n",
       "    }\n",
       "\n",
       "  }\n",
       "\n",
       "  if (root._bokeh_is_loading === 0) {\n",
       "    console.log(\"Bokeh: BokehJS loaded, going straight to plotting\");\n",
       "    run_inline_js();\n",
       "  } else {\n",
       "    load_libs(js_urls, function() {\n",
       "      console.log(\"Bokeh: BokehJS plotting callback run at\", now());\n",
       "      run_inline_js();\n",
       "    });\n",
       "  }\n",
       "}(window));"
      ],
      "application/vnd.bokehjs_load.v0+json": "\n(function(root) {\n  function now() {\n    return new Date();\n  }\n\n  var force = true;\n\n  if (typeof (root._bokeh_onload_callbacks) === \"undefined\" || force === true) {\n    root._bokeh_onload_callbacks = [];\n    root._bokeh_is_loading = undefined;\n  }\n\n  \n\n  \n  if (typeof (root._bokeh_timeout) === \"undefined\" || force === true) {\n    root._bokeh_timeout = Date.now() + 5000;\n    root._bokeh_failed_load = false;\n  }\n\n  var NB_LOAD_WARNING = {'data': {'text/html':\n     \"<div style='background-color: #fdd'>\\n\"+\n     \"<p>\\n\"+\n     \"BokehJS does not appear to have successfully loaded. If loading BokehJS from CDN, this \\n\"+\n     \"may be due to a slow or bad network connection. Possible fixes:\\n\"+\n     \"</p>\\n\"+\n     \"<ul>\\n\"+\n     \"<li>re-rerun `output_notebook()` to attempt to load from CDN again, or</li>\\n\"+\n     \"<li>use INLINE resources instead, as so:</li>\\n\"+\n     \"</ul>\\n\"+\n     \"<code>\\n\"+\n     \"from bokeh.resources import INLINE\\n\"+\n     \"output_notebook(resources=INLINE)\\n\"+\n     \"</code>\\n\"+\n     \"</div>\"}};\n\n  function display_loaded() {\n    var el = document.getElementById(\"dde5e8cf-ca5a-486f-a0b9-fc0f4b27b5e2\");\n    if (el != null) {\n      el.textContent = \"BokehJS is loading...\";\n    }\n    if (root.Bokeh !== undefined) {\n      if (el != null) {\n        el.textContent = \"BokehJS \" + root.Bokeh.version + \" successfully loaded.\";\n      }\n    } else if (Date.now() < root._bokeh_timeout) {\n      setTimeout(display_loaded, 100)\n    }\n  }\n\n\n  function run_callbacks() {\n    try {\n      root._bokeh_onload_callbacks.forEach(function(callback) { callback() });\n    }\n    finally {\n      delete root._bokeh_onload_callbacks\n    }\n    console.info(\"Bokeh: all callbacks have finished\");\n  }\n\n  function load_libs(js_urls, callback) {\n    root._bokeh_onload_callbacks.push(callback);\n    if (root._bokeh_is_loading > 0) {\n      console.log(\"Bokeh: BokehJS is being loaded, scheduling callback at\", now());\n      return null;\n    }\n    if (js_urls == null || js_urls.length === 0) {\n      run_callbacks();\n      return null;\n    }\n    console.log(\"Bokeh: BokehJS not loaded, scheduling load and callback at\", now());\n    root._bokeh_is_loading = js_urls.length;\n    for (var i = 0; i < js_urls.length; i++) {\n      var url = js_urls[i];\n      var s = document.createElement('script');\n      s.src = url;\n      s.async = false;\n      s.onreadystatechange = s.onload = function() {\n        root._bokeh_is_loading--;\n        if (root._bokeh_is_loading === 0) {\n          console.log(\"Bokeh: all BokehJS libraries loaded\");\n          run_callbacks()\n        }\n      };\n      s.onerror = function() {\n        console.warn(\"failed to load library \" + url);\n      };\n      console.log(\"Bokeh: injecting script tag for BokehJS library: \", url);\n      document.getElementsByTagName(\"head\")[0].appendChild(s);\n    }\n  };var element = document.getElementById(\"dde5e8cf-ca5a-486f-a0b9-fc0f4b27b5e2\");\n  if (element == null) {\n    console.log(\"Bokeh: ERROR: autoload.js configured with elementid 'dde5e8cf-ca5a-486f-a0b9-fc0f4b27b5e2' but no matching script tag was found. \")\n    return false;\n  }\n\n  var js_urls = [\"https://cdn.pydata.org/bokeh/release/bokeh-0.12.13.min.js\", \"https://cdn.pydata.org/bokeh/release/bokeh-widgets-0.12.13.min.js\", \"https://cdn.pydata.org/bokeh/release/bokeh-tables-0.12.13.min.js\", \"https://cdn.pydata.org/bokeh/release/bokeh-gl-0.12.13.min.js\"];\n\n  var inline_js = [\n    function(Bokeh) {\n      Bokeh.set_log_level(\"info\");\n    },\n    \n    function(Bokeh) {\n      \n    },\n    function(Bokeh) {\n      console.log(\"Bokeh: injecting CSS: https://cdn.pydata.org/bokeh/release/bokeh-0.12.13.min.css\");\n      Bokeh.embed.inject_css(\"https://cdn.pydata.org/bokeh/release/bokeh-0.12.13.min.css\");\n      console.log(\"Bokeh: injecting CSS: https://cdn.pydata.org/bokeh/release/bokeh-widgets-0.12.13.min.css\");\n      Bokeh.embed.inject_css(\"https://cdn.pydata.org/bokeh/release/bokeh-widgets-0.12.13.min.css\");\n      console.log(\"Bokeh: injecting CSS: https://cdn.pydata.org/bokeh/release/bokeh-tables-0.12.13.min.css\");\n      Bokeh.embed.inject_css(\"https://cdn.pydata.org/bokeh/release/bokeh-tables-0.12.13.min.css\");\n    }\n  ];\n\n  function run_inline_js() {\n    \n    if ((root.Bokeh !== undefined) || (force === true)) {\n      for (var i = 0; i < inline_js.length; i++) {\n        inline_js[i].call(root, root.Bokeh);\n      }if (force === true) {\n        display_loaded();\n      }} else if (Date.now() < root._bokeh_timeout) {\n      setTimeout(run_inline_js, 100);\n    } else if (!root._bokeh_failed_load) {\n      console.log(\"Bokeh: BokehJS failed to load within specified timeout.\");\n      root._bokeh_failed_load = true;\n    } else if (force !== true) {\n      var cell = $(document.getElementById(\"dde5e8cf-ca5a-486f-a0b9-fc0f4b27b5e2\")).parents('.cell').data().cell;\n      cell.output_area.append_execute_result(NB_LOAD_WARNING)\n    }\n\n  }\n\n  if (root._bokeh_is_loading === 0) {\n    console.log(\"Bokeh: BokehJS loaded, going straight to plotting\");\n    run_inline_js();\n  } else {\n    load_libs(js_urls, function() {\n      console.log(\"Bokeh: BokehJS plotting callback run at\", now());\n      run_inline_js();\n    });\n  }\n}(window));"
     },
     "metadata": {},
     "output_type": "display_data"
    },
    {
     "data": {
      "text/html": [
       "\n",
       "<div class=\"bk-root\">\n",
       "    <div class=\"bk-plotdiv\" id=\"836a604a-8208-423c-92ce-270547f1d0bc\"></div>\n",
       "</div>"
      ]
     },
     "metadata": {},
     "output_type": "display_data"
    },
    {
     "data": {
      "application/javascript": [
       "(function(root) {\n",
       "  function embed_document(root) {\n",
       "    \n",
       "  var docs_json = {\"6be511f4-ef90-4f4d-896f-eafcf55afd0b\":{\"roots\":{\"references\":[{\"attributes\":{\"data_source\":{\"id\":\"5451f998-594c-4f89-8700-d720051b0998\",\"type\":\"ColumnDataSource\"},\"glyph\":{\"id\":\"dbe4a7cb-3661-48fa-a679-306871c5b80a\",\"type\":\"Circle\"},\"hover_glyph\":null,\"muted_glyph\":null,\"nonselection_glyph\":{\"id\":\"3a4c6275-961e-4951-bbe6-ef18ffbb4889\",\"type\":\"Circle\"},\"selection_glyph\":null,\"view\":{\"id\":\"bb4895f4-0cea-464d-8ca4-18f2f86c102c\",\"type\":\"CDSView\"}},\"id\":\"5e2b2af3-908c-4590-a566-c7620219eaf5\",\"type\":\"GlyphRenderer\"},{\"attributes\":{},\"id\":\"9e0d9eb9-e4f6-40bb-a87f-135578b9945c\",\"type\":\"BasicTicker\"},{\"attributes\":{\"dimension\":1,\"plot\":{\"id\":\"573c121a-022c-4dc1-814b-03042ff9da35\",\"subtype\":\"Figure\",\"type\":\"Plot\"},\"ticker\":{\"id\":\"9e0d9eb9-e4f6-40bb-a87f-135578b9945c\",\"type\":\"BasicTicker\"}},\"id\":\"2366b59c-74ae-4700-bcaf-890d6017dcdb\",\"type\":\"Grid\"},{\"attributes\":{\"source\":{\"id\":\"5451f998-594c-4f89-8700-d720051b0998\",\"type\":\"ColumnDataSource\"}},\"id\":\"bb4895f4-0cea-464d-8ca4-18f2f86c102c\",\"type\":\"CDSView\"},{\"attributes\":{},\"id\":\"da887e44-31d6-481a-aac1-5bf58261b99e\",\"type\":\"PanTool\"},{\"attributes\":{\"callback\":null,\"column_names\":[\"x1\",\"x2\",\"names\"],\"data\":{\"names\":[\"\\u0432\",\"\\u044f\",\"\\u0438\",\"\\u043d\\u0435\",\"\\u043d\\u0430\",\"\\u0447\\u0442\\u043e\",\"\\u0431\\u0430\\u043d\\u043a\",\"\\u0441\",\"\\u0431\\u044b\\u0442\\u044c\",\"\\u043f\\u043e\",\"\\u043a\\u0430\\u0440\\u0442\\u0430\",\"\\u0442\\u043e\",\"\\u043c\\u043e\\u0439\",\"\\u044d\\u0442\\u043e\",\"\\u0430\",\"\\u043a\\u0430\\u043a\",\"\\u043d\\u043e\",\"\\u044d\\u0442\\u043e\\u0442\",\"\\u0437\\u0430\",\"\\u043a\",\"\\u0443\",\"\\u0434\\u0435\\u043d\\u044c\\u0433\\u0438\",\"\\u043e\",\"\\u0434\\u0435\\u043d\\u044c\",\"\\u043a\\u043e\\u0442\\u043e\\u0440\\u044b\\u0439\",\"\\u0441\\u043e\\u0442\\u0440\\u0443\\u0434\\u043d\\u0438\\u043a\",\"\\u043a\\u0440\\u0435\\u0434\\u0438\\u0442\",\"\\u0442\\u0430\\u043a\",\"\\u0432\\u044b\",\"\\u043a\\u043b\\u0438\\u0435\\u043d\\u0442\",\"\\u0432\\u0435\\u0441\\u044c\",\"\\u043e\\u0442\",\"\\u043e\\u0442\\u0434\\u0435\\u043b\\u0435\\u043d\\u0438\\u0435\",\"\\u043e\\u043d\\u0438\",\"\\u0441\\u0432\\u043e\\u0439\",\"\\u0441\\u0447\\u0435\\u0442\",\"\\u043c\\u043e\\u0447\\u044c\",\"\\u0441\\u0443\\u043c\\u043c\\u0430\",\"\\u0434\\u043b\\u044f\",\"\\u0436\\u0435\",\"\\u043e\\u043d\\u0430\",\"\\u0438\\u0437\",\"\\u0433\\u043e\\u0434\",\"\\u0432\\u043a\\u043b\\u0430\\u0434\",\"\\u0434\\u043e\",\"\\u0441\\u043a\\u0430\\u0437\\u0430\\u0442\\u044c\",\"\\u0442\\u0430\\u043a\\u043e\\u0439\",\"\\u0443\\u0436\\u0435\",\"\\u043f\\u043e\\u043b\\u0443\\u0447\\u0430\\u0442\\u044c\",\"\\u043e\\u043d\",\"\\u0437\\u0430\\u044f\\u0432\\u043b\\u0435\\u043d\\u0438\\u0435\",\"\\u043f\\u0440\\u0438\",\"\\u0432\\u0441\\u0435\",\"\\u0434\\u0430\\u043d\\u043d\\u044b\\u0439\",\"\\u0447\\u0435\\u0440\\u0435\\u0437\",\"\\u0434\\u043e\\u0433\\u043e\\u0432\\u043e\\u0440\",\"\\u0432\\u0430\\u0448\",\"\\u0442\",\"\\u0432\\u0440\\u0435\\u043c\\u044f\",\"\\u043c\\u044b\",\"\\u043d\\u043e\\u043c\\u0435\\u0440\",\"\\u043a\\u0430\\u043a\\u043e\\u0439\",\"\\u0432\\u043e\\u043f\\u0440\\u043e\\u0441\",\"\\u0440\\u0430\\u0437\",\"\\u0442\\u043e\\u043b\\u044c\\u043a\\u043e\",\"\\u043a\\u0440\\u0435\\u0434\\u0438\\u0442\\u043d\\u044b\\u0439\",\"\\u043d\\u0435\\u0442\",\"\\u043f\\u043b\\u0430\\u0442\\u0435\\u0436\",\"\\u0435\\u0441\\u043b\\u0438\",\"\\u0442\\u0435\\u043b\\u0435\\u0444\\u043e\\u043d\",\"\\u043f\\u0440\\u0438\\u0445\\u043e\\u0434\\u0438\\u0442\\u044c\",\"\\u0434\\u0440\\u0443\\u0433\\u043e\\u0439\",\"\\u0441\\u0440\\u0435\\u0434\\u0441\\u0442\\u0432\\u043e\",\"\\u0442\\u043e\\u0442\",\"\\u0433\",\"\\u043f\\u043e\\u0441\\u043b\\u0435\",\"\\u0435\\u0449\\u0435\",\"\\u043e\\u0431\\u0440\\u0430\\u0449\\u0430\\u0442\\u044c\\u0441\\u044f\",\"\\u043e\\u0434\\u0438\\u043d\",\"\\u043e\\u0442\\u0432\\u0435\\u0442\",\"\\u0437\\u0432\\u043e\\u043d\\u043e\\u043a\",\"\\u043e\\u0444\\u0438\\u0441\",\"\\u0437\\u0432\\u043e\\u043d\\u0438\\u0442\\u044c\",\")\",\"\\u0441\\u0431\\u0435\\u0440\\u0431\\u0430\\u043d\\u043a\",\"\\u043a\\u043e\\u0433\\u0434\\u0430\",\"\\u0431\\u044b\",\"\\u0440\\u0443\\u0431\\u043b\\u044c\",\"\\u0441\\u043e\",\"\\u043d\\u0438\",\"\\u0438\\u043b\\u0438\",\"\\u043d\\u0430\\u043f\\u0438\\u0441\\u0430\\u0442\\u044c\",\"\\u043f\\u0440\\u043e\\u0431\\u043b\\u0435\\u043c\\u0430\",\"\\u0447\\u0442\\u043e\\u0431\\u044b\",\"\\u0440\\u0435\\u0448\\u0430\\u0442\\u044c\",\"\\u043c\\u0435\\u0441\\u044f\\u0446\",\"\\u043e\\u0447\\u0435\\u043d\\u044c\",\"\\u043f\\u043e\\u0437\\u0432\\u043e\\u043d\\u0438\\u0442\\u044c\",\"\\u0441\\u0438\\u0442\\u0443\\u0430\\u0446\\u0438\\u044f\",\"\\u0431\\u0435\\u0437\",\"\\u0447\\u0435\\u043b\\u043e\\u0432\\u0435\\u043a\",\"\\u0440\\u0430\\u0431\\u043e\\u0442\\u0430\",\"\\u0438\\u043d\\u0444\\u043e\\u0440\\u043c\\u0430\\u0446\\u0438\\u044f\",\"\\u0441\\u043c\\u0441\",\"\\u043e\\u0442\\u0432\\u0435\\u0447\\u0430\\u0442\\u044c\",\"\\u043e\\u043f\\u0435\\u0440\\u0430\\u0446\\u0438\\u044f\",\"\\u0440\\u0430\\u0431\\u043e\\u0442\\u0430\\u0442\\u044c\",\"\\u043f\\u043e\\u0447\\u0435\\u043c\\u0443\",\"\\u0434\\u043e\\u043a\\u0443\\u043c\\u0435\\u043d\\u0442\",\"\\u043f\\u0440\\u043e\\u0441\\u0438\\u0442\\u044c\",\"\\u0443\\u0441\\u043b\\u0443\\u0433\\u0430\",\"\\u0445\\u043e\\u0442\\u0435\\u0442\\u044c\",\"\\u0434\\u0430\\u0432\\u0430\\u0442\\u044c\",\"\\u0441\\u043e\\u043e\\u0431\\u0449\\u0430\\u0442\\u044c\",\"\\u0434\\u043e\\u043b\\u0436\\u043d\\u044b\\u0439\",\"\\u044f\\u0432\\u043b\\u044f\\u0442\\u044c\\u0441\\u044f\",\"\\u0433\\u0434\\u0435\",\"\\u0441\\u0440\\u043e\\u043a\",\"\\u0441\\u0434\\u0435\\u043b\\u0430\\u0442\\u044c\",\"\\u0431\\u0430\\u043d\\u043a\\u0430\",\"\\u0431\\u0430\\u043d\\u043a\\u043e\\u043c\\u0430\\u0442\",\"\\u043e\\u0444\\u043e\\u0440\\u043c\\u043b\\u044f\\u0442\\u044c\",\"\\u0433\\u043e\\u0432\\u043e\\u0440\\u0438\\u0442\\u044c\",\"\\u0440\\u0443\\u0431\",\"\\u0441\\u0435\\u0433\\u043e\\u0434\\u043d\\u044f\",\"\\u043e\\u0447\\u0435\\u0440\\u0435\\u0434\\u044c\",\"\\u0432\\u043e\\u0442\",\"\\u043f\\u0440\\u043e\\u0441\\u0442\\u043e\",\":\",\"\\u0437\\u043d\\u0430\\u0442\\u044c\",\"\\u043c\\u043e\\u0436\\u043d\\u043e\",\"\\u0434\\u0430\\u0436\\u0435\",\"\\u043e\\u0442\\u043a\\u0440\\u044b\\u0432\\u0430\\u0442\\u044c\",\"\\u043c\\u043d\\u043e\\u0433\\u043e\",\"\\u0437\\u0430\\u044f\\u0432\\u043a\\u0430\",\"\\u043f\\u0440\\u0438\\u043d\\u0438\\u043c\\u0430\\u0442\\u044c\",\"\\u043f\\u0440\\u0435\\u0442\\u0435\\u043d\\u0437\\u0438\\u044f\",\"\\u043d\\u0438\\u043a\\u0430\\u043a\\u043e\\u0439\",\"\\u0442\\u0430\\u043c\",\"\\u043d\\u043e\\u0432\\u044b\\u0439\",\"\\u043f\\u0440\\u043e\\u0446\\u0435\\u043d\\u0442\",\"\\u043b\\u0438\",\"\\u043e\\u0431\\u0441\\u043b\\u0443\\u0436\\u0438\\u0432\\u0430\\u043d\\u0438\\u0435\",\"\\u0441\\u0430\\u0439\\u0442\",\"\\u0438\\u043c\\u0435\\u0442\\u044c\",\"\\u0434\\u0435\\u043d\\u0435\\u0436\\u043d\\u044b\\u0439\",\"\\u043a\\u0442\\u043e\",\"\\u043d\\u0438\\u0447\\u0442\\u043e\",\"\\u043e\\u043f\\u043b\\u0430\\u0447\\u0438\\u0432\\u0430\\u0442\\u044c\",\"\\u0432\\u044b\\u0434\\u0430\\u0432\\u0430\\u0442\\u044c\",\"\\u0437\\u0430\\u043a\\u0440\\u044b\\u0432\\u0430\\u0442\\u044c\",\"\\u0443\\u0441\\u043b\\u043e\\u0432\\u0438\\u0435\",\"\\u0441\\u0430\\u043c\",\"\\u0434\\u0432\\u0430\",\"\\u043f\\u0435\\u0440\\u0435\\u0432\\u043e\\u0434\",\"\\u043e\\u0431\",\"\\u0438\\u043d\\u0442\\u0435\\u0440\\u043d\\u0435\\u0442\",\"\\u0443\\u043a\\u0430\\u0437\\u044b\\u0432\\u0430\\u0442\\u044c\",\"\\u0442\\u0430\\u043a\\u0436\\u0435\",\"\\u0437\\u0430\\u0434\\u043e\\u043b\\u0436\\u0435\\u043d\\u043d\\u043e\\u0441\\u0442\\u044c\",\"\\u043f\\u0435\\u0440\\u0432\\u044b\\u0439\",\"\\u0436\\u0434\\u0430\\u0442\\u044c\",\"\\u0441\\u043d\\u0438\\u043c\\u0430\\u0442\\u044c\",\"%\",\"\\u0441\\u0442\\u0430\\u043d\\u043e\\u0432\\u0438\\u0442\\u044c\\u0441\\u044f\",\"\\u043e\\u043f\\u0435\\u0440\\u0430\\u0442\\u043e\\u0440\",\"\\u043f\\u043e\\u043d\\u0438\\u043c\\u0430\\u0442\\u044c\",\"\\u043e\\u0431\\u0440\\u0430\\u0449\\u0435\\u043d\\u0438\\u0435\",\"\\u043c\\u043e\\u043c\\u0435\\u043d\\u0442\",\"\\u043f\\u043e\\u0441\\u0442\\u0443\\u043f\\u0430\\u0442\\u044c\",\"\\u043d\\u0435\\u0441\\u043a\\u043e\\u043b\\u044c\\u043a\\u043e\",\"\\u043f\\u0440\\u0435\\u0434\\u043b\\u0430\\u0433\\u0430\\u0442\\u044c\",\"\\u0435\",\"\\u043a\\u043e\\u043c\\u0438\\u0441\\u0441\\u0438\\u044f\",\"\\u043c\\u0438\\u043d\\u0443\\u0442\\u0430\",\"\\u0434\\u0430\\u043d\\u043d\\u044b\\u0435\",\"\\u0441\\u043b\\u0443\\u0447\\u0430\\u0439\",\"\\u043f\\u0440\\u043e\\u0445\\u043e\\u0434\\u0438\\u0442\\u044c\",\"\\u043e\\u0431\\u044a\\u044f\\u0441\\u043d\\u044f\\u0442\\u044c\",\"\\u043f\\u0440\\u0435\\u0434\\u043e\\u0441\\u0442\\u0430\\u0432\\u043b\\u044f\\u0442\\u044c\",\"\\u043f\\u0438\\u0441\\u0430\\u0442\\u044c\",\"\\u0447\\u0430\\u0441\",\"\\u043d\\u0443\\u0436\\u043d\\u043e\",\"\\u0442\\u0435\\u043f\\u0435\\u0440\\u044c\",\"\\u0442\\u0435\\u0447\\u0435\\u043d\\u0438\\u0435\",\"\\u0434\\u0435\\u0432\\u0443\\u0448\\u043a\\u0430\",\"\\u043e\\u043a\\u0430\\u0437\\u044b\\u0432\\u0430\\u0442\\u044c\\u0441\\u044f\",\"\\u0441\\u0430\\u043c\\u044b\\u0439\",\"\\u0434\\u043e\\u0431\\u0440\\u044b\\u0439\",\"\\u0432\\u043d\\u043e\\u0441\\u0438\\u0442\\u044c\",\"(\",\"\\u043d\\u0435\\u0434\\u0435\\u043b\\u044f\",\"\\u043f\\u043e\\u043b\\u044c\\u0437\\u043e\\u0432\\u0430\\u0442\\u044c\\u0441\\u044f\",\"\\u0440\\u0435\\u0448\\u0435\\u043d\\u0438\\u0435\",\"\\u043e\\u043f\\u043b\\u0430\\u0442\\u0430\",\"\\u043d\\u0430\\u0447\\u0438\\u043d\\u0430\\u0442\\u044c\",\"\\u0441\\u043b\\u0443\\u0436\\u0431\\u0430\",\"/\",\"\\u0432\\u0437\\u044f\\u0442\\u044c\",\"\\u0434\\u0430\",\"\\u0441\\u043c\\u043e\\u0447\\u044c\",\"\\u0442\\u0443\\u0442\",\"\\u0432\\u043e\\u043e\\u0431\\u0449\\u0435\",\"\\u0446\\u0435\\u043d\\u0442\\u0440\",\"\\u043e\\u0442\\u043f\\u0440\\u0430\\u0432\\u043b\\u044f\\u0442\\u044c\",\"\\u043d\\u0438\\u043a\\u0442\\u043e\",\"\\u043d\\u0430\\u0434\\u043e\",\"\\u0441\\u0438\\u0441\\u0442\\u0435\\u043c\\u0430\",\"\\u0441\\u043f\\u0435\\u0446\\u0438\\u0430\\u043b\\u0438\\u0441\\u0442\",\"\\u0431\\u043e\\u043b\\u0435\\u0435\",\"\\u0434\\u0435\\u043b\\u0430\\u0442\\u044c\",\"\\u043e\\u0442\\u0437\\u044b\\u0432\",\"\\u0441\\u0435\\u0431\\u044f\",\"\\u0441\\u0435\\u0439\\u0447\\u0430\\u0441\",\"\\u0441\\u0440\\u0430\\u0437\\u0443\",\"\\u0445\\u043e\\u0442\\u044f\",\"\\u0432\\u0441\",\"\\u0441\\u043b\\u0435\\u0434\\u0443\\u044e\\u0449\\u0438\\u0439\",\"\\u0443\\u0437\\u043d\\u0430\\u0432\\u0430\\u0442\\u044c\",\"\\u0441\\u0432\\u044f\\u0437\\u044c\",\"\\u043e\\u0442\\u043d\\u043e\\u0448\\u0435\\u043d\\u0438\\u0435\",\"\\u0434\\u0435\\u043a\\u0430\\u0431\\u0440\\u044c\",\"\\u043f\\u0440\\u0438\\u0445\\u043e\\u0434\\u0438\\u0442\\u044c\\u0441\\u044f\",\"\\u0432\\u0435\\u0440\\u043d\\u0443\\u0442\\u044c\",\"\\u043a\\u0430\\u0436\\u0434\\u044b\\u0439\",\"\\u043b\\u0438\\u043d\\u0438\\u044f\",\"\\u0440\",\"\\u043d\\u0443\",\"\\u0434\\u0435\\u043b\\u043e\",\"\\u043f\\u043e\\u0442\\u043e\\u043c\",\"\\u043b\\u0438\\u0446\\u043e\",\"\\u0440\\u0430\\u0437\\u0431\\u0438\\u0440\\u0430\\u0442\\u044c\\u0441\\u044f\",\"\\u043f\\u0440\\u043e\\u0441\\u044c\\u0431\\u0430\",\"\\u043e\\u0442\\u043a\\u0430\\u0437\\u044b\\u0432\\u0430\\u0442\\u044c\\u0441\\u044f\",\"\\u043d\\u0430\\u0448\",\"\\u043f\\u043b\\u0430\\u0442\\u0438\\u0442\\u044c\",\"\\u0438\\u0442\\u043e\\u0433\",\"\\u0430\\u0434\\u0440\\u0435\\u0441\",\"\\u043c\\u0435\\u043d\\u0435\\u0434\\u0436\\u0435\\u0440\",\"\\u043f\\u043e\\u0433\\u0430\\u0448\\u0435\\u043d\\u0438\\u0435\",\"\\u043f\\u0440\\u043e\\u0438\\u0441\\u0445\\u043e\\u0434\\u0438\\u0442\\u044c\",\"\\u0442\\u043e\\u0436\\u0435\",\"\\u043e\\u0441\\u0442\\u0430\\u0432\\u043b\\u044f\\u0442\\u044c\",\"\\u0447\\u0435\\u043c\",\"\\u043d\\u0443\\u0436\\u043d\\u044b\\u0439\",\"\\u0433\\u043e\\u0440\\u044f\\u0447\\u0438\\u0439\",\"\\u0434\\u043e\\u043b\\u0433\",\"\\u043f\\u043e\\u0434\\u0434\\u0435\\u0440\\u0436\\u043a\\u0430\",\"\\u0431\\u0430\\u043d\\u043a\\u043e\\u0432\\u0441\\u043a\\u0438\\u0439\",\"\\u043e\\u0441\\u0442\\u0430\\u0432\\u0430\\u0442\\u044c\\u0441\\u044f\",\"\\u0432\\u043e\\u0437\\u043c\\u043e\\u0436\\u043d\\u043e\\u0441\\u0442\\u044c\",\"\\u0430\\u043b\\u044c\\u0444\\u0430\",\"\\u0432\\u043e\",\"\\u043e\\u043f\\u044f\\u0442\\u044c\",\"\\u0434\\u0435\\u0439\\u0441\\u0442\\u0432\\u0438\\u0435\",\"\\u0434\\u0430\\u0442\\u0430\",\"\\u043b\\u0438\\u0431\\u043e\",\"\\u0438\\u0441\\u0442\\u043e\\u0440\\u0438\\u044f\",\"\\u0441\\u043f\\u0438\\u0441\\u044b\\u0432\\u0430\\u0442\\u044c\",\"\\u0441\\u043f\\u0440\\u0430\\u0448\\u0438\\u0432\\u0430\\u0442\\u044c\",\"\\u0441\\u043b\\u043e\\u0432\\u043e\",\"\\u0438\\u0434\\u0442\\u0438\",\"\\u043f\\u0440\\u0438\\u0447\\u0438\\u043d\\u0430\",\"\\u043f\\u043e\\u0441\\u043b\\u0435\\u0434\\u043d\\u0438\\u0439\",\"\\u0441\\u0442\\u0440\\u0430\\u0445\\u043e\\u0432\\u043a\\u0430\",\"!\",\"\\u043f\\u043e\\u043b\\u0443\\u0447\\u0435\\u043d\\u0438\\u0435\",\"\\u043f\\u043e\\u043f\\u0440\\u043e\\u0441\\u0438\\u0442\\u044c\",\"\\u0440\\u0430\\u0431\\u043e\\u0447\\u0438\\u0439\",\"\\u043f\\u043e\\u043a\\u0430\",\"\\u043c\\u043e\\u0441\\u043a\\u0432\\u0430\",\"\\u043f\\u043e\\u043c\\u043e\\u0433\\u0430\\u0442\\u044c\",\"\\u0434\",\"\\u043f\\u0438\\u0441\\u044c\\u043c\\u043e\",\"\\u043d\\u0430\\u0445\\u043e\\u0434\\u0438\\u0442\\u044c\\u0441\\u044f\",\"\\u0443\\u0442\\u043e\\u0447\\u043d\\u044f\\u0442\\u044c\",\"\\u0438\\u0445\",\"\\u0441\\u043e\\u0442\\u0440\\u0443\\u0434\\u043d\\u0438\\u0446\\u0430\",\"\\u0431\\u0440\\u0430\\u0442\\u044c\",\"\\u0432\\u0442\\u043e\\u0440\\u043e\\u0439\",\"\\u043a\\u0430\\u0441\\u0441\\u0430\",\"\\u043f\\u0440\\u043e\\u0441\\u0440\\u043e\\u0447\\u043a\\u0430\",\"\\u043c\",\"\\u043e\\u0442\\u043a\\u0430\\u0437\",\"\\u0441\\u043d\\u043e\\u0432\\u0430\",\"\\u043f\\u0440\\u0438\\u0435\\u0437\\u0436\\u0430\\u0442\\u044c\",\"\\u0434\\u0443\\u043c\\u0430\\u0442\\u044c\",\"\\u0432\\u0441\\u0435\\u0433\\u0434\\u0430\",\"\\u043f\\u0440\\u0430\\u0432\\u043e\",\"\\u0435\\u0433\\u043e\",\"\\u043f\\u043e\\u0434\\u0430\\u0432\\u0430\\u0442\\u044c\",\"\\u043f\\u043e\\u043b\\u043d\\u044b\\u0439\",\"\\u0441\\u0442\\u0430\\u0432\\u043a\\u0430\",\"\\u043e\\u0431\\u0449\\u0438\\u0439\",\"\\u043b\\u0438\\u043c\\u0438\\u0442\",\"\\u0441\\u043f\\u0438\\u0441\\u0430\\u043d\\u0438\\u0435\",\"\\u043a\\u0443\\u0440\\u0441\",\"\\u043f\\u0430\\u0441\\u043f\\u043e\\u0440\\u0442\",\"\\u0438\\u043c\\u0435\\u043d\\u043d\\u043e\",\"\\u043a\\u043e\\u043d\\u0435\\u0446\",\"\\u0437\\u0430\\u0431\\u043b\\u043e\\u043a\\u0438\\u0440\\u043e\\u0432\\u0430\\u0442\\u044c\",\"\\u0441\\u043e\\u0441\\u0442\\u0430\\u0432\\u043b\\u044f\\u0442\\u044c\",\"\\u043e\\u0448\\u0438\\u0431\\u043a\\u0430\",\"\\u0441\\u043f\\u0430\\u0441\\u0438\\u0431\\u043e\",\"\\u043f\\u043e\\u044d\\u0442\\u043e\\u043c\\u0443\",\"\\u0441\\u043e\\u043e\\u0431\\u0449\\u0435\\u043d\\u0438\\u0435\",\"\\u043f\\u043e\\u0434\",\"\\u043f\\u0435\\u0440\\u0435\\u0432\\u043e\\u0434\\u0438\\u0442\\u044c\",\"\\u043e\\u0442\\u043a\\u0440\\u044b\\u0442\\u0438\\u0435\",\"\\u043c\\u0435\\u0441\\u0442\\u043e\",\"\\u0434\\u0435\\u0431\\u0435\\u0442\\u043e\\u0432\\u044b\\u0439\",\"\\u0445\\u043e\\u0440\\u043e\\u0448\\u0438\\u0439\",\"\\u0440\\u0430\\u0437\\u043c\\u0435\\u0440\",\"\\u043e\\u0444\\u043e\\u0440\\u043c\\u043b\\u0435\\u043d\\u0438\\u0435\",\"\\u043c\\u043e\\u0431\\u0438\\u043b\\u044c\\u043d\\u044b\\u0439\",\"\\u0436\\u0430\\u043b\\u043e\\u0431\\u0430\",\"\\u0432\\u0438\\u0434\\u0435\\u0442\\u044c\",\"\\u0442\\u0440\\u0435\\u0431\\u043e\\u0432\\u0430\\u0442\\u044c\",\"\\u0431\\u043e\\u043b\\u044c\\u0448\\u043e\\u0439\",\"\\u043f\\u044b\\u0442\\u0430\\u0442\\u044c\\u0441\\u044f\",\"\\u0437\\u0430\\u043a\\u0440\\u044b\\u0442\\u0438\\u0435\",\"\\u043b\\u044e\\u0431\\u043e\\u0439\",\"\\u0445\\u043e\\u0440\\u043e\\u0448\\u043e\",\"\\u0440\\u0444\",\"\\u043f\\u0440\\u043e\",\"\\u043f\\u0440\\u043e\\u0432\\u043e\\u0434\\u0438\\u0442\\u044c\",\"\\u0445\\u043e\\u0442\\u0435\\u0442\\u044c\\u0441\\u044f\",\"\\u044f\\u043d\\u0432\\u0430\\u0440\\u044c\",\"\\u043f\\u043e\\u043a\\u0443\\u043f\\u043a\\u0430\",\"\\u0432\\u044b\\u043f\\u0438\\u0441\\u043a\\u0430\",\"\\u043f\\u043e\\u043b\\u0443\\u0447\\u0430\\u0442\\u044c\\u0441\\u044f\",\"\\u043f\\u043e\\u0433\\u0430\\u0441\\u0438\\u0442\\u044c\",\"\\u0441\\u0443\\u0434\",\"\\u043e\\u043f\\u0435\\u0440\\u0430\\u0446\\u0438\\u043e\\u043d\\u0438\\u0441\\u0442\",\"\\u043d\\u0430\\u0445\\u043e\\u0434\\u0438\\u0442\\u044c\",\"\\u0442\\u0435\\u0440\\u043c\\u0438\\u043d\\u0430\\u043b\",\"\\u0432\\u043e\\u0437\\u043d\\u0438\\u043a\\u0430\\u0442\\u044c\",\"\\u043d\\u0430\\u0437\\u0430\\u0434\",\"\\u0432\\u043e\\u0437\\u0432\\u0440\\u0430\\u0442\",\"\\u0447\\u0438\\u0441\\u043b\\u043e\",\"\\u0440\\u0435\\u0437\\u0443\\u043b\\u044c\\u0442\\u0430\\u0442\",\"\\u043f\\u043e\\u0439\\u0442\\u0438\",\"\\u0443\\u0445\\u043e\\u0434\\u0438\\u0442\\u044c\",\"\\u0441\\u043d\\u044f\\u0442\\u0438\\u0435\",\"\\u043e\\u0434\\u043d\\u0430\\u043a\\u043e\",\"\\u043f\\u0440\\u043e\\u0432\\u0435\\u0440\\u044f\\u0442\\u044c\",\"\\u0441\\u0435\\u0439\",\"\\u043e\\u043d\\u043b\\u0430\\u0439\\u043d\",\"\\u043b\\u0438\\u0447\\u043d\\u044b\\u0439\",\"\\u0441\\u0447\\u0438\\u0442\\u0430\\u0442\\u044c\",\"\\u0441\\u0432\\u044f\\u0437\\u044b\\u0432\\u0430\\u0442\\u044c\\u0441\\u044f\",\"\\u0434\\u0435\\u043d\\u044c!\",\"\\u0441\\u043f\\u0440\\u0430\\u0432\\u043a\\u0430\",\"\\u043d\\u0438\\u043a\\u043e\\u0433\\u0434\\u0430\",\"\\u043f\\u043e\\u0440\\u0430\",\"\\u0441\\u0442\\u043e\\u0440\\u043e\\u043d\\u0430\",\"\\u0441\\u0442\\u0440\\u0430\\u0445\\u043e\\u0432\\u0430\\u043d\\u0438\\u0435\",\"\\u043a\\u043e\\u043d\\u0435\\u0447\\u043d\\u043e\",\"\\u0437\\u0430\\u0431\\u0438\\u0440\\u0430\\u0442\\u044c\",\"\\u043f\\u0435\\u0440\\u0435\\u0437\\u0432\\u0430\\u043d\\u0438\\u0432\\u0430\\u0442\\u044c\",\"\\u0441\\u0447\",\"\\u0442\\u0440\\u0438\",\"\\u0435\\u0449\",\"\\u0437\\u0430\\u043a\\u043e\\u043d\",\"\\u043e\\u0442\\u043a\\u0430\\u0437\\u044b\\u0432\\u0430\\u0442\\u044c\",\"\\u0442\\u0440\\u0435\\u0431\\u043e\\u0432\\u0430\\u043d\\u0438\\u0435\",\"\\u0443\\u043b\",\"\\u0437\\u0430\\u043a\\u0430\\u0437\\u044b\\u0432\\u0430\\u0442\\u044c\",\"\\u043d\\u0430\\u0434\\u0435\\u044f\\u0442\\u044c\\u0441\\u044f\",\"\\u0442\\u043e\\u0433\\u0434\\u0430\",\"\\u0432\\u0442\\u0431\",\"\\u0440\\u0430\\u0441\\u0441\\u043c\\u043e\\u0442\\u0440\\u0435\\u043d\\u0438\\u0435\",\"\\u043e\\u0442\\u0434\\u0435\\u043b\",\"\\u043f\\u043e\\u0440\\u044f\\u0434\\u043e\\u043a\",\"\\u0433\\u043e\\u0440\\u043e\\u0434\",\"\\u0432\\u044b\\u0434\\u0430\\u0447\\u0430\",\"\\u0431\\u044b\\u0441\\u0442\\u0440\\u043e\",\"\\u043f\\u043e\\u0434\\u043f\\u0438\\u0441\\u044b\\u0432\\u0430\\u0442\\u044c\",\"\\u0443\\u0442\\u0440\\u043e\",\"\\u043a\\u043e\\u043f\\u0438\\u044f\",\"\\u0434\\u043e\\u0441\\u0440\\u043e\\u0447\\u043d\\u044b\\u0439\",\"\\u043e\\u043a\\u043e\\u043b\\u043e\",\"\\u043e\\u0440\\u0433\\u0430\\u043d\\u0438\\u0437\\u0430\\u0446\\u0438\\u044f\",\"\\u0440\\u0430\\u0437\\u0433\\u043e\\u0432\\u043e\\u0440\",\"\\u043f\",\"\\u044d\\u043b\\u0435\\u043a\\u0442\\u0440\\u043e\\u043d\\u043d\\u044b\\u0439\",\"\\u043d\\u043e\\u044f\\u0431\\u0440\\u044c\",\"\\u043a\\u0443\\u0434\\u0430\",\"\\u043e\\u0431\\u0440\\u0430\\u0437\",\"\\u043f\\u0435\\u0440\\u0435\\u0434\",\"\\u043f\\u043e\\u0434\\u0442\\u0432\\u0435\\u0440\\u0436\\u0434\\u0430\\u0442\\u044c\",\"\\u0437\\u0430\\u043f\\u0440\\u043e\\u0441\",\"\\u043f\\u043e\\u0442\\u043e\\u043c\\u0443\",\"\\u0432\\u0430\\u043b\\u044e\\u0442\\u0430\",\"\\u043f\\u0440\\u0435\\u0434\\u0441\\u0442\\u0430\\u0432\\u0438\\u0442\\u0435\\u043b\\u044c\",\"\\u043a\\u043e\\u043b\\u043b\",\"\\u043e\\u0447\\u0435\\u0440\\u0435\\u0434\\u043d\\u043e\\u0439\",\"\\u043a\\u043e\\u043c\\u043f\\u0430\\u043d\\u0438\\u044f\",\"\\u043d\\u0430\\u0447\\u0438\\u043d\\u0430\\u0442\\u044c\\u0441\\u044f\",\"\\u043f\\u043e\\u0434\\u043a\\u043b\\u044e\\u0447\\u0430\\u0442\\u044c\",\"\\u043f\\u0440\\u0435\\u0434\\u043b\\u043e\\u0436\\u0435\\u043d\\u0438\\u0435\",\"\\u043f\\u043e\\u0447\\u0442\\u0430\",\"\\u0440\\u043e\\u0441\\u0441\\u0438\\u044f\",\"\\u043e\\u0441\\u0442\\u0430\\u0442\\u043e\\u043a\",\"\\u043f\\u0440\\u043e\\u0433\\u0440\\u0430\\u043c\\u043c\\u0430\",\"\\u0434\\u043e\\u043f\\u043e\\u043b\\u043d\\u0438\\u0442\\u0435\\u043b\\u044c\\u043d\\u044b\\u0439\",\"\\u043f\\u0435\\u0440\\u0435\\u0434\\u0430\\u0432\\u0430\\u0442\\u044c\",\"\\u043d\\u0430\\u043b\\u0438\\u0447\\u043d\\u044b\\u0439\",\"\\u043e\\u0441\\u043d\\u043e\\u0432\\u0430\\u043d\\u0438\\u0435\",\"\\u0434\\u0430\\u043b\\u0435\\u0435\",\"\\u043e\\u043a\\u0442\\u044f\\u0431\\u0440\\u044c\",\"\\u043c\\u0430\\u043b\\u043e\",\"\\u0442\\u0430\\u043a\\u0438\",\"\\u0442\\u044b\\u0441\",\"\\u0430\\u0434\\u043c\\u0438\\u043d\\u0438\\u0441\\u0442\\u0440\\u0430\\u0442\\u043e\\u0440:\",\"\\u0438\\u043c\\u044f\",\"\\u0432\\u0435\\u0434\\u044c\",\"\\u0444\\u0430\\u043a\\u0442\",\"\\u0448\\u0442\\u0440\\u0430\\u0444\",\"\\u0442\\u0430\\u0440\\u0438\\u0444\",\"\\u0444\\u0435\\u0432\\u0440\\u0430\\u043b\\u044c\",\"\\u043e\\u0431\\u0435\\u0449\\u0430\\u0442\\u044c\",\"\\u0443\\u0432\\u0430\\u0436\\u0430\\u0435\\u043c\\u044b\\u0439\",\"\\u043f\\u0435\\u0440\\u0441\\u043e\\u043d\\u0430\\u043b\\u044c\\u043d\\u044b\\u0439\",\"\\u043f\\u043e\\u0434\\u0445\\u043e\\u0434\\u0438\\u0442\\u044c\",\"\\u043d\\u0430\\u0437\\u044b\\u0432\\u0430\\u0442\\u044c\",\"\\u0442\\u044b\\u0441\\u044f\\u0447\\u0430\",\"\\u0437\\u0430\\u0447\\u0435\\u043c\",\"\\u0440\\u0430\\u0441\\u0441\\u043c\\u0430\\u0442\\u0440\\u0438\\u0432\\u0430\\u0442\\u044c\",\"\\u0435\\u0435\",\"\\u0441\\u0442\\u043e\\u044f\\u0442\\u044c\",\"\\u0441\\u043a\\u043e\\u043b\\u044c\\u043a\\u043e\",\"\\u0434\\u0430\\u043b\\u0435\\u043a\\u043e\",\"\\u0430\\u043f\\u0440\\u0435\\u043b\\u044c\",\"\\u0444\\u0438\\u043b\\u0438\\u0430\\u043b\",\"\\u0441\\u043e\\u0432\\u0435\\u0440\\u0448\\u0430\\u0442\\u044c\",\"\\u043b\",\"\\u0432\\u0435\\u0447\\u0435\\u0440\",\"\\u043f\\u0435\\u0440\\u0438\\u043e\\u0434\",\"\\u043a\\u043e\\u0434\",\"\\u0434\\u0435\\u043f\\u043e\\u0437\\u0438\\u0442\",\"\\u043f\\u043e\\u0436\\u0430\\u043b\\u0443\\u0439\\u0441\\u0442\\u0430\",\"\\u0432\\u0438\\u0434\\u0438\\u043c\\u043e\",\"\\u0432\\u043d\\u0438\\u043c\\u0430\\u043d\\u0438\\u0435\",\"\\u043c\\u0430\\u0433\\u0430\\u0437\\u0438\\u043d\",\"\\u0441\\u0435\\u0440\\u0432\\u0438\\u0441\",\"\\u0431\\u043e\\u043b\\u044c\\u0448\\u0435\",\"\\u0447\\u0430\\u0441\\u0442\\u044c\",\"\\u043f\\u043e\\u043b\\u0430\\u0433\\u0430\\u0442\\u044c\",\"\\u043d\\u0435\\u043e\\u0431\\u0445\\u043e\\u0434\\u0438\\u043c\\u044b\\u0439\",\"\\u043d\\u0435\\u043e\\u0431\\u0445\\u043e\\u0434\\u0438\\u043c\\u043e\",\"\\u0431\\u0430\\u0437\\u0430\",\"\\u0440\\u0443\\u043a\\u0430\",\"\\u0433\\u043e\\u0442\\u043e\\u0432\\u044b\\u0439\",\"\\u0443\\u0432\\u0435\\u0434\\u043e\\u043c\\u043b\\u0435\\u043d\\u0438\\u0435\",\"\\u043f\\u043e\\u043f\\u043e\\u043b\\u043d\\u044f\\u0442\\u044c\",\"\\u0440\\u0430\\u0431\\u043e\\u0442\\u043d\\u0438\\u043a\",\"\\u0437\\u0430\\u0439\\u0442\\u0438\",\"\\u043e\\u0434\\u043e\\u0431\\u0440\\u044f\\u0442\\u044c\",\"\\u043c\\u0430\\u0440\\u0442\",\"\\u043d\\u0435\\u043b\\u044c\\u0437\\u044f\",\"\\u0444\\u043e\\u0440\\u043c\\u0430\",\"\\u043f\\u043e\\u0434\\u043e\\u0431\\u043d\\u044b\\u0439\",\"\\u0440\\u0430\\u0441\\u0441\\u043a\\u0430\\u0437\\u044b\\u0432\\u0430\\u0442\\u044c\",\"\\u0441\\u0442\\u0440\\u0430\\u0445\\u043e\\u0432\\u043e\\u0439\",\"\\u0434\\u043e\\u043b\\u0433\\u043e\",\"\\u043d\\u0430\\u0447\\u0438\\u0441\\u043b\\u044f\\u0442\\u044c\",\"\\u0435\\u0436\\u0435\\u043c\\u0435\\u0441\\u044f\\u0447\\u043d\\u044b\\u0439\",\"\\u0440\\u0430\\u0437\\u043d\\u044b\\u0439\",\"\\u043f\\u043e\\u0432\\u043e\\u0434\",\"\\u0445\",\"\\u043a\\u043e\\u0448\\u0435\\u043b\\u0435\\u043a\",\"\\u0432\\u044b\\u0445\\u043e\\u0434\\u0438\\u0442\\u044c\",\"\\u0434\\u043e\\u043b\\u043b\\u0430\\u0440\",\"\\u0432\\u0438\\u0434\",\"\\u0440\\u0443\\u043a\\u043e\\u0432\\u043e\\u0434\\u0441\\u0442\\u0432\\u043e\",\"\\u0442\\u0435\\u0445\\u043d\\u0438\\u0447\\u0435\\u0441\\u043a\\u0438\\u0439\",\"\\u0446\\u0435\\u043b\\u044c\",\"\\u0443\\u0432\\u0438\\u0434\\u0435\\u0442\\u044c\",\"\\u043f\\u043b\\u0430\\u0442\\u0430\",\"\\u0437\\u0434\\u0435\\u0441\\u044c\",\"\\u0442\\u0440\\u0435\\u0442\\u0438\\u0439\",\"\\u0444\\u0438\\u043d\\u0430\\u043d\\u0441\\u043e\\u0432\\u044b\\u0439\",\"\\u0441\\u043e\\u0433\\u043b\\u0430\\u0441\\u0438\\u0435\",\"\\u043f\\u0440\\u043e\\u0438\\u0437\\u0432\\u043e\\u0434\\u0438\\u0442\\u044c\",\"\\u043e\\u0431\\u044f\\u0437\\u0430\\u0442\\u0435\\u043b\\u044c\\u0441\\u0442\\u0432\\u043e\",\"\\u0432\\u044b\\u043f\\u043e\\u043b\\u043d\\u044f\\u0442\\u044c\",\"\\u0433\\u0440\\u0430\\u0444\\u0438\\u043a\",\"\\u0443\\u043a\\u0430\\u0437\\u0430\\u043d\\u043d\\u044b\\u0439\",\"\\u0432\\u044b\\u044f\\u0441\\u043d\\u044f\\u0442\\u044c\\u0441\\u044f\",\"\\u043f\\u0438\\u0441\\u044c\\u043c\\u0435\\u043d\\u043d\\u044b\\u0439\",\"\\u0432\\u043a\\u043b\\u0430\\u0434\\u0447\\u0438\\u043a\",\"\\u043d\\u0430\\u043f\\u0440\\u0430\\u0432\\u043b\\u044f\\u0442\\u044c\",\"\\u0437\\u0430\\u043a\\u0430\\u043d\\u0447\\u0438\\u0432\\u0430\\u0442\\u044c\\u0441\\u044f\",\"\\u043f\\u043e\\u043f\\u044b\\u0442\\u043a\\u0430\",\"\\u0431\\u043b\\u0438\\u0437\\u043a\\u0438\\u0439\",\"\\u0440\\u0430\\u043d\\u0435\\u0435\",\"\\u0437\\u0430\\u043f\\u043b\\u0430\\u0442\\u0438\\u0442\\u044c\",\"\\u043e\\u0431\\u0441\\u043b\\u0443\\u0436\\u0438\\u0432\\u0430\\u0442\\u044c\",\"\\u0440\\u0443\\u043a\\u043e\\u0432\\u043e\\u0434\\u0438\\u0442\\u0435\\u043b\\u044c\",\"\\u0436\\u0438\\u0437\\u043d\\u044c\",\"\\u043a\\u0430\\u0447\\u0435\\u0441\\u0442\\u0432\\u043e\",\"\\u043f\\u043e\\u0437\\u0434\\u043d\\u043e\",\"\\u0441\\u043e\\u0436\\u0430\\u043b\\u0435\\u043d\\u0438\\u0435\",\"\\u0442\\u0435\\u043b\\u0435\\u0444\\u043e\\u043d\\u043d\\u044b\\u0439\",\"\\u043e\\u0430\\u043e\",\"\\u043a\\u0440\\u043e\\u043c\\u0435\",\"\\u0442\\u0435\\u043a\\u0443\\u0449\\u0438\\u0439\",\"\\u043f\\u043b\\u0430\\u0442\\u0435\\u0436\\u043d\\u044b\\u0439\",\"\\u0447\\u0435\\u043a\",\"\\u0446\\u0431\",\"\\u0432\\u0447\\u0435\\u0440\\u0430\",\"\\u043f\\u043e\\u0447\\u0442\\u0438\",\"\\u0441\\u043d\\u0430\\u0447\\u0430\\u043b\\u0430\",\"\\u0441\\u043a\\u043b\\u0430\\u0434\\u044b\\u0432\\u0430\\u0442\\u044c\\u0441\\u044f\",\"\\u0432\\u0432\\u043e\\u0434\\u0438\\u0442\\u044c\",\"\\u043f\\u043e\\u044f\\u0432\\u043b\\u044f\\u0442\\u044c\\u0441\\u044f\",\"\\u043f\\u043e\\u043f\\u0430\\u0434\\u0430\\u0442\\u044c\",\"\\u043f\\u0440\\u043e\\u0434\\u0443\\u043a\\u0442\",\"\\u0434\\u0430\\u0432\\u043d\\u043e\",\"\\u0437\\u0430\\u043f\\u043e\\u043b\\u043d\\u044f\\u0442\\u044c\",\"\\u043f\\u043e\\u043f\\u043e\\u043b\\u043d\\u0435\\u043d\\u0438\\u0435\",\"\\u043a\\u0430\\u0441\\u0441\\u0438\\u0440\",\"\\u0440\\u0430\\u043d\\u043e\",\"\\u0437\\u0430\\u043d\\u0438\\u043c\\u0430\\u0442\\u044c\",\"\\u043f\\u0430\\u0440\\u0430\",\"\\u043a\\u043e\\u043d\\u0442\\u0430\\u043a\\u0442\\u043d\\u044b\\u0439\",\"\\u043f\\u0440\\u0438\\u0447\\u0435\\u043c\",\"\\u043f\\u043e\\u043c\\u043e\\u0449\\u044c\",\"\\u043f\\u0440\\u043e\\u0441\\u0440\\u043e\\u0447\\u0438\\u0432\\u0430\\u0442\\u044c\",\"\\u0442\\u043e\\u0447\\u043d\\u043e\",\"\\u0438\\u0437\\u043c\\u0435\\u043d\\u0435\\u043d\\u0438\\u0435\",\"\\u0441\\u043e\\u0433\\u043b\\u0430\\u0441\\u043d\\u043e\",\"\\u0433\\u043e\\u0434\\u043e\\u0432\\u043e\\u0439\",\"\\u043a\\u0430\\u0440\\u0442\\u043e\\u0447\\u043a\\u0430\",\"\\u043f\\u0440\\u0430\\u0432\\u0438\\u043b\\u043e\",\"\\u0442\\u044b\",\"\\u0432\\u043e\\u0437\\u043c\\u043e\\u0436\\u043d\\u043e\",\"\\u043d\",\"\\u043e\\u0431\\u043d\\u0430\\u0440\\u0443\\u0436\\u0438\\u0432\\u0430\\u0442\\u044c\",\"\\u0431\\u0430\\u043d\\u043a!\",\"\\u043d\\u0435\\u043a\\u043e\\u0442\\u043e\\u0440\\u044b\\u0439\",\"\\u043a\\u043e\",\"\\u043f\\u043e\\u0442\\u0440\\u0435\\u0431\\u0438\\u0442\\u0435\\u043b\\u044c\\u0441\\u043a\\u0438\\u0439\",\"\\u043e\\u0446\\u0435\\u043d\\u043a\\u0430\",\"\\u0442\\u0440\\u0443\\u0431\\u043a\\u0430\",\"\\u0441\\u0438\\u0434\\u0435\\u0442\\u044c\",\"\\u0434\\u0435\\u0439\\u0441\\u0442\\u0432\\u0438\\u0442\\u0435\\u043b\\u044c\\u043d\\u043e\",\"\\u0437\\u0434\\u0440\\u0430\\u0432\\u0441\\u0442\\u0432\\u043e\\u0432\\u0430\\u0442\\u044c\",\"(\\u0432\",\"\\u043f\\u043e\\u043b\\u043d\\u043e\\u0441\\u0442\\u044c\\u044e\",\"\\u0445\\u043e\\u0442\\u044c\",\"\\u0432\\u043e\\u043f\\u0440\\u043e\\u0441:\",\"\\u0438\\u043c\\u0435\\u0442\\u044c\\u0441\\u044f\",\"\\u043e\\u0431\\u0449\\u0435\\u043d\\u0438\\u0435\",\"\\u0437\\u0430\\u044f\\u0432\\u043b\\u044f\\u0442\\u044c\",\"\\u0434\\u043e\\u0437\\u0432\\u0430\\u043d\\u0438\\u0432\\u0430\\u0442\\u044c\\u0441\\u044f\",\"\\u043d\\u0430\\u0447\\u0430\\u043b\\u043e\",\"\\u043b\\u0438\\u0447\\u043d\\u043e\",\"\\u0432\\u043e\\u0441\\u043f\\u043e\\u043b\\u044c\\u0437\\u043e\\u0432\\u0430\\u0442\\u044c\\u0441\\u044f\",\"\\u043f\\u043e\\u0441\\u0442\\u043e\\u044f\\u043d\\u043d\\u043e\",\"\\u0437\\u0430\\u043d\\u0438\\u043c\\u0430\\u0442\\u044c\\u0441\\u044f\",\"\\u0431\\u0435\\u0437\\u043e\\u043f\\u0430\\u0441\\u043d\\u043e\\u0441\\u0442\\u044c\",\"\\u043f\\u043e\\u0442\\u0435\\u0440\\u044f\\u0442\\u044c\",\"\\u0437\\u0430\\u0447\\u0438\\u0441\\u043b\\u044f\\u0442\\u044c\",\"\\u0438\\u043f\\u043e\\u0442\\u0435\\u043a\\u0430\",\"\\u043f\\u043e\\u0442\\u0440\\u0430\\u0442\\u0438\\u0442\\u044c\",\"\\u0440\\u0443\\u0441\\u0441\\u043a\\u0438\\u0439\",\"\\u043e\\u0442\\u0441\\u0443\\u0442\\u0441\\u0442\\u0432\\u0438\\u0435\",\"\\u0432\\u044b\\u0431\\u0438\\u0440\\u0430\\u0442\\u044c\",\"\\u043a\\u0432\\u0430\\u0440\\u0442\\u0438\\u0440\\u0430\",\"\\u0441\\u043e\\u0431\\u0438\\u0440\\u0430\\u0442\\u044c\\u0441\\u044f\",\"\\u0432\\u043e\\u0437\\u043c\\u043e\\u0436\\u043d\\u044b\\u0439\",\"\\u0435\\u0445\\u0430\\u0442\\u044c\",\"\\u0441\\u043f\\u0443\\u0441\\u0442\\u044f\",\"\\u043f\\u0440\\u0438\\u0439\\u0442\\u0438\",\"\\u043f\\u0440\\u0438\\u043c\\u0435\\u0440\\u043d\\u043e\",\"\\u043e\\u0431\\u0449\\u0430\\u0442\\u044c\\u0441\\u044f\",\"\\u043f\\u0440\\u0438\\u0441\\u044b\\u043b\\u0430\\u0442\\u044c\",\"\\u0432\\u0430\",\"\\u043f\\u0443\\u043d\\u043a\\u0442\",\"\\u0434\\u0440\\u0443\\u0433\",\"\\u043f\\u0440\\u0435\\u0434\\u0441\\u0442\\u0430\\u0432\\u043b\\u044f\\u0442\\u044c\\u0441\\u044f\",\"\\u0432\\u0437\\u044b\\u0441\\u043a\\u0430\\u043d\\u0438\\u0435\",\"\\u043c\\u0430\\u0439\",\"\\u043f\\u043e\\u0441\\u043c\\u043e\\u0442\\u0440\\u0435\\u0442\\u044c\",\"\\u043f\\u043e\\u0441\\u043a\\u043e\\u043b\\u044c\\u043a\\u0443\",\"\\u043e\\u0442\\u0434\\u0430\\u0432\\u0430\\u0442\\u044c\",\"\\u0435\\u0432\\u0440\\u043e\",\"\\u043f\\u043e\\u043b\\u043e\\u0436\\u0438\\u0442\\u0435\\u043b\\u044c\\u043d\\u044b\\u0439\",\"\\u0432\\u044b\\u043d\\u0443\\u0436\\u0434\\u0430\\u0442\\u044c\",\"\\u0441\\u0443\\u0442\\u043a\\u0438\",\"\\u044f\\u043a\\u043e\\u0431\\u044b\",\"\\u0441\\u0442\\u0430\\u0440\\u044b\\u0439\",\"\\u0435\\u0441\\u0442\\u0435\\u0441\\u0442\\u0432\\u0435\\u043d\\u043d\\u043e\",\"\\u043b\\u0438\\u0448\\u044c\",\"\\u0441\\u0442\\u0430\\u043d\\u0434\\u0430\\u0440\\u0442\",\"\\u043a\\u0443\\u043f\\u044e\\u0440\\u0430\",\"\\u043f\\u0440\\u043e\\u0434\\u043e\\u043b\\u0436\\u0430\\u0442\\u044c\",\"\\u0447\",\"\\u0443\\u0432\\u0430\\u0436\\u0435\\u043d\\u0438\\u0435\",\"\\u0437\\u0430\\u0440\\u0430\\u043d\\u0435\\u0435\",\"\\u0441\\u0435\\u043d\\u0442\\u044f\\u0431\\u0440\\u044c\",\"\\u043a\\u0430\\u0431\\u0438\\u043d\\u0435\\u0442\",\"\\u0437\\u043d\\u0430\\u043a\\u043e\\u043c\\u044b\\u0439\",\"\\u0434\\u043e\\u043f\\u044b\",\"\\u043f\\u043e\\u0434\\u0442\\u0432\\u0435\\u0440\\u0436\\u0434\\u0435\\u043d\\u0438\\u0435\",\"\\u0432\\u044b\\u044f\\u0441\\u043d\\u044f\\u0442\\u044c\",\"\\u043b\\u0430\\u0434\\u043d\\u043e\",\"\\u043e\\u0436\\u0438\\u0434\\u0430\\u043d\\u0438\\u0435\",\"\\u0438\\u0441\\u043f\\u043e\\u043b\\u044c\\u0437\\u043e\\u0432\\u0430\\u043d\\u0438\\u0435\",\"\\u0441\\u043f\\u0438\\u0441\\u044b\\u0432\\u0430\\u0442\\u044c\\u0441\\u044f\",\"\\u0431\\u0435\\u0441\\u043f\\u043b\\u0430\\u0442\\u043d\\u044b\\u0439\",\"\\u0431\\u0430\\u043b\\u0430\\u043d\\u0441\",\"\\u043f\\u043e\\u0434\\u043e\\u0436\\u0434\\u0430\\u0442\\u044c\",\"\\u043f\\u0440\\u0435\\u0434\\u043e\\u0441\\u0442\\u0430\\u0432\\u043b\\u0435\\u043d\\u0438\\u0435\",\"\\u0433\\u043e\",\"\\u0441\\u043e\\u0432\\u0441\\u0435\\u043c\",\"\\u0441\\u0442\",\"\\u0442\\u0443\\u0434\\u0430\",\"\\u0440\\u0430\\u0432\\u043d\\u044b\\u0439\",\"\\u0432\\u0435\\u0440\\u043d\\u0443\\u0442\\u044c\\u0441\\u044f\",\"\\u0432\\u044b\\u043f\\u043b\\u0430\\u0447\\u0438\\u0432\\u0430\\u0442\\u044c\",\"\\u043c\\u0443\\u0436\",\"\\u043f\\u0440\\u0435\\u0434\\u0443\\u043f\\u0440\\u0435\\u0436\\u0434\\u0430\\u0442\\u044c\",\"\\u043c\\u0435\\u0440\\u0430\",\"\\u0441\\u0442\\u0430\\u043b\\u043a\\u0438\\u0432\\u0430\\u0442\\u044c\\u0441\\u044f\",\"\\u0434\\u0430\\u043b\\u044c\\u043d\\u0435\\u0439\\u0448\\u0438\\u0439\",\"\\u043f\\u043e\\u0441\\u0442\\u0430\\u0432\\u043b\\u044f\\u0442\\u044c\",\"\\u0441\\u0431\\u043e\\u0439\",\"\\u043c\\u0430\\u043c\\u0430\",\"\\u043f\\u0440\\u043e\\u0432\\u0435\\u0440\\u043a\\u0430\",\"\\u0437\\u0430\\u0435\\u043c\\u0449\\u0438\\u043a\",\"\\u043e\\u0436\\u0438\\u0434\\u0430\\u0442\\u044c\",\"\\u043f\\u0440\\u043e\\u043a\\u0443\\u0440\\u0430\\u0442\\u0443\\u0440\\u0430\",\"\\u0432\\u043c\\u0435\\u0441\\u0442\\u043e\",\"\\u0442\\u0440\\u0430\\u0441\\u0442\",\"\\u0437\\u0430\\u0432\\u0442\\u0440\\u0430\",\"\\u0432\\u043f\\u0435\\u0447\\u0430\\u0442\\u043b\\u0435\\u043d\\u0438\\u0435\",\"\\u043d\\u0430\\u0440\\u0443\\u0448\\u0435\\u043d\\u0438\\u0435\",\"\\u0443\\u0441\\u0442\\u0440\\u0430\\u0438\\u0432\\u0430\\u0442\\u044c\",\"\\u0436\\u0435\\u043b\\u0430\\u043d\\u0438\\u0435\",\"\\u043f\\u0440\\u0438\\u043d\\u043e\\u0441\\u0438\\u0442\\u044c\",\"\\u0435\\u0434\\u0438\\u043d\\u0441\\u0442\\u0432\\u0435\\u043d\\u043d\\u044b\\u0439\",\"\\u043e\\u0441\\u043d\\u043e\\u0432\\u043d\\u043e\\u0439\",\"\\u0434\\u043e\\u0432\\u0435\\u0440\\u0435\\u043d\\u043d\\u043e\\u0441\\u0442\\u044c\",\"\\u0434\\u043e\\u0441\\u0442\\u0430\\u0442\\u043e\\u0447\\u043d\\u043e\",\"\\u043e\\u043e\\u043e\",\"\\u0442\\u0440\\u0430\\u043d\\u0437\\u0430\\u043a\\u0446\\u0438\\u044f\",\"\\u0434\\u043e\\u0441\\u0440\\u043e\\u0447\\u043d\\u043e\",\"\\u0441\\u043a\\u043e\\u0440\\u043e\",\"\\u0430\\u043d\\u043a\\u0435\\u0442\\u0430\",\"\\u0443\\u0436\",\"\\u043f\\u043e\\u0434\\u043f\\u0438\\u0441\\u044c\",\"\\u0437\\u0434\\u0440\\u0430\\u0432\\u0441\\u0442\\u0432\\u043e\\u0432\\u0430\\u0442\\u044c!\",\"\\u043e\\u0431\\u0440\\u0430\\u0449\\u0430\\u0442\\u044c\",\"\\u0443\\u0434\\u043e\\u0431\\u043d\\u044b\\u0439\",\"\\u043c\\u0435\\u0436\\u0434\\u0443\",\"\\u0437\\u0430\\u0442\\u0435\\u043c\",\"\\u0443\\u0434\\u0430\\u0432\\u0430\\u0442\\u044c\\u0441\\u044f\",\"\\u043f\\u0440\\u0435\\u043a\\u0440\\u0430\\u0449\\u0430\\u0442\\u044c\",\"\\u0442\\u043e\\u0432\\u0430\\u0440\",\"\\u043f\\u043e\\u044f\\u0441\\u043d\\u044f\\u0442\\u044c\",\"\\u043d\\u0430\\u0440\\u0443\\u0448\\u0430\\u0442\\u044c\",\"\\u043a\\u0438\\u0432\\u0438\",\"\\u043d\\u0430\\u0441\\u0442\\u043e\\u044f\\u0449\\u0438\\u0439\",\"\\u0432\\u044b\\u043f\\u043b\\u0430\\u0442\\u0430\",\"\\u043e\\u0431\\u0440\\u0430\\u0431\\u043e\\u0442\\u043a\\u0430\",\"\\u0432\\u044b\\u0441\\u043e\\u043a\\u0438\\u0439\",\"\\u043f\\u0440\\u043e\\u0446\\u0435\\u0434\\u0443\\u0440\\u0430\",\"ru\",\"\\u0437\\u0430\\u0434\\u0430\\u0432\\u0430\\u0442\\u044c\",\"\\u0441\\u043e\\u0433\\u043b\\u0430\\u0448\\u0430\\u0442\\u044c\\u0441\\u044f\",\"\\u043e\\u0442\\u043c\\u0435\\u0447\\u0430\\u0442\\u044c\",\"\\u0443\\u0434\\u0430\\u043b\\u044f\\u0442\\u044c\",\"\\u043f\\u0435\\u0440\\u0435\\u0432\\u044b\\u043f\\u0443\\u0441\\u043a\",\"\\u043f\\u0430\\u0440\\u043e\\u043b\\u044c\",\"\\u0432\\u043e\\u0437\\u0432\\u0440\\u0430\\u0449\\u0430\\u0442\\u044c\",\"\\u043f\\u043b\\u044e\\u0441\",\"\\u0440\\u0435\\u0431\\u0435\\u043d\\u043e\\u043a\",\"\\u043d\\u0430\\u043a\\u043e\\u043d\\u0435\\u0446\",\"\\u0440\\u0435\\u0441\\u0442\\u0440\\u0443\\u043a\\u0442\\u0443\\u0440\\u0438\\u0437\\u0430\\u0446\\u0438\\u044f\",\"\\u0437\\u0430\\u0431\\u044b\\u0432\\u0430\\u0442\\u044c\",\"\\u043e\\u0444\\u0438\\u0446\\u0438\\u0430\\u043b\\u044c\\u043d\\u044b\\u0439\",\"\\u043e\\u0433\\u0440\\u043e\\u043c\\u043d\\u044b\\u0439\",\"\\u0443\\u0441\\u043f\\u0435\\u0432\\u0430\\u0442\\u044c\",\"\\u0437\\u0430\\u043a\\u043b\\u044e\\u0447\\u0430\\u0442\\u044c\",\"\\u0443\\u0433\\u0440\\u043e\\u0437\\u0430\",\"\\u0438\\u0441\\u043a\\u0430\\u0442\\u044c\",\"\\u0432\\u0440\\u043e\\u0434\\u0435\",\"\\u0432\\u044b\\u043f\\u0443\\u0441\\u043a\\u0430\\u0442\\u044c\",\"\\u043d\\u0438\\u043a\\u0430\\u043a\",\"\\u0440\\u0435\\u043a\\u0432\\u0438\\u0437\\u0438\\u0442\",\"\\u0440\\u0435\\u043a\\u043e\\u043c\\u0435\\u043d\\u0434\\u043e\\u0432\\u0430\\u0442\\u044c\",\"\\u043e\\u0442\\u043a\\u043b\\u044e\\u0447\\u0430\\u0442\\u044c\",\"\\u0444\\u0430\\u043c\\u0438\\u043b\\u0438\\u044f\",\"\\u0441\\u043e\\u0441\\u0442\\u043e\\u044f\\u043d\\u0438\\u0435\",\"\\u0443\\u0432\\u0435\\u0434\\u043e\\u043c\\u043b\\u044f\\u0442\\u044c\",\"\\u0432\\u0430\\u043b\\u044e\\u0442\\u043d\\u044b\\u0439\",\"\\u043f\\u0435\\u0440\\u0435\\u0447\\u0438\\u0441\\u043b\\u044f\\u0442\\u044c\",\"\\u043f\\u043e\\u043b\\u0438\\u0446\\u0438\\u044f\",\"\\u043c\\u043e\\u0441\\u043a\\u043e\\u0432\\u0441\\u043a\\u0438\\u0439\",\"\\u043c\\u043e\",\"\\u0434\\u043e\\u0445\\u043e\\u0434\",\"\\u0431\\u0430\\u043d\\u043a)\",\"\\u0438\\u043f\\u043e\\u0442\\u0435\\u0447\\u043d\\u044b\\u0439\",\"\\u0441\\u043e\\u043e\\u0442\\u0432\\u0435\\u0442\\u0441\\u0442\\u0432\\u0438\\u0435\",\"\\u0440\\u0430\\u0441\\u0447\\u0435\\u0442\\u043d\\u044b\\u0439\",\"\\u043f\\u043e\\u043d\\u044f\\u0442\\u043d\\u043e\",\"\\u043f\\u0430\\u043a\\u0435\\u0442\",\"\\u0432\\u044b\\u0437\\u044b\\u0432\\u0430\\u0442\\u044c\",\"\\u0432\\u0445\\u043e\\u0434\\u0438\\u0442\\u044c\",\"\\u043d\\u0430\\u043b\\u0438\\u0447\\u0438\\u0435\",\"\\u043f\\u043e\\u0434\\u0443\\u043c\\u0430\\u0442\\u044c\",\"\\u043f\\u0440\\u043e\\u0446\\u0435\\u043d\\u0442\\u043d\\u044b\\u0439\",\"\\u0441\\u043e\\u043e\\u0442\\u0432\\u0435\\u0442\\u0441\\u0442\\u0432\\u0435\\u043d\\u043d\\u043e\",\"\\u0430\\u043a\\u0446\\u0438\\u044f\",\"\\u0432\\u043d\\u0435\\u0441\\u0435\\u043d\\u0438\\u0435\",\"\\u043f\\u043e\\u043a\\u0430\\u0437\\u044b\\u0432\\u0430\\u0442\\u044c\",\"\\u043f\\u043e\\u0441\\u043e\\u0432\\u0435\\u0442\\u043e\\u0432\\u0430\\u0442\\u044c\",\"\\u0441\\u0442\\u043e\\u0438\\u0442\\u044c\",\"\\u043e\\u043f\\u0435\\u0440\\u0430\\u0446\\u0438\\u043e\\u043d\\u0438\\u0441\\u0442\\u043a\\u0430\",\"\\u043e\\u0441\\u0443\\u0449\\u0435\\u0441\\u0442\\u0432\\u043b\\u044f\\u0442\\u044c\",\"\\u0432\\u0438\\u043d\\u0430\",\"\\u0436\\u0438\\u0442\\u044c\",\"\\u0437\\u0430\\u0447\\u0438\\u0441\\u043b\\u0435\\u043d\\u0438\\u0435\",\"\\u0437\\u0430\\u0432\\u0435\\u0440\\u044f\\u0442\\u044c\",\"\\u043d\\u0435\\u0431\\u043e\\u043b\\u044c\\u0448\\u043e\\u0439\",\"\\u043f\\u043e\\u0435\\u0445\\u0430\\u0442\\u044c\",\"\\u0437\\u0430\\u043c\\u0435\\u0447\\u0430\\u0442\\u044c\",\"\\u0438\\u0441\\u043f\\u0440\\u0430\\u0432\\u043b\\u044f\\u0442\\u044c\",\"\\u0437\\u0430\\u0440\\u0435\\u0433\\u0438\\u0441\\u0442\\u0440\\u0438\\u0440\\u043e\\u0432\\u0430\\u0442\\u044c\",\"\\u0438\\u0441\\u043f\\u043e\\u043b\\u044c\\u0437\\u043e\\u0432\\u0430\\u0442\\u044c\",\"\\u043f\\u0440\\u043e\\u0446\\u0435\\u0441\\u0441\",\"\\u0437\\u0430\\u0449\\u0438\\u0442\\u0430\",\"\\u0434\\u043e\\u043b\\u0436\\u043d\\u0438\\u043a\",\"\\u0436\",\"\\u0447\\u0438\\u0442\\u0430\\u0442\\u044c\",\"\\u0434\\u043e\\u043c\",\"\\u0443\\u0441\\u0442\\u0430\\u043d\\u0430\\u0432\\u043b\\u0438\\u0432\\u0430\\u0442\\u044c\",\"\\u0441\\u043e\\u0431\\u0441\\u0442\\u0432\\u0435\\u043d\\u043d\\u044b\\u0439\",\"\\u0441\\u0443\\u0434\\u0435\\u0431\\u043d\\u044b\\u0439\",\"\\u0436\\u0435\\u043d\\u0430\",\"\\u0441\\u0432\\u044f\\u0437\\u043d\\u043e\\u0439\",\"\\u0443\\u0441\\u043b\\u044b\\u0448\\u0430\\u0442\\u044c\",\"\\u0440\\u0430\\u0437\\u0433\\u043e\\u0432\\u0430\\u0440\\u0438\\u0432\\u0430\\u0442\\u044c\",\"\\u0441\\u0443\\u0442\\u044c\",\"\\u0441\\u043e\\u0432\\u0435\\u0440\\u0448\\u0435\\u043d\\u043d\\u043e\",\"\\u0441\\u043f\\u0438\\u0441\\u043e\\u043a\",\"\\u043c\\u043e\\u0436\\u0435\\u0442\",\"\\u043e\\u0431\\u044a\\u044f\\u0441\\u043d\\u0435\\u043d\\u0438\\u0435\",\"\\u043e\\u0431\\u0441\\u043b\\u0443\\u0436\\u0438\\u0432\\u0430\\u0442\\u044c\\u0441\\u044f\",\"\\u043c\\u0438\\u043d\\u0443\\u0441\",\"\\u0437\\u0430\\u043f\\u0438\\u0441\\u044c\",\"\\u0434\\u043e\\u0441\\u0442\\u0443\\u043f\",\"\\u0441\\u0441\\u044b\\u043b\\u0430\\u0442\\u044c\\u0441\\u044f\",\"\\u0441\\u0434\\u0435\\u043b\\u043a\\u0430\",\"\\u0437\\u0430\\u0440\\u043f\\u043b\\u0430\\u0442\\u043d\\u044b\\u0439\",\"\\u0437\\u0430\\u0440\\u043f\\u043b\\u0430\\u0442\\u0430\",\"\\u043e\\u043f\\u0438\\u0441\\u044b\\u0432\\u0430\\u0442\\u044c\",\"\\u043d\\u0438\\u0431\\u0443\\u0434\\u044c\",\"\\u0438\\u043d\\u0442\\u0435\\u0440\\u0435\\u0441\\u043d\\u044b\\u0439\",\"\\u043d\\u0435\\u043e\\u0431\\u0445\\u043e\\u0434\\u0438\\u043c\\u043e\\u0441\\u0442\\u044c\",\"\\u043a\\u043e\\u043d\\u0442\\u0430\\u043a\\u0442\",\"\\u043e\\u043a\\u043d\\u043e\",\"\\u0441\\u043f\\u043e\\u0441\\u043e\\u0431\",\"\\u0431\",\"\\u0441\\u0440\\u043e\\u0447\\u043d\\u043e\",\"\\u043a\\u0441\\u0442\\u0430\\u0442\\u0438\",\"\\u0432\\u0430\\u0440\\u0438\\u0430\\u043d\\u0442\",\"\\u0432\\u044b\\u0445\\u043e\\u0434\\u043d\\u043e\\u0439\",\"\\u043a\\u0443\\u043f\\u0438\\u0442\\u044c\",\"\\u043c\\u0435\\u043d\\u0435\\u0435\",\"\\u0443\\u043f\\u0440\\u0430\\u0432\\u043b\\u044f\\u044e\\u0449\\u0438\\u0439\",\"\\u043e\\u043a\\u043e\\u043d\\u0447\\u0430\\u043d\\u0438\\u0435\",\"\\u043e\\u0440\\u0433\\u0430\\u043d\",\"\\u0441\\u0442\\u0430\\u0432\\u0438\\u0442\\u044c\",\"\\u043f\\u043e\\u0437\\u0432\\u043e\\u043b\\u044f\\u0442\\u044c\",\"\\u0441\\u043b\\u0443\\u0447\\u0430\\u0442\\u044c\\u0441\\u044f\",\"\\u0434\\u043e\\u0432\\u043e\\u043b\\u044c\\u043d\\u044b\\u0439\",\"\\u043c\\u043e\\u043b\",\"\\u043f\\u0440\\u043e\\u0448\\u043b\\u044b\\u0439\",\"\\u043f\\u0438\\u043d\",\"\\u0431\\u043b\\u043e\\u043a\\u0438\\u0440\\u043e\\u0432\\u043a\\u0430\",\"\\u0440\\u043e\\u0434\\u0441\\u0442\\u0432\\u0435\\u043d\\u043d\\u0438\\u043a\",\"\\u043d\\u043e\\u0440\\u043c\\u0430\\u043b\\u044c\\u043d\\u044b\\u0439\",\"\\u043a\\u0440\\u0443\\u043f\\u043d\\u044b\\u0439\",\"\\u043c\\u043a\\u0431\",\"\\u0434\\u043e\\u043c\\u043e\\u0439\",\"\\u0447\\u0442\\u043e\\u0431\",\"\\u043c\\u043e\\u043b\\u043e\\u0434\\u043e\\u0439\",\"\\u043f\\u0435\\u0440\\u0435\\u0441\\u0442\\u0430\\u0432\\u0430\\u0442\\u044c\",\"\\u043d\\u0435\\u0441\\u043c\\u043e\\u0442\\u0440\\u044f\",\"\\u0441\\u0442\\u0430\\u0442\\u044c\\u044f\",\"\\u0421\\u0411\",\"\\u0441\\u043c\\u043e\\u0442\\u0440\\u0435\\u0442\\u044c\",\"\\u0432\\u0441\\u044f\\u043a\\u0438\\u0439\",\"\\u043f\\u0440\\u0435\\u0434\\u044b\\u0434\\u0443\\u0449\\u0438\\u0439\",\"\\u0434\\u0435\\u0439\\u0441\\u0442\\u0432\\u043e\\u0432\\u0430\\u0442\\u044c\",\"\\u043a\\u043e\\u043d\\u0441\\u0443\\u043b\\u044c\\u0442\\u0430\\u043d\\u0442\",\"\\u0431\\u0443\\u043c\\u0430\\u0433\\u0430\",\"\\u0441\\u043b\\u044b\\u0448\\u0430\\u0442\\u044c\",\"\\u043a\\u043e\\u043b\\u043b\\u0435\\u043a\\u0442\\u043e\\u0440\",\"\\u043d\\u0435\\u0432\\u043e\\u0437\\u043c\\u043e\\u0436\\u043d\\u043e\",\"\\u043f\\u0440\\u0430\\u0432\\u0434\\u0430\",\"\\u0434\\u043e\\u0445\\u043e\\u0434\\u0438\\u0442\\u044c\",\"\\u043e\\u0442\\u0432\\u0435\\u0442:\",\"\\u043f\\u0440\\u043e\\u0441\\u0442\\u043e\\u0439\",\"\\u043f\\u043e\\u043f\\u044b\\u0442\\u0430\\u0442\\u044c\\u0441\\u044f\",\"\\u0432\\u044b\\u0432\\u043e\\u0434\",\"\\u043d\\u0435\\u043a\\u0438\\u0439\",\"\\u043a\\u043e\\u043b\\u0438\\u0447\\u0435\\u0441\\u0442\\u0432\\u043e\",\"\\u0432\\u043e\\u0432\\u0440\\u0435\\u043c\\u044f\",\"\\u0437\\u0430\\u043f\\u0440\\u0430\\u0448\\u0438\\u0432\\u0430\\u0442\\u044c\",\"\\u043f\\u043e\\u043b\\u044c\\u0437\\u043e\\u0432\\u0430\\u043d\\u0438\\u0435\",\"\\u0438\\u043d\\u043e\\u0439\",\"\\u0441\\u043e\\u043e\\u0442\\u0432\\u0435\\u0442\\u0441\\u0442\\u0432\\u0443\\u044e\\u0449\\u0438\\u0439\",\"\\u043f\\u043e\\u043d\\u0435\\u0434\\u0435\\u043b\\u044c\\u043d\\u0438\\u043a\",\"\\u0438\\u0437\\u043c\\u0435\\u043d\\u044f\\u0442\\u044c\",\"S\",\"\\u043f\\u0440\\u0438\\u0432\\u043e\\u0434\\u0438\\u0442\\u044c\",\"\\u0443\\u0434\\u0438\\u0432\\u043b\\u044f\\u0442\\u044c\",\"\\u0442\\u0440\\u0430\\u0442\\u0438\\u0442\\u044c\",\"\\u043c\\u0430\\u043b\\u0435\\u043d\\u044c\\u043a\\u0438\\u0439\",\"\\u043d\\u0435\\u043e\\u0434\\u043d\\u043e\\u043a\\u0440\\u0430\\u0442\\u043d\\u043e\",\"\\u043c\\u0438\\u043d\\u0438\\u043c\\u0430\\u043b\\u044c\\u043d\\u044b\\u0439\",\"\\u043f\\u0440\\u043e\\u0434\\u043e\\u043b\\u0436\\u0430\\u0442\\u044c\\u0441\\u044f\",\"\\u0443\\u0434\\u043e\\u0431\\u043d\\u043e\",\"\\u0437\\u0430\\u043f\\u0438\\u0441\\u044b\\u0432\\u0430\\u0442\\u044c\",\"\\u0444\\u0437\",\"\\u043e\\u043d\\u043e\",\"\\u043e\\u0437\\u0432\\u0443\\u0447\\u0438\\u0432\\u0430\\u0442\\u044c\",\"\\u043d\\u0435\\u043c\\u043d\\u043e\\u0433\\u043e\",\"\\u0443\\u0432\\u0435\\u0440\\u044f\\u0442\\u044c\",\"\\u043f\\u043e\\u043b\\u043e\\u0436\\u0435\\u043d\\u0438\\u0435\",\"\\u043f\\u043e\\u0442\\u0440\\u0435\\u0431\\u0438\\u0442\\u0435\\u043b\\u044c\",\"\\u043f\\u043e\\u0441\\u0435\\u0449\\u0430\\u0442\\u044c\",\"P\",\"\\u043a\\u0432\\u0438\\u0442\\u0430\\u043d\\u0446\\u0438\\u044f\",\"\\u043e\\u0431\\u0440\\u0430\\u0442\\u043d\\u043e\",\"\\u0441\\u0442\\u0430\\u0442\\u0443\\u0441\",\"\\u0442\\u0438\\u043d\\u044c\\u043a\\u043e\\u0444\\u0444\",\"\\u0436\\u0435\\u043b\\u0430\\u0442\\u044c\",\"\\u0431\\u044b\\u0432\\u0430\\u0442\\u044c\",\"\\u0441\\u0435\\u0433\\u043e\\u0434\\u043d\\u044f\\u0448\\u043d\\u0438\\u0439\",\"\\u043a\\u0440\\u0430\\u0439\\u043d\\u0435\",\"\\u043f\\u0440\\u0438\\u043b\\u043e\\u0436\\u0435\\u043d\\u0438\\u0435\",\"\\u0440\\u0435\\u0448\\u0430\\u0442\\u044c\\u0441\\u044f\",\"\\u043d\\u0430\\u0447\\u0438\\u0441\\u043b\\u0435\\u043d\\u0438\\u0435\",\"\\u043c\\u0442\\u0441\",\"\\u043f\\u0440\\u043e\\u0432\\u0435\\u0434\\u0435\\u043d\\u0438\\u0435\",\"\\u0446\\u0435\\u043d\\u0442\\u0440\\u0430\\u043b\\u044c\\u043d\\u044b\\u0439\",\"\\u0438\\u0437\\u043c\\u0435\\u043d\\u044f\\u0442\\u044c\\u0441\\u044f\",\"\\u0422\\u041a\\u0421\",\"\\u0430\\u0431\\u0441\\u043e\\u043b\\u044e\\u0442\\u043d\\u043e\",\"\\u043f\\u043e\\u0434\\u0430\\u0440\\u043e\\u043a\",\"\\u043f\\u043b\\u043e\\u0445\\u043e\\u0439\",\"\\u043f\\u0440\\u0435\\u0434\\u0441\\u0442\\u0430\\u0432\\u043b\\u044f\\u0442\\u044c\",\"\\u043e\\u0442\\u043a\\u0443\\u0434\\u0430\",\"\\u043d\\u0430\\u0432\\u0435\\u0440\\u043d\\u043e\\u0435\",\"\\u043f\\u043e\\u0432\\u0442\\u043e\\u0440\\u043d\\u043e\",\"\\u0437\\u0430\\u043a\\u0430\\u0437\",\"\\u0437\\u0430\\u043a\\u043b\\u044e\\u0447\\u0435\\u043d\\u0438\\u0435\",\"\\u0432\\u0441\\u0435\\u0433\\u043e\",\"\\u043f\\u0440\",\"\\u0447\\u0443\\u0442\\u044c\",\"\\u043e\\u0442\\u043c\\u0435\\u043d\\u044f\\u0442\\u044c\",\"\\u0432\\u044b\\u043f\\u0443\\u0441\\u043a\",\"\\u043f\\u043e\\u0442\\u0435\\u0440\\u044f\",\"\\u0441\\u0438\\u043b\\u0430\",\"\\u0437\\u0430\\u0440\\u043f\\u043b\\u0430\\u0442\\u043d\\u043e\\u0439\",\"\\u0433\\u0440\\u0430\\u0436\\u0434\\u0430\\u043d\\u0438\\u043d\",\"\\u0443\\u0440\\u043e\\u0432\\u0435\\u043d\\u044c\",\"\\u043e\\u0442\\u043d\\u043e\\u0441\\u0438\\u0442\\u044c\\u0441\\u044f\",\"\\u0434\\u0432\\u0435\\u0440\\u044c\",\"\\u0432\\u0435\\u0436\\u043b\\u0438\\u0432\\u044b\\u0439\",\"\\u0438\\u043d\\u0444\\u043e\\u0440\\u043c\\u0438\\u0440\\u043e\\u0432\\u0430\\u043d\\u0438\\u0435\",\"\\u0432\\u0434\\u0440\\u0443\\u0433\",\"\\u043e\\u0431\\u044b\\u0447\\u043d\\u043e\",\"\\u043d\\u0430\\u043b\\u0438\\u0447\\u043d\\u044b\\u0435\",\"\\u043d\\u0430\\u0437\\u0432\\u0430\\u043d\\u0438\\u0432\\u0430\\u0442\\u044c\",\"\\u0434\\u043e\\u0436\\u0434\\u0430\\u0442\\u044c\\u0441\\u044f\",\"\\u043a\\u043e\\u043f\\u0435\\u0439\\u043a\\u0430\",\"\\u0441\\u0442\\u043e\\u0438\\u043c\\u043e\\u0441\\u0442\\u044c\",\"\\u0441\\u0442\\u0440\\u0430\\u043d\\u0430\",\"\\u043e\\u0431\\u044f\\u0437\\u0430\\u0442\\u0435\\u043b\\u044c\\u043d\\u043e\",\"\\u0438\\u0437\\u0432\\u0438\\u043d\\u0435\\u043d\\u0438\\u0435\",\"\\u043a\\u043e\\u043b\\u043b\\u0435\\u0433\\u0430\",\"\\u043e\\u0441\\u0442\\u0430\\u043b\\u044c\\u043d\\u043e\\u0439\",\"\\u0432\\u0437\\u043d\\u043e\\u0441\",\"\\u043f\\u043e\\u043f\\u0440\\u043e\\u0431\\u043e\\u0432\\u0430\\u0442\\u044c\",\"\\u0432\\u043d\\u0443\\u0442\\u0440\\u0435\\u043d\\u043d\\u0438\\u0439\",\"\\u0445\\u043e\\u0434\\u0438\\u0442\\u044c\",\"\\u043f\\u043e\\u0434\\u0430\\u0447\\u0430\",\"\\u0445\\u043e\\u0443\\u043c\",\"\\u0443\\u0447\\u0438\\u0442\\u044b\\u0432\\u0430\\u0442\\u044c\",\"\\u0447\\u0430\\u0441\\u0442\\u043e\",\"\\u043c\\u0435\\u043d\\u044f\\u0442\\u044c\",\"\\u043c\\u043d\\u043e\\u0433\\u0438\\u0439\",\"Visa\",\"\\u043f\\u0443\\u0441\\u0442\\u044c\",\"\\u0432\\u043d\\u043e\\u0432\\u044c\",\"\\u0447\\u0435\\u0441\\u0442\\u043d\\u043e\",\"\\u043f\\u043e\\u043b\\u0443\\u0447\\u0430\\u0442\\u0435\\u043b\\u044c\",\"\\u0432\\u043c\\u0435\\u0441\\u0442\\u0435\",\"\\u043f\\u043e\\u0441\\u0442\\u043e\\u044f\\u043d\\u043d\\u044b\\u0439\",\"\\u0438\\u043d\\u0430\\u0447\\u0435\",\"\\u043e\\u043f\\u044b\\u0442\",\"\\u043f\\u0440\\u0438\\u043d\\u0446\\u0438\\u043f\",\"\\u0440\\u0430\\u0441\\u0447\\u0435\\u0442\",\"\\u0441\\u043e\\u0442\\u0440\\u0443\\u0434\\u043d\\u0438\\u0447\\u0435\\u0441\\u0442\\u0432\\u043e\",\"\\u043f\\u0440\\u043e\\u0434\\u0430\\u0436\\u0430\",\"\\u0437\\u0430\\u043b\",\"\\u0443\\u0433\\u0440\\u043e\\u0436\\u0430\\u0442\\u044c\",\"\\u0441\\u0443\\u0431\\u0431\\u043e\\u0442\\u0430\",\"\\u0431\\u0430\\u043d\\u043a:\",\"\\u0434\\u043e\\u043b\\u0433\\u0438\\u0439\",\"\\u043f\\u043e\\u0434\\u0441\\u043a\\u0430\\u0437\\u044b\\u0432\\u0430\\u0442\\u044c\",\"\\u043f\\u0435\\u0440\\u0435\\u0432\\u044b\\u043f\\u0443\\u0441\\u043a\\u0430\\u0442\\u044c\",\"\\u043d\\u0430\\u043f\\u0440\\u0438\\u043c\\u0435\\u0440\",\"\\u043f\\u0435\\u0440\\u0441\\u043e\\u043d\\u0430\\u043b\",\"(\\u044f\",\"\\u0432\\u044b\\u0441\\u044b\\u043b\\u0430\\u0442\\u044c\",\"\\u0430\\u0432\\u0433\\u0443\\u0441\\u0442\",\"\\u043f\\u0440\\u043e\\u0447\\u0438\\u0442\\u044b\\u0432\\u0430\\u0442\\u044c\",\"\\u043f\\u043b\\u0430\\u043d\",\"\\u0443\\u043b\\u0438\\u0446\\u0430\",\"\\u0434\\u043e\\u043f\\u0443\\u0441\\u043a\\u0430\\u0442\\u044c\",\"\\u043f\\u043b\\u0430\\u043d\\u0438\\u0440\\u043e\\u0432\\u0430\\u0442\\u044c\",\"(\\u043d\\u0435\",\"\\u0418\\u0411\",\"\\u043f\\u043e\\u043c\\u043d\\u0438\\u0442\\u044c\",\"\\u043f\\u0440\\u0438\\u044f\\u0442\\u043d\\u044b\\u0439\",\"\\u0441\\u0435\\u043c\\u044c\\u044f\",\"\\u0438\\u0441\\u043f\\u043e\\u043b\\u043d\\u044f\\u0442\\u044c\",\"\\u0437\\u0430\\u0445\\u043e\\u0434\\u0438\\u0442\\u044c\",\"\\u0437\\u043d\\u0430\\u0447\\u0438\\u0442\",\"\\u043f\\u043e\\u043c\\u0435\\u043d\\u044f\\u0442\\u044c\",\"\\u0443\\u0434\\u0438\\u0432\\u043b\\u0435\\u043d\\u0438\\u0435\",\"\\u0442\\u0438\\u043f\",\"\\u043f\\u0440\\u0438\\u0435\\u043c\",\"\\u043e\\u0442\\u0432\\u0435\\u0442\\u0441\\u0442\\u0432\\u0435\\u043d\\u043d\\u043e\\u0441\\u0442\\u044c\",\"\\u043d\\u0435\\u0434\\u0430\\u0432\\u043d\\u043e\",\"(\\u0430\",\"\\u043d\\u043e\\u0440\\u043c\\u0430\\u043b\\u044c\\u043d\\u043e\",\"\\u043b\\u0438\\u0448\\u043d\\u0438\\u0439\",\"\\u043d\\u0435\\u043f\\u0440\\u0438\\u044f\\u0442\\u043d\\u044b\\u0439\",\"\\u0443\\u0447\\u0435\\u0442\",\"\\u043f\\u043e\\u043b\\u0433\\u043e\\u0434\\u0430\",\"\\u0434\\u043e\\u043b\\u0436\\u043d\\u043e\",\"\\u0432\\u0435\\u0441\\u0442\\u0438\",\"\\u0440\\u0430\\u0441\\u0442\\u043e\\u0440\\u0436\\u0435\\u043d\\u0438\\u0435\",\"\\u043f\\u043e\\u0440\\u0443\\u0447\\u0435\\u043d\\u0438\\u0435\",\"\\u043f\\u0440\\u043e\\u0441\\u043f\\u0435\\u043a\\u0442\",\"\\u043f\\u0440\\u0430\\u043a\\u0442\\u0438\\u0447\\u0435\\u0441\\u043a\\u0438\",\"\\u043e\\u0433\\u0440\\u0430\\u043d\\u0438\\u0447\\u0435\\u043d\\u0438\\u0435\",\"\\u043a\\u043e\\u043c\\u043c\\u0435\\u043d\\u0442\\u0430\\u0440\\u0438\\u0439\",\"\\u043e\\u043a\\u0430\",\"\\u043f\\u0440\\u0430\\u0437\\u0434\\u043d\\u0438\\u043a\",\"\\u0434\\u043e\\u0441\\u0442\\u0443\\u043f\\u043d\\u044b\\u0439\",\"\\u0440\\u043e\\u0441\\u0441\\u0438\\u0439\\u0441\\u043a\\u0438\\u0439\",\"banki\",\"\\u043f\\u043e\\u0441\\u0435\\u0449\\u0435\\u043d\\u0438\\u0435\",\"\\u043c\\u043d\\u0435\\u043d\\u0438\\u0435\",\"\\u0431\\u0438\\u043d\\u0431\\u0430\\u043d\\u043a\",\"\\u0442\\u0430\\u043b\\u043e\\u043d\",\"\\u0432\\u0438\\u0441\\u0435\\u0442\\u044c\",\"\\u043f\\u0440\\u0438\\u0441\\u0442\\u0430\\u0432\",\"\\u043a\\u0440\\u0435\\u0434\\u0438\\u0442\\u043e\\u0432\\u0430\\u043d\\u0438\\u0435\",\"\\u043f\\u0435\\u043d\\u044f\",\"\\u0441\\u043c\\u044b\\u0441\\u043b\",\"\\u0442\\u0435\\u043b\\u0435\\u0431\\u0430\\u043d\\u043a\",\"\\u043f\\u0440\\u0430\\u0432\\u0438\\u043b\\u044c\\u043d\\u043e\",\"\\u043d\\u0430\\u0440\\u043e\\u0434\",\"\\u0432\\u044b\\u0440\\u0430\\u0436\\u0430\\u0442\\u044c\",\"SMS\",\"\\u043e\\u0431\\u044b\\u0447\\u043d\\u044b\\u0439\",\"\\u043f\\u0440\\u043e\\u043f\\u0438\\u0441\\u044b\\u0432\\u0430\\u0442\\u044c\",\"\\u0438\\u0434\\u0435\\u043d\\u0442\\u0438\\u0444\\u0438\\u043a\\u0430\\u0446\\u0438\\u044f\",\"\\u043f\\u0440\\u043e\\u0434\\u0430\\u0432\\u0430\\u0442\\u044c\",\"\\u0440\\u0435\\u0433\\u0438\\u0441\\u0442\\u0440\\u0430\\u0446\\u0438\\u044f\",\"\\u043e\\u0431\\u044f\\u0437\\u0430\\u0442\\u0435\\u043b\\u044c\\u043d\\u044b\\u0439\",\"\\u043a\\u0440\\u0435\\u0434\\u0438\\u0442\\u043a\\u0430\",\"\\u041e\\u0422\\u041f\",\"\\u0432\\u0445\\u043e\\u0434\",\"\\u0437\\u0430\\u043a\\u0440\\u044b\\u0432\\u0430\\u0442\\u044c\\u0441\\u044f\",\"\\u0430\\u043a\\u0442\\u0438\\u0432\\u0438\\u0440\\u043e\\u0432\\u0430\\u0442\\u044c\",\"\\u0441\\u043e\\u0432\\u0435\\u0442\\u043e\\u0432\\u0430\\u0442\\u044c\",\"\\u0442\\u0435\\u043b\\u043e\",\"\\u043f\\u044f\\u0442\\u044c\",\"\\u043e\\u0431\\u0430\",\"\\u043d\\u0435\\u0441\\u0442\\u0438\",\"\\u0431\\u043b\\u0430\\u0433\\u043e\\u0434\\u0430\\u0440\\u043d\\u043e\\u0441\\u0442\\u044c\",\"\\u0437\\u0430\\u043a\\u043e\\u043d\\u043e\\u0434\\u0430\\u0442\\u0435\\u043b\\u044c\\u0441\\u0442\\u0432\\u043e\",\"\\u043e\\u0431\\u043c\\u0430\\u043d\\u044b\\u0432\\u0430\\u0442\\u044c\",\"\\u043e\\u0431\\u044f\\u0437\\u0430\\u043d\\u043d\\u044b\\u0439\",\"\\u0432\\u043e\\u0439\"],\"x1\":{\"__ndarray__\":\"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\",\"dtype\":\"float32\",\"shape\":[997]},\"x2\":{\"__ndarray__\":\"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\",\"dtype\":\"float32\",\"shape\":[997]}}},\"id\":\"5451f998-594c-4f89-8700-d720051b0998\",\"type\":\"ColumnDataSource\"},{\"attributes\":{},\"id\":\"0e069472-694d-42c9-af79-22a985c52072\",\"type\":\"BasicTickFormatter\"},{\"attributes\":{\"below\":[{\"id\":\"dbfcd934-99d0-47a9-bc42-9c3c0dd416be\",\"type\":\"LinearAxis\"}],\"left\":[{\"id\":\"3f2fb570-1cca-4085-b237-2751e8cfd1fd\",\"type\":\"LinearAxis\"}],\"renderers\":[{\"id\":\"dbfcd934-99d0-47a9-bc42-9c3c0dd416be\",\"type\":\"LinearAxis\"},{\"id\":\"2f015835-8d36-43d3-8723-15f051ff7bd6\",\"type\":\"Grid\"},{\"id\":\"3f2fb570-1cca-4085-b237-2751e8cfd1fd\",\"type\":\"LinearAxis\"},{\"id\":\"2366b59c-74ae-4700-bcaf-890d6017dcdb\",\"type\":\"Grid\"},{\"id\":\"5e2b2af3-908c-4590-a566-c7620219eaf5\",\"type\":\"GlyphRenderer\"},{\"id\":\"1a99dda2-861f-4b54-ab07-e900f0777f6c\",\"type\":\"LabelSet\"}],\"title\":{\"id\":\"2dabada7-80de-43aa-a1bd-90f5f1004454\",\"type\":\"Title\"},\"toolbar\":{\"id\":\"caaed644-4a8e-4157-b230-7de14eb36887\",\"type\":\"Toolbar\"},\"toolbar_location\":\"above\",\"x_range\":{\"id\":\"fe857ae8-c56f-4950-a8fd-018efc758c94\",\"type\":\"DataRange1d\"},\"x_scale\":{\"id\":\"5f09284d-0167-4468-8be5-e4b48cfa9a93\",\"type\":\"LinearScale\"},\"y_range\":{\"id\":\"59d09128-546d-4a1d-8513-6753f627ef77\",\"type\":\"DataRange1d\"},\"y_scale\":{\"id\":\"c8124886-17fd-4a91-8b8a-5dacbd34f9a7\",\"type\":\"LinearScale\"}},\"id\":\"573c121a-022c-4dc1-814b-03042ff9da35\",\"subtype\":\"Figure\",\"type\":\"Plot\"},{\"attributes\":{\"fill_color\":{\"value\":\"#1f77b4\"},\"line_color\":{\"value\":\"#1f77b4\"},\"size\":{\"units\":\"screen\",\"value\":8},\"x\":{\"field\":\"x1\"},\"y\":{\"field\":\"x2\"}},\"id\":\"dbe4a7cb-3661-48fa-a679-306871c5b80a\",\"type\":\"Circle\"},{\"attributes\":{},\"id\":\"e3966249-f90d-41ac-8d74-5c12312a9dcb\",\"type\":\"BasicTickFormatter\"},{\"attributes\":{},\"id\":\"5f09284d-0167-4468-8be5-e4b48cfa9a93\",\"type\":\"LinearScale\"},{\"attributes\":{},\"id\":\"8f0ff50a-198b-4669-ac15-344f3c903790\",\"type\":\"WheelZoomTool\"},{\"attributes\":{\"callback\":null},\"id\":\"fe857ae8-c56f-4950-a8fd-018efc758c94\",\"type\":\"DataRange1d\"},{\"attributes\":{},\"id\":\"2b57919c-0427-4a91-81b0-c2299da92614\",\"type\":\"ResetTool\"},{\"attributes\":{\"active_drag\":\"auto\",\"active_inspect\":\"auto\",\"active_scroll\":\"auto\",\"active_tap\":\"auto\",\"tools\":[{\"id\":\"da887e44-31d6-481a-aac1-5bf58261b99e\",\"type\":\"PanTool\"},{\"id\":\"8f0ff50a-198b-4669-ac15-344f3c903790\",\"type\":\"WheelZoomTool\"},{\"id\":\"2b57919c-0427-4a91-81b0-c2299da92614\",\"type\":\"ResetTool\"},{\"id\":\"38804da6-e28a-4ec2-b8de-395dcd6a0637\",\"type\":\"SaveTool\"}]},\"id\":\"caaed644-4a8e-4157-b230-7de14eb36887\",\"type\":\"Toolbar\"},{\"attributes\":{\"fill_alpha\":{\"value\":0.1},\"fill_color\":{\"value\":\"#1f77b4\"},\"line_alpha\":{\"value\":0.1},\"line_color\":{\"value\":\"#1f77b4\"},\"size\":{\"units\":\"screen\",\"value\":8},\"x\":{\"field\":\"x1\"},\"y\":{\"field\":\"x2\"}},\"id\":\"3a4c6275-961e-4951-bbe6-ef18ffbb4889\",\"type\":\"Circle\"},{\"attributes\":{},\"id\":\"38804da6-e28a-4ec2-b8de-395dcd6a0637\",\"type\":\"SaveTool\"},{\"attributes\":{\"callback\":null},\"id\":\"59d09128-546d-4a1d-8513-6753f627ef77\",\"type\":\"DataRange1d\"},{\"attributes\":{},\"id\":\"c8124886-17fd-4a91-8b8a-5dacbd34f9a7\",\"type\":\"LinearScale\"},{\"attributes\":{\"formatter\":{\"id\":\"e3966249-f90d-41ac-8d74-5c12312a9dcb\",\"type\":\"BasicTickFormatter\"},\"plot\":{\"id\":\"573c121a-022c-4dc1-814b-03042ff9da35\",\"subtype\":\"Figure\",\"type\":\"Plot\"},\"ticker\":{\"id\":\"9e0d9eb9-e4f6-40bb-a87f-135578b9945c\",\"type\":\"BasicTicker\"}},\"id\":\"3f2fb570-1cca-4085-b237-2751e8cfd1fd\",\"type\":\"LinearAxis\"},{\"attributes\":{\"plot\":{\"id\":\"573c121a-022c-4dc1-814b-03042ff9da35\",\"subtype\":\"Figure\",\"type\":\"Plot\"},\"source\":{\"id\":\"5451f998-594c-4f89-8700-d720051b0998\",\"type\":\"ColumnDataSource\"},\"text\":{\"field\":\"names\"},\"text_align\":\"center\",\"text_color\":{\"value\":\"#555555\"},\"text_font_size\":{\"value\":\"8pt\"},\"x\":{\"field\":\"x1\"},\"y\":{\"field\":\"x2\"},\"y_offset\":{\"value\":6}},\"id\":\"1a99dda2-861f-4b54-ab07-e900f0777f6c\",\"type\":\"LabelSet\"},{\"attributes\":{\"formatter\":{\"id\":\"0e069472-694d-42c9-af79-22a985c52072\",\"type\":\"BasicTickFormatter\"},\"plot\":{\"id\":\"573c121a-022c-4dc1-814b-03042ff9da35\",\"subtype\":\"Figure\",\"type\":\"Plot\"},\"ticker\":{\"id\":\"136a5860-916f-4068-bf1c-26b66489c053\",\"type\":\"BasicTicker\"}},\"id\":\"dbfcd934-99d0-47a9-bc42-9c3c0dd416be\",\"type\":\"LinearAxis\"},{\"attributes\":{},\"id\":\"136a5860-916f-4068-bf1c-26b66489c053\",\"type\":\"BasicTicker\"},{\"attributes\":{\"plot\":{\"id\":\"573c121a-022c-4dc1-814b-03042ff9da35\",\"subtype\":\"Figure\",\"type\":\"Plot\"},\"ticker\":{\"id\":\"136a5860-916f-4068-bf1c-26b66489c053\",\"type\":\"BasicTicker\"}},\"id\":\"2f015835-8d36-43d3-8723-15f051ff7bd6\",\"type\":\"Grid\"},{\"attributes\":{\"plot\":null,\"text\":\"word2vec T-SNE for most common words\"},\"id\":\"2dabada7-80de-43aa-a1bd-90f5f1004454\",\"type\":\"Title\"}],\"root_ids\":[\"573c121a-022c-4dc1-814b-03042ff9da35\"]},\"title\":\"Bokeh Application\",\"version\":\"0.12.13\"}};\n",
       "  var render_items = [{\"docid\":\"6be511f4-ef90-4f4d-896f-eafcf55afd0b\",\"elementid\":\"836a604a-8208-423c-92ce-270547f1d0bc\",\"modelid\":\"573c121a-022c-4dc1-814b-03042ff9da35\"}];\n",
       "  root.Bokeh.embed.embed_items_notebook(docs_json, render_items);\n",
       "\n",
       "  }\n",
       "  if (root.Bokeh !== undefined) {\n",
       "    embed_document(root);\n",
       "  } else {\n",
       "    var attempts = 0;\n",
       "    var timer = setInterval(function(root) {\n",
       "      if (root.Bokeh !== undefined) {\n",
       "        embed_document(root);\n",
       "        clearInterval(timer);\n",
       "      }\n",
       "      attempts++;\n",
       "      if (attempts > 100) {\n",
       "        console.log(\"Bokeh: ERROR: Unable to run BokehJS code because BokehJS library is missing\")\n",
       "        clearInterval(timer);\n",
       "      }\n",
       "    }, 10, root)\n",
       "  }\n",
       "})(window);"
      ],
      "application/vnd.bokehjs_exec.v0+json": ""
     },
     "metadata": {
      "application/vnd.bokehjs_exec.v0+json": {
       "id": "573c121a-022c-4dc1-814b-03042ff9da35"
      }
     },
     "output_type": "display_data"
    }
   ],
   "source": [
    "from bokeh.models import ColumnDataSource, LabelSet\n",
    "from bokeh.plotting import figure, show, output_file\n",
    "from bokeh.io import output_notebook\n",
    "output_notebook()\n",
    "\n",
    "p = figure(tools=\"pan,wheel_zoom,reset,save\",\n",
    "           toolbar_location=\"above\",\n",
    "           title=\"word2vec T-SNE for most common words\")\n",
    "\n",
    "source = ColumnDataSource(data=dict(x1=top_words_tsne[:,0],\n",
    "                                    x2=top_words_tsne[:,1],\n",
    "                                    names=top_words))\n",
    "\n",
    "p.scatter(x=\"x1\", y=\"x2\", size=8, source=source)\n",
    "\n",
    "labels = LabelSet(x=\"x1\", y=\"x2\", text=\"names\", y_offset=6,\n",
    "                  text_font_size=\"8pt\", text_color=\"#555555\",\n",
    "                  source=source, text_align='center')\n",
    "p.add_layout(labels)\n",
    "\n",
    "show(p)"
   ]
  },
  {
   "cell_type": "code",
   "execution_count": 107,
   "metadata": {},
   "outputs": [],
   "source": [
    "from sklearn import datasets\n",
    "from sklearn.semi_supervised import label_propagation\n",
    "\n",
    "from sklearn.metrics import confusion_matrix, classification_report\n",
    "\n",
    "digits = datasets.load_digits()\n",
    "rng = np.random.RandomState(0)\n",
    "indices = np.arange(len(digits.data))\n",
    "rng.shuffle(indices)\n",
    "\n",
    "X = digits.data[indices[:330]]\n",
    "y = digits.target[indices[:330]]"
   ]
  },
  {
   "cell_type": "code",
   "execution_count": 118,
   "metadata": {},
   "outputs": [
    {
     "data": {
      "text/plain": [
       "numpy.ndarray"
      ]
     },
     "execution_count": 118,
     "metadata": {},
     "output_type": "execute_result"
    }
   ],
   "source": [
    "y=numpy.array([numpy.array(xi) for xi in x])"
   ]
  },
  {
   "cell_type": "markdown",
   "metadata": {
    "colab_type": "text",
    "id": "IEMry1nvxLTn"
   },
   "source": [
    "## Часть 2. Распространение метки [50 баллов]\n",
    "\n",
    "Определите 5-8 позитивных слов (например, “быстрый”, “удобный”) и 5-8  негативных слов (например,“очередь”, “медленно”). Эти слова будут основной будущего оценочного словаря. Пусть позитивному классу соответствует метка 1, негативному – -1. Пометьте выбранные слова в лексическом графе соответствующими метками. Запустите любой известный вам метод распространения метки (Label Propogation) в лексическом графе. На выходе метода распространения ошибки должны быть новые слова, помеченные метками 1 и -1 – это и есть искомые оценочные слова.\n",
    "\n",
    "Алгоритмы распространения метки устроены примерно так: пусть мы находимся в выршине, помеченном +1. С какой-то вероятностью мы переносим эту метку на соседние узлы. С меньшей вероятностью переносим ее на вершины на расстоянии два. В конце распространения метки, часть вершин оказывается помечена меткой +1, часть – -1, большая часть остается без метки.\n",
    "\n",
    "Рекомендуемые алгоритмы распространения метки:\n",
    "1. ```graphlab.label_propagation``` (```graphlab``` доступен бесплатно по образовательной лицензии)\n",
    "2. ```sklearn.semi_supervised.LabelPropagation``` \n",
    "3. ```sklearn.semi_supervised.LabelSpreading```"
   ]
  },
  {
   "cell_type": "code",
   "execution_count": 100,
   "metadata": {},
   "outputs": [],
   "source": [
    "from sklearn.semi_supervised import label_propagation\n",
    "from sklearn.metrics import confusion_matrix, classification_report"
   ]
  },
  {
   "cell_type": "code",
   "execution_count": 101,
   "metadata": {},
   "outputs": [],
   "source": [
    "X_train = ['положительный','благодарность','одобрять','можно','вклад','заблокировать','угрожать','блокировка','нарушение','неприятный']\n",
    "y_train = [1,1,1,1,1,-1,-1,-1,-1,-1]"
   ]
  },
  {
   "cell_type": "code",
   "execution_count": 126,
   "metadata": {},
   "outputs": [
    {
     "name": "stderr",
     "output_type": "stream",
     "text": [
      "C:\\Users\\Python\\Anaconda3\\lib\\site-packages\\ipykernel_launcher.py:1: DeprecationWarning: Call to deprecated `__getitem__` (Method will be removed in 4.0.0, use self.wv.__getitem__() instead).\n",
      "  \"\"\"Entry point for launching an IPython kernel.\n"
     ]
    }
   ],
   "source": [
    "x = model[X_train]\n",
    "y = np.array (y_train)"
   ]
  },
  {
   "cell_type": "code",
   "execution_count": 131,
   "metadata": {},
   "outputs": [
    {
     "name": "stderr",
     "output_type": "stream",
     "text": [
      "C:\\Users\\Python\\Anaconda3\\lib\\site-packages\\ipykernel_launcher.py:1: DeprecationWarning: Call to deprecated `__getitem__` (Method will be removed in 4.0.0, use self.wv.__getitem__() instead).\n",
      "  \"\"\"Entry point for launching an IPython kernel.\n"
     ]
    },
    {
     "data": {
      "text/plain": [
       "array([[ 1.78555882e+00,  7.93943644e-01,  1.50274467e+00, ...,\n",
       "         3.05874228e+00,  3.50992769e-01, -2.41165924e+00],\n",
       "       [ 1.29047501e+00, -3.00577307e+00, -7.08908617e-01, ...,\n",
       "        -1.28014648e+00,  7.82221079e-01,  3.81452531e-01],\n",
       "       [ 2.19577670e-01,  3.53595495e-01, -2.92775226e+00, ...,\n",
       "        -4.06138450e-01, -3.13589001e+00, -1.60593182e-01],\n",
       "       ...,\n",
       "       [ 6.38936600e-03, -3.63482162e-02,  1.14630364e-01, ...,\n",
       "         2.54743360e-02, -2.60709729e-02, -1.01988092e-01],\n",
       "       [ 1.25766676e-02, -3.64708006e-02,  1.44111037e-01, ...,\n",
       "         5.78806698e-02, -1.68523062e-02, -9.47405770e-02],\n",
       "       [ 2.52768155e-02, -3.03440746e-02,  8.76581669e-02, ...,\n",
       "        -3.56098812e-04, -3.07984669e-02, -1.80557191e-01]], dtype=float32)"
      ]
     },
     "execution_count": 131,
     "metadata": {},
     "output_type": "execute_result"
    }
   ],
   "source": [
    "model[model.wv.vocab]"
   ]
  },
  {
   "cell_type": "code",
   "execution_count": null,
   "metadata": {},
   "outputs": [],
   "source": [
    "word_box = []\n",
    "for sent in sents_lemm3:\n",
    "    for word in sent:\n",
    "        word_box.append(word)\n",
    "        "
   ]
  },
  {
   "cell_type": "code",
   "execution_count": 102,
   "metadata": {},
   "outputs": [],
   "source": [
    "lp_model = label_propagation.LabelSpreading(gamma=0.25, max_iter=5)"
   ]
  },
  {
   "cell_type": "code",
   "execution_count": 127,
   "metadata": {},
   "outputs": [
    {
     "name": "stderr",
     "output_type": "stream",
     "text": [
      "C:\\Users\\Python\\Anaconda3\\lib\\site-packages\\sklearn\\semi_supervised\\label_propagation.py:288: ConvergenceWarning: max_iter=5 was reached without convergence.\n",
      "  category=ConvergenceWarning\n"
     ]
    },
    {
     "data": {
      "text/plain": [
       "LabelSpreading(alpha=0.2, gamma=0.25, kernel='rbf', max_iter=5, n_jobs=1,\n",
       "        n_neighbors=7, tol=0.001)"
      ]
     },
     "execution_count": 127,
     "metadata": {},
     "output_type": "execute_result"
    }
   ],
   "source": [
    "lp_model.fit(x, y)"
   ]
  },
  {
   "cell_type": "code",
   "execution_count": 132,
   "metadata": {},
   "outputs": [
    {
     "name": "stderr",
     "output_type": "stream",
     "text": [
      "C:\\Users\\Python\\Anaconda3\\lib\\site-packages\\ipykernel_launcher.py:1: DeprecationWarning: Call to deprecated `__getitem__` (Method will be removed in 4.0.0, use self.wv.__getitem__() instead).\n",
      "  \"\"\"Entry point for launching an IPython kernel.\n",
      "C:\\Users\\Python\\Anaconda3\\lib\\site-packages\\sklearn\\semi_supervised\\label_propagation.py:201: RuntimeWarning: invalid value encountered in true_divide\n",
      "  probabilities /= normalizer\n"
     ]
    }
   ],
   "source": [
    "predicted_labels = lp_model.predict(model[model.wv.vocab])"
   ]
  },
  {
   "cell_type": "code",
   "execution_count": 133,
   "metadata": {},
   "outputs": [
    {
     "data": {
      "text/plain": [
       "array([1, 1, 1, ..., 1, 1, 1])"
      ]
     },
     "execution_count": 133,
     "metadata": {},
     "output_type": "execute_result"
    }
   ],
   "source": [
    "predicted_labels"
   ]
  }
 ],
 "metadata": {
  "colab": {
   "collapsed_sections": [],
   "default_view": {},
   "name": "HW2_banki_sent-vocab.ipynb",
   "provenance": [],
   "version": "0.3.2",
   "views": {}
  },
  "kernelspec": {
   "display_name": "Python 3",
   "language": "python",
   "name": "python3"
  },
  "language_info": {
   "codemirror_mode": {
    "name": "ipython",
    "version": 3
   },
   "file_extension": ".py",
   "mimetype": "text/x-python",
   "name": "python",
   "nbconvert_exporter": "python",
   "pygments_lexer": "ipython3",
   "version": "3.6.4"
  }
 },
 "nbformat": 4,
 "nbformat_minor": 1
}
