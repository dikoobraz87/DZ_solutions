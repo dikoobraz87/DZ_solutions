{
 "cells": [
  {
   "cell_type": "code",
   "execution_count": 1,
   "metadata": {},
   "outputs": [
    {
     "name": "stderr",
     "output_type": "stream",
     "text": [
      "c:\\users\\python\\anaconda3\\lib\\site-packages\\statsmodels\\compat\\pandas.py:56: FutureWarning: The pandas.core.datetools module is deprecated and will be removed in a future version. Please use the pandas.tseries module instead.\n",
      "  from pandas.core import datetools\n"
     ]
    }
   ],
   "source": [
    "import pandas as pd\n",
    "import numpy as np\n",
    "import matplotlib.pyplot as plt\n",
    "import datetime\n",
    "import statsmodels.api as sm\n",
    "import statsmodels.formula.api as smf\n",
    "from sklearn.linear_model import Ridge, Lasso\n",
    "from sklearn.preprocessing import StandardScaler\n",
    "from sklearn.model_selection import KFold, cross_val_score,train_test_split, GridSearchCV\n",
    "from sklearn.linear_model import LogisticRegression, Lasso\n",
    "from sklearn.ensemble import RandomForestClassifier\n",
    "from sklearn.metrics import roc_auc_score\n",
    "import xgboost\n",
    "import seaborn as sns\n",
    "from sklearn.preprocessing import LabelEncoder\n",
    "\n",
    "\n",
    "\n",
    "\n",
    "\n",
    "%matplotlib inline"
   ]
  },
  {
   "cell_type": "markdown",
   "metadata": {},
   "source": [
    "### Груим и смотрим данные"
   ]
  },
  {
   "cell_type": "code",
   "execution_count": 2,
   "metadata": {},
   "outputs": [],
   "source": [
    "train = pd.read_csv('rosbank_train.csv')\n",
    "test = pd.read_csv('rosbank_test.csv')\n",
    "mcc = pd.read_excel('mcc_codes.xlsx', names = ['MCC','MCC_Name','MCC_Group'])\n"
   ]
  },
  {
   "cell_type": "code",
   "execution_count": 28,
   "metadata": {},
   "outputs": [
    {
     "data": {
      "text/plain": [
       "array(['POS', 'DEPOSIT', 'C2C_OUT', 'WD_ATM_ROS', 'BACK_TRX',\n",
       "       'WD_ATM_PARTNER', 'WD_ATM_OTHER', 'C2C_IN', 'CAT', 'CASH_ADV'],\n",
       "      dtype=object)"
      ]
     },
     "execution_count": 28,
     "metadata": {},
     "output_type": "execute_result"
    }
   ],
   "source": [
    "#Уникальные категории транзакций\n",
    "train.trx_category.unique()"
   ]
  },
  {
   "cell_type": "code",
   "execution_count": 4,
   "metadata": {
    "scrolled": true
   },
   "outputs": [
    {
     "data": {
      "text/html": [
       "<div>\n",
       "<style scoped>\n",
       "    .dataframe tbody tr th:only-of-type {\n",
       "        vertical-align: middle;\n",
       "    }\n",
       "\n",
       "    .dataframe tbody tr th {\n",
       "        vertical-align: top;\n",
       "    }\n",
       "\n",
       "    .dataframe thead th {\n",
       "        text-align: right;\n",
       "    }\n",
       "</style>\n",
       "<table border=\"1\" class=\"dataframe\">\n",
       "  <thead>\n",
       "    <tr style=\"text-align: right;\">\n",
       "      <th></th>\n",
       "      <th>target_flag</th>\n",
       "    </tr>\n",
       "  </thead>\n",
       "  <tbody>\n",
       "    <tr>\n",
       "      <th>0</th>\n",
       "      <td>0</td>\n",
       "    </tr>\n",
       "    <tr>\n",
       "      <th>1</th>\n",
       "      <td>0</td>\n",
       "    </tr>\n",
       "    <tr>\n",
       "      <th>2</th>\n",
       "      <td>1</td>\n",
       "    </tr>\n",
       "    <tr>\n",
       "      <th>3</th>\n",
       "      <td>0</td>\n",
       "    </tr>\n",
       "    <tr>\n",
       "      <th>4</th>\n",
       "      <td>0</td>\n",
       "    </tr>\n",
       "  </tbody>\n",
       "</table>\n",
       "</div>"
      ],
      "text/plain": [
       "   target_flag\n",
       "0            0\n",
       "1            0\n",
       "2            1\n",
       "3            0\n",
       "4            0"
      ]
     },
     "execution_count": 4,
     "metadata": {},
     "output_type": "execute_result"
    }
   ],
   "source": [
    "## Выделяем зависимую переменную\n",
    "y_train = train[['cl_id','target_flag']].copy()\n",
    "train.drop (columns= ['target_flag','target_sum'],axis=1, inplace= True)\n",
    "y_train= y_train.groupby(by= 'cl_id').min().reset_index()\n",
    "y_train.drop(columns=['cl_id'], inplace= True)\n",
    "y_train.head()"
   ]
  },
  {
   "cell_type": "code",
   "execution_count": 5,
   "metadata": {},
   "outputs": [],
   "source": [
    "# Для предобработки объеденяем трейн и тест\n",
    "train['IsTrain'] = 1\n",
    "test['IsTrain'] = 0\n",
    "train_test = pd.concat( [train, test], axis = 0 )"
   ]
  },
  {
   "cell_type": "code",
   "execution_count": 6,
   "metadata": {},
   "outputs": [],
   "source": [
    "# One hot encoding для категорий транзаций + знак направления операции\n",
    "def trx_categories(df_in):\n",
    "    categories =   {'POS': 0, \\\n",
    "                    'DEPOSIT': 1, \\\n",
    "                    'WD_ATM_ROS': 2, \\\n",
    "                    'WD_ATM_PARTNER': 3, \\\n",
    "                    'C2C_IN': 4, \\\n",
    "                    'WD_ATM_OTHER': 5, \\\n",
    "                    'C2C_OUT': 6, \\\n",
    "                    'BACK_TRX': 7, \\\n",
    "                    'CAT': 8, \\\n",
    "                    'CASH_ADV': 9}\n",
    "    trx_sign = {0 : -1, \n",
    "                1 : 1,\n",
    "                2 : -1,\n",
    "                3 : -1,\n",
    "                4 : 1,\n",
    "                5 : -1,\n",
    "                6 : -1,\n",
    "                7 : 1,\n",
    "                8 : -1,\n",
    "                9 : -1}\n",
    "\n",
    "    df_in['trx_category'].replace(categories, inplace = True)\n",
    "    df_in['amount'] = df_in[['trx_category', 'amount']].apply(lambda d: d[1] * trx_sign[d[0]], axis = 1)\n",
    "    "
   ]
  },
  {
   "cell_type": "code",
   "execution_count": 7,
   "metadata": {},
   "outputs": [],
   "source": [
    "# Пременяем функцию\n",
    "trx_categories(train_test)"
   ]
  },
  {
   "cell_type": "code",
   "execution_count": 8,
   "metadata": {},
   "outputs": [
    {
     "data": {
      "text/html": [
       "<div>\n",
       "<style scoped>\n",
       "    .dataframe tbody tr th:only-of-type {\n",
       "        vertical-align: middle;\n",
       "    }\n",
       "\n",
       "    .dataframe tbody tr th {\n",
       "        vertical-align: top;\n",
       "    }\n",
       "\n",
       "    .dataframe thead th {\n",
       "        text-align: right;\n",
       "    }\n",
       "</style>\n",
       "<table border=\"1\" class=\"dataframe\">\n",
       "  <thead>\n",
       "    <tr style=\"text-align: right;\">\n",
       "      <th></th>\n",
       "      <th>PERIOD</th>\n",
       "      <th>cl_id</th>\n",
       "      <th>MCC</th>\n",
       "      <th>channel_type</th>\n",
       "      <th>currency</th>\n",
       "      <th>TRDATETIME</th>\n",
       "      <th>amount</th>\n",
       "      <th>trx_category</th>\n",
       "      <th>IsTrain</th>\n",
       "    </tr>\n",
       "  </thead>\n",
       "  <tbody>\n",
       "    <tr>\n",
       "      <th>0</th>\n",
       "      <td>01/10/2017</td>\n",
       "      <td>0</td>\n",
       "      <td>5200</td>\n",
       "      <td>NaN</td>\n",
       "      <td>810</td>\n",
       "      <td>21OCT17:00:00:00</td>\n",
       "      <td>-5023.0</td>\n",
       "      <td>0</td>\n",
       "      <td>1</td>\n",
       "    </tr>\n",
       "    <tr>\n",
       "      <th>1</th>\n",
       "      <td>01/10/2017</td>\n",
       "      <td>0</td>\n",
       "      <td>6011</td>\n",
       "      <td>NaN</td>\n",
       "      <td>810</td>\n",
       "      <td>12OCT17:12:24:07</td>\n",
       "      <td>20000.0</td>\n",
       "      <td>1</td>\n",
       "      <td>1</td>\n",
       "    </tr>\n",
       "    <tr>\n",
       "      <th>2</th>\n",
       "      <td>01/12/2017</td>\n",
       "      <td>0</td>\n",
       "      <td>5921</td>\n",
       "      <td>NaN</td>\n",
       "      <td>810</td>\n",
       "      <td>05DEC17:00:00:00</td>\n",
       "      <td>-767.0</td>\n",
       "      <td>0</td>\n",
       "      <td>1</td>\n",
       "    </tr>\n",
       "    <tr>\n",
       "      <th>3</th>\n",
       "      <td>01/10/2017</td>\n",
       "      <td>0</td>\n",
       "      <td>5411</td>\n",
       "      <td>NaN</td>\n",
       "      <td>810</td>\n",
       "      <td>21OCT17:00:00:00</td>\n",
       "      <td>-2031.0</td>\n",
       "      <td>0</td>\n",
       "      <td>1</td>\n",
       "    </tr>\n",
       "    <tr>\n",
       "      <th>4</th>\n",
       "      <td>01/10/2017</td>\n",
       "      <td>0</td>\n",
       "      <td>6012</td>\n",
       "      <td>NaN</td>\n",
       "      <td>810</td>\n",
       "      <td>24OCT17:13:14:24</td>\n",
       "      <td>-36562.0</td>\n",
       "      <td>6</td>\n",
       "      <td>1</td>\n",
       "    </tr>\n",
       "  </tbody>\n",
       "</table>\n",
       "</div>"
      ],
      "text/plain": [
       "       PERIOD  cl_id   MCC channel_type  currency        TRDATETIME   amount  \\\n",
       "0  01/10/2017      0  5200          NaN       810  21OCT17:00:00:00  -5023.0   \n",
       "1  01/10/2017      0  6011          NaN       810  12OCT17:12:24:07  20000.0   \n",
       "2  01/12/2017      0  5921          NaN       810  05DEC17:00:00:00   -767.0   \n",
       "3  01/10/2017      0  5411          NaN       810  21OCT17:00:00:00  -2031.0   \n",
       "4  01/10/2017      0  6012          NaN       810  24OCT17:13:14:24 -36562.0   \n",
       "\n",
       "   trx_category  IsTrain  \n",
       "0             0        1  \n",
       "1             1        1  \n",
       "2             0        1  \n",
       "3             0        1  \n",
       "4             6        1  "
      ]
     },
     "execution_count": 8,
     "metadata": {},
     "output_type": "execute_result"
    }
   ],
   "source": [
    "train_test.head()"
   ]
  },
  {
   "cell_type": "code",
   "execution_count": 10,
   "metadata": {},
   "outputs": [],
   "source": [
    "# Создаем аналитику по MCC кодам\n",
    "def mcc_cat(m):\n",
    "    beauty = [5698, 5912, 7230, 7297, 7298, 7997, 8011, 8021, 8031, 8041, 8042, 8043, 8044, 8049, 8050, 8062, 8071, 8099]\n",
    "    home = [5039, 5200, 5211, 5231, 5251, 5712, 5713, 5714, 5718, 5719, 5722, 5932, 5950]\n",
    "    children = [5611, 5641, 5651, 5661, 5943, 5945, 5970, 7832, 7911, 7922, 7929, 7933, 7941, 7991, 7996, 7998, 7999]\n",
    "    cafe = [5462, 5499, 5812, 5813, 5814]\n",
    "    no_cash = [4812, 4814, 4829, 4900, 5933, 5960, 6010, 6011, 6012, 6050, 6051, 6211, 6300, 6529, 6530, 6532, 6533, 6534, 6536, 6537, 6538, 6540, 7276, 7800, 7801, 7802, 7994, 7995, 9222, 9311]\n",
    "    \n",
    "    if m in beauty:\n",
    "        return 1\n",
    "    if m in home:\n",
    "        return 2\n",
    "    if m in children:\n",
    "        return 3\n",
    "    if m in cafe:\n",
    "        return 4\n",
    "    if m in no_cash:\n",
    "        return 5\n",
    "    return 0"
   ]
  },
  {
   "cell_type": "code",
   "execution_count": 11,
   "metadata": {},
   "outputs": [],
   "source": [
    "# Функция для маркировки \"бонусных\" транзацций\n",
    "def is_bonus(d):\n",
    "    mcc_cat = d[0]\n",
    "    trx_cat = d[1]\n",
    "    if trx_cat != 0:\n",
    "        return 0\n",
    "    if mcc_cat == 5:\n",
    "        return 0\n",
    "    else:\n",
    "        return 1"
   ]
  },
  {
   "cell_type": "code",
   "execution_count": 12,
   "metadata": {},
   "outputs": [],
   "source": [
    "def mccs(df_in):\n",
    "    df_in['MCC_cat'] = df_in['MCC'].apply(mcc_cat)\n",
    "    df_in['is_bonus'] = df_in[['MCC_cat', 'trx_category']].apply(is_bonus, axis = 1).map(int)\n"
   ]
  },
  {
   "cell_type": "code",
   "execution_count": 51,
   "metadata": {},
   "outputs": [
    {
     "data": {
      "text/html": [
       "<div>\n",
       "<style scoped>\n",
       "    .dataframe tbody tr th:only-of-type {\n",
       "        vertical-align: middle;\n",
       "    }\n",
       "\n",
       "    .dataframe tbody tr th {\n",
       "        vertical-align: top;\n",
       "    }\n",
       "\n",
       "    .dataframe thead th {\n",
       "        text-align: right;\n",
       "    }\n",
       "</style>\n",
       "<table border=\"1\" class=\"dataframe\">\n",
       "  <thead>\n",
       "    <tr style=\"text-align: right;\">\n",
       "      <th></th>\n",
       "      <th>cl_id</th>\n",
       "      <th>MCC</th>\n",
       "      <th>channel_type</th>\n",
       "      <th>amount</th>\n",
       "      <th>trx_category</th>\n",
       "      <th>IsTrain</th>\n",
       "      <th>MCC_Group</th>\n",
       "      <th>DayDiff</th>\n",
       "      <th>DateGroup10</th>\n",
       "      <th>DateGroup2</th>\n",
       "      <th>CUR</th>\n",
       "      <th>count</th>\n",
       "      <th>MCC_cat</th>\n",
       "      <th>is_bonus</th>\n",
       "    </tr>\n",
       "  </thead>\n",
       "  <tbody>\n",
       "    <tr>\n",
       "      <th>0</th>\n",
       "      <td>0</td>\n",
       "      <td>5200</td>\n",
       "      <td>type6</td>\n",
       "      <td>-5023.0</td>\n",
       "      <td>0</td>\n",
       "      <td>1</td>\n",
       "      <td>Розничные магазины</td>\n",
       "      <td>53.0</td>\n",
       "      <td>2_GR10</td>\n",
       "      <td>1_GR2</td>\n",
       "      <td>RUB</td>\n",
       "      <td>1</td>\n",
       "      <td>2</td>\n",
       "      <td>1</td>\n",
       "    </tr>\n",
       "    <tr>\n",
       "      <th>1</th>\n",
       "      <td>0</td>\n",
       "      <td>6011</td>\n",
       "      <td>type6</td>\n",
       "      <td>20000.0</td>\n",
       "      <td>1</td>\n",
       "      <td>1</td>\n",
       "      <td>Поставщик услуг</td>\n",
       "      <td>53.0</td>\n",
       "      <td>1_GR10</td>\n",
       "      <td>1_GR2</td>\n",
       "      <td>RUB</td>\n",
       "      <td>1</td>\n",
       "      <td>5</td>\n",
       "      <td>0</td>\n",
       "    </tr>\n",
       "    <tr>\n",
       "      <th>2</th>\n",
       "      <td>0</td>\n",
       "      <td>5921</td>\n",
       "      <td>type6</td>\n",
       "      <td>-767.0</td>\n",
       "      <td>0</td>\n",
       "      <td>1</td>\n",
       "      <td>Различные магазины</td>\n",
       "      <td>53.0</td>\n",
       "      <td>10_GR10</td>\n",
       "      <td>2_GR2</td>\n",
       "      <td>RUB</td>\n",
       "      <td>1</td>\n",
       "      <td>0</td>\n",
       "      <td>1</td>\n",
       "    </tr>\n",
       "    <tr>\n",
       "      <th>3</th>\n",
       "      <td>0</td>\n",
       "      <td>5411</td>\n",
       "      <td>type6</td>\n",
       "      <td>-2031.0</td>\n",
       "      <td>0</td>\n",
       "      <td>1</td>\n",
       "      <td>Розничные магазины</td>\n",
       "      <td>53.0</td>\n",
       "      <td>2_GR10</td>\n",
       "      <td>1_GR2</td>\n",
       "      <td>RUB</td>\n",
       "      <td>1</td>\n",
       "      <td>0</td>\n",
       "      <td>1</td>\n",
       "    </tr>\n",
       "    <tr>\n",
       "      <th>4</th>\n",
       "      <td>0</td>\n",
       "      <td>6012</td>\n",
       "      <td>type6</td>\n",
       "      <td>-36562.0</td>\n",
       "      <td>6</td>\n",
       "      <td>1</td>\n",
       "      <td>Поставщик услуг</td>\n",
       "      <td>53.0</td>\n",
       "      <td>3_GR10</td>\n",
       "      <td>1_GR2</td>\n",
       "      <td>RUB</td>\n",
       "      <td>1</td>\n",
       "      <td>5</td>\n",
       "      <td>0</td>\n",
       "    </tr>\n",
       "  </tbody>\n",
       "</table>\n",
       "</div>"
      ],
      "text/plain": [
       "   cl_id   MCC channel_type   amount  trx_category  IsTrain  \\\n",
       "0      0  5200        type6  -5023.0             0        1   \n",
       "1      0  6011        type6  20000.0             1        1   \n",
       "2      0  5921        type6   -767.0             0        1   \n",
       "3      0  5411        type6  -2031.0             0        1   \n",
       "4      0  6012        type6 -36562.0             6        1   \n",
       "\n",
       "            MCC_Group  DayDiff DateGroup10 DateGroup2  CUR  count  MCC_cat  \\\n",
       "0  Розничные магазины     53.0      2_GR10      1_GR2  RUB      1        2   \n",
       "1     Поставщик услуг     53.0      1_GR10      1_GR2  RUB      1        5   \n",
       "2  Различные магазины     53.0     10_GR10      2_GR2  RUB      1        0   \n",
       "3  Розничные магазины     53.0      2_GR10      1_GR2  RUB      1        0   \n",
       "4     Поставщик услуг     53.0      3_GR10      1_GR2  RUB      1        5   \n",
       "\n",
       "   is_bonus  \n",
       "0         1  \n",
       "1         0  \n",
       "2         1  \n",
       "3         1  \n",
       "4         0  "
      ]
     },
     "execution_count": 51,
     "metadata": {},
     "output_type": "execute_result"
    }
   ],
   "source": [
    "#Создаем фичи\n",
    "mccs(train_test_mcc)\n",
    "\n",
    "train_test_mcc.head()"
   ]
  },
  {
   "cell_type": "code",
   "execution_count": 37,
   "metadata": {},
   "outputs": [],
   "source": [
    "train_test_mcc = train_test.merge( mcc, how = 'left', left_on = 'MCC', right_on = 'MCC' )"
   ]
  },
  {
   "cell_type": "code",
   "execution_count": 38,
   "metadata": {},
   "outputs": [],
   "source": [
    "# Парсинг времени, генерация вечей\n",
    "train_test_mcc['Year'] = train_test_mcc.TRDATETIME.str[5:7]\n",
    "train_test_mcc['Month'] = train_test_mcc.TRDATETIME.str[2:5]\n",
    "train_test_mcc['Date'] = train_test_mcc.TRDATETIME.str[0:2]\n",
    "train_test_mcc['Hour'] = train_test_mcc.TRDATETIME.str[8:10]\n",
    "# Replace month with ints\n",
    "train_test_mcc.Month = train_test_mcc.Month.replace(to_replace=['JAN', 'FEB', 'MAR', 'APR', 'MAY', 'JUN',\n",
    "                                                'JUL','AUG','SEP','OCT','NOV','DEC' ], \n",
    "                                    value=[1,2,3,4,5,6,7,8,9,10,11,12])\n",
    "# Convert to ints (add 2000 to yr)\n",
    "train_test_mcc.Year = train_test_mcc.Year.astype(int, copy= True)\n",
    "train_test_mcc.Date = train_test_mcc.Date.astype(int, copy= True)\n",
    "train_test_mcc.Hour = train_test_mcc.Hour.astype(int, copy= True)\n",
    "train_test_mcc.Year = train_test_mcc.Year + 2000\n",
    "# Add function to convert to DateTime and apply it\n",
    "train_test_mcc['DateTimeFormated'] = train_test_mcc['Year'].astype(str)+'-'+train_test_mcc['Month'].astype(str)\n",
    "train_test_mcc['DateTimeFormated']= pd.to_datetime(train_test_mcc['DateTimeFormated']+ '-'+train_test_mcc['Date'].astype(str)+ ' '+train_test_mcc['Hour'].astype(str)+ ':00:00')\n"
   ]
  },
  {
   "cell_type": "code",
   "execution_count": 39,
   "metadata": {},
   "outputs": [
    {
     "data": {
      "text/html": [
       "<div>\n",
       "<style scoped>\n",
       "    .dataframe tbody tr th:only-of-type {\n",
       "        vertical-align: middle;\n",
       "    }\n",
       "\n",
       "    .dataframe tbody tr th {\n",
       "        vertical-align: top;\n",
       "    }\n",
       "\n",
       "    .dataframe thead th {\n",
       "        text-align: right;\n",
       "    }\n",
       "</style>\n",
       "<table border=\"1\" class=\"dataframe\">\n",
       "  <thead>\n",
       "    <tr style=\"text-align: right;\">\n",
       "      <th></th>\n",
       "      <th>PERIOD</th>\n",
       "      <th>cl_id</th>\n",
       "      <th>MCC</th>\n",
       "      <th>channel_type</th>\n",
       "      <th>currency</th>\n",
       "      <th>TRDATETIME</th>\n",
       "      <th>amount</th>\n",
       "      <th>trx_category</th>\n",
       "      <th>IsTrain</th>\n",
       "      <th>MCC_Name</th>\n",
       "      <th>MCC_Group</th>\n",
       "      <th>Year</th>\n",
       "      <th>Month</th>\n",
       "      <th>Date</th>\n",
       "      <th>Hour</th>\n",
       "      <th>DateTimeFormated</th>\n",
       "    </tr>\n",
       "  </thead>\n",
       "  <tbody>\n",
       "    <tr>\n",
       "      <th>0</th>\n",
       "      <td>01/10/2017</td>\n",
       "      <td>0</td>\n",
       "      <td>5200</td>\n",
       "      <td>NaN</td>\n",
       "      <td>810</td>\n",
       "      <td>21OCT17:00:00:00</td>\n",
       "      <td>-5023.0</td>\n",
       "      <td>0</td>\n",
       "      <td>1</td>\n",
       "      <td>Товары для дома</td>\n",
       "      <td>Розничные магазины</td>\n",
       "      <td>2017</td>\n",
       "      <td>10</td>\n",
       "      <td>21</td>\n",
       "      <td>0</td>\n",
       "      <td>2017-10-21 00:00:00</td>\n",
       "    </tr>\n",
       "    <tr>\n",
       "      <th>1</th>\n",
       "      <td>01/10/2017</td>\n",
       "      <td>0</td>\n",
       "      <td>6011</td>\n",
       "      <td>NaN</td>\n",
       "      <td>810</td>\n",
       "      <td>12OCT17:12:24:07</td>\n",
       "      <td>20000.0</td>\n",
       "      <td>1</td>\n",
       "      <td>1</td>\n",
       "      <td>Финансовые учреждения – снятие наличности авто...</td>\n",
       "      <td>Поставщик услуг</td>\n",
       "      <td>2017</td>\n",
       "      <td>10</td>\n",
       "      <td>12</td>\n",
       "      <td>12</td>\n",
       "      <td>2017-10-12 12:00:00</td>\n",
       "    </tr>\n",
       "    <tr>\n",
       "      <th>2</th>\n",
       "      <td>01/12/2017</td>\n",
       "      <td>0</td>\n",
       "      <td>5921</td>\n",
       "      <td>NaN</td>\n",
       "      <td>810</td>\n",
       "      <td>05DEC17:00:00:00</td>\n",
       "      <td>-767.0</td>\n",
       "      <td>0</td>\n",
       "      <td>1</td>\n",
       "      <td>Магазины с продажей спиртных напитков навынос</td>\n",
       "      <td>Различные магазины</td>\n",
       "      <td>2017</td>\n",
       "      <td>12</td>\n",
       "      <td>5</td>\n",
       "      <td>0</td>\n",
       "      <td>2017-12-05 00:00:00</td>\n",
       "    </tr>\n",
       "    <tr>\n",
       "      <th>3</th>\n",
       "      <td>01/10/2017</td>\n",
       "      <td>0</td>\n",
       "      <td>5411</td>\n",
       "      <td>NaN</td>\n",
       "      <td>810</td>\n",
       "      <td>21OCT17:00:00:00</td>\n",
       "      <td>-2031.0</td>\n",
       "      <td>0</td>\n",
       "      <td>1</td>\n",
       "      <td>Бакалейные магазины, супермаркеты</td>\n",
       "      <td>Розничные магазины</td>\n",
       "      <td>2017</td>\n",
       "      <td>10</td>\n",
       "      <td>21</td>\n",
       "      <td>0</td>\n",
       "      <td>2017-10-21 00:00:00</td>\n",
       "    </tr>\n",
       "    <tr>\n",
       "      <th>4</th>\n",
       "      <td>01/10/2017</td>\n",
       "      <td>0</td>\n",
       "      <td>6012</td>\n",
       "      <td>NaN</td>\n",
       "      <td>810</td>\n",
       "      <td>24OCT17:13:14:24</td>\n",
       "      <td>-36562.0</td>\n",
       "      <td>6</td>\n",
       "      <td>1</td>\n",
       "      <td>Финансовые учреждения – торговля и услуги</td>\n",
       "      <td>Поставщик услуг</td>\n",
       "      <td>2017</td>\n",
       "      <td>10</td>\n",
       "      <td>24</td>\n",
       "      <td>13</td>\n",
       "      <td>2017-10-24 13:00:00</td>\n",
       "    </tr>\n",
       "  </tbody>\n",
       "</table>\n",
       "</div>"
      ],
      "text/plain": [
       "       PERIOD  cl_id   MCC channel_type  currency        TRDATETIME   amount  \\\n",
       "0  01/10/2017      0  5200          NaN       810  21OCT17:00:00:00  -5023.0   \n",
       "1  01/10/2017      0  6011          NaN       810  12OCT17:12:24:07  20000.0   \n",
       "2  01/12/2017      0  5921          NaN       810  05DEC17:00:00:00   -767.0   \n",
       "3  01/10/2017      0  5411          NaN       810  21OCT17:00:00:00  -2031.0   \n",
       "4  01/10/2017      0  6012          NaN       810  24OCT17:13:14:24 -36562.0   \n",
       "\n",
       "   trx_category  IsTrain                                           MCC_Name  \\\n",
       "0             0        1                                    Товары для дома   \n",
       "1             1        1  Финансовые учреждения – снятие наличности авто...   \n",
       "2             0        1      Магазины с продажей спиртных напитков навынос   \n",
       "3             0        1                  Бакалейные магазины, супермаркеты   \n",
       "4             6        1          Финансовые учреждения – торговля и услуги   \n",
       "\n",
       "            MCC_Group  Year  Month  Date  Hour    DateTimeFormated  \n",
       "0  Розничные магазины  2017     10    21     0 2017-10-21 00:00:00  \n",
       "1     Поставщик услуг  2017     10    12    12 2017-10-12 12:00:00  \n",
       "2  Различные магазины  2017     12     5     0 2017-12-05 00:00:00  \n",
       "3  Розничные магазины  2017     10    21     0 2017-10-21 00:00:00  \n",
       "4     Поставщик услуг  2017     10    24    13 2017-10-24 13:00:00  "
      ]
     },
     "execution_count": 39,
     "metadata": {},
     "output_type": "execute_result"
    }
   ],
   "source": [
    "train_test_mcc.head()"
   ]
  },
  {
   "cell_type": "code",
   "execution_count": 40,
   "metadata": {},
   "outputs": [
    {
     "data": {
      "text/plain": [
       "<matplotlib.axes._subplots.AxesSubplot at 0x1b0ad1db4a8>"
      ]
     },
     "execution_count": 40,
     "metadata": {},
     "output_type": "execute_result"
    },
    {
     "data": {
      "image/png": "[encoded data removed]",
      "text/plain": [
       "<matplotlib.figure.Figure at 0x1b0ad1db358>"
      ]
     },
     "metadata": {},
     "output_type": "display_data"
    }
   ],
   "source": [
    "# Фичи первой и последней транзакции клиента\n",
    "rnm_cols = dict(max='MaxDate', min='MinDate')\n",
    "\n",
    "x = train_test_mcc[['DateTimeFormated','cl_id']].groupby(by = 'cl_id').agg(rnm_cols.keys()).rename(columns=rnm_cols).reset_index()\n",
    "x.columns = x.columns.droplevel(1)\n",
    "x.columns = ['cl_id', 'MaxDate','MinDate']\n",
    "\n",
    "##x.info()\n",
    "x['DayDiff'] = (x.MaxDate- x.MinDate).astype('timedelta64[D]')\n",
    "x.DayDiff[x.DayDiff  < 130].hist( figsize=(20,15))\n",
    "x.DayDiff[x.DayDiff  >= 130].hist()"
   ]
  },
  {
   "cell_type": "code",
   "execution_count": 18,
   "metadata": {
    "collapsed": true
   },
   "outputs": [
    {
     "name": "stdout",
     "output_type": "stream",
     "text": [
      "<class 'pandas.core.frame.DataFrame'>\n",
      "RangeIndex: 10217 entries, 0 to 10216\n",
      "Data columns (total 4 columns):\n",
      "cl_id      10217 non-null int64\n",
      "MaxDate    10217 non-null datetime64[ns]\n",
      "MinDate    10217 non-null datetime64[ns]\n",
      "DayDiff    10217 non-null float64\n",
      "dtypes: datetime64[ns](2), float64(1), int64(1)\n",
      "memory usage: 319.4 KB\n"
     ]
    }
   ],
   "source": [
    "\n",
    "x.info()"
   ]
  },
  {
   "cell_type": "code",
   "execution_count": 41,
   "metadata": {
    "scrolled": true
   },
   "outputs": [
    {
     "name": "stdout",
     "output_type": "stream",
     "text": [
      "<class 'pandas.core.frame.DataFrame'>\n",
      "RangeIndex: 10217 entries, 0 to 10216\n",
      "Data columns (total 6 columns):\n",
      "cl_id       10217 non-null int64\n",
      "MaxDate     10217 non-null datetime64[ns]\n",
      "MinDate     10217 non-null datetime64[ns]\n",
      "DayDiff     10217 non-null float64\n",
      "delta_10    10217 non-null int32\n",
      "delta_2     10217 non-null int32\n",
      "dtypes: datetime64[ns](2), float64(1), int32(2), int64(1)\n",
      "memory usage: 399.2 KB\n"
     ]
    }
   ],
   "source": [
    "# Фичи по временным интервалам совершения сделок каждым клиентом\n",
    "x['delta_10'] = (x.DayDiff/10).astype(int)\n",
    "x['delta_2'] = (x.DayDiff/2).astype(int)\n",
    "x.info()"
   ]
  },
  {
   "cell_type": "markdown",
   "metadata": {},
   "source": [
    "#### получение набора с минимальной и максимальной датой а также интервалаами, для каждой сделки"
   ]
  },
  {
   "cell_type": "code",
   "execution_count": 42,
   "metadata": {},
   "outputs": [],
   "source": [
    "train_test_mcc = train_test_mcc.merge (x, how = 'left', left_on = 'cl_id', right_on = 'cl_id')"
   ]
  },
  {
   "cell_type": "code",
   "execution_count": 43,
   "metadata": {},
   "outputs": [
    {
     "data": {
      "text/plain": [
       "Index(['PERIOD', 'cl_id', 'MCC', 'channel_type', 'currency', 'TRDATETIME',\n",
       "       'amount', 'trx_category', 'IsTrain'],\n",
       "      dtype='object')"
      ]
     },
     "execution_count": 43,
     "metadata": {},
     "output_type": "execute_result"
    }
   ],
   "source": [
    "train_test.columns"
   ]
  },
  {
   "cell_type": "markdown",
   "metadata": {},
   "source": [
    " ### Создаем фичи - временной ряд количества транзакций клиента по интервалам "
   ]
  },
  {
   "cell_type": "code",
   "execution_count": 44,
   "metadata": {},
   "outputs": [],
   "source": [
    "## 10 интервалов\n",
    "def DateGroup10 (row):\n",
    "    if row.DateTimeFormated <= row.MinDate+pd.to_timedelta(row.delta_10, unit='D'):\n",
    "        return '1_GR10'\n",
    "    if (row.DateTimeFormated <= row.MinDate+2*pd.to_timedelta(row.delta_10, unit='D')) & (row.DateTimeFormated > row.MinDate+ pd.to_timedelta(row.delta_10, unit='D')):\n",
    "        return '2_GR10'\n",
    "    if (row.DateTimeFormated <= row.MinDate+3*pd.to_timedelta(row.delta_10, unit='D')) & (row.DateTimeFormated > row.MinDate+ 2*pd.to_timedelta(row.delta_10, unit='D')):\n",
    "        return '3_GR10'\n",
    "    if (row.DateTimeFormated <= row.MinDate+4*pd.to_timedelta(row.delta_10, unit='D')) & (row.DateTimeFormated > row.MinDate+ 3*pd.to_timedelta(row.delta_10, unit='D')):\n",
    "        return '4_GR10'\n",
    "    if (row.DateTimeFormated <= row.MinDate+5*pd.to_timedelta(row.delta_10, unit='D')) & (row.DateTimeFormated > row.MinDate+ 4*pd.to_timedelta(row.delta_10, unit='D')):\n",
    "        return '5_GR10'\n",
    "    if (row.DateTimeFormated <= row.MinDate+6*pd.to_timedelta(row.delta_10, unit='D')) & (row.DateTimeFormated > row.MinDate+ 5*pd.to_timedelta(row.delta_10, unit='D')):\n",
    "        return '6_GR10'\n",
    "    if (row.DateTimeFormated <= row.MinDate+7*pd.to_timedelta(row.delta_10, unit='D')) & (row.DateTimeFormated > row.MinDate+ 6*pd.to_timedelta(row.delta_10, unit='D')):\n",
    "        return '7_GR10'\n",
    "    if (row.DateTimeFormated <= row.MinDate+8*pd.to_timedelta(row.delta_10, unit='D')) & (row.DateTimeFormated > row.MinDate+ 7*pd.to_timedelta(row.delta_10, unit='D')):\n",
    "        return '8_GR10'\n",
    "    if (row.DateTimeFormated <= row.MinDate+9*pd.to_timedelta(row.delta_10, unit='D')) & (row.DateTimeFormated > row.MinDate+ 8*pd.to_timedelta(row.delta_10, unit='D')):\n",
    "        return '9_GR10'\n",
    "    if (row.DateTimeFormated <= row.MaxDate) & (row.DateTimeFormated > row.MinDate+ 9*pd.to_timedelta(row.delta_10, unit='D')):\n",
    "        return '10_GR10'\n"
   ]
  },
  {
   "cell_type": "code",
   "execution_count": 23,
   "metadata": {},
   "outputs": [],
   "source": [
    "# 2 инвервала\n",
    "def DateGroup2 (row):\n",
    "    if row.DateTimeFormated <= row.MinDate+pd.to_timedelta(row.delta_2, unit='D'):\n",
    "        return '1_GR2'\n",
    "    else:\n",
    "        return '2_GR2'\n",
    "    "
   ]
  },
  {
   "cell_type": "code",
   "execution_count": 45,
   "metadata": {},
   "outputs": [],
   "source": [
    "#Маркируем валюту\n",
    "def currency (row):\n",
    "    if row['currency'] == 810:\n",
    "        return 'RUB'\n",
    "    else:\n",
    "        return 'Other'"
   ]
  },
  {
   "cell_type": "markdown",
   "metadata": {},
   "source": [
    "# Получаем фичи и удаляем лишние столбцы"
   ]
  },
  {
   "cell_type": "code",
   "execution_count": 46,
   "metadata": {
    "scrolled": false
   },
   "outputs": [],
   "source": [
    "train_test_mcc['DateGroup10']= train_test_mcc.apply(DateGroup10, axis = 1)\n",
    "train_test_mcc['DateGroup2']= train_test_mcc.apply(DateGroup2, axis = 1)\n",
    "train_test_mcc['CUR']= train_test_mcc.apply(currency, axis = 1)\n",
    "# Заменим пустые значения на новый канал\n",
    "train_test_mcc.channel_type.fillna(value = 'type6',inplace = True)\n",
    "\n",
    "train_test_mcc.drop (columns = ['TRDATETIME','MCC_Name','Year','Month','Date','Hour', 'DateTimeFormated','MaxDate',\n",
    "                                'MinDate','delta_10','delta_2','currency','PERIOD'],inplace = True)"
   ]
  },
  {
   "cell_type": "code",
   "execution_count": 47,
   "metadata": {},
   "outputs": [
    {
     "data": {
      "text/html": [
       "<div>\n",
       "<style scoped>\n",
       "    .dataframe tbody tr th:only-of-type {\n",
       "        vertical-align: middle;\n",
       "    }\n",
       "\n",
       "    .dataframe tbody tr th {\n",
       "        vertical-align: top;\n",
       "    }\n",
       "\n",
       "    .dataframe thead th {\n",
       "        text-align: right;\n",
       "    }\n",
       "</style>\n",
       "<table border=\"1\" class=\"dataframe\">\n",
       "  <thead>\n",
       "    <tr style=\"text-align: right;\">\n",
       "      <th></th>\n",
       "      <th>cl_id</th>\n",
       "      <th>MCC</th>\n",
       "      <th>channel_type</th>\n",
       "      <th>amount</th>\n",
       "      <th>trx_category</th>\n",
       "      <th>IsTrain</th>\n",
       "      <th>MCC_Group</th>\n",
       "      <th>DayDiff</th>\n",
       "      <th>DateGroup10</th>\n",
       "      <th>DateGroup2</th>\n",
       "      <th>CUR</th>\n",
       "    </tr>\n",
       "  </thead>\n",
       "  <tbody>\n",
       "    <tr>\n",
       "      <th>0</th>\n",
       "      <td>0</td>\n",
       "      <td>5200</td>\n",
       "      <td>type6</td>\n",
       "      <td>-5023.0</td>\n",
       "      <td>0</td>\n",
       "      <td>1</td>\n",
       "      <td>Розничные магазины</td>\n",
       "      <td>53.0</td>\n",
       "      <td>2_GR10</td>\n",
       "      <td>1_GR2</td>\n",
       "      <td>RUB</td>\n",
       "    </tr>\n",
       "    <tr>\n",
       "      <th>1</th>\n",
       "      <td>0</td>\n",
       "      <td>6011</td>\n",
       "      <td>type6</td>\n",
       "      <td>20000.0</td>\n",
       "      <td>1</td>\n",
       "      <td>1</td>\n",
       "      <td>Поставщик услуг</td>\n",
       "      <td>53.0</td>\n",
       "      <td>1_GR10</td>\n",
       "      <td>1_GR2</td>\n",
       "      <td>RUB</td>\n",
       "    </tr>\n",
       "    <tr>\n",
       "      <th>2</th>\n",
       "      <td>0</td>\n",
       "      <td>5921</td>\n",
       "      <td>type6</td>\n",
       "      <td>-767.0</td>\n",
       "      <td>0</td>\n",
       "      <td>1</td>\n",
       "      <td>Различные магазины</td>\n",
       "      <td>53.0</td>\n",
       "      <td>10_GR10</td>\n",
       "      <td>2_GR2</td>\n",
       "      <td>RUB</td>\n",
       "    </tr>\n",
       "    <tr>\n",
       "      <th>3</th>\n",
       "      <td>0</td>\n",
       "      <td>5411</td>\n",
       "      <td>type6</td>\n",
       "      <td>-2031.0</td>\n",
       "      <td>0</td>\n",
       "      <td>1</td>\n",
       "      <td>Розничные магазины</td>\n",
       "      <td>53.0</td>\n",
       "      <td>2_GR10</td>\n",
       "      <td>1_GR2</td>\n",
       "      <td>RUB</td>\n",
       "    </tr>\n",
       "    <tr>\n",
       "      <th>4</th>\n",
       "      <td>0</td>\n",
       "      <td>6012</td>\n",
       "      <td>type6</td>\n",
       "      <td>-36562.0</td>\n",
       "      <td>6</td>\n",
       "      <td>1</td>\n",
       "      <td>Поставщик услуг</td>\n",
       "      <td>53.0</td>\n",
       "      <td>3_GR10</td>\n",
       "      <td>1_GR2</td>\n",
       "      <td>RUB</td>\n",
       "    </tr>\n",
       "  </tbody>\n",
       "</table>\n",
       "</div>"
      ],
      "text/plain": [
       "   cl_id   MCC channel_type   amount  trx_category  IsTrain  \\\n",
       "0      0  5200        type6  -5023.0             0        1   \n",
       "1      0  6011        type6  20000.0             1        1   \n",
       "2      0  5921        type6   -767.0             0        1   \n",
       "3      0  5411        type6  -2031.0             0        1   \n",
       "4      0  6012        type6 -36562.0             6        1   \n",
       "\n",
       "            MCC_Group  DayDiff DateGroup10 DateGroup2  CUR  \n",
       "0  Розничные магазины     53.0      2_GR10      1_GR2  RUB  \n",
       "1     Поставщик услуг     53.0      1_GR10      1_GR2  RUB  \n",
       "2  Различные магазины     53.0     10_GR10      2_GR2  RUB  \n",
       "3  Розничные магазины     53.0      2_GR10      1_GR2  RUB  \n",
       "4     Поставщик услуг     53.0      3_GR10      1_GR2  RUB  "
      ]
     },
     "execution_count": 47,
     "metadata": {},
     "output_type": "execute_result"
    }
   ],
   "source": [
    "train_test_mcc.head()"
   ]
  },
  {
   "cell_type": "code",
   "execution_count": 48,
   "metadata": {
    "scrolled": true
   },
   "outputs": [],
   "source": [
    "client_channel = train_test_mcc[['cl_id','channel_type']].groupby('cl_id').max().reset_index()"
   ]
  },
  {
   "cell_type": "markdown",
   "metadata": {},
   "source": [
    "# Разворачиваем таблицу получая фичи и частоту их встречания у каждого клиента"
   ]
  },
  {
   "cell_type": "code",
   "execution_count": 52,
   "metadata": {},
   "outputs": [],
   "source": [
    "# создаем фиктивный столбец для подсчета count\n",
    "train_test_mcc['count'] = 1\n",
    "# Создаем много \"маленьких\" пивот таблиц и объеденяем их. Не нашел иного стособа получить такой набор\n",
    "piv1 = pd.pivot_table( train_test_mcc, index = ['cl_id'], columns = [ 'MCC_Group'], values = 'count', aggfunc = 'sum',fill_value=0 ).reset_index()\n",
    "piv3 = pd.pivot_table( train_test_mcc, index = ['cl_id'], columns = [ 'trx_category'], values = 'count', aggfunc = 'sum',fill_value=0 ).reset_index()\n",
    "piv4 = train_test_mcc[['cl_id','DayDiff']].groupby(by = ['cl_id']).max().reset_index()\n",
    "piv5 = pd.pivot_table( train_test_mcc, index = ['cl_id'], columns = [ 'DateGroup10'], values = 'count', aggfunc = 'sum' ,fill_value=0).reset_index()\n",
    "piv6 = pd.pivot_table( train_test_mcc, index = ['cl_id'], columns = [ 'DateGroup2'], values = 'count', aggfunc = 'sum',fill_value=0 ).reset_index()\n",
    "piv7 = pd.pivot_table( train_test_mcc, index = ['cl_id'], columns = [ 'CUR'], values = 'count', aggfunc = 'sum',fill_value=0 ).reset_index()\n",
    "piv8 = train_test_mcc[['cl_id','IsTrain']].groupby(by = ['cl_id']).min().reset_index()\n",
    "piv9 = pd.get_dummies (train_test_mcc[['cl_id','channel_type']])\n",
    "piv9 = piv9.groupby(by = 'cl_id').max().reset_index()\n",
    "piv10 = pd.pivot_table( train_test_mcc, index = ['cl_id'], columns = [ 'MCC'], values = 'count', aggfunc = 'sum',fill_value=0).reset_index()\n",
    "piv11 = pd.pivot_table( train_test_mcc, index = ['cl_id'], columns = [ 'MCC_cat'], values = 'count', aggfunc = 'sum',fill_value=0).reset_index()\n",
    "piv11.columns  = ['mcc_gr_' + str(s) for s in piv11.columns]\n",
    "piv12 = pd.pivot_table( train_test_mcc, index = ['cl_id'], columns = [ 'MCC_cat'], values = 'amount', aggfunc = 'sum',fill_value=0).reset_index()\n",
    "piv12.columns  = ['mcc_cat__amount_' + str(s) for s in piv12.columns]\n",
    "piv13 = pd.pivot_table( train_test_mcc, index = ['cl_id'], columns = [ 'is_bonus'], values = 'count', aggfunc = 'sum',fill_value=0).reset_index()\n",
    "piv13.columns  = ['is_bonus_cou_' + str(s) for s in piv13.columns]\n",
    "piv14 = pd.pivot_table( train_test_mcc, index = ['cl_id'], columns = [ 'is_bonus'], values = 'amount', aggfunc = 'sum',fill_value=0).reset_index()\n",
    "piv14.columns  = ['is_bonus_amount_' + str(s) for s in piv14.columns]\n",
    "\n",
    "piv15 = pd.pivot_table( train_test_mcc, index = ['cl_id'], columns = [ 'DateGroup2'], values = 'amount', aggfunc = 'sum',fill_value=0 ).reset_index()\n",
    "piv15.columns  = ['date_gr_2_amount_' + str(s) for s in piv15.columns]\n",
    "piv16 = pd.pivot_table( train_test_mcc, index = ['cl_id'], columns = [ 'DateGroup10'], values = 'amount', aggfunc = 'sum',fill_value=0 ).reset_index()\n",
    "piv16.columns  = ['date_gr_10_amount_' + str(s) for s in piv16.columns]\n",
    "\n",
    "# Объеденяем набор в целую таблицу\n",
    "result = pd.concat([piv1,piv3,piv4,piv5,piv6,piv7,piv8,piv9,piv10], axis=1)\n",
    "\n",
    "# Удаляем id клиента, так как колонка не будет принимать участия в обучении\n",
    "test_cl_id = result[result['IsTrain'] == 0].cl_id\n",
    "test_cl_id = pd.DataFrame(test_cl_id.iloc[:,0])\n",
    "test_cl_id.rename(columns={'cl_id':'_ID_'}, inplace=True)\n"
   ]
  },
  {
   "cell_type": "code",
   "execution_count": 53,
   "metadata": {},
   "outputs": [],
   "source": [
    "piv11.columns  = ['mcc_gr_' + str(s) for s in piv11.columns]\n"
   ]
  },
  {
   "cell_type": "code",
   "execution_count": 54,
   "metadata": {},
   "outputs": [
    {
     "data": {
      "text/html": [
       "<div>\n",
       "<style scoped>\n",
       "    .dataframe tbody tr th:only-of-type {\n",
       "        vertical-align: middle;\n",
       "    }\n",
       "\n",
       "    .dataframe tbody tr th {\n",
       "        vertical-align: top;\n",
       "    }\n",
       "\n",
       "    .dataframe thead th {\n",
       "        text-align: right;\n",
       "    }\n",
       "</style>\n",
       "<table border=\"1\" class=\"dataframe\">\n",
       "  <thead>\n",
       "    <tr style=\"text-align: right;\">\n",
       "      <th></th>\n",
       "      <th>_ID_</th>\n",
       "    </tr>\n",
       "  </thead>\n",
       "  <tbody>\n",
       "    <tr>\n",
       "      <th>2</th>\n",
       "      <td>2</td>\n",
       "    </tr>\n",
       "    <tr>\n",
       "      <th>3</th>\n",
       "      <td>3</td>\n",
       "    </tr>\n",
       "    <tr>\n",
       "      <th>4</th>\n",
       "      <td>4</td>\n",
       "    </tr>\n",
       "    <tr>\n",
       "      <th>6</th>\n",
       "      <td>6</td>\n",
       "    </tr>\n",
       "    <tr>\n",
       "      <th>7</th>\n",
       "      <td>7</td>\n",
       "    </tr>\n",
       "  </tbody>\n",
       "</table>\n",
       "</div>"
      ],
      "text/plain": [
       "   _ID_\n",
       "2     2\n",
       "3     3\n",
       "4     4\n",
       "6     6\n",
       "7     7"
      ]
     },
     "execution_count": 54,
     "metadata": {},
     "output_type": "execute_result"
    }
   ],
   "source": [
    "test_cl_id.head()"
   ]
  },
  {
   "cell_type": "code",
   "execution_count": 55,
   "metadata": {},
   "outputs": [
    {
     "data": {
      "text/html": [
       "<div>\n",
       "<style scoped>\n",
       "    .dataframe tbody tr th:only-of-type {\n",
       "        vertical-align: middle;\n",
       "    }\n",
       "\n",
       "    .dataframe tbody tr th {\n",
       "        vertical-align: top;\n",
       "    }\n",
       "\n",
       "    .dataframe thead th {\n",
       "        text-align: right;\n",
       "    }\n",
       "</style>\n",
       "<table border=\"1\" class=\"dataframe\">\n",
       "  <thead>\n",
       "    <tr style=\"text-align: right;\">\n",
       "      <th></th>\n",
       "      <th>_ID_</th>\n",
       "    </tr>\n",
       "  </thead>\n",
       "  <tbody>\n",
       "    <tr>\n",
       "      <th>2</th>\n",
       "      <td>2</td>\n",
       "    </tr>\n",
       "    <tr>\n",
       "      <th>3</th>\n",
       "      <td>3</td>\n",
       "    </tr>\n",
       "    <tr>\n",
       "      <th>4</th>\n",
       "      <td>4</td>\n",
       "    </tr>\n",
       "    <tr>\n",
       "      <th>6</th>\n",
       "      <td>6</td>\n",
       "    </tr>\n",
       "    <tr>\n",
       "      <th>7</th>\n",
       "      <td>7</td>\n",
       "    </tr>\n",
       "  </tbody>\n",
       "</table>\n",
       "</div>"
      ],
      "text/plain": [
       "   _ID_\n",
       "2     2\n",
       "3     3\n",
       "4     4\n",
       "6     6\n",
       "7     7"
      ]
     },
     "execution_count": 55,
     "metadata": {},
     "output_type": "execute_result"
    }
   ],
   "source": [
    "test_cl_id.head()"
   ]
  },
  {
   "cell_type": "code",
   "execution_count": 56,
   "metadata": {},
   "outputs": [],
   "source": [
    "train_test_mcc.to_csv( 'train_test_mcc.csv' ) ### apply очень медленный. поэтому сохранимся)\n",
    "##train_test_mcc = pd.read_csv ('train_test_mcc.csv')\n"
   ]
  },
  {
   "cell_type": "markdown",
   "metadata": {},
   "source": [
    "## Делим снова модель на глобайльный тест и трейн\n"
   ]
  },
  {
   "cell_type": "code",
   "execution_count": 57,
   "metadata": {},
   "outputs": [],
   "source": [
    "general_train = result[result['IsTrain']==1].reset_index(drop= True)\n",
    "general_test =  result[result['IsTrain']==0].reset_index(drop= True)\n",
    "general_train.drop(columns=['IsTrain'], inplace=True)\n",
    "general_test.drop(columns=['IsTrain'], inplace=True)"
   ]
  },
  {
   "cell_type": "code",
   "execution_count": 58,
   "metadata": {},
   "outputs": [
    {
     "data": {
      "text/plain": [
       "(5000, 445)"
      ]
     },
     "execution_count": 58,
     "metadata": {},
     "output_type": "execute_result"
    }
   ],
   "source": [
    "general_train.shape"
   ]
  },
  {
   "cell_type": "code",
   "execution_count": 59,
   "metadata": {},
   "outputs": [
    {
     "data": {
      "text/plain": [
       "(5217, 445)"
      ]
     },
     "execution_count": 59,
     "metadata": {},
     "output_type": "execute_result"
    }
   ],
   "source": [
    "general_test.shape"
   ]
  },
  {
   "cell_type": "markdown",
   "metadata": {},
   "source": [
    "# Масштабируем данные"
   ]
  },
  {
   "cell_type": "code",
   "execution_count": 60,
   "metadata": {},
   "outputs": [],
   "source": [
    "# Создаем функцию для масштабирования\n",
    "\n",
    "def Scal (train_data, test_data):\n",
    "    scaler = StandardScaler()\n",
    "    sc = scaler.fit(train_data) ### обучаемся на трейне, потом применяем на тест\n",
    "    ds1 = pd.DataFrame(sc.transform(train_data), index=train_data.index, columns=train_data.columns)\n",
    "    ds2 = pd.DataFrame(sc.transform(test_data), index=test_data.index, columns=test_data.columns)\n",
    "    return ds1, ds2"
   ]
  },
  {
   "cell_type": "code",
   "execution_count": 61,
   "metadata": {},
   "outputs": [
    {
     "data": {
      "text/html": [
       "<div>\n",
       "<style scoped>\n",
       "    .dataframe tbody tr th:only-of-type {\n",
       "        vertical-align: middle;\n",
       "    }\n",
       "\n",
       "    .dataframe tbody tr th {\n",
       "        vertical-align: top;\n",
       "    }\n",
       "\n",
       "    .dataframe thead th {\n",
       "        text-align: right;\n",
       "    }\n",
       "</style>\n",
       "<table border=\"1\" class=\"dataframe\">\n",
       "  <thead>\n",
       "    <tr style=\"text-align: right;\">\n",
       "      <th></th>\n",
       "      <th>cl_id</th>\n",
       "      <th>Авиалинии, авиакомпании</th>\n",
       "      <th>Автомобили и транспортные средства</th>\n",
       "      <th>Аренда автомобилей</th>\n",
       "      <th>Бизнес услуги</th>\n",
       "      <th>Государственные услуги</th>\n",
       "      <th>Другое</th>\n",
       "      <th>Коммунальные и кабельные услуги</th>\n",
       "      <th>Контрактные услуги</th>\n",
       "      <th>Личные услуги</th>\n",
       "      <th>...</th>\n",
       "      <th>8699</th>\n",
       "      <th>8911</th>\n",
       "      <th>8931</th>\n",
       "      <th>8999</th>\n",
       "      <th>9211</th>\n",
       "      <th>9222</th>\n",
       "      <th>9311</th>\n",
       "      <th>9399</th>\n",
       "      <th>9402</th>\n",
       "      <th>9405</th>\n",
       "    </tr>\n",
       "  </thead>\n",
       "  <tbody>\n",
       "    <tr>\n",
       "      <th>0</th>\n",
       "      <td>-1.717403</td>\n",
       "      <td>-0.223596</td>\n",
       "      <td>-0.629425</td>\n",
       "      <td>-0.031764</td>\n",
       "      <td>-0.299310</td>\n",
       "      <td>-0.183813</td>\n",
       "      <td>-0.014144</td>\n",
       "      <td>-0.491175</td>\n",
       "      <td>-0.101419</td>\n",
       "      <td>-0.380949</td>\n",
       "      <td>...</td>\n",
       "      <td>-0.030014</td>\n",
       "      <td>-0.020004</td>\n",
       "      <td>-0.026736</td>\n",
       "      <td>-0.323012</td>\n",
       "      <td>-0.044217</td>\n",
       "      <td>-0.055262</td>\n",
       "      <td>-0.101852</td>\n",
       "      <td>-0.185293</td>\n",
       "      <td>-0.053519</td>\n",
       "      <td>-0.028296</td>\n",
       "    </tr>\n",
       "    <tr>\n",
       "      <th>1</th>\n",
       "      <td>-1.717067</td>\n",
       "      <td>-0.223596</td>\n",
       "      <td>-0.629425</td>\n",
       "      <td>-0.031764</td>\n",
       "      <td>-0.003608</td>\n",
       "      <td>0.564002</td>\n",
       "      <td>-0.014144</td>\n",
       "      <td>-0.491175</td>\n",
       "      <td>-0.101419</td>\n",
       "      <td>-0.380949</td>\n",
       "      <td>...</td>\n",
       "      <td>-0.030014</td>\n",
       "      <td>-0.020004</td>\n",
       "      <td>-0.026736</td>\n",
       "      <td>-0.323012</td>\n",
       "      <td>-0.044217</td>\n",
       "      <td>-0.055262</td>\n",
       "      <td>2.841836</td>\n",
       "      <td>-0.185293</td>\n",
       "      <td>-0.053519</td>\n",
       "      <td>-0.028296</td>\n",
       "    </tr>\n",
       "    <tr>\n",
       "      <th>2</th>\n",
       "      <td>-1.715723</td>\n",
       "      <td>-0.223596</td>\n",
       "      <td>-0.629425</td>\n",
       "      <td>-0.031764</td>\n",
       "      <td>-0.299310</td>\n",
       "      <td>0.564002</td>\n",
       "      <td>-0.014144</td>\n",
       "      <td>1.099211</td>\n",
       "      <td>-0.101419</td>\n",
       "      <td>0.714048</td>\n",
       "      <td>...</td>\n",
       "      <td>-0.030014</td>\n",
       "      <td>-0.020004</td>\n",
       "      <td>-0.026736</td>\n",
       "      <td>-0.323012</td>\n",
       "      <td>-0.044217</td>\n",
       "      <td>1.305878</td>\n",
       "      <td>-0.101852</td>\n",
       "      <td>-0.185293</td>\n",
       "      <td>-0.053519</td>\n",
       "      <td>-0.028296</td>\n",
       "    </tr>\n",
       "    <tr>\n",
       "      <th>3</th>\n",
       "      <td>-1.714380</td>\n",
       "      <td>-0.223596</td>\n",
       "      <td>-0.629425</td>\n",
       "      <td>-0.031764</td>\n",
       "      <td>-0.299310</td>\n",
       "      <td>-0.183813</td>\n",
       "      <td>-0.014144</td>\n",
       "      <td>-0.491175</td>\n",
       "      <td>-0.101419</td>\n",
       "      <td>-0.380949</td>\n",
       "      <td>...</td>\n",
       "      <td>-0.030014</td>\n",
       "      <td>-0.020004</td>\n",
       "      <td>-0.026736</td>\n",
       "      <td>-0.323012</td>\n",
       "      <td>-0.044217</td>\n",
       "      <td>-0.055262</td>\n",
       "      <td>-0.101852</td>\n",
       "      <td>-0.185293</td>\n",
       "      <td>-0.053519</td>\n",
       "      <td>-0.028296</td>\n",
       "    </tr>\n",
       "    <tr>\n",
       "      <th>4</th>\n",
       "      <td>-1.714044</td>\n",
       "      <td>-0.223596</td>\n",
       "      <td>3.687617</td>\n",
       "      <td>-0.031764</td>\n",
       "      <td>-0.003608</td>\n",
       "      <td>-0.183813</td>\n",
       "      <td>-0.014144</td>\n",
       "      <td>-0.173098</td>\n",
       "      <td>-0.101419</td>\n",
       "      <td>-0.380949</td>\n",
       "      <td>...</td>\n",
       "      <td>-0.030014</td>\n",
       "      <td>-0.020004</td>\n",
       "      <td>-0.026736</td>\n",
       "      <td>0.298404</td>\n",
       "      <td>-0.044217</td>\n",
       "      <td>-0.055262</td>\n",
       "      <td>-0.101852</td>\n",
       "      <td>-0.185293</td>\n",
       "      <td>-0.053519</td>\n",
       "      <td>-0.028296</td>\n",
       "    </tr>\n",
       "  </tbody>\n",
       "</table>\n",
       "<p>5 rows × 445 columns</p>\n",
       "</div>"
      ],
      "text/plain": [
       "      cl_id  Авиалинии, авиакомпании  Автомобили и транспортные средства  \\\n",
       "0 -1.717403                -0.223596                           -0.629425   \n",
       "1 -1.717067                -0.223596                           -0.629425   \n",
       "2 -1.715723                -0.223596                           -0.629425   \n",
       "3 -1.714380                -0.223596                           -0.629425   \n",
       "4 -1.714044                -0.223596                            3.687617   \n",
       "\n",
       "   Аренда автомобилей  Бизнес услуги  Государственные услуги    Другое  \\\n",
       "0           -0.031764      -0.299310               -0.183813 -0.014144   \n",
       "1           -0.031764      -0.003608                0.564002 -0.014144   \n",
       "2           -0.031764      -0.299310                0.564002 -0.014144   \n",
       "3           -0.031764      -0.299310               -0.183813 -0.014144   \n",
       "4           -0.031764      -0.003608               -0.183813 -0.014144   \n",
       "\n",
       "   Коммунальные и кабельные услуги  Контрактные услуги  Личные услуги  \\\n",
       "0                        -0.491175           -0.101419      -0.380949   \n",
       "1                        -0.491175           -0.101419      -0.380949   \n",
       "2                         1.099211           -0.101419       0.714048   \n",
       "3                        -0.491175           -0.101419      -0.380949   \n",
       "4                        -0.173098           -0.101419      -0.380949   \n",
       "\n",
       "     ...         8699      8911      8931      8999      9211      9222  \\\n",
       "0    ...    -0.030014 -0.020004 -0.026736 -0.323012 -0.044217 -0.055262   \n",
       "1    ...    -0.030014 -0.020004 -0.026736 -0.323012 -0.044217 -0.055262   \n",
       "2    ...    -0.030014 -0.020004 -0.026736 -0.323012 -0.044217  1.305878   \n",
       "3    ...    -0.030014 -0.020004 -0.026736 -0.323012 -0.044217 -0.055262   \n",
       "4    ...    -0.030014 -0.020004 -0.026736  0.298404 -0.044217 -0.055262   \n",
       "\n",
       "       9311      9399      9402      9405  \n",
       "0 -0.101852 -0.185293 -0.053519 -0.028296  \n",
       "1  2.841836 -0.185293 -0.053519 -0.028296  \n",
       "2 -0.101852 -0.185293 -0.053519 -0.028296  \n",
       "3 -0.101852 -0.185293 -0.053519 -0.028296  \n",
       "4 -0.101852 -0.185293 -0.053519 -0.028296  \n",
       "\n",
       "[5 rows x 445 columns]"
      ]
     },
     "execution_count": 61,
     "metadata": {},
     "output_type": "execute_result"
    }
   ],
   "source": [
    "train_scaled , test_scaled = Scal(general_train,general_test)\n",
    "train_scaled.head()"
   ]
  },
  {
   "cell_type": "code",
   "execution_count": 161,
   "metadata": {},
   "outputs": [],
   "source": []
  },
  {
   "cell_type": "code",
   "execution_count": 90,
   "metadata": {},
   "outputs": [],
   "source": [
    "### Функция для кросс валидации\n",
    "kfold = KFold(n_splits=3, shuffle=True, random_state=0)\n",
    "logreg = LogisticRegression()\n",
    "clf = RandomForestClassifier(n_estimators=100, max_depth=15, min_samples_leaf=20, max_features=0.8, n_jobs=-1)\n",
    "\n",
    "def CrosVal (classificator, modelselector, data, target):\n",
    "    print(\"Значения правильности перекрестной проверки:\\n{}\".format(\n",
    "    cross_val_score(classificator, data, target, cv=modelselector, scoring = 'roc_auc')))"
   ]
  },
  {
   "cell_type": "markdown",
   "metadata": {},
   "source": [
    "## делаем кросс валидацию для леса"
   ]
  },
  {
   "cell_type": "code",
   "execution_count": 13,
   "metadata": {},
   "outputs": [
    {
     "name": "stderr",
     "output_type": "stream",
     "text": [
      "C:\\Users\\Python\\Anaconda3\\lib\\site-packages\\sklearn\\model_selection\\_validation.py:458: DataConversionWarning: A column-vector y was passed when a 1d array was expected. Please change the shape of y to (n_samples,), for example using ravel().\n",
      "  estimator.fit(X_train, y_train, **fit_params)\n",
      "C:\\Users\\Python\\Anaconda3\\lib\\site-packages\\sklearn\\model_selection\\_validation.py:458: DataConversionWarning: A column-vector y was passed when a 1d array was expected. Please change the shape of y to (n_samples,), for example using ravel().\n",
      "  estimator.fit(X_train, y_train, **fit_params)\n"
     ]
    },
    {
     "name": "stdout",
     "output_type": "stream",
     "text": [
      "Значения правильности перекрестной проверки:\n",
      "[0.78531893 0.78458021 0.78658352]\n"
     ]
    },
    {
     "name": "stderr",
     "output_type": "stream",
     "text": [
      "C:\\Users\\Python\\Anaconda3\\lib\\site-packages\\sklearn\\model_selection\\_validation.py:458: DataConversionWarning: A column-vector y was passed when a 1d array was expected. Please change the shape of y to (n_samples,), for example using ravel().\n",
      "  estimator.fit(X_train, y_train, **fit_params)\n"
     ]
    }
   ],
   "source": [
    "CrosVal (clf,kfold,train_scaled,y_train)"
   ]
  },
  {
   "cell_type": "markdown",
   "metadata": {},
   "source": [
    "# Кросс валидация для лог регрессии"
   ]
  },
  {
   "cell_type": "code",
   "execution_count": 14,
   "metadata": {},
   "outputs": [
    {
     "name": "stderr",
     "output_type": "stream",
     "text": [
      "C:\\Users\\Python\\Anaconda3\\lib\\site-packages\\sklearn\\utils\\validation.py:578: DataConversionWarning: A column-vector y was passed when a 1d array was expected. Please change the shape of y to (n_samples, ), for example using ravel().\n",
      "  y = column_or_1d(y, warn=True)\n",
      "C:\\Users\\Python\\Anaconda3\\lib\\site-packages\\sklearn\\utils\\validation.py:578: DataConversionWarning: A column-vector y was passed when a 1d array was expected. Please change the shape of y to (n_samples, ), for example using ravel().\n",
      "  y = column_or_1d(y, warn=True)\n",
      "C:\\Users\\Python\\Anaconda3\\lib\\site-packages\\sklearn\\utils\\validation.py:578: DataConversionWarning: A column-vector y was passed when a 1d array was expected. Please change the shape of y to (n_samples, ), for example using ravel().\n",
      "  y = column_or_1d(y, warn=True)\n"
     ]
    },
    {
     "name": "stdout",
     "output_type": "stream",
     "text": [
      "Значения правильности перекрестной проверки:\n",
      "[0.76812734 0.76946008 0.7592537 ]\n"
     ]
    }
   ],
   "source": [
    "CrosVal (logreg,kfold,train_scaled,y_train)"
   ]
  },
  {
   "cell_type": "markdown",
   "metadata": {},
   "source": [
    "# Кросс валадация для лассо."
   ]
  },
  {
   "cell_type": "code",
   "execution_count": 120,
   "metadata": {
    "collapsed": true
   },
   "outputs": [
    {
     "name": "stderr",
     "output_type": "stream",
     "text": [
      "C:\\Users\\Python\\Anaconda3\\lib\\site-packages\\sklearn\\linear_model\\coordinate_descent.py:491: ConvergenceWarning: Objective did not converge. You might want to increase the number of iterations. Fitting data with very small alpha may cause precision problems.\n",
      "  ConvergenceWarning)\n",
      "C:\\Users\\Python\\Anaconda3\\lib\\site-packages\\sklearn\\linear_model\\coordinate_descent.py:491: ConvergenceWarning: Objective did not converge. You might want to increase the number of iterations. Fitting data with very small alpha may cause precision problems.\n",
      "  ConvergenceWarning)\n",
      "C:\\Users\\Python\\Anaconda3\\lib\\site-packages\\sklearn\\linear_model\\coordinate_descent.py:491: ConvergenceWarning: Objective did not converge. You might want to increase the number of iterations. Fitting data with very small alpha may cause precision problems.\n",
      "  ConvergenceWarning)\n",
      "C:\\Users\\Python\\Anaconda3\\lib\\site-packages\\sklearn\\linear_model\\coordinate_descent.py:491: ConvergenceWarning: Objective did not converge. You might want to increase the number of iterations. Fitting data with very small alpha may cause precision problems.\n",
      "  ConvergenceWarning)\n",
      "C:\\Users\\Python\\Anaconda3\\lib\\site-packages\\sklearn\\linear_model\\coordinate_descent.py:491: ConvergenceWarning: Objective did not converge. You might want to increase the number of iterations. Fitting data with very small alpha may cause precision problems.\n",
      "  ConvergenceWarning)\n",
      "C:\\Users\\Python\\Anaconda3\\lib\\site-packages\\sklearn\\linear_model\\coordinate_descent.py:491: ConvergenceWarning: Objective did not converge. You might want to increase the number of iterations. Fitting data with very small alpha may cause precision problems.\n",
      "  ConvergenceWarning)\n",
      "C:\\Users\\Python\\Anaconda3\\lib\\site-packages\\sklearn\\linear_model\\coordinate_descent.py:491: ConvergenceWarning: Objective did not converge. You might want to increase the number of iterations. Fitting data with very small alpha may cause precision problems.\n",
      "  ConvergenceWarning)\n",
      "C:\\Users\\Python\\Anaconda3\\lib\\site-packages\\sklearn\\linear_model\\coordinate_descent.py:491: ConvergenceWarning: Objective did not converge. You might want to increase the number of iterations. Fitting data with very small alpha may cause precision problems.\n",
      "  ConvergenceWarning)\n",
      "C:\\Users\\Python\\Anaconda3\\lib\\site-packages\\sklearn\\linear_model\\coordinate_descent.py:491: ConvergenceWarning: Objective did not converge. You might want to increase the number of iterations. Fitting data with very small alpha may cause precision problems.\n",
      "  ConvergenceWarning)\n",
      "C:\\Users\\Python\\Anaconda3\\lib\\site-packages\\sklearn\\linear_model\\coordinate_descent.py:491: ConvergenceWarning: Objective did not converge. You might want to increase the number of iterations. Fitting data with very small alpha may cause precision problems.\n",
      "  ConvergenceWarning)\n",
      "C:\\Users\\Python\\Anaconda3\\lib\\site-packages\\sklearn\\linear_model\\coordinate_descent.py:491: ConvergenceWarning: Objective did not converge. You might want to increase the number of iterations. Fitting data with very small alpha may cause precision problems.\n",
      "  ConvergenceWarning)\n",
      "C:\\Users\\Python\\Anaconda3\\lib\\site-packages\\sklearn\\linear_model\\coordinate_descent.py:491: ConvergenceWarning: Objective did not converge. You might want to increase the number of iterations. Fitting data with very small alpha may cause precision problems.\n",
      "  ConvergenceWarning)\n",
      "C:\\Users\\Python\\Anaconda3\\lib\\site-packages\\sklearn\\linear_model\\coordinate_descent.py:491: ConvergenceWarning: Objective did not converge. You might want to increase the number of iterations. Fitting data with very small alpha may cause precision problems.\n",
      "  ConvergenceWarning)\n",
      "C:\\Users\\Python\\Anaconda3\\lib\\site-packages\\sklearn\\linear_model\\coordinate_descent.py:491: ConvergenceWarning: Objective did not converge. You might want to increase the number of iterations. Fitting data with very small alpha may cause precision problems.\n",
      "  ConvergenceWarning)\n",
      "C:\\Users\\Python\\Anaconda3\\lib\\site-packages\\sklearn\\linear_model\\coordinate_descent.py:491: ConvergenceWarning: Objective did not converge. You might want to increase the number of iterations. Fitting data with very small alpha may cause precision problems.\n",
      "  ConvergenceWarning)\n",
      "C:\\Users\\Python\\Anaconda3\\lib\\site-packages\\sklearn\\linear_model\\coordinate_descent.py:491: ConvergenceWarning: Objective did not converge. You might want to increase the number of iterations. Fitting data with very small alpha may cause precision problems.\n",
      "  ConvergenceWarning)\n",
      "C:\\Users\\Python\\Anaconda3\\lib\\site-packages\\sklearn\\linear_model\\coordinate_descent.py:491: ConvergenceWarning: Objective did not converge. You might want to increase the number of iterations. Fitting data with very small alpha may cause precision problems.\n",
      "  ConvergenceWarning)\n",
      "C:\\Users\\Python\\Anaconda3\\lib\\site-packages\\sklearn\\linear_model\\coordinate_descent.py:491: ConvergenceWarning: Objective did not converge. You might want to increase the number of iterations. Fitting data with very small alpha may cause precision problems.\n",
      "  ConvergenceWarning)\n",
      "C:\\Users\\Python\\Anaconda3\\lib\\site-packages\\sklearn\\linear_model\\coordinate_descent.py:491: ConvergenceWarning: Objective did not converge. You might want to increase the number of iterations. Fitting data with very small alpha may cause precision problems.\n",
      "  ConvergenceWarning)\n",
      "C:\\Users\\Python\\Anaconda3\\lib\\site-packages\\sklearn\\linear_model\\coordinate_descent.py:491: ConvergenceWarning: Objective did not converge. You might want to increase the number of iterations. Fitting data with very small alpha may cause precision problems.\n",
      "  ConvergenceWarning)\n",
      "C:\\Users\\Python\\Anaconda3\\lib\\site-packages\\sklearn\\linear_model\\coordinate_descent.py:491: ConvergenceWarning: Objective did not converge. You might want to increase the number of iterations. Fitting data with very small alpha may cause precision problems.\n",
      "  ConvergenceWarning)\n",
      "C:\\Users\\Python\\Anaconda3\\lib\\site-packages\\sklearn\\linear_model\\coordinate_descent.py:491: ConvergenceWarning: Objective did not converge. You might want to increase the number of iterations. Fitting data with very small alpha may cause precision problems.\n",
      "  ConvergenceWarning)\n",
      "C:\\Users\\Python\\Anaconda3\\lib\\site-packages\\sklearn\\linear_model\\coordinate_descent.py:491: ConvergenceWarning: Objective did not converge. You might want to increase the number of iterations. Fitting data with very small alpha may cause precision problems.\n",
      "  ConvergenceWarning)\n",
      "C:\\Users\\Python\\Anaconda3\\lib\\site-packages\\sklearn\\linear_model\\coordinate_descent.py:491: ConvergenceWarning: Objective did not converge. You might want to increase the number of iterations. Fitting data with very small alpha may cause precision problems.\n",
      "  ConvergenceWarning)\n"
     ]
    },
    {
     "name": "stdout",
     "output_type": "stream",
     "text": [
      "{'alpha': 0.013738237958832637} 0.7913903338064324\n",
      "0.7742928158245206 {'alpha': 1e-05}\n",
      "0.7743759298606943 {'alpha': 1.7433288221999873e-05}\n",
      "0.7744694955481709 {'alpha': 3.039195382313195e-05}\n",
      "0.7748225965204553 {'alpha': 5.2983169062837125e-05}\n",
      "0.7750649586183903 {'alpha': 9.236708571873866e-05}\n",
      "0.7755176397947569 {'alpha': 0.0001610262027560939}\n",
      "0.7764136293071789 {'alpha': 0.0002807216203941176}\n",
      "0.77779850443106 {'alpha': 0.0004893900918477494}\n",
      "0.7796293474013563 {'alpha': 0.0008531678524172815}\n",
      "0.7826398321638035 {'alpha': 0.0014873521072935117}\n",
      "0.7866161472898665 {'alpha': 0.002592943797404667}\n",
      "0.7899894154131962 {'alpha': 0.004520353656360245}\n",
      "0.7911730528033506 {'alpha': 0.007880462815669913}\n",
      "0.7913903338064324 {'alpha': 0.013738237958832637}\n",
      "0.7866577935270592 {'alpha': 0.02395026619987486}\n",
      "0.7772876419575918 {'alpha': 0.04175318936560404}\n",
      "0.7696247640436148 {'alpha': 0.07278953843983153}\n",
      "0.7404734289378962 {'alpha': 0.12689610031679235}\n",
      "0.5 {'alpha': 0.22122162910704501}\n",
      "0.5 {'alpha': 0.38566204211634725}\n",
      "0.5 {'alpha': 0.6723357536499335}\n",
      "0.5 {'alpha': 1.1721022975334818}\n",
      "0.5 {'alpha': 2.043359717856944}\n",
      "0.5 {'alpha': 3.562247890262444}\n",
      "0.5 {'alpha': 6.2101694189156165}\n",
      "0.5 {'alpha': 10.82636733874054}\n",
      "0.5 {'alpha': 18.873918221350994}\n",
      "0.5 {'alpha': 32.90344562312671}\n",
      "0.5 {'alpha': 57.361525104486816}\n",
      "0.5 {'alpha': 100.0}\n"
     ]
    },
    {
     "name": "stderr",
     "output_type": "stream",
     "text": [
      "C:\\Users\\Python\\Anaconda3\\lib\\site-packages\\sklearn\\model_selection\\_search.py:761: DeprecationWarning: The grid_scores_ attribute was deprecated in version 0.18 in favor of the more elaborate cv_results_ attribute. The grid_scores_ attribute will not be available from 0.20\n",
      "  DeprecationWarning)\n"
     ]
    }
   ],
   "source": [
    "alphas = np.logspace(-5, 2, 30)\n",
    "grid = GridSearchCV(estimator=Lasso(),\n",
    "param_grid=dict(alpha=alphas), cv=kfold, scoring='roc_auc')\n",
    "grid.fit(train_scaled, y_train) # entire datasets were fed here\n",
    "\n",
    "print (grid.best_params_, grid.best_score_ )# score -0.0470788758558\n",
    "for params, mean_score, scores in grid.grid_scores_:\n",
    "    print (mean_score, params)"
   ]
  },
  {
   "cell_type": "code",
   "execution_count": 123,
   "metadata": {},
   "outputs": [
    {
     "name": "stdout",
     "output_type": "stream",
     "text": [
      "[0.5534]\n"
     ]
    }
   ],
   "source": [
    "# Модель с лушчим параметром\n",
    "rg = Lasso(alpha=0.01373823795).fit(train_scaled, y_train)\n",
    "print(rg.intercept_)\n",
    "##print(rg.coef_)\n",
    " \n",
    "## Создаем словарь с коэфициентами и значениями фич. \n",
    "coef_dict = {}\n",
    "for coef, feat in zip(rg.coef_,train_scaled.columns):\n",
    "    coef_dict[feat] = coef\n",
    "##После чего отбираем неннулевые фичи\n",
    "laso_feat = []\n",
    "for a , v in  coef_dict.items():\n",
    "    if v !=0.000000000000:\n",
    "        laso_feat.append(a)"
   ]
  },
  {
   "cell_type": "code",
   "execution_count": null,
   "metadata": {},
   "outputs": [],
   "source": [
    "### Получили набор фич\n",
    "train_scaled[laso_feat]"
   ]
  },
  {
   "cell_type": "markdown",
   "metadata": {},
   "source": [
    "# Делаем бустинг"
   ]
  },
  {
   "cell_type": "code",
   "execution_count": 135,
   "metadata": {
    "scrolled": true
   },
   "outputs": [
    {
     "name": "stderr",
     "output_type": "stream",
     "text": [
      "C:\\Users\\Python\\Anaconda3\\lib\\site-packages\\sklearn\\preprocessing\\label.py:95: DataConversionWarning: A column-vector y was passed when a 1d array was expected. Please change the shape of y to (n_samples, ), for example using ravel().\n",
      "  y = column_or_1d(y, warn=True)\n",
      "C:\\Users\\Python\\Anaconda3\\lib\\site-packages\\sklearn\\preprocessing\\label.py:128: DataConversionWarning: A column-vector y was passed when a 1d array was expected. Please change the shape of y to (n_samples, ), for example using ravel().\n",
      "  y = column_or_1d(y, warn=True)\n"
     ]
    },
    {
     "name": "stdout",
     "output_type": "stream",
     "text": [
      "Train:  0.96\n",
      "Test:  0.84\n"
     ]
    }
   ],
   "source": [
    "data_train, data_test, target_train, target_test = train_test_split(train_scaled, y_train, test_size=0.3, random_state=42)\n",
    "xgb = xgboost.XGBClassifier(max_depth=5, n_jobs=-1)\n",
    "xgb.fit(data_train, target_train)\n",
    "y_train_predict = xgb.predict_proba(data_train)[:, 1]\n",
    "y_test_predict = xgb.predict_proba(data_test)[:, 1]\n",
    "roc_auc_train = np.round(roc_auc_score(target_train, y_train_predict), 2)\n",
    "roc_auc_test = np.round(roc_auc_score(target_test, y_test_predict), 2)\n",
    "print(\"Train: \", roc_auc_train)\n",
    "print(\"Test: \", roc_auc_test)"
   ]
  },
  {
   "cell_type": "markdown",
   "metadata": {},
   "source": [
    "# Делаем предсказания для тестовых данных"
   ]
  },
  {
   "cell_type": "code",
   "execution_count": 318,
   "metadata": {},
   "outputs": [
    {
     "name": "stderr",
     "output_type": "stream",
     "text": [
      "C:\\Users\\Python\\Anaconda3\\lib\\site-packages\\sklearn\\preprocessing\\label.py:95: DataConversionWarning: A column-vector y was passed when a 1d array was expected. Please change the shape of y to (n_samples, ), for example using ravel().\n",
      "  y = column_or_1d(y, warn=True)\n",
      "C:\\Users\\Python\\Anaconda3\\lib\\site-packages\\sklearn\\preprocessing\\label.py:128: DataConversionWarning: A column-vector y was passed when a 1d array was expected. Please change the shape of y to (n_samples, ), for example using ravel().\n",
      "  y = column_or_1d(y, warn=True)\n",
      "C:\\Users\\Python\\Anaconda3\\lib\\site-packages\\sklearn\\preprocessing\\label.py:151: DeprecationWarning: The truth value of an empty array is ambiguous. Returning False, but in future this will result in an error. Use `array.size > 0` to check that an array is not empty.\n",
      "  if diff:\n"
     ]
    }
   ],
   "source": [
    "xgb = xgboost.XGBClassifier(**params)\n",
    "xgb.fit(general_train_with_components_scaled, y_train)\n",
    "y_test_predict = xgb.predict(general_test_with_components_scaled)\n"
   ]
  },
  {
   "cell_type": "code",
   "execution_count": 319,
   "metadata": {},
   "outputs": [],
   "source": [
    "predict = pd.DataFrame(test_cl_id)\n",
    "predict['pr'] = y_test_predict\n",
    "predict.to_csv ('predict.csv', index= False)"
   ]
  },
  {
   "cell_type": "markdown",
   "metadata": {},
   "source": [
    "# Делаем PCA для набора MCC+MCC_Group"
   ]
  },
  {
   "cell_type": "code",
   "execution_count": 15,
   "metadata": {},
   "outputs": [
    {
     "data": {
      "text/plain": [
       "(10217, 405)"
      ]
     },
     "execution_count": 15,
     "metadata": {},
     "output_type": "execute_result"
    }
   ],
   "source": [
    "piv_MCC = pd.concat([piv1,piv10], axis=1).drop(columns = ['cl_id'])\n",
    "piv_MCC.shape"
   ]
  },
  {
   "cell_type": "code",
   "execution_count": 16,
   "metadata": {},
   "outputs": [],
   "source": [
    "from sklearn.decomposition import PCA\n",
    "pca = PCA(n_components=7).fit(piv_MCC)\n",
    "components = PCA(n_components=7).fit_transform(piv_MCC)\n"
   ]
  },
  {
   "cell_type": "code",
   "execution_count": 17,
   "metadata": {
    "scrolled": true
   },
   "outputs": [
    {
     "data": {
      "text/plain": [
       "Text(0,0.5,'explained_variance_ratio_')"
      ]
     },
     "execution_count": 17,
     "metadata": {},
     "output_type": "execute_result"
    },
    {
     "data": {
      "image/png": "[encoded data removed]",
      "text/plain": [
       "<matplotlib.figure.Figure at 0x17c0b1dbdd8>"
      ]
     },
     "metadata": {},
     "output_type": "display_data"
    }
   ],
   "source": [
    "# Из огромного количества кодов и групп получили 12 компонент, которые объясняют >90 процентов дисперсии\n",
    "cum_evr = np.cumsum(pca.explained_variance_ratio_)\n",
    "xs = np.arange(cum_evr.size) + 1\n",
    "plt.plot(xs, cum_evr, linewidth=2)\n",
    "plt.grid()\n",
    "plt.xlabel('n_components')\n",
    "plt.ylabel('explained_variance_ratio_')"
   ]
  },
  {
   "cell_type": "markdown",
   "metadata": {},
   "source": [
    "# попробуем создать модель без MCC"
   ]
  },
  {
   "cell_type": "code",
   "execution_count": 18,
   "metadata": {},
   "outputs": [
    {
     "data": {
      "text/plain": [
       "(10217, 7)"
      ]
     },
     "execution_count": 18,
     "metadata": {},
     "output_type": "execute_result"
    }
   ],
   "source": [
    "comp = pd.DataFrame(data=components,columns= ['component 1','component 2','component 3','component 4','component 5',\n",
    "                                                   'component 6','component 7'])  \n",
    "comp.shape"
   ]
  },
  {
   "cell_type": "markdown",
   "metadata": {},
   "source": [
    "# Делаем новый сводный датасет, без МСС, но с компонентами и channel_type для WOE"
   ]
  },
  {
   "cell_type": "code",
   "execution_count": 287,
   "metadata": {},
   "outputs": [
    {
     "name": "stderr",
     "output_type": "stream",
     "text": [
      "C:\\Users\\Python\\Anaconda3\\lib\\site-packages\\ipykernel_launcher.py:4: DeprecationWarning: \n",
      ".ix is deprecated. Please use\n",
      ".loc for label based indexing or\n",
      ".iloc for positional indexing\n",
      "\n",
      "See the documentation here:\n",
      "http://pandas.pydata.org/pandas-docs/stable/indexing.html#ix-indexer-is-deprecated\n",
      "  after removing the cwd from sys.path.\n"
     ]
    }
   ],
   "source": [
    "result_with_components = pd.concat([piv3,piv4,piv5,piv6,piv7,piv8,piv9,comp, piv11,piv12,piv13,piv14,piv15,piv16], axis=1)\n",
    "\n",
    "# Удаляем id повторяющийся id клиента\n",
    "result_with_components = result_with_components.drop(columns=['cl_id']).join(result_with_components['cl_id'].ix[:, 0:1])\n",
    "# подцепляем chanel type\n",
    "client_channel = train_test_mcc[['cl_id','channel_type']].groupby('cl_id').max().reset_index()\n",
    "result_with_components = result_with_components.merge(client_channel, how = 'inner', left_on = 'cl_id', right_on = 'cl_id')\n",
    "# Декодируем channel_type\n",
    "le = LabelEncoder()\n",
    "le.fit( result_with_components['channel_type'] )\n",
    "result_with_components['channel_type'] = le.transform(result_with_components['channel_type'])\n",
    "\n",
    "# Делим на трейн тест\n",
    "general_train_with_components = result_with_components[result_with_components['IsTrain']==1].reset_index(drop= True)\n",
    "general_test_with_components =  result_with_components[result_with_components['IsTrain']==0].reset_index(drop= True)\n",
    "general_train_with_components.drop(columns=['IsTrain'], inplace=True)\n",
    "general_test_with_components.drop(columns=['IsTrain'], inplace=True)"
   ]
  },
  {
   "cell_type": "code",
   "execution_count": 288,
   "metadata": {},
   "outputs": [],
   "source": [
    "general_train_with_components_scaled, general_test_with_components_scaled = Scal(general_train_with_components,general_test_with_components)\n"
   ]
  },
  {
   "cell_type": "code",
   "execution_count": 250,
   "metadata": {},
   "outputs": [
    {
     "name": "stdout",
     "output_type": "stream",
     "text": [
      "<class 'pandas.core.frame.DataFrame'>\n",
      "RangeIndex: 5000 entries, 0 to 4999\n",
      "Data columns (total 38 columns):\n",
      "BACK_TRX              5000 non-null float64\n",
      "C2C_IN                5000 non-null float64\n",
      "C2C_OUT               5000 non-null float64\n",
      "CASH_ADV              5000 non-null float64\n",
      "CAT                   5000 non-null float64\n",
      "DEPOSIT               5000 non-null float64\n",
      "POS                   5000 non-null float64\n",
      "WD_ATM_OTHER          5000 non-null float64\n",
      "WD_ATM_PARTNER        5000 non-null float64\n",
      "WD_ATM_ROS            5000 non-null float64\n",
      "DayDiff               5000 non-null float64\n",
      "10_GR10               5000 non-null float64\n",
      "1_GR10                5000 non-null float64\n",
      "2_GR10                5000 non-null float64\n",
      "3_GR10                5000 non-null float64\n",
      "4_GR10                5000 non-null float64\n",
      "5_GR10                5000 non-null float64\n",
      "6_GR10                5000 non-null float64\n",
      "7_GR10                5000 non-null float64\n",
      "8_GR10                5000 non-null float64\n",
      "9_GR10                5000 non-null float64\n",
      "1_GR2                 5000 non-null float64\n",
      "2_GR2                 5000 non-null float64\n",
      "Other                 5000 non-null float64\n",
      "RUB                   5000 non-null float64\n",
      "channel_type_type1    5000 non-null float64\n",
      "channel_type_type2    5000 non-null float64\n",
      "channel_type_type3    5000 non-null float64\n",
      "channel_type_type4    5000 non-null float64\n",
      "channel_type_type5    5000 non-null float64\n",
      "channel_type_type6    5000 non-null float64\n",
      "component 1           5000 non-null float64\n",
      "component 2           5000 non-null float64\n",
      "component 3           5000 non-null float64\n",
      "component 4           5000 non-null float64\n",
      "component 5           5000 non-null float64\n",
      "component 6           5000 non-null float64\n",
      "component 7           5000 non-null float64\n",
      "dtypes: float64(38)\n",
      "memory usage: 1.4 MB\n"
     ]
    }
   ],
   "source": [
    "general_train_with_components_scaled.info()"
   ]
  },
  {
   "cell_type": "markdown",
   "metadata": {},
   "source": [
    "# пробуем теперь прогнать алгоритмы"
   ]
  },
  {
   "cell_type": "code",
   "execution_count": 289,
   "metadata": {},
   "outputs": [
    {
     "name": "stderr",
     "output_type": "stream",
     "text": [
      "C:\\Users\\Python\\Anaconda3\\lib\\site-packages\\sklearn\\utils\\validation.py:578: DataConversionWarning: A column-vector y was passed when a 1d array was expected. Please change the shape of y to (n_samples, ), for example using ravel().\n",
      "  y = column_or_1d(y, warn=True)\n",
      "C:\\Users\\Python\\Anaconda3\\lib\\site-packages\\sklearn\\utils\\validation.py:578: DataConversionWarning: A column-vector y was passed when a 1d array was expected. Please change the shape of y to (n_samples, ), for example using ravel().\n",
      "  y = column_or_1d(y, warn=True)\n",
      "C:\\Users\\Python\\Anaconda3\\lib\\site-packages\\sklearn\\utils\\validation.py:578: DataConversionWarning: A column-vector y was passed when a 1d array was expected. Please change the shape of y to (n_samples, ), for example using ravel().\n",
      "  y = column_or_1d(y, warn=True)\n"
     ]
    },
    {
     "name": "stdout",
     "output_type": "stream",
     "text": [
      "Значения правильности перекрестной проверки:\n",
      "[0.81007448 0.80298792 0.80094999]\n"
     ]
    }
   ],
   "source": [
    "CrosVal (logreg,kfold,general_train_with_components_scaled,y_train)"
   ]
  },
  {
   "cell_type": "code",
   "execution_count": 320,
   "metadata": {},
   "outputs": [
    {
     "name": "stderr",
     "output_type": "stream",
     "text": [
      "C:\\Users\\Python\\Anaconda3\\lib\\site-packages\\sklearn\\model_selection\\_validation.py:458: DataConversionWarning: A column-vector y was passed when a 1d array was expected. Please change the shape of y to (n_samples,), for example using ravel().\n",
      "  estimator.fit(X_train, y_train, **fit_params)\n",
      "C:\\Users\\Python\\Anaconda3\\lib\\site-packages\\sklearn\\model_selection\\_validation.py:458: DataConversionWarning: A column-vector y was passed when a 1d array was expected. Please change the shape of y to (n_samples,), for example using ravel().\n",
      "  estimator.fit(X_train, y_train, **fit_params)\n",
      "C:\\Users\\Python\\Anaconda3\\lib\\site-packages\\sklearn\\model_selection\\_validation.py:458: DataConversionWarning: A column-vector y was passed when a 1d array was expected. Please change the shape of y to (n_samples,), for example using ravel().\n",
      "  estimator.fit(X_train, y_train, **fit_params)\n"
     ]
    },
    {
     "name": "stdout",
     "output_type": "stream",
     "text": [
      "Значения правильности перекрестной проверки:\n",
      "[0.84899114 0.83889539 0.85359599]\n"
     ]
    }
   ],
   "source": [
    "CrosVal (clf,kfold,general_train_with_components_scaled,y_train)"
   ]
  },
  {
   "cell_type": "markdown",
   "metadata": {},
   "source": [
    "# Делаем бустинг на модели с компонентами"
   ]
  },
  {
   "cell_type": "code",
   "execution_count": 25,
   "metadata": {},
   "outputs": [],
   "source": [
    "#Задаем параметры по умолчанию\n",
    "params = {'n_estimators': 50,\n",
    "          'learning_rate': 0.03,\n",
    "          'max_depth': 5,\n",
    "          'min_child_weight': 1,\n",
    "          'subsample': 0.8,\n",
    "          'colsample_bytree': 0.8,\n",
    "          'n_jobs': 4}\n",
    "\n"
   ]
  },
  {
   "cell_type": "code",
   "execution_count": 291,
   "metadata": {
    "scrolled": true
   },
   "outputs": [
    {
     "name": "stderr",
     "output_type": "stream",
     "text": [
      "C:\\Users\\Python\\Anaconda3\\lib\\site-packages\\sklearn\\preprocessing\\label.py:95: DataConversionWarning: A column-vector y was passed when a 1d array was expected. Please change the shape of y to (n_samples, ), for example using ravel().\n",
      "  y = column_or_1d(y, warn=True)\n",
      "C:\\Users\\Python\\Anaconda3\\lib\\site-packages\\sklearn\\preprocessing\\label.py:128: DataConversionWarning: A column-vector y was passed when a 1d array was expected. Please change the shape of y to (n_samples, ), for example using ravel().\n",
      "  y = column_or_1d(y, warn=True)\n"
     ]
    },
    {
     "name": "stdout",
     "output_type": "stream",
     "text": [
      "Train:  0.92\n",
      "Test:  0.86\n"
     ]
    }
   ],
   "source": [
    "data_train, data_test, target_train, target_test = train_test_split(general_train_with_components_scaled, y_train, test_size=0.4, random_state=42)\n",
    "xgb = xgboost.XGBClassifier(**params)\n",
    "xgb.fit(data_train, target_train)\n",
    "y_train_predict = xgb.predict_proba(data_train)[:, 1]\n",
    "y_test_predict = xgb.predict_proba(data_test)[:, 1]\n",
    "roc_auc_train = np.round(roc_auc_score(target_train, y_train_predict), 2)\n",
    "roc_auc_test = np.round(roc_auc_score(target_test, y_test_predict), 2)\n",
    "print(\"Train: \", roc_auc_train)\n",
    "print(\"Test: \", roc_auc_test)"
   ]
  },
  {
   "cell_type": "markdown",
   "metadata": {},
   "source": [
    "# Подберем параметры для Boosting"
   ]
  },
  {
   "cell_type": "code",
   "execution_count": 27,
   "metadata": {},
   "outputs": [],
   "source": [
    "def find_params(clf, param_grid):\n",
    "    clf = GridSearchCV(clf, param_grid, scoring='roc_auc', cv=[(np.arange(len(data_train)),\n",
    "                                                               np.arange(len(data_test)) + len(data_train))],\n",
    "                  verbose=3)\n",
    "\n",
    "    clf.fit(pd.concat([data_train, data_test]).values, pd.concat([target_train, target_test]).values)\n",
    "    best_params = clf.best_estimator_.get_params()\n",
    "    print('Best test ROC AUC: ', clf.best_score_)\n",
    "    print('Best params: ', best_params)\n",
    "    return best_params"
   ]
  },
  {
   "cell_type": "markdown",
   "metadata": {},
   "source": [
    "#### Подбираем max_depth и min_child_weight"
   ]
  },
  {
   "cell_type": "code",
   "execution_count": 28,
   "metadata": {
    "collapsed": true
   },
   "outputs": [
    {
     "name": "stdout",
     "output_type": "stream",
     "text": [
      "Fitting 1 folds for each of 9 candidates, totalling 9 fits\n",
      "[CV] max_depth=3, min_child_weight=10 ................................\n",
      "[CV]  max_depth=3, min_child_weight=10, score=0.8334371481642556, total=   0.1s\n",
      "[CV] max_depth=3, min_child_weight=20 ................................\n"
     ]
    },
    {
     "name": "stderr",
     "output_type": "stream",
     "text": [
      "C:\\Users\\Python\\Anaconda3\\lib\\site-packages\\sklearn\\preprocessing\\label.py:95: DataConversionWarning: A column-vector y was passed when a 1d array was expected. Please change the shape of y to (n_samples, ), for example using ravel().\n",
      "  y = column_or_1d(y, warn=True)\n",
      "C:\\Users\\Python\\Anaconda3\\lib\\site-packages\\sklearn\\preprocessing\\label.py:128: DataConversionWarning: A column-vector y was passed when a 1d array was expected. Please change the shape of y to (n_samples, ), for example using ravel().\n",
      "  y = column_or_1d(y, warn=True)\n",
      "[Parallel(n_jobs=1)]: Done   1 out of   1 | elapsed:    0.1s remaining:    0.0s\n",
      "C:\\Users\\Python\\Anaconda3\\lib\\site-packages\\sklearn\\preprocessing\\label.py:95: DataConversionWarning: A column-vector y was passed when a 1d array was expected. Please change the shape of y to (n_samples, ), for example using ravel().\n",
      "  y = column_or_1d(y, warn=True)\n",
      "C:\\Users\\Python\\Anaconda3\\lib\\site-packages\\sklearn\\preprocessing\\label.py:128: DataConversionWarning: A column-vector y was passed when a 1d array was expected. Please change the shape of y to (n_samples, ), for example using ravel().\n",
      "  y = column_or_1d(y, warn=True)\n"
     ]
    },
    {
     "name": "stdout",
     "output_type": "stream",
     "text": [
      "[CV]  max_depth=3, min_child_weight=20, score=0.833913206059399, total=   0.1s\n",
      "[CV] max_depth=3, min_child_weight=100 ...............................\n",
      "[CV]  max_depth=3, min_child_weight=100, score=0.8238616271933212, total=   0.0s\n",
      "[CV] max_depth=5, min_child_weight=10 ................................\n"
     ]
    },
    {
     "name": "stderr",
     "output_type": "stream",
     "text": [
      "[Parallel(n_jobs=1)]: Done   2 out of   2 | elapsed:    0.2s remaining:    0.0s\n",
      "C:\\Users\\Python\\Anaconda3\\lib\\site-packages\\sklearn\\preprocessing\\label.py:95: DataConversionWarning: A column-vector y was passed when a 1d array was expected. Please change the shape of y to (n_samples, ), for example using ravel().\n",
      "  y = column_or_1d(y, warn=True)\n",
      "C:\\Users\\Python\\Anaconda3\\lib\\site-packages\\sklearn\\preprocessing\\label.py:128: DataConversionWarning: A column-vector y was passed when a 1d array was expected. Please change the shape of y to (n_samples, ), for example using ravel().\n",
      "  y = column_or_1d(y, warn=True)\n",
      "C:\\Users\\Python\\Anaconda3\\lib\\site-packages\\sklearn\\preprocessing\\label.py:95: DataConversionWarning: A column-vector y was passed when a 1d array was expected. Please change the shape of y to (n_samples, ), for example using ravel().\n",
      "  y = column_or_1d(y, warn=True)\n",
      "C:\\Users\\Python\\Anaconda3\\lib\\site-packages\\sklearn\\preprocessing\\label.py:128: DataConversionWarning: A column-vector y was passed when a 1d array was expected. Please change the shape of y to (n_samples, ), for example using ravel().\n",
      "  y = column_or_1d(y, warn=True)\n"
     ]
    },
    {
     "name": "stdout",
     "output_type": "stream",
     "text": [
      "[CV]  max_depth=5, min_child_weight=10, score=0.8400293052501514, total=   0.1s\n",
      "[CV] max_depth=5, min_child_weight=20 ................................\n"
     ]
    },
    {
     "name": "stderr",
     "output_type": "stream",
     "text": [
      "C:\\Users\\Python\\Anaconda3\\lib\\site-packages\\sklearn\\preprocessing\\label.py:95: DataConversionWarning: A column-vector y was passed when a 1d array was expected. Please change the shape of y to (n_samples, ), for example using ravel().\n",
      "  y = column_or_1d(y, warn=True)\n",
      "C:\\Users\\Python\\Anaconda3\\lib\\site-packages\\sklearn\\preprocessing\\label.py:128: DataConversionWarning: A column-vector y was passed when a 1d array was expected. Please change the shape of y to (n_samples, ), for example using ravel().\n",
      "  y = column_or_1d(y, warn=True)\n"
     ]
    },
    {
     "name": "stdout",
     "output_type": "stream",
     "text": [
      "[CV]  max_depth=5, min_child_weight=20, score=0.8387388174660917, total=   0.2s\n",
      "[CV] max_depth=5, min_child_weight=100 ...............................\n",
      "[CV]  max_depth=5, min_child_weight=100, score=0.8238616271933212, total=   0.1s\n",
      "[CV] max_depth=10, min_child_weight=10 ...............................\n"
     ]
    },
    {
     "name": "stderr",
     "output_type": "stream",
     "text": [
      "C:\\Users\\Python\\Anaconda3\\lib\\site-packages\\sklearn\\preprocessing\\label.py:95: DataConversionWarning: A column-vector y was passed when a 1d array was expected. Please change the shape of y to (n_samples, ), for example using ravel().\n",
      "  y = column_or_1d(y, warn=True)\n",
      "C:\\Users\\Python\\Anaconda3\\lib\\site-packages\\sklearn\\preprocessing\\label.py:128: DataConversionWarning: A column-vector y was passed when a 1d array was expected. Please change the shape of y to (n_samples, ), for example using ravel().\n",
      "  y = column_or_1d(y, warn=True)\n",
      "C:\\Users\\Python\\Anaconda3\\lib\\site-packages\\sklearn\\preprocessing\\label.py:95: DataConversionWarning: A column-vector y was passed when a 1d array was expected. Please change the shape of y to (n_samples, ), for example using ravel().\n",
      "  y = column_or_1d(y, warn=True)\n",
      "C:\\Users\\Python\\Anaconda3\\lib\\site-packages\\sklearn\\preprocessing\\label.py:128: DataConversionWarning: A column-vector y was passed when a 1d array was expected. Please change the shape of y to (n_samples, ), for example using ravel().\n",
      "  y = column_or_1d(y, warn=True)\n"
     ]
    },
    {
     "name": "stdout",
     "output_type": "stream",
     "text": [
      "[CV]  max_depth=10, min_child_weight=10, score=0.8374244505773663, total=   0.3s\n",
      "[CV] max_depth=10, min_child_weight=20 ...............................\n"
     ]
    },
    {
     "name": "stderr",
     "output_type": "stream",
     "text": [
      "C:\\Users\\Python\\Anaconda3\\lib\\site-packages\\sklearn\\preprocessing\\label.py:95: DataConversionWarning: A column-vector y was passed when a 1d array was expected. Please change the shape of y to (n_samples, ), for example using ravel().\n",
      "  y = column_or_1d(y, warn=True)\n",
      "C:\\Users\\Python\\Anaconda3\\lib\\site-packages\\sklearn\\preprocessing\\label.py:128: DataConversionWarning: A column-vector y was passed when a 1d array was expected. Please change the shape of y to (n_samples, ), for example using ravel().\n",
      "  y = column_or_1d(y, warn=True)\n"
     ]
    },
    {
     "name": "stdout",
     "output_type": "stream",
     "text": [
      "[CV]  max_depth=10, min_child_weight=20, score=0.8396665460856558, total=   0.2s\n",
      "[CV] max_depth=10, min_child_weight=100 ..............................\n",
      "[CV]  max_depth=10, min_child_weight=100, score=0.8238616271933212, total=   0.1s\n"
     ]
    },
    {
     "name": "stderr",
     "output_type": "stream",
     "text": [
      "C:\\Users\\Python\\Anaconda3\\lib\\site-packages\\sklearn\\preprocessing\\label.py:95: DataConversionWarning: A column-vector y was passed when a 1d array was expected. Please change the shape of y to (n_samples, ), for example using ravel().\n",
      "  y = column_or_1d(y, warn=True)\n",
      "C:\\Users\\Python\\Anaconda3\\lib\\site-packages\\sklearn\\preprocessing\\label.py:128: DataConversionWarning: A column-vector y was passed when a 1d array was expected. Please change the shape of y to (n_samples, ), for example using ravel().\n",
      "  y = column_or_1d(y, warn=True)\n",
      "[Parallel(n_jobs=1)]: Done   9 out of   9 | elapsed:    2.0s finished\n",
      "C:\\Users\\Python\\Anaconda3\\lib\\site-packages\\sklearn\\preprocessing\\label.py:95: DataConversionWarning: A column-vector y was passed when a 1d array was expected. Please change the shape of y to (n_samples, ), for example using ravel().\n",
      "  y = column_or_1d(y, warn=True)\n",
      "C:\\Users\\Python\\Anaconda3\\lib\\site-packages\\sklearn\\preprocessing\\label.py:128: DataConversionWarning: A column-vector y was passed when a 1d array was expected. Please change the shape of y to (n_samples, ), for example using ravel().\n",
      "  y = column_or_1d(y, warn=True)\n"
     ]
    },
    {
     "name": "stdout",
     "output_type": "stream",
     "text": [
      "Best test ROC AUC:  0.8400293052501514\n",
      "Best params:  {'base_score': 0.5, 'booster': 'gbtree', 'colsample_bylevel': 1, 'colsample_bytree': 0.8, 'gamma': 0, 'learning_rate': 0.03, 'max_delta_step': 0, 'max_depth': 5, 'min_child_weight': 10, 'missing': None, 'n_estimators': 50, 'n_jobs': 4, 'nthread': None, 'objective': 'binary:logistic', 'random_state': 0, 'reg_alpha': 0, 'reg_lambda': 1, 'scale_pos_weight': 1, 'seed': None, 'silent': True, 'subsample': 0.8}\n"
     ]
    }
   ],
   "source": [
    "from sklearn.model_selection import GridSearchCV\n",
    "\n",
    "clf_xgb = xgboost.XGBClassifier(**params)\n",
    "\n",
    "param_grid = {\n",
    "    'max_depth': [3, 5, 10],\n",
    "    'min_child_weight': [10, 20, 100]#[1, 5, 10]\n",
    "}\n",
    "\n",
    "params = find_params(clf_xgb, param_grid)"
   ]
  },
  {
   "cell_type": "code",
   "execution_count": 29,
   "metadata": {
    "collapsed": true
   },
   "outputs": [
    {
     "name": "stdout",
     "output_type": "stream",
     "text": [
      "Fitting 1 folds for each of 36 candidates, totalling 36 fits\n",
      "[CV] colsample_bytree=0.5, subsample=0.5 .............................\n",
      "[CV]  colsample_bytree=0.5, subsample=0.5, score=0.8376215802073723, total=   0.1s\n",
      "[CV] colsample_bytree=0.5, subsample=0.6 .............................\n"
     ]
    },
    {
     "name": "stderr",
     "output_type": "stream",
     "text": [
      "C:\\Users\\Python\\Anaconda3\\lib\\site-packages\\sklearn\\preprocessing\\label.py:95: DataConversionWarning: A column-vector y was passed when a 1d array was expected. Please change the shape of y to (n_samples, ), for example using ravel().\n",
      "  y = column_or_1d(y, warn=True)\n",
      "C:\\Users\\Python\\Anaconda3\\lib\\site-packages\\sklearn\\preprocessing\\label.py:128: DataConversionWarning: A column-vector y was passed when a 1d array was expected. Please change the shape of y to (n_samples, ), for example using ravel().\n",
      "  y = column_or_1d(y, warn=True)\n",
      "[Parallel(n_jobs=1)]: Done   1 out of   1 | elapsed:    0.1s remaining:    0.0s\n",
      "C:\\Users\\Python\\Anaconda3\\lib\\site-packages\\sklearn\\preprocessing\\label.py:95: DataConversionWarning: A column-vector y was passed when a 1d array was expected. Please change the shape of y to (n_samples, ), for example using ravel().\n",
      "  y = column_or_1d(y, warn=True)\n",
      "C:\\Users\\Python\\Anaconda3\\lib\\site-packages\\sklearn\\preprocessing\\label.py:128: DataConversionWarning: A column-vector y was passed when a 1d array was expected. Please change the shape of y to (n_samples, ), for example using ravel().\n",
      "  y = column_or_1d(y, warn=True)\n"
     ]
    },
    {
     "name": "stdout",
     "output_type": "stream",
     "text": [
      "[CV]  colsample_bytree=0.5, subsample=0.6, score=0.8372766033548618, total=   0.1s\n",
      "[CV] colsample_bytree=0.5, subsample=0.7 .............................\n",
      "[CV]  colsample_bytree=0.5, subsample=0.7, score=0.8359673171267036, total=   0.1s\n",
      "[CV] colsample_bytree=0.5, subsample=0.8 .............................\n"
     ]
    },
    {
     "name": "stderr",
     "output_type": "stream",
     "text": [
      "[Parallel(n_jobs=1)]: Done   2 out of   2 | elapsed:    0.3s remaining:    0.0s\n",
      "C:\\Users\\Python\\Anaconda3\\lib\\site-packages\\sklearn\\preprocessing\\label.py:95: DataConversionWarning: A column-vector y was passed when a 1d array was expected. Please change the shape of y to (n_samples, ), for example using ravel().\n",
      "  y = column_or_1d(y, warn=True)\n",
      "C:\\Users\\Python\\Anaconda3\\lib\\site-packages\\sklearn\\preprocessing\\label.py:128: DataConversionWarning: A column-vector y was passed when a 1d array was expected. Please change the shape of y to (n_samples, ), for example using ravel().\n",
      "  y = column_or_1d(y, warn=True)\n",
      "C:\\Users\\Python\\Anaconda3\\lib\\site-packages\\sklearn\\preprocessing\\label.py:95: DataConversionWarning: A column-vector y was passed when a 1d array was expected. Please change the shape of y to (n_samples, ), for example using ravel().\n",
      "  y = column_or_1d(y, warn=True)\n",
      "C:\\Users\\Python\\Anaconda3\\lib\\site-packages\\sklearn\\preprocessing\\label.py:128: DataConversionWarning: A column-vector y was passed when a 1d array was expected. Please change the shape of y to (n_samples, ), for example using ravel().\n",
      "  y = column_or_1d(y, warn=True)\n",
      "C:\\Users\\Python\\Anaconda3\\lib\\site-packages\\sklearn\\preprocessing\\label.py:95: DataConversionWarning: A column-vector y was passed when a 1d array was expected. Please change the shape of y to (n_samples, ), for example using ravel().\n",
      "  y = column_or_1d(y, warn=True)\n"
     ]
    },
    {
     "name": "stdout",
     "output_type": "stream",
     "text": [
      "[CV]  colsample_bytree=0.5, subsample=0.8, score=0.8345391434412736, total=   0.1s\n",
      "[CV] colsample_bytree=0.5, subsample=0.9 .............................\n"
     ]
    },
    {
     "name": "stderr",
     "output_type": "stream",
     "text": [
      "C:\\Users\\Python\\Anaconda3\\lib\\site-packages\\sklearn\\preprocessing\\label.py:128: DataConversionWarning: A column-vector y was passed when a 1d array was expected. Please change the shape of y to (n_samples, ), for example using ravel().\n",
      "  y = column_or_1d(y, warn=True)\n"
     ]
    },
    {
     "name": "stdout",
     "output_type": "stream",
     "text": [
      "[CV]  colsample_bytree=0.5, subsample=0.9, score=0.8370535623559632, total=   0.1s\n",
      "[CV] colsample_bytree=0.5, subsample=1.0 .............................\n",
      "[CV]  colsample_bytree=0.5, subsample=1.0, score=0.8346859745316647, total=   0.1s\n",
      "[CV] colsample_bytree=0.6, subsample=0.5 .............................\n"
     ]
    },
    {
     "name": "stderr",
     "output_type": "stream",
     "text": [
      "C:\\Users\\Python\\Anaconda3\\lib\\site-packages\\sklearn\\preprocessing\\label.py:95: DataConversionWarning: A column-vector y was passed when a 1d array was expected. Please change the shape of y to (n_samples, ), for example using ravel().\n",
      "  y = column_or_1d(y, warn=True)\n",
      "C:\\Users\\Python\\Anaconda3\\lib\\site-packages\\sklearn\\preprocessing\\label.py:128: DataConversionWarning: A column-vector y was passed when a 1d array was expected. Please change the shape of y to (n_samples, ), for example using ravel().\n",
      "  y = column_or_1d(y, warn=True)\n",
      "C:\\Users\\Python\\Anaconda3\\lib\\site-packages\\sklearn\\preprocessing\\label.py:95: DataConversionWarning: A column-vector y was passed when a 1d array was expected. Please change the shape of y to (n_samples, ), for example using ravel().\n",
      "  y = column_or_1d(y, warn=True)\n",
      "C:\\Users\\Python\\Anaconda3\\lib\\site-packages\\sklearn\\preprocessing\\label.py:128: DataConversionWarning: A column-vector y was passed when a 1d array was expected. Please change the shape of y to (n_samples, ), for example using ravel().\n",
      "  y = column_or_1d(y, warn=True)\n"
     ]
    },
    {
     "name": "stdout",
     "output_type": "stream",
     "text": [
      "[CV]  colsample_bytree=0.6, subsample=0.5, score=0.8385726798655454, total=   0.1s\n",
      "[CV] colsample_bytree=0.6, subsample=0.6 .............................\n",
      "[CV]  colsample_bytree=0.6, subsample=0.6, score=0.8392336738053334, total=   0.1s\n"
     ]
    },
    {
     "name": "stderr",
     "output_type": "stream",
     "text": [
      "C:\\Users\\Python\\Anaconda3\\lib\\site-packages\\sklearn\\preprocessing\\label.py:95: DataConversionWarning: A column-vector y was passed when a 1d array was expected. Please change the shape of y to (n_samples, ), for example using ravel().\n",
      "  y = column_or_1d(y, warn=True)\n",
      "C:\\Users\\Python\\Anaconda3\\lib\\site-packages\\sklearn\\preprocessing\\label.py:128: DataConversionWarning: A column-vector y was passed when a 1d array was expected. Please change the shape of y to (n_samples, ), for example using ravel().\n",
      "  y = column_or_1d(y, warn=True)\n"
     ]
    },
    {
     "name": "stdout",
     "output_type": "stream",
     "text": [
      "[CV] colsample_bytree=0.6, subsample=0.7 .............................\n"
     ]
    },
    {
     "name": "stderr",
     "output_type": "stream",
     "text": [
      "C:\\Users\\Python\\Anaconda3\\lib\\site-packages\\sklearn\\preprocessing\\label.py:95: DataConversionWarning: A column-vector y was passed when a 1d array was expected. Please change the shape of y to (n_samples, ), for example using ravel().\n",
      "  y = column_or_1d(y, warn=True)\n",
      "C:\\Users\\Python\\Anaconda3\\lib\\site-packages\\sklearn\\preprocessing\\label.py:128: DataConversionWarning: A column-vector y was passed when a 1d array was expected. Please change the shape of y to (n_samples, ), for example using ravel().\n",
      "  y = column_or_1d(y, warn=True)\n"
     ]
    },
    {
     "name": "stdout",
     "output_type": "stream",
     "text": [
      "[CV]  colsample_bytree=0.6, subsample=0.7, score=0.838639744585032, total=   0.1s\n",
      "[CV] colsample_bytree=0.6, subsample=0.8 .............................\n"
     ]
    },
    {
     "name": "stderr",
     "output_type": "stream",
     "text": [
      "C:\\Users\\Python\\Anaconda3\\lib\\site-packages\\sklearn\\preprocessing\\label.py:95: DataConversionWarning: A column-vector y was passed when a 1d array was expected. Please change the shape of y to (n_samples, ), for example using ravel().\n",
      "  y = column_or_1d(y, warn=True)\n",
      "C:\\Users\\Python\\Anaconda3\\lib\\site-packages\\sklearn\\preprocessing\\label.py:128: DataConversionWarning: A column-vector y was passed when a 1d array was expected. Please change the shape of y to (n_samples, ), for example using ravel().\n",
      "  y = column_or_1d(y, warn=True)\n"
     ]
    },
    {
     "name": "stdout",
     "output_type": "stream",
     "text": [
      "[CV]  colsample_bytree=0.6, subsample=0.8, score=0.8370555946201901, total=   0.1s\n",
      "[CV] colsample_bytree=0.6, subsample=0.9 .............................\n"
     ]
    },
    {
     "name": "stderr",
     "output_type": "stream",
     "text": [
      "C:\\Users\\Python\\Anaconda3\\lib\\site-packages\\sklearn\\preprocessing\\label.py:95: DataConversionWarning: A column-vector y was passed when a 1d array was expected. Please change the shape of y to (n_samples, ), for example using ravel().\n",
      "  y = column_or_1d(y, warn=True)\n",
      "C:\\Users\\Python\\Anaconda3\\lib\\site-packages\\sklearn\\preprocessing\\label.py:128: DataConversionWarning: A column-vector y was passed when a 1d array was expected. Please change the shape of y to (n_samples, ), for example using ravel().\n",
      "  y = column_or_1d(y, warn=True)\n"
     ]
    },
    {
     "name": "stdout",
     "output_type": "stream",
     "text": [
      "[CV]  colsample_bytree=0.6, subsample=0.9, score=0.8374203860489124, total=   0.1s\n",
      "[CV] colsample_bytree=0.6, subsample=1.0 .............................\n"
     ]
    },
    {
     "name": "stderr",
     "output_type": "stream",
     "text": [
      "C:\\Users\\Python\\Anaconda3\\lib\\site-packages\\sklearn\\preprocessing\\label.py:95: DataConversionWarning: A column-vector y was passed when a 1d array was expected. Please change the shape of y to (n_samples, ), for example using ravel().\n",
      "  y = column_or_1d(y, warn=True)\n",
      "C:\\Users\\Python\\Anaconda3\\lib\\site-packages\\sklearn\\preprocessing\\label.py:128: DataConversionWarning: A column-vector y was passed when a 1d array was expected. Please change the shape of y to (n_samples, ), for example using ravel().\n",
      "  y = column_or_1d(y, warn=True)\n"
     ]
    },
    {
     "name": "stdout",
     "output_type": "stream",
     "text": [
      "[CV]  colsample_bytree=0.6, subsample=1.0, score=0.8374701765224708, total=   0.1s\n",
      "[CV] colsample_bytree=0.7, subsample=0.5 .............................\n"
     ]
    },
    {
     "name": "stderr",
     "output_type": "stream",
     "text": [
      "C:\\Users\\Python\\Anaconda3\\lib\\site-packages\\sklearn\\preprocessing\\label.py:95: DataConversionWarning: A column-vector y was passed when a 1d array was expected. Please change the shape of y to (n_samples, ), for example using ravel().\n",
      "  y = column_or_1d(y, warn=True)\n",
      "C:\\Users\\Python\\Anaconda3\\lib\\site-packages\\sklearn\\preprocessing\\label.py:128: DataConversionWarning: A column-vector y was passed when a 1d array was expected. Please change the shape of y to (n_samples, ), for example using ravel().\n",
      "  y = column_or_1d(y, warn=True)\n"
     ]
    },
    {
     "name": "stdout",
     "output_type": "stream",
     "text": [
      "[CV]  colsample_bytree=0.7, subsample=0.5, score=0.8395705216009365, total=   0.1s\n",
      "[CV] colsample_bytree=0.7, subsample=0.6 .............................\n"
     ]
    },
    {
     "name": "stderr",
     "output_type": "stream",
     "text": [
      "C:\\Users\\Python\\Anaconda3\\lib\\site-packages\\sklearn\\preprocessing\\label.py:95: DataConversionWarning: A column-vector y was passed when a 1d array was expected. Please change the shape of y to (n_samples, ), for example using ravel().\n",
      "  y = column_or_1d(y, warn=True)\n",
      "C:\\Users\\Python\\Anaconda3\\lib\\site-packages\\sklearn\\preprocessing\\label.py:128: DataConversionWarning: A column-vector y was passed when a 1d array was expected. Please change the shape of y to (n_samples, ), for example using ravel().\n",
      "  y = column_or_1d(y, warn=True)\n"
     ]
    },
    {
     "name": "stdout",
     "output_type": "stream",
     "text": [
      "[CV]  colsample_bytree=0.7, subsample=0.6, score=0.8380488637610707, total=   0.1s\n",
      "[CV] colsample_bytree=0.7, subsample=0.7 .............................\n"
     ]
    },
    {
     "name": "stderr",
     "output_type": "stream",
     "text": [
      "C:\\Users\\Python\\Anaconda3\\lib\\site-packages\\sklearn\\preprocessing\\label.py:95: DataConversionWarning: A column-vector y was passed when a 1d array was expected. Please change the shape of y to (n_samples, ), for example using ravel().\n",
      "  y = column_or_1d(y, warn=True)\n",
      "C:\\Users\\Python\\Anaconda3\\lib\\site-packages\\sklearn\\preprocessing\\label.py:128: DataConversionWarning: A column-vector y was passed when a 1d array was expected. Please change the shape of y to (n_samples, ), for example using ravel().\n",
      "  y = column_or_1d(y, warn=True)\n"
     ]
    },
    {
     "name": "stdout",
     "output_type": "stream",
     "text": [
      "[CV]  colsample_bytree=0.7, subsample=0.7, score=0.8398951758111783, total=   0.1s\n",
      "[CV] colsample_bytree=0.7, subsample=0.8 .............................\n"
     ]
    },
    {
     "name": "stderr",
     "output_type": "stream",
     "text": [
      "C:\\Users\\Python\\Anaconda3\\lib\\site-packages\\sklearn\\preprocessing\\label.py:95: DataConversionWarning: A column-vector y was passed when a 1d array was expected. Please change the shape of y to (n_samples, ), for example using ravel().\n",
      "  y = column_or_1d(y, warn=True)\n",
      "C:\\Users\\Python\\Anaconda3\\lib\\site-packages\\sklearn\\preprocessing\\label.py:128: DataConversionWarning: A column-vector y was passed when a 1d array was expected. Please change the shape of y to (n_samples, ), for example using ravel().\n",
      "  y = column_or_1d(y, warn=True)\n"
     ]
    },
    {
     "name": "stdout",
     "output_type": "stream",
     "text": [
      "[CV]  colsample_bytree=0.7, subsample=0.8, score=0.837387361755226, total=   0.1s\n",
      "[CV] colsample_bytree=0.7, subsample=0.9 .............................\n"
     ]
    },
    {
     "name": "stderr",
     "output_type": "stream",
     "text": [
      "C:\\Users\\Python\\Anaconda3\\lib\\site-packages\\sklearn\\preprocessing\\label.py:95: DataConversionWarning: A column-vector y was passed when a 1d array was expected. Please change the shape of y to (n_samples, ), for example using ravel().\n",
      "  y = column_or_1d(y, warn=True)\n",
      "C:\\Users\\Python\\Anaconda3\\lib\\site-packages\\sklearn\\preprocessing\\label.py:128: DataConversionWarning: A column-vector y was passed when a 1d array was expected. Please change the shape of y to (n_samples, ), for example using ravel().\n",
      "  y = column_or_1d(y, warn=True)\n"
     ]
    },
    {
     "name": "stdout",
     "output_type": "stream",
     "text": [
      "[CV]  colsample_bytree=0.7, subsample=0.9, score=0.8384680182578618, total=   0.1s\n",
      "[CV] colsample_bytree=0.7, subsample=1.0 .............................\n"
     ]
    },
    {
     "name": "stderr",
     "output_type": "stream",
     "text": [
      "C:\\Users\\Python\\Anaconda3\\lib\\site-packages\\sklearn\\preprocessing\\label.py:95: DataConversionWarning: A column-vector y was passed when a 1d array was expected. Please change the shape of y to (n_samples, ), for example using ravel().\n",
      "  y = column_or_1d(y, warn=True)\n",
      "C:\\Users\\Python\\Anaconda3\\lib\\site-packages\\sklearn\\preprocessing\\label.py:128: DataConversionWarning: A column-vector y was passed when a 1d array was expected. Please change the shape of y to (n_samples, ), for example using ravel().\n",
      "  y = column_or_1d(y, warn=True)\n"
     ]
    },
    {
     "name": "stdout",
     "output_type": "stream",
     "text": [
      "[CV]  colsample_bytree=0.7, subsample=1.0, score=0.8374417248232946, total=   0.1s\n",
      "[CV] colsample_bytree=0.8, subsample=0.5 .............................\n"
     ]
    },
    {
     "name": "stderr",
     "output_type": "stream",
     "text": [
      "C:\\Users\\Python\\Anaconda3\\lib\\site-packages\\sklearn\\preprocessing\\label.py:95: DataConversionWarning: A column-vector y was passed when a 1d array was expected. Please change the shape of y to (n_samples, ), for example using ravel().\n",
      "  y = column_or_1d(y, warn=True)\n",
      "C:\\Users\\Python\\Anaconda3\\lib\\site-packages\\sklearn\\preprocessing\\label.py:128: DataConversionWarning: A column-vector y was passed when a 1d array was expected. Please change the shape of y to (n_samples, ), for example using ravel().\n",
      "  y = column_or_1d(y, warn=True)\n"
     ]
    },
    {
     "name": "stdout",
     "output_type": "stream",
     "text": [
      "[CV]  colsample_bytree=0.8, subsample=0.5, score=0.8424314415663067, total=   0.1s\n",
      "[CV] colsample_bytree=0.8, subsample=0.6 .............................\n"
     ]
    },
    {
     "name": "stderr",
     "output_type": "stream",
     "text": [
      "C:\\Users\\Python\\Anaconda3\\lib\\site-packages\\sklearn\\preprocessing\\label.py:95: DataConversionWarning: A column-vector y was passed when a 1d array was expected. Please change the shape of y to (n_samples, ), for example using ravel().\n",
      "  y = column_or_1d(y, warn=True)\n",
      "C:\\Users\\Python\\Anaconda3\\lib\\site-packages\\sklearn\\preprocessing\\label.py:128: DataConversionWarning: A column-vector y was passed when a 1d array was expected. Please change the shape of y to (n_samples, ), for example using ravel().\n",
      "  y = column_or_1d(y, warn=True)\n"
     ]
    },
    {
     "name": "stdout",
     "output_type": "stream",
     "text": [
      "[CV]  colsample_bytree=0.8, subsample=0.6, score=0.8410307034479395, total=   0.1s\n",
      "[CV] colsample_bytree=0.8, subsample=0.7 .............................\n"
     ]
    },
    {
     "name": "stderr",
     "output_type": "stream",
     "text": [
      "C:\\Users\\Python\\Anaconda3\\lib\\site-packages\\sklearn\\preprocessing\\label.py:95: DataConversionWarning: A column-vector y was passed when a 1d array was expected. Please change the shape of y to (n_samples, ), for example using ravel().\n",
      "  y = column_or_1d(y, warn=True)\n",
      "C:\\Users\\Python\\Anaconda3\\lib\\site-packages\\sklearn\\preprocessing\\label.py:128: DataConversionWarning: A column-vector y was passed when a 1d array was expected. Please change the shape of y to (n_samples, ), for example using ravel().\n",
      "  y = column_or_1d(y, warn=True)\n"
     ]
    },
    {
     "name": "stdout",
     "output_type": "stream",
     "text": [
      "[CV]  colsample_bytree=0.8, subsample=0.7, score=0.8420371823062949, total=   0.1s\n",
      "[CV] colsample_bytree=0.8, subsample=0.8 .............................\n"
     ]
    },
    {
     "name": "stderr",
     "output_type": "stream",
     "text": [
      "C:\\Users\\Python\\Anaconda3\\lib\\site-packages\\sklearn\\preprocessing\\label.py:95: DataConversionWarning: A column-vector y was passed when a 1d array was expected. Please change the shape of y to (n_samples, ), for example using ravel().\n",
      "  y = column_or_1d(y, warn=True)\n",
      "C:\\Users\\Python\\Anaconda3\\lib\\site-packages\\sklearn\\preprocessing\\label.py:128: DataConversionWarning: A column-vector y was passed when a 1d array was expected. Please change the shape of y to (n_samples, ), for example using ravel().\n",
      "  y = column_or_1d(y, warn=True)\n"
     ]
    },
    {
     "name": "stdout",
     "output_type": "stream",
     "text": [
      "[CV]  colsample_bytree=0.8, subsample=0.8, score=0.8400293052501514, total=   0.2s\n",
      "[CV] colsample_bytree=0.8, subsample=0.9 .............................\n"
     ]
    },
    {
     "name": "stderr",
     "output_type": "stream",
     "text": [
      "C:\\Users\\Python\\Anaconda3\\lib\\site-packages\\sklearn\\preprocessing\\label.py:95: DataConversionWarning: A column-vector y was passed when a 1d array was expected. Please change the shape of y to (n_samples, ), for example using ravel().\n",
      "  y = column_or_1d(y, warn=True)\n",
      "C:\\Users\\Python\\Anaconda3\\lib\\site-packages\\sklearn\\preprocessing\\label.py:128: DataConversionWarning: A column-vector y was passed when a 1d array was expected. Please change the shape of y to (n_samples, ), for example using ravel().\n",
      "  y = column_or_1d(y, warn=True)\n"
     ]
    },
    {
     "name": "stdout",
     "output_type": "stream",
     "text": [
      "[CV]  colsample_bytree=0.8, subsample=0.9, score=0.8401964589828111, total=   0.1s\n",
      "[CV] colsample_bytree=0.8, subsample=1.0 .............................\n"
     ]
    },
    {
     "name": "stderr",
     "output_type": "stream",
     "text": [
      "C:\\Users\\Python\\Anaconda3\\lib\\site-packages\\sklearn\\preprocessing\\label.py:95: DataConversionWarning: A column-vector y was passed when a 1d array was expected. Please change the shape of y to (n_samples, ), for example using ravel().\n",
      "  y = column_or_1d(y, warn=True)\n",
      "C:\\Users\\Python\\Anaconda3\\lib\\site-packages\\sklearn\\preprocessing\\label.py:128: DataConversionWarning: A column-vector y was passed when a 1d array was expected. Please change the shape of y to (n_samples, ), for example using ravel().\n",
      "  y = column_or_1d(y, warn=True)\n"
     ]
    },
    {
     "name": "stdout",
     "output_type": "stream",
     "text": [
      "[CV]  colsample_bytree=0.8, subsample=1.0, score=0.8368015615918319, total=   0.2s\n",
      "[CV] colsample_bytree=0.9, subsample=0.5 .............................\n"
     ]
    },
    {
     "name": "stderr",
     "output_type": "stream",
     "text": [
      "C:\\Users\\Python\\Anaconda3\\lib\\site-packages\\sklearn\\preprocessing\\label.py:95: DataConversionWarning: A column-vector y was passed when a 1d array was expected. Please change the shape of y to (n_samples, ), for example using ravel().\n",
      "  y = column_or_1d(y, warn=True)\n",
      "C:\\Users\\Python\\Anaconda3\\lib\\site-packages\\sklearn\\preprocessing\\label.py:128: DataConversionWarning: A column-vector y was passed when a 1d array was expected. Please change the shape of y to (n_samples, ), for example using ravel().\n",
      "  y = column_or_1d(y, warn=True)\n"
     ]
    },
    {
     "name": "stdout",
     "output_type": "stream",
     "text": [
      "[CV]  colsample_bytree=0.9, subsample=0.5, score=0.8418466575350261, total=   0.1s\n",
      "[CV] colsample_bytree=0.9, subsample=0.6 .............................\n"
     ]
    },
    {
     "name": "stderr",
     "output_type": "stream",
     "text": [
      "C:\\Users\\Python\\Anaconda3\\lib\\site-packages\\sklearn\\preprocessing\\label.py:95: DataConversionWarning: A column-vector y was passed when a 1d array was expected. Please change the shape of y to (n_samples, ), for example using ravel().\n",
      "  y = column_or_1d(y, warn=True)\n",
      "C:\\Users\\Python\\Anaconda3\\lib\\site-packages\\sklearn\\preprocessing\\label.py:128: DataConversionWarning: A column-vector y was passed when a 1d array was expected. Please change the shape of y to (n_samples, ), for example using ravel().\n",
      "  y = column_or_1d(y, warn=True)\n"
     ]
    },
    {
     "name": "stdout",
     "output_type": "stream",
     "text": [
      "[CV]  colsample_bytree=0.9, subsample=0.6, score=0.8404896130975366, total=   0.2s\n",
      "[CV] colsample_bytree=0.9, subsample=0.7 .............................\n"
     ]
    },
    {
     "name": "stderr",
     "output_type": "stream",
     "text": [
      "C:\\Users\\Python\\Anaconda3\\lib\\site-packages\\sklearn\\preprocessing\\label.py:95: DataConversionWarning: A column-vector y was passed when a 1d array was expected. Please change the shape of y to (n_samples, ), for example using ravel().\n",
      "  y = column_or_1d(y, warn=True)\n",
      "C:\\Users\\Python\\Anaconda3\\lib\\site-packages\\sklearn\\preprocessing\\label.py:128: DataConversionWarning: A column-vector y was passed when a 1d array was expected. Please change the shape of y to (n_samples, ), for example using ravel().\n",
      "  y = column_or_1d(y, warn=True)\n"
     ]
    },
    {
     "name": "stdout",
     "output_type": "stream",
     "text": [
      "[CV]  colsample_bytree=0.9, subsample=0.7, score=0.8421128841487455, total=   0.2s\n",
      "[CV] colsample_bytree=0.9, subsample=0.8 .............................\n"
     ]
    },
    {
     "name": "stderr",
     "output_type": "stream",
     "text": [
      "C:\\Users\\Python\\Anaconda3\\lib\\site-packages\\sklearn\\preprocessing\\label.py:95: DataConversionWarning: A column-vector y was passed when a 1d array was expected. Please change the shape of y to (n_samples, ), for example using ravel().\n",
      "  y = column_or_1d(y, warn=True)\n",
      "C:\\Users\\Python\\Anaconda3\\lib\\site-packages\\sklearn\\preprocessing\\label.py:128: DataConversionWarning: A column-vector y was passed when a 1d array was expected. Please change the shape of y to (n_samples, ), for example using ravel().\n",
      "  y = column_or_1d(y, warn=True)\n"
     ]
    },
    {
     "name": "stdout",
     "output_type": "stream",
     "text": [
      "[CV]  colsample_bytree=0.9, subsample=0.8, score=0.83865549463279, total=   0.2s\n",
      "[CV] colsample_bytree=0.9, subsample=0.9 .............................\n"
     ]
    },
    {
     "name": "stderr",
     "output_type": "stream",
     "text": [
      "C:\\Users\\Python\\Anaconda3\\lib\\site-packages\\sklearn\\preprocessing\\label.py:95: DataConversionWarning: A column-vector y was passed when a 1d array was expected. Please change the shape of y to (n_samples, ), for example using ravel().\n",
      "  y = column_or_1d(y, warn=True)\n",
      "C:\\Users\\Python\\Anaconda3\\lib\\site-packages\\sklearn\\preprocessing\\label.py:128: DataConversionWarning: A column-vector y was passed when a 1d array was expected. Please change the shape of y to (n_samples, ), for example using ravel().\n",
      "  y = column_or_1d(y, warn=True)\n"
     ]
    },
    {
     "name": "stdout",
     "output_type": "stream",
     "text": [
      "[CV]  colsample_bytree=0.9, subsample=0.9, score=0.8399363291617723, total=   0.2s\n",
      "[CV] colsample_bytree=0.9, subsample=1.0 .............................\n"
     ]
    },
    {
     "name": "stderr",
     "output_type": "stream",
     "text": [
      "C:\\Users\\Python\\Anaconda3\\lib\\site-packages\\sklearn\\preprocessing\\label.py:95: DataConversionWarning: A column-vector y was passed when a 1d array was expected. Please change the shape of y to (n_samples, ), for example using ravel().\n",
      "  y = column_or_1d(y, warn=True)\n",
      "C:\\Users\\Python\\Anaconda3\\lib\\site-packages\\sklearn\\preprocessing\\label.py:128: DataConversionWarning: A column-vector y was passed when a 1d array was expected. Please change the shape of y to (n_samples, ), for example using ravel().\n",
      "  y = column_or_1d(y, warn=True)\n"
     ]
    },
    {
     "name": "stdout",
     "output_type": "stream",
     "text": [
      "[CV]  colsample_bytree=0.9, subsample=1.0, score=0.8374813539757184, total=   0.2s\n",
      "[CV] colsample_bytree=1.0, subsample=0.5 .............................\n"
     ]
    },
    {
     "name": "stderr",
     "output_type": "stream",
     "text": [
      "C:\\Users\\Python\\Anaconda3\\lib\\site-packages\\sklearn\\preprocessing\\label.py:95: DataConversionWarning: A column-vector y was passed when a 1d array was expected. Please change the shape of y to (n_samples, ), for example using ravel().\n",
      "  y = column_or_1d(y, warn=True)\n",
      "C:\\Users\\Python\\Anaconda3\\lib\\site-packages\\sklearn\\preprocessing\\label.py:128: DataConversionWarning: A column-vector y was passed when a 1d array was expected. Please change the shape of y to (n_samples, ), for example using ravel().\n",
      "  y = column_or_1d(y, warn=True)\n"
     ]
    },
    {
     "name": "stdout",
     "output_type": "stream",
     "text": [
      "[CV]  colsample_bytree=1.0, subsample=0.5, score=0.8419442062179157, total=   0.2s\n",
      "[CV] colsample_bytree=1.0, subsample=0.6 .............................\n"
     ]
    },
    {
     "name": "stderr",
     "output_type": "stream",
     "text": [
      "C:\\Users\\Python\\Anaconda3\\lib\\site-packages\\sklearn\\preprocessing\\label.py:95: DataConversionWarning: A column-vector y was passed when a 1d array was expected. Please change the shape of y to (n_samples, ), for example using ravel().\n",
      "  y = column_or_1d(y, warn=True)\n",
      "C:\\Users\\Python\\Anaconda3\\lib\\site-packages\\sklearn\\preprocessing\\label.py:128: DataConversionWarning: A column-vector y was passed when a 1d array was expected. Please change the shape of y to (n_samples, ), for example using ravel().\n",
      "  y = column_or_1d(y, warn=True)\n"
     ]
    },
    {
     "name": "stdout",
     "output_type": "stream",
     "text": [
      "[CV]  colsample_bytree=1.0, subsample=0.6, score=0.839682296133414, total=   0.2s\n",
      "[CV] colsample_bytree=1.0, subsample=0.7 .............................\n"
     ]
    },
    {
     "name": "stderr",
     "output_type": "stream",
     "text": [
      "C:\\Users\\Python\\Anaconda3\\lib\\site-packages\\sklearn\\preprocessing\\label.py:95: DataConversionWarning: A column-vector y was passed when a 1d array was expected. Please change the shape of y to (n_samples, ), for example using ravel().\n",
      "  y = column_or_1d(y, warn=True)\n",
      "C:\\Users\\Python\\Anaconda3\\lib\\site-packages\\sklearn\\preprocessing\\label.py:128: DataConversionWarning: A column-vector y was passed when a 1d array was expected. Please change the shape of y to (n_samples, ), for example using ravel().\n",
      "  y = column_or_1d(y, warn=True)\n"
     ]
    },
    {
     "name": "stdout",
     "output_type": "stream",
     "text": [
      "[CV]  colsample_bytree=1.0, subsample=0.7, score=0.8425427080327276, total=   0.2s\n",
      "[CV] colsample_bytree=1.0, subsample=0.8 .............................\n"
     ]
    },
    {
     "name": "stderr",
     "output_type": "stream",
     "text": [
      "C:\\Users\\Python\\Anaconda3\\lib\\site-packages\\sklearn\\preprocessing\\label.py:95: DataConversionWarning: A column-vector y was passed when a 1d array was expected. Please change the shape of y to (n_samples, ), for example using ravel().\n",
      "  y = column_or_1d(y, warn=True)\n",
      "C:\\Users\\Python\\Anaconda3\\lib\\site-packages\\sklearn\\preprocessing\\label.py:128: DataConversionWarning: A column-vector y was passed when a 1d array was expected. Please change the shape of y to (n_samples, ), for example using ravel().\n",
      "  y = column_or_1d(y, warn=True)\n"
     ]
    },
    {
     "name": "stdout",
     "output_type": "stream",
     "text": [
      "[CV]  colsample_bytree=1.0, subsample=0.8, score=0.8386087525555723, total=   0.2s\n",
      "[CV] colsample_bytree=1.0, subsample=0.9 .............................\n"
     ]
    },
    {
     "name": "stderr",
     "output_type": "stream",
     "text": [
      "C:\\Users\\Python\\Anaconda3\\lib\\site-packages\\sklearn\\preprocessing\\label.py:95: DataConversionWarning: A column-vector y was passed when a 1d array was expected. Please change the shape of y to (n_samples, ), for example using ravel().\n",
      "  y = column_or_1d(y, warn=True)\n",
      "C:\\Users\\Python\\Anaconda3\\lib\\site-packages\\sklearn\\preprocessing\\label.py:128: DataConversionWarning: A column-vector y was passed when a 1d array was expected. Please change the shape of y to (n_samples, ), for example using ravel().\n",
      "  y = column_or_1d(y, warn=True)\n"
     ]
    },
    {
     "name": "stdout",
     "output_type": "stream",
     "text": [
      "[CV]  colsample_bytree=1.0, subsample=0.9, score=0.8383867276887872, total=   0.2s\n",
      "[CV] colsample_bytree=1.0, subsample=1.0 .............................\n"
     ]
    },
    {
     "name": "stderr",
     "output_type": "stream",
     "text": [
      "C:\\Users\\Python\\Anaconda3\\lib\\site-packages\\sklearn\\preprocessing\\label.py:95: DataConversionWarning: A column-vector y was passed when a 1d array was expected. Please change the shape of y to (n_samples, ), for example using ravel().\n",
      "  y = column_or_1d(y, warn=True)\n",
      "C:\\Users\\Python\\Anaconda3\\lib\\site-packages\\sklearn\\preprocessing\\label.py:128: DataConversionWarning: A column-vector y was passed when a 1d array was expected. Please change the shape of y to (n_samples, ), for example using ravel().\n",
      "  y = column_or_1d(y, warn=True)\n"
     ]
    },
    {
     "name": "stdout",
     "output_type": "stream",
     "text": [
      "[CV]  colsample_bytree=1.0, subsample=1.0, score=0.8384040019347156, total=   0.2s\n"
     ]
    },
    {
     "name": "stderr",
     "output_type": "stream",
     "text": [
      "[Parallel(n_jobs=1)]: Done  36 out of  36 | elapsed:    8.8s finished\n",
      "C:\\Users\\Python\\Anaconda3\\lib\\site-packages\\sklearn\\preprocessing\\label.py:95: DataConversionWarning: A column-vector y was passed when a 1d array was expected. Please change the shape of y to (n_samples, ), for example using ravel().\n",
      "  y = column_or_1d(y, warn=True)\n",
      "C:\\Users\\Python\\Anaconda3\\lib\\site-packages\\sklearn\\preprocessing\\label.py:128: DataConversionWarning: A column-vector y was passed when a 1d array was expected. Please change the shape of y to (n_samples, ), for example using ravel().\n",
      "  y = column_or_1d(y, warn=True)\n"
     ]
    },
    {
     "name": "stdout",
     "output_type": "stream",
     "text": [
      "Best test ROC AUC:  0.8425427080327276\n",
      "Best params:  {'base_score': 0.5, 'booster': 'gbtree', 'colsample_bylevel': 1, 'colsample_bytree': 1.0, 'gamma': 0, 'learning_rate': 0.03, 'max_delta_step': 0, 'max_depth': 5, 'min_child_weight': 10, 'missing': None, 'n_estimators': 50, 'n_jobs': 4, 'nthread': None, 'objective': 'binary:logistic', 'random_state': 0, 'reg_alpha': 0, 'reg_lambda': 1, 'scale_pos_weight': 1, 'seed': None, 'silent': True, 'subsample': 0.7}\n"
     ]
    }
   ],
   "source": [
    "#### Подбираем subsample и colsample_bytree\n",
    "clf_xgb = xgboost.XGBClassifier(**params)\n",
    "\n",
    "param_grid = {\n",
    "    'subsample': np.linspace(0.5, 1, 6),\n",
    "    'colsample_bytree': np.linspace(0.5, 1, 6)\n",
    "}\n",
    "\n",
    "params = find_params(clf_xgb, param_grid)"
   ]
  },
  {
   "cell_type": "code",
   "execution_count": 30,
   "metadata": {
    "collapsed": true
   },
   "outputs": [
    {
     "name": "stdout",
     "output_type": "stream",
     "text": [
      "Fitting 1 folds for each of 25 candidates, totalling 25 fits\n",
      "[CV] reg_alpha=0, reg_lambda=0 .......................................\n"
     ]
    },
    {
     "name": "stderr",
     "output_type": "stream",
     "text": [
      "C:\\Users\\Python\\Anaconda3\\lib\\site-packages\\sklearn\\preprocessing\\label.py:95: DataConversionWarning: A column-vector y was passed when a 1d array was expected. Please change the shape of y to (n_samples, ), for example using ravel().\n",
      "  y = column_or_1d(y, warn=True)\n",
      "C:\\Users\\Python\\Anaconda3\\lib\\site-packages\\sklearn\\preprocessing\\label.py:128: DataConversionWarning: A column-vector y was passed when a 1d array was expected. Please change the shape of y to (n_samples, ), for example using ravel().\n",
      "  y = column_or_1d(y, warn=True)\n"
     ]
    },
    {
     "name": "stdout",
     "output_type": "stream",
     "text": [
      "[CV]  reg_alpha=0, reg_lambda=0, score=0.8419706256528648, total=   0.2s\n",
      "[CV] reg_alpha=0, reg_lambda=0.0001 ..................................\n"
     ]
    },
    {
     "name": "stderr",
     "output_type": "stream",
     "text": [
      "[Parallel(n_jobs=1)]: Done   1 out of   1 | elapsed:    0.2s remaining:    0.0s\n",
      "C:\\Users\\Python\\Anaconda3\\lib\\site-packages\\sklearn\\preprocessing\\label.py:95: DataConversionWarning: A column-vector y was passed when a 1d array was expected. Please change the shape of y to (n_samples, ), for example using ravel().\n",
      "  y = column_or_1d(y, warn=True)\n",
      "C:\\Users\\Python\\Anaconda3\\lib\\site-packages\\sklearn\\preprocessing\\label.py:128: DataConversionWarning: A column-vector y was passed when a 1d array was expected. Please change the shape of y to (n_samples, ), for example using ravel().\n",
      "  y = column_or_1d(y, warn=True)\n"
     ]
    },
    {
     "name": "stdout",
     "output_type": "stream",
     "text": [
      "[CV]  reg_alpha=0, reg_lambda=0.0001, score=0.8419696095207514, total=   0.2s\n",
      "[CV] reg_alpha=0, reg_lambda=0.001 ...................................\n"
     ]
    },
    {
     "name": "stderr",
     "output_type": "stream",
     "text": [
      "[Parallel(n_jobs=1)]: Done   2 out of   2 | elapsed:    0.5s remaining:    0.0s\n",
      "C:\\Users\\Python\\Anaconda3\\lib\\site-packages\\sklearn\\preprocessing\\label.py:95: DataConversionWarning: A column-vector y was passed when a 1d array was expected. Please change the shape of y to (n_samples, ), for example using ravel().\n",
      "  y = column_or_1d(y, warn=True)\n",
      "C:\\Users\\Python\\Anaconda3\\lib\\site-packages\\sklearn\\preprocessing\\label.py:128: DataConversionWarning: A column-vector y was passed when a 1d array was expected. Please change the shape of y to (n_samples, ), for example using ravel().\n",
      "  y = column_or_1d(y, warn=True)\n"
     ]
    },
    {
     "name": "stdout",
     "output_type": "stream",
     "text": [
      "[CV]  reg_alpha=0, reg_lambda=0.001, score=0.8419675772565246, total=   0.2s\n",
      "[CV] reg_alpha=0, reg_lambda=0.1 .....................................\n"
     ]
    },
    {
     "name": "stderr",
     "output_type": "stream",
     "text": [
      "C:\\Users\\Python\\Anaconda3\\lib\\site-packages\\sklearn\\preprocessing\\label.py:95: DataConversionWarning: A column-vector y was passed when a 1d array was expected. Please change the shape of y to (n_samples, ), for example using ravel().\n",
      "  y = column_or_1d(y, warn=True)\n",
      "C:\\Users\\Python\\Anaconda3\\lib\\site-packages\\sklearn\\preprocessing\\label.py:128: DataConversionWarning: A column-vector y was passed when a 1d array was expected. Please change the shape of y to (n_samples, ), for example using ravel().\n",
      "  y = column_or_1d(y, warn=True)\n"
     ]
    },
    {
     "name": "stdout",
     "output_type": "stream",
     "text": [
      "[CV]  reg_alpha=0, reg_lambda=0.1, score=0.842298328259447, total=   0.2s\n",
      "[CV] reg_alpha=0, reg_lambda=1 .......................................\n"
     ]
    },
    {
     "name": "stderr",
     "output_type": "stream",
     "text": [
      "C:\\Users\\Python\\Anaconda3\\lib\\site-packages\\sklearn\\preprocessing\\label.py:95: DataConversionWarning: A column-vector y was passed when a 1d array was expected. Please change the shape of y to (n_samples, ), for example using ravel().\n",
      "  y = column_or_1d(y, warn=True)\n",
      "C:\\Users\\Python\\Anaconda3\\lib\\site-packages\\sklearn\\preprocessing\\label.py:128: DataConversionWarning: A column-vector y was passed when a 1d array was expected. Please change the shape of y to (n_samples, ), for example using ravel().\n",
      "  y = column_or_1d(y, warn=True)\n"
     ]
    },
    {
     "name": "stdout",
     "output_type": "stream",
     "text": [
      "[CV]  reg_alpha=0, reg_lambda=1, score=0.8425427080327276, total=   0.2s\n",
      "[CV] reg_alpha=0.0001, reg_lambda=0 ..................................\n"
     ]
    },
    {
     "name": "stderr",
     "output_type": "stream",
     "text": [
      "C:\\Users\\Python\\Anaconda3\\lib\\site-packages\\sklearn\\preprocessing\\label.py:95: DataConversionWarning: A column-vector y was passed when a 1d array was expected. Please change the shape of y to (n_samples, ), for example using ravel().\n",
      "  y = column_or_1d(y, warn=True)\n",
      "C:\\Users\\Python\\Anaconda3\\lib\\site-packages\\sklearn\\preprocessing\\label.py:128: DataConversionWarning: A column-vector y was passed when a 1d array was expected. Please change the shape of y to (n_samples, ), for example using ravel().\n",
      "  y = column_or_1d(y, warn=True)\n"
     ]
    },
    {
     "name": "stdout",
     "output_type": "stream",
     "text": [
      "[CV]  reg_alpha=0.0001, reg_lambda=0, score=0.8419696095207514, total=   0.2s\n",
      "[CV] reg_alpha=0.0001, reg_lambda=0.0001 .............................\n"
     ]
    },
    {
     "name": "stderr",
     "output_type": "stream",
     "text": [
      "C:\\Users\\Python\\Anaconda3\\lib\\site-packages\\sklearn\\preprocessing\\label.py:95: DataConversionWarning: A column-vector y was passed when a 1d array was expected. Please change the shape of y to (n_samples, ), for example using ravel().\n",
      "  y = column_or_1d(y, warn=True)\n",
      "C:\\Users\\Python\\Anaconda3\\lib\\site-packages\\sklearn\\preprocessing\\label.py:128: DataConversionWarning: A column-vector y was passed when a 1d array was expected. Please change the shape of y to (n_samples, ), for example using ravel().\n",
      "  y = column_or_1d(y, warn=True)\n"
     ]
    },
    {
     "name": "stdout",
     "output_type": "stream",
     "text": [
      "[CV]  reg_alpha=0.0001, reg_lambda=0.0001, score=0.8419696095207514, total=   0.2s\n",
      "[CV] reg_alpha=0.0001, reg_lambda=0.001 ..............................\n"
     ]
    },
    {
     "name": "stderr",
     "output_type": "stream",
     "text": [
      "C:\\Users\\Python\\Anaconda3\\lib\\site-packages\\sklearn\\preprocessing\\label.py:95: DataConversionWarning: A column-vector y was passed when a 1d array was expected. Please change the shape of y to (n_samples, ), for example using ravel().\n",
      "  y = column_or_1d(y, warn=True)\n",
      "C:\\Users\\Python\\Anaconda3\\lib\\site-packages\\sklearn\\preprocessing\\label.py:128: DataConversionWarning: A column-vector y was passed when a 1d array was expected. Please change the shape of y to (n_samples, ), for example using ravel().\n",
      "  y = column_or_1d(y, warn=True)\n"
     ]
    },
    {
     "name": "stdout",
     "output_type": "stream",
     "text": [
      "[CV]  reg_alpha=0.0001, reg_lambda=0.001, score=0.8419675772565245, total=   0.2s\n",
      "[CV] reg_alpha=0.0001, reg_lambda=0.1 ................................\n"
     ]
    },
    {
     "name": "stderr",
     "output_type": "stream",
     "text": [
      "C:\\Users\\Python\\Anaconda3\\lib\\site-packages\\sklearn\\preprocessing\\label.py:95: DataConversionWarning: A column-vector y was passed when a 1d array was expected. Please change the shape of y to (n_samples, ), for example using ravel().\n",
      "  y = column_or_1d(y, warn=True)\n",
      "C:\\Users\\Python\\Anaconda3\\lib\\site-packages\\sklearn\\preprocessing\\label.py:128: DataConversionWarning: A column-vector y was passed when a 1d array was expected. Please change the shape of y to (n_samples, ), for example using ravel().\n",
      "  y = column_or_1d(y, warn=True)\n"
     ]
    },
    {
     "name": "stdout",
     "output_type": "stream",
     "text": [
      "[CV]  reg_alpha=0.0001, reg_lambda=0.1, score=0.842298328259447, total=   0.2s\n",
      "[CV] reg_alpha=0.0001, reg_lambda=1 ..................................\n"
     ]
    },
    {
     "name": "stderr",
     "output_type": "stream",
     "text": [
      "C:\\Users\\Python\\Anaconda3\\lib\\site-packages\\sklearn\\preprocessing\\label.py:95: DataConversionWarning: A column-vector y was passed when a 1d array was expected. Please change the shape of y to (n_samples, ), for example using ravel().\n",
      "  y = column_or_1d(y, warn=True)\n",
      "C:\\Users\\Python\\Anaconda3\\lib\\site-packages\\sklearn\\preprocessing\\label.py:128: DataConversionWarning: A column-vector y was passed when a 1d array was expected. Please change the shape of y to (n_samples, ), for example using ravel().\n",
      "  y = column_or_1d(y, warn=True)\n"
     ]
    },
    {
     "name": "stdout",
     "output_type": "stream",
     "text": [
      "[CV]  reg_alpha=0.0001, reg_lambda=1, score=0.8425442322308977, total=   0.2s\n",
      "[CV] reg_alpha=0.001, reg_lambda=0 ...................................\n"
     ]
    },
    {
     "name": "stderr",
     "output_type": "stream",
     "text": [
      "C:\\Users\\Python\\Anaconda3\\lib\\site-packages\\sklearn\\preprocessing\\label.py:95: DataConversionWarning: A column-vector y was passed when a 1d array was expected. Please change the shape of y to (n_samples, ), for example using ravel().\n",
      "  y = column_or_1d(y, warn=True)\n",
      "C:\\Users\\Python\\Anaconda3\\lib\\site-packages\\sklearn\\preprocessing\\label.py:128: DataConversionWarning: A column-vector y was passed when a 1d array was expected. Please change the shape of y to (n_samples, ), for example using ravel().\n",
      "  y = column_or_1d(y, warn=True)\n"
     ]
    },
    {
     "name": "stdout",
     "output_type": "stream",
     "text": [
      "[CV]  reg_alpha=0.001, reg_lambda=0, score=0.8419675772565246, total=   0.2s\n",
      "[CV] reg_alpha=0.001, reg_lambda=0.0001 ..............................\n"
     ]
    },
    {
     "name": "stderr",
     "output_type": "stream",
     "text": [
      "C:\\Users\\Python\\Anaconda3\\lib\\site-packages\\sklearn\\preprocessing\\label.py:95: DataConversionWarning: A column-vector y was passed when a 1d array was expected. Please change the shape of y to (n_samples, ), for example using ravel().\n",
      "  y = column_or_1d(y, warn=True)\n",
      "C:\\Users\\Python\\Anaconda3\\lib\\site-packages\\sklearn\\preprocessing\\label.py:128: DataConversionWarning: A column-vector y was passed when a 1d array was expected. Please change the shape of y to (n_samples, ), for example using ravel().\n",
      "  y = column_or_1d(y, warn=True)\n"
     ]
    },
    {
     "name": "stdout",
     "output_type": "stream",
     "text": [
      "[CV]  reg_alpha=0.001, reg_lambda=0.0001, score=0.8419675772565245, total=   0.2s\n",
      "[CV] reg_alpha=0.001, reg_lambda=0.001 ...............................\n"
     ]
    },
    {
     "name": "stderr",
     "output_type": "stream",
     "text": [
      "C:\\Users\\Python\\Anaconda3\\lib\\site-packages\\sklearn\\preprocessing\\label.py:95: DataConversionWarning: A column-vector y was passed when a 1d array was expected. Please change the shape of y to (n_samples, ), for example using ravel().\n",
      "  y = column_or_1d(y, warn=True)\n",
      "C:\\Users\\Python\\Anaconda3\\lib\\site-packages\\sklearn\\preprocessing\\label.py:128: DataConversionWarning: A column-vector y was passed when a 1d array was expected. Please change the shape of y to (n_samples, ), for example using ravel().\n",
      "  y = column_or_1d(y, warn=True)\n"
     ]
    },
    {
     "name": "stdout",
     "output_type": "stream",
     "text": [
      "[CV]  reg_alpha=0.001, reg_lambda=0.001, score=0.8419685933886379, total=   0.2s\n",
      "[CV] reg_alpha=0.001, reg_lambda=0.1 .................................\n"
     ]
    },
    {
     "name": "stderr",
     "output_type": "stream",
     "text": [
      "C:\\Users\\Python\\Anaconda3\\lib\\site-packages\\sklearn\\preprocessing\\label.py:95: DataConversionWarning: A column-vector y was passed when a 1d array was expected. Please change the shape of y to (n_samples, ), for example using ravel().\n",
      "  y = column_or_1d(y, warn=True)\n",
      "C:\\Users\\Python\\Anaconda3\\lib\\site-packages\\sklearn\\preprocessing\\label.py:128: DataConversionWarning: A column-vector y was passed when a 1d array was expected. Please change the shape of y to (n_samples, ), for example using ravel().\n",
      "  y = column_or_1d(y, warn=True)\n"
     ]
    },
    {
     "name": "stdout",
     "output_type": "stream",
     "text": [
      "[CV]  reg_alpha=0.001, reg_lambda=0.1, score=0.8422932475988798, total=   0.2s\n",
      "[CV] reg_alpha=0.001, reg_lambda=1 ...................................\n"
     ]
    },
    {
     "name": "stderr",
     "output_type": "stream",
     "text": [
      "C:\\Users\\Python\\Anaconda3\\lib\\site-packages\\sklearn\\preprocessing\\label.py:95: DataConversionWarning: A column-vector y was passed when a 1d array was expected. Please change the shape of y to (n_samples, ), for example using ravel().\n",
      "  y = column_or_1d(y, warn=True)\n",
      "C:\\Users\\Python\\Anaconda3\\lib\\site-packages\\sklearn\\preprocessing\\label.py:128: DataConversionWarning: A column-vector y was passed when a 1d array was expected. Please change the shape of y to (n_samples, ), for example using ravel().\n",
      "  y = column_or_1d(y, warn=True)\n"
     ]
    },
    {
     "name": "stdout",
     "output_type": "stream",
     "text": [
      "[CV]  reg_alpha=0.001, reg_lambda=1, score=0.8425421999666709, total=   0.2s\n",
      "[CV] reg_alpha=0.1, reg_lambda=0 .....................................\n"
     ]
    },
    {
     "name": "stderr",
     "output_type": "stream",
     "text": [
      "C:\\Users\\Python\\Anaconda3\\lib\\site-packages\\sklearn\\preprocessing\\label.py:95: DataConversionWarning: A column-vector y was passed when a 1d array was expected. Please change the shape of y to (n_samples, ), for example using ravel().\n",
      "  y = column_or_1d(y, warn=True)\n",
      "C:\\Users\\Python\\Anaconda3\\lib\\site-packages\\sklearn\\preprocessing\\label.py:128: DataConversionWarning: A column-vector y was passed when a 1d array was expected. Please change the shape of y to (n_samples, ), for example using ravel().\n",
      "  y = column_or_1d(y, warn=True)\n"
     ]
    },
    {
     "name": "stdout",
     "output_type": "stream",
     "text": [
      "[CV]  reg_alpha=0.1, reg_lambda=0, score=0.8425305144473665, total=   0.2s\n",
      "[CV] reg_alpha=0.1, reg_lambda=0.0001 ................................\n"
     ]
    },
    {
     "name": "stderr",
     "output_type": "stream",
     "text": [
      "C:\\Users\\Python\\Anaconda3\\lib\\site-packages\\sklearn\\preprocessing\\label.py:95: DataConversionWarning: A column-vector y was passed when a 1d array was expected. Please change the shape of y to (n_samples, ), for example using ravel().\n",
      "  y = column_or_1d(y, warn=True)\n",
      "C:\\Users\\Python\\Anaconda3\\lib\\site-packages\\sklearn\\preprocessing\\label.py:128: DataConversionWarning: A column-vector y was passed when a 1d array was expected. Please change the shape of y to (n_samples, ), for example using ravel().\n",
      "  y = column_or_1d(y, warn=True)\n"
     ]
    },
    {
     "name": "stdout",
     "output_type": "stream",
     "text": [
      "[CV]  reg_alpha=0.1, reg_lambda=0.0001, score=0.8425305144473665, total=   0.2s\n",
      "[CV] reg_alpha=0.1, reg_lambda=0.001 .................................\n"
     ]
    },
    {
     "name": "stderr",
     "output_type": "stream",
     "text": [
      "C:\\Users\\Python\\Anaconda3\\lib\\site-packages\\sklearn\\preprocessing\\label.py:95: DataConversionWarning: A column-vector y was passed when a 1d array was expected. Please change the shape of y to (n_samples, ), for example using ravel().\n",
      "  y = column_or_1d(y, warn=True)\n",
      "C:\\Users\\Python\\Anaconda3\\lib\\site-packages\\sklearn\\preprocessing\\label.py:128: DataConversionWarning: A column-vector y was passed when a 1d array was expected. Please change the shape of y to (n_samples, ), for example using ravel().\n",
      "  y = column_or_1d(y, warn=True)\n"
     ]
    },
    {
     "name": "stdout",
     "output_type": "stream",
     "text": [
      "[CV]  reg_alpha=0.1, reg_lambda=0.001, score=0.8425315305794798, total=   0.2s\n",
      "[CV] reg_alpha=0.1, reg_lambda=0.1 ...................................\n"
     ]
    },
    {
     "name": "stderr",
     "output_type": "stream",
     "text": [
      "C:\\Users\\Python\\Anaconda3\\lib\\site-packages\\sklearn\\preprocessing\\label.py:95: DataConversionWarning: A column-vector y was passed when a 1d array was expected. Please change the shape of y to (n_samples, ), for example using ravel().\n",
      "  y = column_or_1d(y, warn=True)\n",
      "C:\\Users\\Python\\Anaconda3\\lib\\site-packages\\sklearn\\preprocessing\\label.py:128: DataConversionWarning: A column-vector y was passed when a 1d array was expected. Please change the shape of y to (n_samples, ), for example using ravel().\n",
      "  y = column_or_1d(y, warn=True)\n"
     ]
    },
    {
     "name": "stdout",
     "output_type": "stream",
     "text": [
      "[CV]  reg_alpha=0.1, reg_lambda=0.1, score=0.8426463535082978, total=   0.2s\n",
      "[CV] reg_alpha=0.1, reg_lambda=1 .....................................\n"
     ]
    },
    {
     "name": "stderr",
     "output_type": "stream",
     "text": [
      "C:\\Users\\Python\\Anaconda3\\lib\\site-packages\\sklearn\\preprocessing\\label.py:95: DataConversionWarning: A column-vector y was passed when a 1d array was expected. Please change the shape of y to (n_samples, ), for example using ravel().\n",
      "  y = column_or_1d(y, warn=True)\n",
      "C:\\Users\\Python\\Anaconda3\\lib\\site-packages\\sklearn\\preprocessing\\label.py:128: DataConversionWarning: A column-vector y was passed when a 1d array was expected. Please change the shape of y to (n_samples, ), for example using ravel().\n",
      "  y = column_or_1d(y, warn=True)\n"
     ]
    },
    {
     "name": "stdout",
     "output_type": "stream",
     "text": [
      "[CV]  reg_alpha=0.1, reg_lambda=1, score=0.8422139892940321, total=   0.2s\n",
      "[CV] reg_alpha=1, reg_lambda=0 .......................................\n"
     ]
    },
    {
     "name": "stderr",
     "output_type": "stream",
     "text": [
      "C:\\Users\\Python\\Anaconda3\\lib\\site-packages\\sklearn\\preprocessing\\label.py:95: DataConversionWarning: A column-vector y was passed when a 1d array was expected. Please change the shape of y to (n_samples, ), for example using ravel().\n",
      "  y = column_or_1d(y, warn=True)\n",
      "C:\\Users\\Python\\Anaconda3\\lib\\site-packages\\sklearn\\preprocessing\\label.py:128: DataConversionWarning: A column-vector y was passed when a 1d array was expected. Please change the shape of y to (n_samples, ), for example using ravel().\n",
      "  y = column_or_1d(y, warn=True)\n"
     ]
    },
    {
     "name": "stdout",
     "output_type": "stream",
     "text": [
      "[CV]  reg_alpha=1, reg_lambda=0, score=0.8417292942759246, total=   0.2s\n",
      "[CV] reg_alpha=1, reg_lambda=0.0001 ..................................\n"
     ]
    },
    {
     "name": "stderr",
     "output_type": "stream",
     "text": [
      "C:\\Users\\Python\\Anaconda3\\lib\\site-packages\\sklearn\\preprocessing\\label.py:95: DataConversionWarning: A column-vector y was passed when a 1d array was expected. Please change the shape of y to (n_samples, ), for example using ravel().\n",
      "  y = column_or_1d(y, warn=True)\n",
      "C:\\Users\\Python\\Anaconda3\\lib\\site-packages\\sklearn\\preprocessing\\label.py:128: DataConversionWarning: A column-vector y was passed when a 1d array was expected. Please change the shape of y to (n_samples, ), for example using ravel().\n",
      "  y = column_or_1d(y, warn=True)\n"
     ]
    },
    {
     "name": "stdout",
     "output_type": "stream",
     "text": [
      "[CV]  reg_alpha=1, reg_lambda=0.0001, score=0.8417292942759246, total=   0.2s\n",
      "[CV] reg_alpha=1, reg_lambda=0.001 ...................................\n"
     ]
    },
    {
     "name": "stderr",
     "output_type": "stream",
     "text": [
      "C:\\Users\\Python\\Anaconda3\\lib\\site-packages\\sklearn\\preprocessing\\label.py:95: DataConversionWarning: A column-vector y was passed when a 1d array was expected. Please change the shape of y to (n_samples, ), for example using ravel().\n",
      "  y = column_or_1d(y, warn=True)\n",
      "C:\\Users\\Python\\Anaconda3\\lib\\site-packages\\sklearn\\preprocessing\\label.py:128: DataConversionWarning: A column-vector y was passed when a 1d array was expected. Please change the shape of y to (n_samples, ), for example using ravel().\n",
      "  y = column_or_1d(y, warn=True)\n"
     ]
    },
    {
     "name": "stdout",
     "output_type": "stream",
     "text": [
      "[CV]  reg_alpha=1, reg_lambda=0.001, score=0.8417282781438111, total=   0.2s\n",
      "[CV] reg_alpha=1, reg_lambda=0.1 .....................................\n"
     ]
    },
    {
     "name": "stderr",
     "output_type": "stream",
     "text": [
      "C:\\Users\\Python\\Anaconda3\\lib\\site-packages\\sklearn\\preprocessing\\label.py:95: DataConversionWarning: A column-vector y was passed when a 1d array was expected. Please change the shape of y to (n_samples, ), for example using ravel().\n",
      "  y = column_or_1d(y, warn=True)\n",
      "C:\\Users\\Python\\Anaconda3\\lib\\site-packages\\sklearn\\preprocessing\\label.py:128: DataConversionWarning: A column-vector y was passed when a 1d array was expected. Please change the shape of y to (n_samples, ), for example using ravel().\n",
      "  y = column_or_1d(y, warn=True)\n"
     ]
    },
    {
     "name": "stdout",
     "output_type": "stream",
     "text": [
      "[CV]  reg_alpha=1, reg_lambda=0.1, score=0.8419624965959573, total=   0.2s\n",
      "[CV] reg_alpha=1, reg_lambda=1 .......................................\n"
     ]
    },
    {
     "name": "stderr",
     "output_type": "stream",
     "text": [
      "C:\\Users\\Python\\Anaconda3\\lib\\site-packages\\sklearn\\preprocessing\\label.py:95: DataConversionWarning: A column-vector y was passed when a 1d array was expected. Please change the shape of y to (n_samples, ), for example using ravel().\n",
      "  y = column_or_1d(y, warn=True)\n",
      "C:\\Users\\Python\\Anaconda3\\lib\\site-packages\\sklearn\\preprocessing\\label.py:128: DataConversionWarning: A column-vector y was passed when a 1d array was expected. Please change the shape of y to (n_samples, ), for example using ravel().\n",
      "  y = column_or_1d(y, warn=True)\n"
     ]
    },
    {
     "name": "stdout",
     "output_type": "stream",
     "text": [
      "[CV]  reg_alpha=1, reg_lambda=1, score=0.8418380204120619, total=   0.2s\n"
     ]
    },
    {
     "name": "stderr",
     "output_type": "stream",
     "text": [
      "[Parallel(n_jobs=1)]: Done  25 out of  25 | elapsed:    7.2s finished\n",
      "C:\\Users\\Python\\Anaconda3\\lib\\site-packages\\sklearn\\preprocessing\\label.py:95: DataConversionWarning: A column-vector y was passed when a 1d array was expected. Please change the shape of y to (n_samples, ), for example using ravel().\n",
      "  y = column_or_1d(y, warn=True)\n",
      "C:\\Users\\Python\\Anaconda3\\lib\\site-packages\\sklearn\\preprocessing\\label.py:128: DataConversionWarning: A column-vector y was passed when a 1d array was expected. Please change the shape of y to (n_samples, ), for example using ravel().\n",
      "  y = column_or_1d(y, warn=True)\n"
     ]
    },
    {
     "name": "stdout",
     "output_type": "stream",
     "text": [
      "Best test ROC AUC:  0.8426463535082978\n",
      "Best params:  {'base_score': 0.5, 'booster': 'gbtree', 'colsample_bylevel': 1, 'colsample_bytree': 1.0, 'gamma': 0, 'learning_rate': 0.03, 'max_delta_step': 0, 'max_depth': 5, 'min_child_weight': 10, 'missing': None, 'n_estimators': 50, 'n_jobs': 4, 'nthread': None, 'objective': 'binary:logistic', 'random_state': 0, 'reg_alpha': 0.1, 'reg_lambda': 0.1, 'scale_pos_weight': 1, 'seed': None, 'silent': True, 'subsample': 0.7}\n"
     ]
    }
   ],
   "source": [
    "#### Подбираем регуляризацию: reg_lambda и reg_alpha\n",
    "clf_xgb = xgboost.XGBClassifier(**params)\n",
    "\n",
    "param_grid = {\n",
    "    'reg_alpha': [0, 0.0001, 0.001, 0.1, 1],\n",
    "    'reg_lambda': [0, 0.0001, 0.001, 0.1, 1]\n",
    "}\n",
    "\n",
    "params = find_params(clf_xgb, param_grid)"
   ]
  },
  {
   "cell_type": "code",
   "execution_count": 37,
   "metadata": {
    "collapsed": true
   },
   "outputs": [
    {
     "name": "stdout",
     "output_type": "stream",
     "text": [
      "[0]\tvalidation_0-auc:0.823461\tvalidation_1-auc:0.806123\n",
      "[1]\tvalidation_0-auc:0.835572\tvalidation_1-auc:0.818475\n",
      "[2]\tvalidation_0-auc:0.840313\tvalidation_1-auc:0.822649\n",
      "[3]\tvalidation_0-auc:0.843002\tvalidation_1-auc:0.826907\n",
      "[4]\tvalidation_0-auc:0.845187\tvalidation_1-auc:0.828148\n",
      "[5]\tvalidation_0-auc:0.846796\tvalidation_1-auc:0.829333\n",
      "[6]\tvalidation_0-auc:0.847929\tvalidation_1-auc:0.829292\n",
      "[7]\tvalidation_0-auc:0.847453\tvalidation_1-auc:0.829823\n",
      "[8]\tvalidation_0-auc:0.848878\tvalidation_1-auc:0.830544\n",
      "[9]\tvalidation_0-auc:0.848776\tvalidation_1-auc:0.830186\n",
      "[10]\tvalidation_0-auc:0.850306\tvalidation_1-auc:0.831429\n",
      "[11]\tvalidation_0-auc:0.85067\tvalidation_1-auc:0.831472\n",
      "[12]\tvalidation_0-auc:0.851051\tvalidation_1-auc:0.832091\n",
      "[13]\tvalidation_0-auc:0.851975\tvalidation_1-auc:0.832449\n",
      "[14]\tvalidation_0-auc:0.852597\tvalidation_1-auc:0.833467\n",
      "[15]\tvalidation_0-auc:0.852719\tvalidation_1-auc:0.833964\n",
      "[16]\tvalidation_0-auc:0.852646\tvalidation_1-auc:0.834072\n",
      "[17]\tvalidation_0-auc:0.853409\tvalidation_1-auc:0.834273\n",
      "[18]\tvalidation_0-auc:0.853329\tvalidation_1-auc:0.834529\n"
     ]
    },
    {
     "name": "stderr",
     "output_type": "stream",
     "text": [
      "C:\\Users\\Python\\Anaconda3\\lib\\site-packages\\sklearn\\preprocessing\\label.py:95: DataConversionWarning: A column-vector y was passed when a 1d array was expected. Please change the shape of y to (n_samples, ), for example using ravel().\n",
      "  y = column_or_1d(y, warn=True)\n",
      "C:\\Users\\Python\\Anaconda3\\lib\\site-packages\\sklearn\\preprocessing\\label.py:128: DataConversionWarning: A column-vector y was passed when a 1d array was expected. Please change the shape of y to (n_samples, ), for example using ravel().\n",
      "  y = column_or_1d(y, warn=True)\n"
     ]
    },
    {
     "name": "stdout",
     "output_type": "stream",
     "text": [
      "[19]\tvalidation_0-auc:0.853658\tvalidation_1-auc:0.834152\n",
      "[20]\tvalidation_0-auc:0.853347\tvalidation_1-auc:0.83396\n",
      "[21]\tvalidation_0-auc:0.854369\tvalidation_1-auc:0.834222\n",
      "[22]\tvalidation_0-auc:0.854402\tvalidation_1-auc:0.834223\n",
      "[23]\tvalidation_0-auc:0.854764\tvalidation_1-auc:0.834305\n",
      "[24]\tvalidation_0-auc:0.855111\tvalidation_1-auc:0.834656\n",
      "[25]\tvalidation_0-auc:0.855308\tvalidation_1-auc:0.834783\n",
      "[26]\tvalidation_0-auc:0.855288\tvalidation_1-auc:0.834927\n",
      "[27]\tvalidation_0-auc:0.855482\tvalidation_1-auc:0.835647\n",
      "[28]\tvalidation_0-auc:0.856067\tvalidation_1-auc:0.835698\n",
      "[29]\tvalidation_0-auc:0.856122\tvalidation_1-auc:0.836003\n",
      "[30]\tvalidation_0-auc:0.856456\tvalidation_1-auc:0.836077\n",
      "[31]\tvalidation_0-auc:0.856896\tvalidation_1-auc:0.836488\n",
      "[32]\tvalidation_0-auc:0.857078\tvalidation_1-auc:0.836509\n",
      "[33]\tvalidation_0-auc:0.857086\tvalidation_1-auc:0.836352\n",
      "[34]\tvalidation_0-auc:0.857201\tvalidation_1-auc:0.836458\n",
      "[35]\tvalidation_0-auc:0.857403\tvalidation_1-auc:0.836462\n",
      "[36]\tvalidation_0-auc:0.857716\tvalidation_1-auc:0.836711\n",
      "[37]\tvalidation_0-auc:0.857825\tvalidation_1-auc:0.836608\n",
      "[38]\tvalidation_0-auc:0.858239\tvalidation_1-auc:0.836859\n",
      "[39]\tvalidation_0-auc:0.858353\tvalidation_1-auc:0.836908\n",
      "[40]\tvalidation_0-auc:0.858664\tvalidation_1-auc:0.836981\n",
      "[41]\tvalidation_0-auc:0.858925\tvalidation_1-auc:0.836702\n",
      "[42]\tvalidation_0-auc:0.858934\tvalidation_1-auc:0.836535\n",
      "[43]\tvalidation_0-auc:0.859034\tvalidation_1-auc:0.836637\n",
      "[44]\tvalidation_0-auc:0.8593\tvalidation_1-auc:0.83662\n",
      "[45]\tvalidation_0-auc:0.859452\tvalidation_1-auc:0.836776\n",
      "[46]\tvalidation_0-auc:0.859753\tvalidation_1-auc:0.836815\n",
      "[47]\tvalidation_0-auc:0.860025\tvalidation_1-auc:0.836968\n",
      "[48]\tvalidation_0-auc:0.860299\tvalidation_1-auc:0.83717\n",
      "[49]\tvalidation_0-auc:0.860575\tvalidation_1-auc:0.837481\n",
      "[50]\tvalidation_0-auc:0.860593\tvalidation_1-auc:0.837675\n",
      "[51]\tvalidation_0-auc:0.860689\tvalidation_1-auc:0.837805\n",
      "[52]\tvalidation_0-auc:0.860924\tvalidation_1-auc:0.837779\n",
      "[53]\tvalidation_0-auc:0.860868\tvalidation_1-auc:0.837639\n",
      "[54]\tvalidation_0-auc:0.86076\tvalidation_1-auc:0.837739\n",
      "[55]\tvalidation_0-auc:0.861056\tvalidation_1-auc:0.837665\n",
      "[56]\tvalidation_0-auc:0.861165\tvalidation_1-auc:0.837741\n",
      "[57]\tvalidation_0-auc:0.861321\tvalidation_1-auc:0.837553\n",
      "[58]\tvalidation_0-auc:0.861623\tvalidation_1-auc:0.837768\n",
      "[59]\tvalidation_0-auc:0.861761\tvalidation_1-auc:0.837802\n",
      "[60]\tvalidation_0-auc:0.861674\tvalidation_1-auc:0.837748\n",
      "[61]\tvalidation_0-auc:0.862038\tvalidation_1-auc:0.837638\n",
      "[62]\tvalidation_0-auc:0.862216\tvalidation_1-auc:0.83768\n",
      "[63]\tvalidation_0-auc:0.862425\tvalidation_1-auc:0.837832\n",
      "[64]\tvalidation_0-auc:0.862623\tvalidation_1-auc:0.837771\n",
      "[65]\tvalidation_0-auc:0.862898\tvalidation_1-auc:0.837896\n",
      "[66]\tvalidation_0-auc:0.863176\tvalidation_1-auc:0.837977\n",
      "[67]\tvalidation_0-auc:0.863633\tvalidation_1-auc:0.838024\n",
      "[68]\tvalidation_0-auc:0.863929\tvalidation_1-auc:0.838171\n",
      "[69]\tvalidation_0-auc:0.864166\tvalidation_1-auc:0.838429\n",
      "[70]\tvalidation_0-auc:0.864331\tvalidation_1-auc:0.838404\n",
      "[71]\tvalidation_0-auc:0.864392\tvalidation_1-auc:0.83862\n",
      "[72]\tvalidation_0-auc:0.864588\tvalidation_1-auc:0.838561\n",
      "[73]\tvalidation_0-auc:0.864706\tvalidation_1-auc:0.838622\n",
      "[74]\tvalidation_0-auc:0.864843\tvalidation_1-auc:0.838612\n",
      "[75]\tvalidation_0-auc:0.865116\tvalidation_1-auc:0.83887\n",
      "[76]\tvalidation_0-auc:0.865174\tvalidation_1-auc:0.838995\n",
      "[77]\tvalidation_0-auc:0.865322\tvalidation_1-auc:0.839265\n",
      "[78]\tvalidation_0-auc:0.865654\tvalidation_1-auc:0.839437\n",
      "[79]\tvalidation_0-auc:0.865782\tvalidation_1-auc:0.839324\n",
      "[80]\tvalidation_0-auc:0.865894\tvalidation_1-auc:0.839318\n",
      "[81]\tvalidation_0-auc:0.865884\tvalidation_1-auc:0.839352\n",
      "[82]\tvalidation_0-auc:0.865986\tvalidation_1-auc:0.839365\n",
      "[83]\tvalidation_0-auc:0.866091\tvalidation_1-auc:0.839337\n",
      "[84]\tvalidation_0-auc:0.866335\tvalidation_1-auc:0.839463\n",
      "[85]\tvalidation_0-auc:0.866542\tvalidation_1-auc:0.839678\n",
      "[86]\tvalidation_0-auc:0.866723\tvalidation_1-auc:0.839648\n",
      "[87]\tvalidation_0-auc:0.866981\tvalidation_1-auc:0.839442\n",
      "[88]\tvalidation_0-auc:0.867136\tvalidation_1-auc:0.839352\n",
      "[89]\tvalidation_0-auc:0.86725\tvalidation_1-auc:0.839363\n",
      "[90]\tvalidation_0-auc:0.867325\tvalidation_1-auc:0.839448\n",
      "[91]\tvalidation_0-auc:0.867316\tvalidation_1-auc:0.839404\n",
      "[92]\tvalidation_0-auc:0.867434\tvalidation_1-auc:0.839384\n",
      "[93]\tvalidation_0-auc:0.86746\tvalidation_1-auc:0.839425\n",
      "[94]\tvalidation_0-auc:0.867562\tvalidation_1-auc:0.839546\n",
      "[95]\tvalidation_0-auc:0.867751\tvalidation_1-auc:0.839626\n",
      "[96]\tvalidation_0-auc:0.868108\tvalidation_1-auc:0.8399\n",
      "[97]\tvalidation_0-auc:0.868273\tvalidation_1-auc:0.839795\n",
      "[98]\tvalidation_0-auc:0.868409\tvalidation_1-auc:0.839897\n",
      "[99]\tvalidation_0-auc:0.868503\tvalidation_1-auc:0.839872\n",
      "[100]\tvalidation_0-auc:0.868636\tvalidation_1-auc:0.839995\n",
      "[101]\tvalidation_0-auc:0.868834\tvalidation_1-auc:0.839975\n",
      "[102]\tvalidation_0-auc:0.868968\tvalidation_1-auc:0.839925\n",
      "[103]\tvalidation_0-auc:0.869059\tvalidation_1-auc:0.839961\n",
      "[104]\tvalidation_0-auc:0.869233\tvalidation_1-auc:0.839962\n",
      "[105]\tvalidation_0-auc:0.869347\tvalidation_1-auc:0.83993\n",
      "[106]\tvalidation_0-auc:0.869403\tvalidation_1-auc:0.83991\n",
      "[107]\tvalidation_0-auc:0.869542\tvalidation_1-auc:0.840104\n",
      "[108]\tvalidation_0-auc:0.869852\tvalidation_1-auc:0.839964\n",
      "[109]\tvalidation_0-auc:0.87003\tvalidation_1-auc:0.840014\n",
      "[110]\tvalidation_0-auc:0.87021\tvalidation_1-auc:0.840071\n",
      "[111]\tvalidation_0-auc:0.870326\tvalidation_1-auc:0.84008\n",
      "[112]\tvalidation_0-auc:0.87053\tvalidation_1-auc:0.840103\n",
      "[113]\tvalidation_0-auc:0.87075\tvalidation_1-auc:0.840076\n",
      "[114]\tvalidation_0-auc:0.870933\tvalidation_1-auc:0.840133\n",
      "[115]\tvalidation_0-auc:0.871012\tvalidation_1-auc:0.840209\n",
      "[116]\tvalidation_0-auc:0.871181\tvalidation_1-auc:0.840331\n",
      "[117]\tvalidation_0-auc:0.871265\tvalidation_1-auc:0.84038\n",
      "[118]\tvalidation_0-auc:0.871379\tvalidation_1-auc:0.840259\n",
      "[119]\tvalidation_0-auc:0.871558\tvalidation_1-auc:0.840358\n",
      "[120]\tvalidation_0-auc:0.871563\tvalidation_1-auc:0.840384\n",
      "[121]\tvalidation_0-auc:0.871849\tvalidation_1-auc:0.840442\n",
      "[122]\tvalidation_0-auc:0.872047\tvalidation_1-auc:0.84055\n",
      "[123]\tvalidation_0-auc:0.872155\tvalidation_1-auc:0.840644\n",
      "[124]\tvalidation_0-auc:0.872339\tvalidation_1-auc:0.840754\n",
      "[125]\tvalidation_0-auc:0.872619\tvalidation_1-auc:0.840723\n",
      "[126]\tvalidation_0-auc:0.872808\tvalidation_1-auc:0.840766\n",
      "[127]\tvalidation_0-auc:0.872957\tvalidation_1-auc:0.840664\n",
      "[128]\tvalidation_0-auc:0.87301\tvalidation_1-auc:0.840726\n",
      "[129]\tvalidation_0-auc:0.873067\tvalidation_1-auc:0.84076\n",
      "[130]\tvalidation_0-auc:0.87324\tvalidation_1-auc:0.8408\n",
      "[131]\tvalidation_0-auc:0.87341\tvalidation_1-auc:0.840913\n",
      "[132]\tvalidation_0-auc:0.873613\tvalidation_1-auc:0.840985\n",
      "[133]\tvalidation_0-auc:0.873695\tvalidation_1-auc:0.841033\n",
      "[134]\tvalidation_0-auc:0.873871\tvalidation_1-auc:0.841123\n",
      "[135]\tvalidation_0-auc:0.874\tvalidation_1-auc:0.841229\n",
      "[136]\tvalidation_0-auc:0.874083\tvalidation_1-auc:0.841271\n",
      "[137]\tvalidation_0-auc:0.874292\tvalidation_1-auc:0.841272\n",
      "[138]\tvalidation_0-auc:0.87439\tvalidation_1-auc:0.841273\n",
      "[139]\tvalidation_0-auc:0.874408\tvalidation_1-auc:0.841395\n",
      "[140]\tvalidation_0-auc:0.874509\tvalidation_1-auc:0.841304\n",
      "[141]\tvalidation_0-auc:0.874624\tvalidation_1-auc:0.841347\n",
      "[142]\tvalidation_0-auc:0.874688\tvalidation_1-auc:0.841281\n",
      "[143]\tvalidation_0-auc:0.874789\tvalidation_1-auc:0.841345\n",
      "[144]\tvalidation_0-auc:0.874848\tvalidation_1-auc:0.841472\n",
      "[145]\tvalidation_0-auc:0.875143\tvalidation_1-auc:0.841508\n",
      "[146]\tvalidation_0-auc:0.875388\tvalidation_1-auc:0.841469\n",
      "[147]\tvalidation_0-auc:0.875566\tvalidation_1-auc:0.841441\n",
      "[148]\tvalidation_0-auc:0.875704\tvalidation_1-auc:0.841454\n",
      "[149]\tvalidation_0-auc:0.875796\tvalidation_1-auc:0.841456\n",
      "[150]\tvalidation_0-auc:0.875919\tvalidation_1-auc:0.841466\n",
      "[151]\tvalidation_0-auc:0.875999\tvalidation_1-auc:0.841543\n",
      "[152]\tvalidation_0-auc:0.876077\tvalidation_1-auc:0.841539\n",
      "[153]\tvalidation_0-auc:0.876165\tvalidation_1-auc:0.841562\n",
      "[154]\tvalidation_0-auc:0.876388\tvalidation_1-auc:0.841781\n",
      "[155]\tvalidation_0-auc:0.876522\tvalidation_1-auc:0.84186\n",
      "[156]\tvalidation_0-auc:0.876579\tvalidation_1-auc:0.841818\n",
      "[157]\tvalidation_0-auc:0.876799\tvalidation_1-auc:0.84173\n",
      "[158]\tvalidation_0-auc:0.876968\tvalidation_1-auc:0.841653\n",
      "[159]\tvalidation_0-auc:0.877059\tvalidation_1-auc:0.841605\n",
      "[160]\tvalidation_0-auc:0.877198\tvalidation_1-auc:0.841606\n",
      "[161]\tvalidation_0-auc:0.877381\tvalidation_1-auc:0.841635\n",
      "[162]\tvalidation_0-auc:0.877518\tvalidation_1-auc:0.841644\n"
     ]
    },
    {
     "name": "stdout",
     "output_type": "stream",
     "text": [
      "[163]\tvalidation_0-auc:0.877619\tvalidation_1-auc:0.841642\n",
      "[164]\tvalidation_0-auc:0.877777\tvalidation_1-auc:0.841739\n",
      "[165]\tvalidation_0-auc:0.877883\tvalidation_1-auc:0.841843\n",
      "[166]\tvalidation_0-auc:0.877956\tvalidation_1-auc:0.841863\n",
      "[167]\tvalidation_0-auc:0.878046\tvalidation_1-auc:0.84185\n",
      "[168]\tvalidation_0-auc:0.878152\tvalidation_1-auc:0.841919\n",
      "[169]\tvalidation_0-auc:0.878245\tvalidation_1-auc:0.841937\n",
      "[170]\tvalidation_0-auc:0.878427\tvalidation_1-auc:0.841868\n",
      "[171]\tvalidation_0-auc:0.878555\tvalidation_1-auc:0.841926\n",
      "[172]\tvalidation_0-auc:0.87867\tvalidation_1-auc:0.841868\n",
      "[173]\tvalidation_0-auc:0.878789\tvalidation_1-auc:0.841907\n",
      "[174]\tvalidation_0-auc:0.878846\tvalidation_1-auc:0.841983\n",
      "[175]\tvalidation_0-auc:0.878984\tvalidation_1-auc:0.841941\n",
      "[176]\tvalidation_0-auc:0.879128\tvalidation_1-auc:0.841983\n",
      "[177]\tvalidation_0-auc:0.879347\tvalidation_1-auc:0.842036\n",
      "[178]\tvalidation_0-auc:0.879508\tvalidation_1-auc:0.842017\n",
      "[179]\tvalidation_0-auc:0.879691\tvalidation_1-auc:0.842171\n",
      "[180]\tvalidation_0-auc:0.879875\tvalidation_1-auc:0.842181\n",
      "[181]\tvalidation_0-auc:0.87995\tvalidation_1-auc:0.842195\n",
      "[182]\tvalidation_0-auc:0.880097\tvalidation_1-auc:0.842227\n",
      "[183]\tvalidation_0-auc:0.880366\tvalidation_1-auc:0.842267\n",
      "[184]\tvalidation_0-auc:0.880535\tvalidation_1-auc:0.842251\n",
      "[185]\tvalidation_0-auc:0.880728\tvalidation_1-auc:0.84228\n",
      "[186]\tvalidation_0-auc:0.880855\tvalidation_1-auc:0.842273\n",
      "[187]\tvalidation_0-auc:0.880997\tvalidation_1-auc:0.842244\n",
      "[188]\tvalidation_0-auc:0.881063\tvalidation_1-auc:0.842243\n",
      "[189]\tvalidation_0-auc:0.881142\tvalidation_1-auc:0.842182\n",
      "[190]\tvalidation_0-auc:0.881306\tvalidation_1-auc:0.842165\n",
      "[191]\tvalidation_0-auc:0.881423\tvalidation_1-auc:0.842202\n",
      "[192]\tvalidation_0-auc:0.881563\tvalidation_1-auc:0.842163\n",
      "[193]\tvalidation_0-auc:0.881633\tvalidation_1-auc:0.842125\n",
      "[194]\tvalidation_0-auc:0.881727\tvalidation_1-auc:0.842133\n",
      "[195]\tvalidation_0-auc:0.881888\tvalidation_1-auc:0.842099\n",
      "[196]\tvalidation_0-auc:0.88197\tvalidation_1-auc:0.842088\n",
      "[197]\tvalidation_0-auc:0.882073\tvalidation_1-auc:0.84199\n",
      "[198]\tvalidation_0-auc:0.882136\tvalidation_1-auc:0.842\n",
      "[199]\tvalidation_0-auc:0.882251\tvalidation_1-auc:0.842108\n",
      "[200]\tvalidation_0-auc:0.882387\tvalidation_1-auc:0.842179\n",
      "[201]\tvalidation_0-auc:0.882545\tvalidation_1-auc:0.842172\n",
      "[202]\tvalidation_0-auc:0.882717\tvalidation_1-auc:0.842282\n",
      "[203]\tvalidation_0-auc:0.882829\tvalidation_1-auc:0.84232\n",
      "[204]\tvalidation_0-auc:0.882983\tvalidation_1-auc:0.842329\n",
      "[205]\tvalidation_0-auc:0.883051\tvalidation_1-auc:0.842242\n",
      "[206]\tvalidation_0-auc:0.883183\tvalidation_1-auc:0.842357\n",
      "[207]\tvalidation_0-auc:0.883386\tvalidation_1-auc:0.842395\n",
      "[208]\tvalidation_0-auc:0.883462\tvalidation_1-auc:0.842443\n",
      "[209]\tvalidation_0-auc:0.883654\tvalidation_1-auc:0.842443\n",
      "[210]\tvalidation_0-auc:0.883808\tvalidation_1-auc:0.842512\n",
      "[211]\tvalidation_0-auc:0.883908\tvalidation_1-auc:0.842445\n",
      "[212]\tvalidation_0-auc:0.884058\tvalidation_1-auc:0.842445\n",
      "[213]\tvalidation_0-auc:0.884327\tvalidation_1-auc:0.842646\n",
      "[214]\tvalidation_0-auc:0.88438\tvalidation_1-auc:0.842641\n",
      "[215]\tvalidation_0-auc:0.884494\tvalidation_1-auc:0.842661\n",
      "[216]\tvalidation_0-auc:0.884623\tvalidation_1-auc:0.842674\n",
      "[217]\tvalidation_0-auc:0.884781\tvalidation_1-auc:0.842614\n",
      "[218]\tvalidation_0-auc:0.884935\tvalidation_1-auc:0.842746\n",
      "[219]\tvalidation_0-auc:0.885079\tvalidation_1-auc:0.842737\n",
      "[220]\tvalidation_0-auc:0.885268\tvalidation_1-auc:0.842692\n",
      "[221]\tvalidation_0-auc:0.885338\tvalidation_1-auc:0.842636\n",
      "[222]\tvalidation_0-auc:0.885452\tvalidation_1-auc:0.842704\n",
      "[223]\tvalidation_0-auc:0.885606\tvalidation_1-auc:0.842842\n",
      "[224]\tvalidation_0-auc:0.885668\tvalidation_1-auc:0.84289\n",
      "[225]\tvalidation_0-auc:0.88579\tvalidation_1-auc:0.8428\n",
      "[226]\tvalidation_0-auc:0.88592\tvalidation_1-auc:0.84281\n",
      "[227]\tvalidation_0-auc:0.886122\tvalidation_1-auc:0.842759\n",
      "[228]\tvalidation_0-auc:0.886255\tvalidation_1-auc:0.842726\n",
      "[229]\tvalidation_0-auc:0.886363\tvalidation_1-auc:0.84268\n",
      "[230]\tvalidation_0-auc:0.886494\tvalidation_1-auc:0.842724\n",
      "[231]\tvalidation_0-auc:0.886584\tvalidation_1-auc:0.842791\n",
      "[232]\tvalidation_0-auc:0.886692\tvalidation_1-auc:0.842838\n",
      "[233]\tvalidation_0-auc:0.886805\tvalidation_1-auc:0.842873\n",
      "[234]\tvalidation_0-auc:0.886902\tvalidation_1-auc:0.842959\n",
      "[235]\tvalidation_0-auc:0.887001\tvalidation_1-auc:0.843025\n",
      "[236]\tvalidation_0-auc:0.887119\tvalidation_1-auc:0.842943\n",
      "[237]\tvalidation_0-auc:0.88723\tvalidation_1-auc:0.842966\n",
      "[238]\tvalidation_0-auc:0.887414\tvalidation_1-auc:0.843112\n",
      "[239]\tvalidation_0-auc:0.887452\tvalidation_1-auc:0.843123\n",
      "[240]\tvalidation_0-auc:0.887552\tvalidation_1-auc:0.843091\n",
      "[241]\tvalidation_0-auc:0.887681\tvalidation_1-auc:0.843107\n",
      "[242]\tvalidation_0-auc:0.887723\tvalidation_1-auc:0.843102\n",
      "[243]\tvalidation_0-auc:0.887769\tvalidation_1-auc:0.843094\n",
      "[244]\tvalidation_0-auc:0.887936\tvalidation_1-auc:0.843154\n",
      "[245]\tvalidation_0-auc:0.888023\tvalidation_1-auc:0.843201\n",
      "[246]\tvalidation_0-auc:0.888146\tvalidation_1-auc:0.843221\n",
      "[247]\tvalidation_0-auc:0.88828\tvalidation_1-auc:0.843271\n",
      "[248]\tvalidation_0-auc:0.888609\tvalidation_1-auc:0.843261\n",
      "[249]\tvalidation_0-auc:0.888787\tvalidation_1-auc:0.843355\n",
      "[250]\tvalidation_0-auc:0.888861\tvalidation_1-auc:0.843364\n",
      "[251]\tvalidation_0-auc:0.889147\tvalidation_1-auc:0.843375\n",
      "[252]\tvalidation_0-auc:0.889297\tvalidation_1-auc:0.843471\n",
      "[253]\tvalidation_0-auc:0.88941\tvalidation_1-auc:0.843443\n",
      "[254]\tvalidation_0-auc:0.889487\tvalidation_1-auc:0.843409\n",
      "[255]\tvalidation_0-auc:0.889559\tvalidation_1-auc:0.843459\n",
      "[256]\tvalidation_0-auc:0.889656\tvalidation_1-auc:0.843446\n",
      "[257]\tvalidation_0-auc:0.889683\tvalidation_1-auc:0.843413\n",
      "[258]\tvalidation_0-auc:0.889852\tvalidation_1-auc:0.843339\n",
      "[259]\tvalidation_0-auc:0.889988\tvalidation_1-auc:0.843445\n",
      "[260]\tvalidation_0-auc:0.89016\tvalidation_1-auc:0.843513\n",
      "[261]\tvalidation_0-auc:0.890337\tvalidation_1-auc:0.843533\n",
      "[262]\tvalidation_0-auc:0.890425\tvalidation_1-auc:0.843513\n",
      "[263]\tvalidation_0-auc:0.890607\tvalidation_1-auc:0.843391\n",
      "[264]\tvalidation_0-auc:0.890692\tvalidation_1-auc:0.843435\n",
      "[265]\tvalidation_0-auc:0.89077\tvalidation_1-auc:0.843502\n",
      "[266]\tvalidation_0-auc:0.890939\tvalidation_1-auc:0.843452\n",
      "[267]\tvalidation_0-auc:0.891001\tvalidation_1-auc:0.843475\n",
      "[268]\tvalidation_0-auc:0.891108\tvalidation_1-auc:0.843554\n",
      "[269]\tvalidation_0-auc:0.89122\tvalidation_1-auc:0.84358\n",
      "[270]\tvalidation_0-auc:0.891386\tvalidation_1-auc:0.843602\n",
      "[271]\tvalidation_0-auc:0.891456\tvalidation_1-auc:0.843532\n",
      "[272]\tvalidation_0-auc:0.89154\tvalidation_1-auc:0.843522\n",
      "[273]\tvalidation_0-auc:0.891706\tvalidation_1-auc:0.843546\n",
      "[274]\tvalidation_0-auc:0.891813\tvalidation_1-auc:0.84363\n",
      "[275]\tvalidation_0-auc:0.891947\tvalidation_1-auc:0.843628\n",
      "[276]\tvalidation_0-auc:0.891981\tvalidation_1-auc:0.843641\n",
      "[277]\tvalidation_0-auc:0.892034\tvalidation_1-auc:0.843665\n",
      "[278]\tvalidation_0-auc:0.892235\tvalidation_1-auc:0.843676\n",
      "[279]\tvalidation_0-auc:0.892319\tvalidation_1-auc:0.843753\n",
      "[280]\tvalidation_0-auc:0.89256\tvalidation_1-auc:0.843813\n",
      "[281]\tvalidation_0-auc:0.892698\tvalidation_1-auc:0.843778\n",
      "[282]\tvalidation_0-auc:0.892785\tvalidation_1-auc:0.843808\n",
      "[283]\tvalidation_0-auc:0.892965\tvalidation_1-auc:0.843811\n",
      "[284]\tvalidation_0-auc:0.893017\tvalidation_1-auc:0.843796\n",
      "[285]\tvalidation_0-auc:0.893067\tvalidation_1-auc:0.84386\n",
      "[286]\tvalidation_0-auc:0.893137\tvalidation_1-auc:0.843835\n",
      "[287]\tvalidation_0-auc:0.893248\tvalidation_1-auc:0.843796\n",
      "[288]\tvalidation_0-auc:0.893391\tvalidation_1-auc:0.843845\n",
      "[289]\tvalidation_0-auc:0.893421\tvalidation_1-auc:0.843866\n",
      "[290]\tvalidation_0-auc:0.893527\tvalidation_1-auc:0.843879\n",
      "[291]\tvalidation_0-auc:0.893651\tvalidation_1-auc:0.843815\n",
      "[292]\tvalidation_0-auc:0.893738\tvalidation_1-auc:0.843858\n",
      "[293]\tvalidation_0-auc:0.893846\tvalidation_1-auc:0.843928\n",
      "[294]\tvalidation_0-auc:0.893944\tvalidation_1-auc:0.843984\n",
      "[295]\tvalidation_0-auc:0.894019\tvalidation_1-auc:0.843923\n",
      "[296]\tvalidation_0-auc:0.89416\tvalidation_1-auc:0.843949\n",
      "[297]\tvalidation_0-auc:0.894217\tvalidation_1-auc:0.843993\n",
      "[298]\tvalidation_0-auc:0.894279\tvalidation_1-auc:0.844021\n",
      "[299]\tvalidation_0-auc:0.894396\tvalidation_1-auc:0.843966\n",
      "[300]\tvalidation_0-auc:0.894431\tvalidation_1-auc:0.844102\n",
      "[301]\tvalidation_0-auc:0.894484\tvalidation_1-auc:0.844112\n",
      "[302]\tvalidation_0-auc:0.894519\tvalidation_1-auc:0.844173\n",
      "[303]\tvalidation_0-auc:0.89458\tvalidation_1-auc:0.844169\n",
      "[304]\tvalidation_0-auc:0.894714\tvalidation_1-auc:0.844148\n"
     ]
    },
    {
     "name": "stdout",
     "output_type": "stream",
     "text": [
      "[305]\tvalidation_0-auc:0.894852\tvalidation_1-auc:0.844127\n",
      "[306]\tvalidation_0-auc:0.894924\tvalidation_1-auc:0.844114\n",
      "[307]\tvalidation_0-auc:0.894973\tvalidation_1-auc:0.84411\n",
      "[308]\tvalidation_0-auc:0.895051\tvalidation_1-auc:0.844128\n",
      "[309]\tvalidation_0-auc:0.895065\tvalidation_1-auc:0.844096\n",
      "[310]\tvalidation_0-auc:0.895124\tvalidation_1-auc:0.844101\n",
      "[311]\tvalidation_0-auc:0.89518\tvalidation_1-auc:0.84413\n",
      "[312]\tvalidation_0-auc:0.895304\tvalidation_1-auc:0.844138\n",
      "[313]\tvalidation_0-auc:0.895418\tvalidation_1-auc:0.844107\n",
      "[314]\tvalidation_0-auc:0.89549\tvalidation_1-auc:0.844105\n",
      "[315]\tvalidation_0-auc:0.895617\tvalidation_1-auc:0.844072\n",
      "[316]\tvalidation_0-auc:0.895719\tvalidation_1-auc:0.844062\n",
      "[317]\tvalidation_0-auc:0.895803\tvalidation_1-auc:0.844062\n",
      "[318]\tvalidation_0-auc:0.895967\tvalidation_1-auc:0.844009\n",
      "[319]\tvalidation_0-auc:0.896063\tvalidation_1-auc:0.843968\n",
      "[320]\tvalidation_0-auc:0.896154\tvalidation_1-auc:0.843992\n",
      "[321]\tvalidation_0-auc:0.896373\tvalidation_1-auc:0.844029\n",
      "[322]\tvalidation_0-auc:0.896483\tvalidation_1-auc:0.844036\n",
      "[323]\tvalidation_0-auc:0.896647\tvalidation_1-auc:0.844012\n",
      "[324]\tvalidation_0-auc:0.896736\tvalidation_1-auc:0.843995\n",
      "[325]\tvalidation_0-auc:0.896913\tvalidation_1-auc:0.844036\n",
      "[326]\tvalidation_0-auc:0.896961\tvalidation_1-auc:0.844074\n",
      "[327]\tvalidation_0-auc:0.897001\tvalidation_1-auc:0.844082\n",
      "[328]\tvalidation_0-auc:0.89713\tvalidation_1-auc:0.844095\n",
      "[329]\tvalidation_0-auc:0.897305\tvalidation_1-auc:0.844069\n",
      "[330]\tvalidation_0-auc:0.897346\tvalidation_1-auc:0.844018\n",
      "[331]\tvalidation_0-auc:0.897473\tvalidation_1-auc:0.844163\n",
      "[332]\tvalidation_0-auc:0.897563\tvalidation_1-auc:0.844192\n",
      "[333]\tvalidation_0-auc:0.897716\tvalidation_1-auc:0.84426\n",
      "[334]\tvalidation_0-auc:0.897826\tvalidation_1-auc:0.844283\n",
      "[335]\tvalidation_0-auc:0.897888\tvalidation_1-auc:0.84429\n",
      "[336]\tvalidation_0-auc:0.89793\tvalidation_1-auc:0.84433\n",
      "[337]\tvalidation_0-auc:0.897967\tvalidation_1-auc:0.844278\n",
      "[338]\tvalidation_0-auc:0.898032\tvalidation_1-auc:0.844296\n",
      "[339]\tvalidation_0-auc:0.898159\tvalidation_1-auc:0.844256\n",
      "[340]\tvalidation_0-auc:0.898192\tvalidation_1-auc:0.844303\n",
      "[341]\tvalidation_0-auc:0.898337\tvalidation_1-auc:0.844256\n",
      "[342]\tvalidation_0-auc:0.898378\tvalidation_1-auc:0.844249\n",
      "[343]\tvalidation_0-auc:0.898508\tvalidation_1-auc:0.844278\n",
      "[344]\tvalidation_0-auc:0.89857\tvalidation_1-auc:0.844237\n",
      "[345]\tvalidation_0-auc:0.898712\tvalidation_1-auc:0.844241\n",
      "[346]\tvalidation_0-auc:0.898824\tvalidation_1-auc:0.844176\n",
      "[347]\tvalidation_0-auc:0.898874\tvalidation_1-auc:0.844241\n",
      "[348]\tvalidation_0-auc:0.898958\tvalidation_1-auc:0.844196\n",
      "[349]\tvalidation_0-auc:0.899137\tvalidation_1-auc:0.844164\n",
      "[350]\tvalidation_0-auc:0.899251\tvalidation_1-auc:0.844196\n",
      "[351]\tvalidation_0-auc:0.899311\tvalidation_1-auc:0.844192\n",
      "[352]\tvalidation_0-auc:0.8994\tvalidation_1-auc:0.844172\n",
      "[353]\tvalidation_0-auc:0.899535\tvalidation_1-auc:0.84427\n",
      "[354]\tvalidation_0-auc:0.89965\tvalidation_1-auc:0.844254\n",
      "[355]\tvalidation_0-auc:0.899791\tvalidation_1-auc:0.84425\n",
      "[356]\tvalidation_0-auc:0.899926\tvalidation_1-auc:0.844303\n",
      "[357]\tvalidation_0-auc:0.900023\tvalidation_1-auc:0.844314\n",
      "[358]\tvalidation_0-auc:0.900092\tvalidation_1-auc:0.844309\n",
      "[359]\tvalidation_0-auc:0.900229\tvalidation_1-auc:0.844323\n",
      "[360]\tvalidation_0-auc:0.900381\tvalidation_1-auc:0.844361\n",
      "[361]\tvalidation_0-auc:0.900501\tvalidation_1-auc:0.844348\n",
      "[362]\tvalidation_0-auc:0.900616\tvalidation_1-auc:0.844272\n",
      "[363]\tvalidation_0-auc:0.900654\tvalidation_1-auc:0.844239\n",
      "[364]\tvalidation_0-auc:0.900743\tvalidation_1-auc:0.844216\n",
      "[365]\tvalidation_0-auc:0.900839\tvalidation_1-auc:0.844256\n",
      "[366]\tvalidation_0-auc:0.900944\tvalidation_1-auc:0.844247\n",
      "[367]\tvalidation_0-auc:0.901067\tvalidation_1-auc:0.844186\n",
      "[368]\tvalidation_0-auc:0.901177\tvalidation_1-auc:0.844119\n",
      "[369]\tvalidation_0-auc:0.901224\tvalidation_1-auc:0.844092\n",
      "[370]\tvalidation_0-auc:0.901295\tvalidation_1-auc:0.844089\n",
      "[371]\tvalidation_0-auc:0.901404\tvalidation_1-auc:0.84403\n",
      "[372]\tvalidation_0-auc:0.901527\tvalidation_1-auc:0.844047\n",
      "[373]\tvalidation_0-auc:0.901583\tvalidation_1-auc:0.844002\n",
      "[374]\tvalidation_0-auc:0.901698\tvalidation_1-auc:0.844094\n",
      "[375]\tvalidation_0-auc:0.901745\tvalidation_1-auc:0.844095\n",
      "[376]\tvalidation_0-auc:0.901874\tvalidation_1-auc:0.844129\n",
      "[377]\tvalidation_0-auc:0.901924\tvalidation_1-auc:0.844152\n",
      "[378]\tvalidation_0-auc:0.902039\tvalidation_1-auc:0.844129\n",
      "[379]\tvalidation_0-auc:0.902132\tvalidation_1-auc:0.844173\n",
      "[380]\tvalidation_0-auc:0.902276\tvalidation_1-auc:0.844231\n",
      "[381]\tvalidation_0-auc:0.902383\tvalidation_1-auc:0.844163\n",
      "[382]\tvalidation_0-auc:0.902448\tvalidation_1-auc:0.844187\n",
      "[383]\tvalidation_0-auc:0.90255\tvalidation_1-auc:0.8442\n",
      "[384]\tvalidation_0-auc:0.90257\tvalidation_1-auc:0.844154\n",
      "[385]\tvalidation_0-auc:0.902627\tvalidation_1-auc:0.844164\n",
      "[386]\tvalidation_0-auc:0.902805\tvalidation_1-auc:0.844167\n",
      "[387]\tvalidation_0-auc:0.902927\tvalidation_1-auc:0.844222\n",
      "[388]\tvalidation_0-auc:0.90296\tvalidation_1-auc:0.844196\n",
      "[389]\tvalidation_0-auc:0.903087\tvalidation_1-auc:0.844145\n",
      "[390]\tvalidation_0-auc:0.903184\tvalidation_1-auc:0.844165\n",
      "[391]\tvalidation_0-auc:0.903233\tvalidation_1-auc:0.844205\n",
      "[392]\tvalidation_0-auc:0.90341\tvalidation_1-auc:0.844177\n",
      "[393]\tvalidation_0-auc:0.903437\tvalidation_1-auc:0.844188\n",
      "[394]\tvalidation_0-auc:0.903504\tvalidation_1-auc:0.84418\n",
      "[395]\tvalidation_0-auc:0.903584\tvalidation_1-auc:0.844109\n",
      "[396]\tvalidation_0-auc:0.903614\tvalidation_1-auc:0.844153\n",
      "[397]\tvalidation_0-auc:0.903776\tvalidation_1-auc:0.844117\n",
      "[398]\tvalidation_0-auc:0.903809\tvalidation_1-auc:0.844091\n",
      "[399]\tvalidation_0-auc:0.903916\tvalidation_1-auc:0.84416\n",
      "[400]\tvalidation_0-auc:0.904015\tvalidation_1-auc:0.844166\n",
      "[401]\tvalidation_0-auc:0.90406\tvalidation_1-auc:0.844124\n",
      "[402]\tvalidation_0-auc:0.90422\tvalidation_1-auc:0.844167\n",
      "[403]\tvalidation_0-auc:0.904292\tvalidation_1-auc:0.844186\n",
      "[404]\tvalidation_0-auc:0.904398\tvalidation_1-auc:0.844152\n",
      "[405]\tvalidation_0-auc:0.904468\tvalidation_1-auc:0.844204\n",
      "[406]\tvalidation_0-auc:0.904519\tvalidation_1-auc:0.844171\n",
      "[407]\tvalidation_0-auc:0.904667\tvalidation_1-auc:0.844216\n",
      "[408]\tvalidation_0-auc:0.90474\tvalidation_1-auc:0.84423\n",
      "[409]\tvalidation_0-auc:0.904847\tvalidation_1-auc:0.844164\n",
      "[410]\tvalidation_0-auc:0.904928\tvalidation_1-auc:0.84414\n",
      "[411]\tvalidation_0-auc:0.904994\tvalidation_1-auc:0.844131\n",
      "[412]\tvalidation_0-auc:0.905041\tvalidation_1-auc:0.844119\n",
      "[413]\tvalidation_0-auc:0.905122\tvalidation_1-auc:0.844201\n",
      "[414]\tvalidation_0-auc:0.905218\tvalidation_1-auc:0.844259\n",
      "[415]\tvalidation_0-auc:0.905335\tvalidation_1-auc:0.844235\n",
      "[416]\tvalidation_0-auc:0.905427\tvalidation_1-auc:0.844192\n",
      "[417]\tvalidation_0-auc:0.905526\tvalidation_1-auc:0.844085\n",
      "[418]\tvalidation_0-auc:0.905697\tvalidation_1-auc:0.844083\n",
      "[419]\tvalidation_0-auc:0.905814\tvalidation_1-auc:0.84412\n",
      "[420]\tvalidation_0-auc:0.90591\tvalidation_1-auc:0.844231\n",
      "[421]\tvalidation_0-auc:0.906085\tvalidation_1-auc:0.844278\n",
      "[422]\tvalidation_0-auc:0.9062\tvalidation_1-auc:0.844268\n",
      "[423]\tvalidation_0-auc:0.906242\tvalidation_1-auc:0.844246\n",
      "[424]\tvalidation_0-auc:0.906309\tvalidation_1-auc:0.844259\n",
      "[425]\tvalidation_0-auc:0.90642\tvalidation_1-auc:0.844249\n",
      "[426]\tvalidation_0-auc:0.906467\tvalidation_1-auc:0.844259\n",
      "[427]\tvalidation_0-auc:0.906635\tvalidation_1-auc:0.844248\n",
      "[428]\tvalidation_0-auc:0.90669\tvalidation_1-auc:0.844253\n",
      "[429]\tvalidation_0-auc:0.906816\tvalidation_1-auc:0.844248\n",
      "[430]\tvalidation_0-auc:0.90687\tvalidation_1-auc:0.844238\n",
      "[431]\tvalidation_0-auc:0.906924\tvalidation_1-auc:0.844274\n",
      "[432]\tvalidation_0-auc:0.906972\tvalidation_1-auc:0.844266\n",
      "[433]\tvalidation_0-auc:0.907113\tvalidation_1-auc:0.844245\n",
      "[434]\tvalidation_0-auc:0.907179\tvalidation_1-auc:0.844268\n",
      "[435]\tvalidation_0-auc:0.907243\tvalidation_1-auc:0.844228\n",
      "[436]\tvalidation_0-auc:0.907306\tvalidation_1-auc:0.844191\n",
      "[437]\tvalidation_0-auc:0.907366\tvalidation_1-auc:0.844172\n",
      "[438]\tvalidation_0-auc:0.907469\tvalidation_1-auc:0.844153\n",
      "[439]\tvalidation_0-auc:0.907562\tvalidation_1-auc:0.844088\n",
      "[440]\tvalidation_0-auc:0.907689\tvalidation_1-auc:0.844055\n",
      "[441]\tvalidation_0-auc:0.907758\tvalidation_1-auc:0.844046\n",
      "[442]\tvalidation_0-auc:0.907847\tvalidation_1-auc:0.844079\n",
      "[443]\tvalidation_0-auc:0.907898\tvalidation_1-auc:0.844059\n",
      "[444]\tvalidation_0-auc:0.907973\tvalidation_1-auc:0.844018\n",
      "[445]\tvalidation_0-auc:0.908052\tvalidation_1-auc:0.843997\n",
      "[446]\tvalidation_0-auc:0.908213\tvalidation_1-auc:0.843978\n"
     ]
    },
    {
     "name": "stdout",
     "output_type": "stream",
     "text": [
      "[447]\tvalidation_0-auc:0.908265\tvalidation_1-auc:0.843993\n",
      "[448]\tvalidation_0-auc:0.90843\tvalidation_1-auc:0.844002\n",
      "[449]\tvalidation_0-auc:0.908583\tvalidation_1-auc:0.844025\n",
      "[450]\tvalidation_0-auc:0.908656\tvalidation_1-auc:0.844027\n",
      "[451]\tvalidation_0-auc:0.908746\tvalidation_1-auc:0.844007\n",
      "[452]\tvalidation_0-auc:0.908802\tvalidation_1-auc:0.843969\n",
      "[453]\tvalidation_0-auc:0.908996\tvalidation_1-auc:0.843993\n",
      "[454]\tvalidation_0-auc:0.909063\tvalidation_1-auc:0.843978\n",
      "[455]\tvalidation_0-auc:0.90921\tvalidation_1-auc:0.844027\n",
      "[456]\tvalidation_0-auc:0.909294\tvalidation_1-auc:0.843996\n",
      "[457]\tvalidation_0-auc:0.909442\tvalidation_1-auc:0.843986\n",
      "[458]\tvalidation_0-auc:0.909546\tvalidation_1-auc:0.844003\n",
      "[459]\tvalidation_0-auc:0.9098\tvalidation_1-auc:0.844019\n",
      "[460]\tvalidation_0-auc:0.90986\tvalidation_1-auc:0.84397\n",
      "[461]\tvalidation_0-auc:0.909971\tvalidation_1-auc:0.843983\n",
      "[462]\tvalidation_0-auc:0.910015\tvalidation_1-auc:0.843988\n",
      "[463]\tvalidation_0-auc:0.910079\tvalidation_1-auc:0.844001\n",
      "[464]\tvalidation_0-auc:0.910184\tvalidation_1-auc:0.844001\n",
      "[465]\tvalidation_0-auc:0.91025\tvalidation_1-auc:0.844021\n",
      "[466]\tvalidation_0-auc:0.910297\tvalidation_1-auc:0.844047\n",
      "[467]\tvalidation_0-auc:0.910343\tvalidation_1-auc:0.844056\n",
      "[468]\tvalidation_0-auc:0.910533\tvalidation_1-auc:0.844062\n",
      "[469]\tvalidation_0-auc:0.910642\tvalidation_1-auc:0.843939\n",
      "[470]\tvalidation_0-auc:0.910703\tvalidation_1-auc:0.84405\n",
      "[471]\tvalidation_0-auc:0.910778\tvalidation_1-auc:0.844058\n",
      "[472]\tvalidation_0-auc:0.910888\tvalidation_1-auc:0.844114\n",
      "[473]\tvalidation_0-auc:0.910941\tvalidation_1-auc:0.844145\n",
      "[474]\tvalidation_0-auc:0.911039\tvalidation_1-auc:0.84411\n",
      "[475]\tvalidation_0-auc:0.911124\tvalidation_1-auc:0.844084\n",
      "[476]\tvalidation_0-auc:0.911131\tvalidation_1-auc:0.844045\n",
      "[477]\tvalidation_0-auc:0.911306\tvalidation_1-auc:0.844027\n",
      "[478]\tvalidation_0-auc:0.91135\tvalidation_1-auc:0.843998\n",
      "[479]\tvalidation_0-auc:0.911386\tvalidation_1-auc:0.844033\n",
      "[480]\tvalidation_0-auc:0.91145\tvalidation_1-auc:0.844027\n",
      "[481]\tvalidation_0-auc:0.911498\tvalidation_1-auc:0.844056\n",
      "[482]\tvalidation_0-auc:0.911627\tvalidation_1-auc:0.84401\n",
      "[483]\tvalidation_0-auc:0.911671\tvalidation_1-auc:0.843967\n",
      "[484]\tvalidation_0-auc:0.911765\tvalidation_1-auc:0.844083\n",
      "[485]\tvalidation_0-auc:0.911801\tvalidation_1-auc:0.844042\n",
      "[486]\tvalidation_0-auc:0.911882\tvalidation_1-auc:0.844039\n",
      "[487]\tvalidation_0-auc:0.911948\tvalidation_1-auc:0.844028\n",
      "[488]\tvalidation_0-auc:0.912006\tvalidation_1-auc:0.844035\n",
      "[489]\tvalidation_0-auc:0.912048\tvalidation_1-auc:0.844069\n",
      "[490]\tvalidation_0-auc:0.912101\tvalidation_1-auc:0.844021\n",
      "[491]\tvalidation_0-auc:0.912222\tvalidation_1-auc:0.843958\n",
      "[492]\tvalidation_0-auc:0.912276\tvalidation_1-auc:0.843992\n",
      "[493]\tvalidation_0-auc:0.912349\tvalidation_1-auc:0.843978\n",
      "[494]\tvalidation_0-auc:0.912471\tvalidation_1-auc:0.843994\n",
      "[495]\tvalidation_0-auc:0.912538\tvalidation_1-auc:0.843981\n",
      "[496]\tvalidation_0-auc:0.912676\tvalidation_1-auc:0.843972\n",
      "[497]\tvalidation_0-auc:0.912815\tvalidation_1-auc:0.843958\n",
      "[498]\tvalidation_0-auc:0.912879\tvalidation_1-auc:0.843968\n",
      "[499]\tvalidation_0-auc:0.912906\tvalidation_1-auc:0.843992\n"
     ]
    },
    {
     "data": {
      "text/plain": [
       "XGBClassifier(base_score=0.5, booster='gbtree', colsample_bylevel=1,\n",
       "       colsample_bytree=1.0, gamma=0, learning_rate=0.01, max_delta_step=0,\n",
       "       max_depth=5, min_child_weight=10, missing=None, n_estimators=500,\n",
       "       n_jobs=4, nthread=None, objective='binary:logistic', random_state=0,\n",
       "       reg_alpha=0.1, reg_lambda=0.1, scale_pos_weight=1, seed=None,\n",
       "       silent=True, subsample=0.7)"
      ]
     },
     "execution_count": 37,
     "metadata": {},
     "output_type": "execute_result"
    }
   ],
   "source": [
    "#### Уменьшим learning_rate\n",
    "params['learning_rate'] = 0.01\n",
    "params['n_estimators'] = 500\n",
    "\n",
    "clf_xgb = xgboost.XGBClassifier(**params)\n",
    "\n",
    "clf_xgb.fit(data_train, target_train, eval_metric='auc', eval_set=[[data_train, target_train], [data_test, target_test]])"
   ]
  },
  {
   "cell_type": "markdown",
   "metadata": {},
   "source": [
    "# посмотрим как распределяются значения количества операций в последние дни полльзования для двух параметров таргета"
   ]
  },
  {
   "cell_type": "code",
   "execution_count": 38,
   "metadata": {
    "collapsed": true
   },
   "outputs": [
    {
     "name": "stderr",
     "output_type": "stream",
     "text": [
      "C:\\Users\\Python\\Anaconda3\\lib\\site-packages\\ipykernel_launcher.py:3: SettingWithCopyWarning: \n",
      "A value is trying to be set on a copy of a slice from a DataFrame.\n",
      "Try using .loc[row_indexer,col_indexer] = value instead\n",
      "\n",
      "See the caveats in the documentation: http://pandas.pydata.org/pandas-docs/stable/indexing.html#indexing-view-versus-copy\n",
      "  This is separate from the ipykernel package so we can avoid doing imports until\n"
     ]
    },
    {
     "data": {
      "text/plain": [
       "<matplotlib.axes._subplots.AxesSubplot at 0x17c14bdb978>"
      ]
     },
     "execution_count": 38,
     "metadata": {},
     "output_type": "execute_result"
    },
    {
     "data": {
      "image/png": "[encoded data removed]",
      "text/plain": [
       "<matplotlib.figure.Figure at 0x17c14bdb6a0>"
      ]
     },
     "metadata": {},
     "output_type": "display_data"
    }
   ],
   "source": [
    "##x=general_train_with_components['Target'] = y_train\n",
    "x=general_train_with_components[general_train_with_components['Target']==1]\n",
    "x['koef'] = x['2_GR2'] / x['1_GR2']\n",
    "x['10_GR10'].hist(figsize=(10,5))"
   ]
  },
  {
   "cell_type": "code",
   "execution_count": 39,
   "metadata": {
    "collapsed": true
   },
   "outputs": [
    {
     "name": "stderr",
     "output_type": "stream",
     "text": [
      "C:\\Users\\Python\\Anaconda3\\lib\\site-packages\\ipykernel_launcher.py:3: SettingWithCopyWarning: \n",
      "A value is trying to be set on a copy of a slice from a DataFrame.\n",
      "Try using .loc[row_indexer,col_indexer] = value instead\n",
      "\n",
      "See the caveats in the documentation: http://pandas.pydata.org/pandas-docs/stable/indexing.html#indexing-view-versus-copy\n",
      "  This is separate from the ipykernel package so we can avoid doing imports until\n"
     ]
    },
    {
     "data": {
      "text/plain": [
       "<matplotlib.axes._subplots.AxesSubplot at 0x17c15169400>"
      ]
     },
     "execution_count": 39,
     "metadata": {},
     "output_type": "execute_result"
    },
    {
     "data": {
      "image/png": "[encoded data removed]",
      "text/plain": [
       "<matplotlib.figure.Figure at 0x17c14adf9b0>"
      ]
     },
     "metadata": {},
     "output_type": "display_data"
    }
   ],
   "source": [
    "##y=general_train_with_components['Target'] = y_train\n",
    "y = general_train_with_components[general_train_with_components['Target']==0]\n",
    "y['koef'] = y['2_GR2'] / y['1_GR2']\n",
    "y['10_GR10'].hist(figsize=(10,5))"
   ]
  },
  {
   "cell_type": "code",
   "execution_count": 43,
   "metadata": {},
   "outputs": [],
   "source": [
    "import scipy.stats as st\n",
    "?st.ttest_1samp (sample,df['weight'].mean())"
   ]
  },
  {
   "cell_type": "code",
   "execution_count": 45,
   "metadata": {
    "collapsed": true
   },
   "outputs": [
    {
     "data": {
      "text/plain": [
       "Ttest_indResult(statistic=14.516471387759939, pvalue=9.093457812835807e-47)"
      ]
     },
     "execution_count": 45,
     "metadata": {},
     "output_type": "execute_result"
    }
   ],
   "source": [
    "st.stats.ttest_ind(x['10_GR10'],y['10_GR10'], equal_var=False)\n"
   ]
  },
  {
   "cell_type": "code",
   "execution_count": 54,
   "metadata": {
    "collapsed": true
   },
   "outputs": [
    {
     "data": {
      "text/plain": [
       "<matplotlib.axes._subplots.AxesSubplot at 0x17c15bc2cf8>"
      ]
     },
     "execution_count": 54,
     "metadata": {},
     "output_type": "execute_result"
    },
    {
     "data": {
      "image/png": "[encoded data removed]",
      "text/plain": [
       "<matplotlib.figure.Figure at 0x17c15f46780>"
      ]
     },
     "metadata": {},
     "output_type": "display_data"
    }
   ],
   "source": [
    "log_x = np.log1p(x['10_GR10'])\n",
    "log_x.hist(figsize = (15,10), bins=50)"
   ]
  },
  {
   "cell_type": "code",
   "execution_count": 52,
   "metadata": {
    "collapsed": true
   },
   "outputs": [
    {
     "data": {
      "text/plain": [
       "<matplotlib.axes._subplots.AxesSubplot at 0x17c15a07898>"
      ]
     },
     "execution_count": 52,
     "metadata": {},
     "output_type": "execute_result"
    },
    {
     "data": {
      "image/png": "[encoded data removed]",
      "text/plain": [
       "<matplotlib.figure.Figure at 0x17c15578518>"
      ]
     },
     "metadata": {},
     "output_type": "display_data"
    }
   ],
   "source": [
    "log_y = np.log1p(y['10_GR10'])\n",
    "log_y.hist(figsize = (15,10), bins=50)"
   ]
  },
  {
   "cell_type": "code",
   "execution_count": 91,
   "metadata": {},
   "outputs": [
    {
     "data": {
      "text/plain": [
       "Ttest_indResult(statistic=14.516471387759939, pvalue=9.093457812835807e-47)"
      ]
     },
     "execution_count": 91,
     "metadata": {},
     "output_type": "execute_result"
    }
   ],
   "source": [
    "st.stats.ttest_ind(x['10_GR10'],y['10_GR10'], equal_var=False)\n"
   ]
  },
  {
   "cell_type": "markdown",
   "metadata": {},
   "source": [
    "# Посмотрим матрицу корреляций"
   ]
  },
  {
   "cell_type": "code",
   "execution_count": 62,
   "metadata": {
    "collapsed": true
   },
   "outputs": [
    {
     "data": {
      "text/plain": [
       "<matplotlib.axes._subplots.AxesSubplot at 0x17c194266d8>"
      ]
     },
     "execution_count": 62,
     "metadata": {},
     "output_type": "execute_result"
    },
    {
     "data": {
      "image/png": "[encoded data removed]",
      "text/plain": [
       "<matplotlib.figure.Figure at 0x17c2dd3fa20>"
      ]
     },
     "metadata": {},
     "output_type": "display_data"
    }
   ],
   "source": [
    "from matplotlib import pyplot\n",
    "pyplot.figure(figsize=(20, 16))\n",
    "\n",
    "\n",
    "corr = general_train_with_components.drop(columns=['POS', '1_GR10', '2_GR10', '3_GR10', '4_GR10', '5_GR10', '6_GR10', '7_GR10',\n",
    "       '8_GR10', '9_GR10', '1_GR2', '2_GR2','RUB','channel_type_type2']).corr()\n",
    "sns.heatmap(corr, annot=True, \n",
    "            xticklabels=corr.columns.values,\n",
    "            yticklabels=corr.columns.values)"
   ]
  },
  {
   "cell_type": "code",
   "execution_count": 84,
   "metadata": {},
   "outputs": [],
   "source": [
    "general_train_with_components_wo_corr = general_train_with_components.drop(columns=['POS', '1_GR10', '2_GR10', '3_GR10', '4_GR10', '5_GR10', '6_GR10', '7_GR10',\n",
    "       '8_GR10', '9_GR10', '1_GR2', '2_GR2','RUB','channel_type_type2'])\n",
    "general_test_with_components_wo_corr = general_test_with_components.drop(columns=['POS', '1_GR10', '2_GR10', '3_GR10', '4_GR10', '5_GR10', '6_GR10', '7_GR10',\n",
    "       '8_GR10', '9_GR10', '1_GR2', '2_GR2','RUB','channel_type_type2'])"
   ]
  },
  {
   "cell_type": "code",
   "execution_count": 85,
   "metadata": {},
   "outputs": [],
   "source": [
    "general_train_with_components_wo_corr_scaled, general_test_with_components_wo_corr_scaled = Scal(general_train_with_components_wo_corr,general_test_with_components_wo_corr)\n"
   ]
  },
  {
   "cell_type": "code",
   "execution_count": 86,
   "metadata": {
    "collapsed": true
   },
   "outputs": [
    {
     "name": "stdout",
     "output_type": "stream",
     "text": [
      "Значения правильности перекрестной проверки:\n",
      "[0.79431215 0.78725316 0.79254575]\n"
     ]
    },
    {
     "name": "stderr",
     "output_type": "stream",
     "text": [
      "C:\\Users\\Python\\Anaconda3\\lib\\site-packages\\sklearn\\utils\\validation.py:578: DataConversionWarning: A column-vector y was passed when a 1d array was expected. Please change the shape of y to (n_samples, ), for example using ravel().\n",
      "  y = column_or_1d(y, warn=True)\n",
      "C:\\Users\\Python\\Anaconda3\\lib\\site-packages\\sklearn\\utils\\validation.py:578: DataConversionWarning: A column-vector y was passed when a 1d array was expected. Please change the shape of y to (n_samples, ), for example using ravel().\n",
      "  y = column_or_1d(y, warn=True)\n",
      "C:\\Users\\Python\\Anaconda3\\lib\\site-packages\\sklearn\\utils\\validation.py:578: DataConversionWarning: A column-vector y was passed when a 1d array was expected. Please change the shape of y to (n_samples, ), for example using ravel().\n",
      "  y = column_or_1d(y, warn=True)\n"
     ]
    }
   ],
   "source": [
    "CrosVal (logreg,kfold,general_train_with_components_wo_corr_scaled,y_train)"
   ]
  },
  {
   "cell_type": "code",
   "execution_count": 92,
   "metadata": {
    "scrolled": true
   },
   "outputs": [
    {
     "name": "stderr",
     "output_type": "stream",
     "text": [
      "C:\\Users\\Python\\Anaconda3\\lib\\site-packages\\sklearn\\model_selection\\_validation.py:458: DataConversionWarning: A column-vector y was passed when a 1d array was expected. Please change the shape of y to (n_samples,), for example using ravel().\n",
      "  estimator.fit(X_train, y_train, **fit_params)\n",
      "C:\\Users\\Python\\Anaconda3\\lib\\site-packages\\sklearn\\model_selection\\_validation.py:458: DataConversionWarning: A column-vector y was passed when a 1d array was expected. Please change the shape of y to (n_samples,), for example using ravel().\n",
      "  estimator.fit(X_train, y_train, **fit_params)\n",
      "C:\\Users\\Python\\Anaconda3\\lib\\site-packages\\sklearn\\model_selection\\_validation.py:458: DataConversionWarning: A column-vector y was passed when a 1d array was expected. Please change the shape of y to (n_samples,), for example using ravel().\n",
      "  estimator.fit(X_train, y_train, **fit_params)\n"
     ]
    },
    {
     "name": "stdout",
     "output_type": "stream",
     "text": [
      "Значения правильности перекрестной проверки:\n",
      "[0.83630699 0.82173536 0.83767193]\n"
     ]
    }
   ],
   "source": [
    "CrosVal (clf,kfold,general_train_with_components_wo_corr_scaled,y_train)"
   ]
  },
  {
   "cell_type": "code",
   "execution_count": 137,
   "metadata": {
    "scrolled": true
   },
   "outputs": [
    {
     "name": "stderr",
     "output_type": "stream",
     "text": [
      "C:\\Users\\Python\\Anaconda3\\lib\\site-packages\\sklearn\\preprocessing\\label.py:95: DataConversionWarning: A column-vector y was passed when a 1d array was expected. Please change the shape of y to (n_samples, ), for example using ravel().\n",
      "  y = column_or_1d(y, warn=True)\n",
      "C:\\Users\\Python\\Anaconda3\\lib\\site-packages\\sklearn\\preprocessing\\label.py:128: DataConversionWarning: A column-vector y was passed when a 1d array was expected. Please change the shape of y to (n_samples, ), for example using ravel().\n",
      "  y = column_or_1d(y, warn=True)\n"
     ]
    },
    {
     "name": "stdout",
     "output_type": "stream",
     "text": [
      "Train:  0.9\n",
      "Test:  0.84\n"
     ]
    }
   ],
   "source": [
    "data_train, data_test, target_train, target_test = train_test_split(general_train_with_components_wo_corr_scaled, y_train, test_size=0.4, random_state=42)\n",
    "xgb = xgboost.XGBClassifier(**params)\n",
    "xgb.fit(data_train, target_train)\n",
    "y_train_predict = xgb.predict_proba(data_train)[:, 1]\n",
    "y_test_predict = xgb.predict_proba(data_test)[:, 1]\n",
    "roc_auc_train = np.round(roc_auc_score(target_train, y_train_predict), 2)\n",
    "roc_auc_test = np.round(roc_auc_score(target_test, y_test_predict), 2)\n",
    "print(\"Train: \", roc_auc_train)\n",
    "print(\"Test: \", roc_auc_test)"
   ]
  },
  {
   "cell_type": "markdown",
   "metadata": {},
   "source": [
    "# попробуем сделать предсказание для тестовых данных, без корреляционных переменных"
   ]
  },
  {
   "cell_type": "code",
   "execution_count": 136,
   "metadata": {
    "scrolled": true
   },
   "outputs": [
    {
     "name": "stderr",
     "output_type": "stream",
     "text": [
      "C:\\Users\\Python\\Anaconda3\\lib\\site-packages\\sklearn\\preprocessing\\label.py:95: DataConversionWarning: A column-vector y was passed when a 1d array was expected. Please change the shape of y to (n_samples, ), for example using ravel().\n",
      "  y = column_or_1d(y, warn=True)\n",
      "C:\\Users\\Python\\Anaconda3\\lib\\site-packages\\sklearn\\preprocessing\\label.py:128: DataConversionWarning: A column-vector y was passed when a 1d array was expected. Please change the shape of y to (n_samples, ), for example using ravel().\n",
      "  y = column_or_1d(y, warn=True)\n",
      "C:\\Users\\Python\\Anaconda3\\lib\\site-packages\\sklearn\\preprocessing\\label.py:151: DeprecationWarning: The truth value of an empty array is ambiguous. Returning False, but in future this will result in an error. Use `array.size > 0` to check that an array is not empty.\n",
      "  if diff:\n"
     ]
    }
   ],
   "source": [
    "xgb = xgboost.XGBClassifier(**params)\n",
    "xgb.fit(general_train_with_components_wo_corr_scaled, y_train)\n",
    "y_test_predict = xgb.predict(general_test_with_components_wo_corr_scaled)"
   ]
  },
  {
   "cell_type": "code",
   "execution_count": 96,
   "metadata": {},
   "outputs": [],
   "source": [
    "predict = pd.DataFrame(test_cl_id)\n",
    "predict['pr'] = y_test_predict\n",
    "predict.to_csv ('predict.csv', index= False)"
   ]
  },
  {
   "cell_type": "markdown",
   "metadata": {},
   "source": [
    "# Попробуем WOE"
   ]
  },
  {
   "cell_type": "code",
   "execution_count": 219,
   "metadata": {},
   "outputs": [],
   "source": [
    "# пробуем функцию из урока\n",
    "\n",
    "def get_woe_stat(df_train, col, target_col):\n",
    "    df_train['target'] = target_col\n",
    "    stat = df_train.groupby(col)['target'].agg(\n",
    "        [np.mean, np.size, np.count_nonzero], sort=False\n",
    "    )\n",
    "    stat.rename(columns={'count_nonzero': 'good', 'size': 'obs', 'mean': 'event_rate'}, inplace=True)\n",
    "    stat['all_good'] = stat['good'].sum()\n",
    "    stat['p_good'] = stat['good'] / stat['all_good']\n",
    "    stat['p_good'] = stat['p_good'].replace(0, 0.000001)\n",
    "    stat['bad'] = stat['obs'] - stat['good']\n",
    "    stat['all_bad'] = stat['bad'].sum()\n",
    "    stat['p_bad'] = stat['bad'] / stat['all_bad']\n",
    "    stat['p_bad'] = stat['p_bad'].replace(0, 0.000001)\n",
    "    stat['WOE']=np.log(stat['p_good'] / stat['p_bad'])\n",
    "   \n",
    "    stat['variable'] = col\n",
    "    stat['category'] = stat.index\n",
    "    stat.reset_index(inplace=True)\n",
    "    stat.drop(labels=col, inplace=True, axis=1)\n",
    "    IV = ((stat['p_good'] - stat['p_bad']) * stat['WOE']).sum()\n",
    "    return IV"
   ]
  },
  {
   "cell_type": "code",
   "execution_count": 305,
   "metadata": {},
   "outputs": [],
   "source": [
    "def get_woe_v1(df_train, df_test, col, target_col):\n",
    "    df_train['target'] = target_col\n",
    "    all_good = len(df_train[df_train['target'] == 1][col])\n",
    "    all_bad = len(df_train[df_train['target'] == 0][col])\n",
    "    odds_series = (\n",
    "        df_train[df_train['target'] == 1][col].value_counts()\n",
    "        /\n",
    "        df_train[df_train['target'] == 0][col].value_counts()\n",
    "    )\n",
    "    odds_series = odds_series / all_good * all_bad\n",
    "    category_woe_dict = np.log(odds_series).to_dict()\n",
    "    df_train[col + '_woe'] = df_train[col].apply(category_woe_dict.get)\n",
    "    df_test[col + '_woe'] = df_test[col].apply(category_woe_dict.get)\n",
    "    df_train.drop(columns = ['target'], inplace = True)\n",
    "    return df_train, df_test "
   ]
  },
  {
   "cell_type": "code",
   "execution_count": 294,
   "metadata": {
    "collapsed": true
   },
   "outputs": [
    {
     "data": {
      "text/plain": [
       "[('channel_type_type6', 0.0004394716562349373),\n",
       " ('channel_type_type5', 0.0005439916869368621),\n",
       " ('channel_type_type3', 0.0014224239900683146),\n",
       " ('channel_type_type4', 0.004850208032505762),\n",
       " ('CASH_ADV', 0.008704036210735032),\n",
       " ('BACK_TRX', 0.04219103235043174),\n",
       " ('C2C_IN', 0.06698064999567221),\n",
       " ('CAT', 0.10966300034499847),\n",
       " ('C2C_OUT', 0.11916781200426922),\n",
       " ('DEPOSIT', 0.18041151653908707),\n",
       " ('1_GR10', 0.19422654831626),\n",
       " ('Other', 0.22567711788754233),\n",
       " ('WD_ATM_PARTNER', 0.22768226910215783),\n",
       " ('2_GR10', 0.30862207215797904),\n",
       " ('3_GR10', 0.3157165111619788),\n",
       " ('4_GR10', 0.37291506348101905),\n",
       " ('WD_ATM_ROS', 0.4032689661568363),\n",
       " ('5_GR10', 0.4053549974004073),\n",
       " ('7_GR10', 0.41462732890916826),\n",
       " ('6_GR10', 0.4366301714503225),\n",
       " ('8_GR10', 0.4367411853892537),\n",
       " ('10_GR10', 0.4771635620612494),\n",
       " ('9_GR10', 0.502276170022879),\n",
       " ('channel_type_type1', 0.5752517410794182),\n",
       " ('channel_type_type2', 0.6180489097839805),\n",
       " ('channel_type', 0.6388053571266008),\n",
       " ('1_GR2', 0.6716247821022758),\n",
       " ('WD_ATM_OTHER', 0.6914515182918668),\n",
       " ('2_GR2', 0.8127518883107405),\n",
       " ('POS', 0.8953561002747986),\n",
       " ('RUB', 0.9932981355932872),\n",
       " ('DayDiff', 1.615259761959682),\n",
       " ('component 2', 11.894181354936164),\n",
       " ('component 6', 11.894181354936164),\n",
       " ('component 7', 11.894181354936164),\n",
       " ('component 1', 11.894181354936165),\n",
       " ('component 3', 11.894181354936165),\n",
       " ('component 4', 11.894181354936165),\n",
       " ('component 5', 11.894181354936165),\n",
       " ('cl_id', 11.964472131624072)]"
      ]
     },
     "execution_count": 294,
     "metadata": {},
     "output_type": "execute_result"
    }
   ],
   "source": [
    "##Получили список важных фичей\n",
    "woe_dict = {}\n",
    "for col in general_train_with_components:\n",
    "    \n",
    "    val = get_woe_stat(general_train_with_components,col,y_train)\n",
    "    woe_dict[col] = val\n",
    "sorted(woe_dict.items(), key=lambda x: x[1])"
   ]
  },
  {
   "cell_type": "code",
   "execution_count": 310,
   "metadata": {},
   "outputs": [],
   "source": [
    "# Сделаем WOE для channel type. получим набор c woe колонкой. Затем отшкалируем его\n",
    "general_train_with_components_with_WOE, general_test_with_components_with_WOE = get_woe_v1(general_train_with_components, general_test_with_components,'channel_type',y_train)\n",
    "general_train_with_components_with_WOE.drop(columns=['channel_type'], inplace= True)\n",
    "general_test_with_components_with_WOE.drop(columns=['channel_type'], inplace= True)\n",
    "\n",
    "general_train_with_components_with_WOE_scalled, general_test_with_components_with_WOE_scalled = Scal(general_train_with_components_with_WOE, general_test_with_components_with_WOE)\n"
   ]
  },
  {
   "cell_type": "markdown",
   "metadata": {},
   "source": [
    "# посмотрим на CV для данных с woe."
   ]
  },
  {
   "cell_type": "code",
   "execution_count": 376,
   "metadata": {},
   "outputs": [
    {
     "name": "stderr",
     "output_type": "stream",
     "text": [
      "C:\\Users\\Python\\Anaconda3\\lib\\site-packages\\sklearn\\utils\\validation.py:578: DataConversionWarning: A column-vector y was passed when a 1d array was expected. Please change the shape of y to (n_samples, ), for example using ravel().\n",
      "  y = column_or_1d(y, warn=True)\n",
      "C:\\Users\\Python\\Anaconda3\\lib\\site-packages\\sklearn\\utils\\validation.py:578: DataConversionWarning: A column-vector y was passed when a 1d array was expected. Please change the shape of y to (n_samples, ), for example using ravel().\n",
      "  y = column_or_1d(y, warn=True)\n"
     ]
    },
    {
     "name": "stdout",
     "output_type": "stream",
     "text": [
      "Значения правильности перекрестной проверки:\n",
      "[0.81008894 0.80297023 0.80095291]\n"
     ]
    },
    {
     "name": "stderr",
     "output_type": "stream",
     "text": [
      "C:\\Users\\Python\\Anaconda3\\lib\\site-packages\\sklearn\\utils\\validation.py:578: DataConversionWarning: A column-vector y was passed when a 1d array was expected. Please change the shape of y to (n_samples, ), for example using ravel().\n",
      "  y = column_or_1d(y, warn=True)\n"
     ]
    }
   ],
   "source": [
    "CrosVal (logreg,kfold,general_train_with_components_with_WOE_scalled,y_train)"
   ]
  },
  {
   "cell_type": "code",
   "execution_count": 314,
   "metadata": {
    "scrolled": true
   },
   "outputs": [
    {
     "name": "stderr",
     "output_type": "stream",
     "text": [
      "C:\\Users\\Python\\Anaconda3\\lib\\site-packages\\sklearn\\model_selection\\_validation.py:458: DataConversionWarning: A column-vector y was passed when a 1d array was expected. Please change the shape of y to (n_samples,), for example using ravel().\n",
      "  estimator.fit(X_train, y_train, **fit_params)\n",
      "C:\\Users\\Python\\Anaconda3\\lib\\site-packages\\sklearn\\model_selection\\_validation.py:458: DataConversionWarning: A column-vector y was passed when a 1d array was expected. Please change the shape of y to (n_samples,), for example using ravel().\n",
      "  estimator.fit(X_train, y_train, **fit_params)\n",
      "C:\\Users\\Python\\Anaconda3\\lib\\site-packages\\sklearn\\model_selection\\_validation.py:458: DataConversionWarning: A column-vector y was passed when a 1d array was expected. Please change the shape of y to (n_samples,), for example using ravel().\n",
      "  estimator.fit(X_train, y_train, **fit_params)\n"
     ]
    },
    {
     "name": "stdout",
     "output_type": "stream",
     "text": [
      "Значения правильности перекрестной проверки:\n",
      "[0.84809369 0.83675674 0.85541147]\n"
     ]
    }
   ],
   "source": [
    "CrosVal (clf,kfold,general_train_with_components_with_WOE_scalled,y_train)"
   ]
  },
  {
   "cell_type": "code",
   "execution_count": 315,
   "metadata": {},
   "outputs": [
    {
     "name": "stderr",
     "output_type": "stream",
     "text": [
      "C:\\Users\\Python\\Anaconda3\\lib\\site-packages\\sklearn\\preprocessing\\label.py:95: DataConversionWarning: A column-vector y was passed when a 1d array was expected. Please change the shape of y to (n_samples, ), for example using ravel().\n",
      "  y = column_or_1d(y, warn=True)\n",
      "C:\\Users\\Python\\Anaconda3\\lib\\site-packages\\sklearn\\preprocessing\\label.py:128: DataConversionWarning: A column-vector y was passed when a 1d array was expected. Please change the shape of y to (n_samples, ), for example using ravel().\n",
      "  y = column_or_1d(y, warn=True)\n"
     ]
    },
    {
     "name": "stdout",
     "output_type": "stream",
     "text": [
      "Train:  0.92\n",
      "Test:  0.86\n"
     ]
    }
   ],
   "source": [
    "data_train, data_test, target_train, target_test = train_test_split(general_train_with_components_with_WOE_scalled, y_train, test_size=0.4, random_state=42)\n",
    "xgb = xgboost.XGBClassifier(**params)\n",
    "xgb.fit(data_train, target_train)\n",
    "y_train_predict = xgb.predict_proba(data_train)[:, 1]\n",
    "y_test_predict = xgb.predict_proba(data_test)[:, 1]\n",
    "roc_auc_train = np.round(roc_auc_score(target_train, y_train_predict), 2)\n",
    "roc_auc_test = np.round(roc_auc_score(target_test, y_test_predict), 2)\n",
    "print(\"Train: \", roc_auc_train)\n",
    "print(\"Test: \", roc_auc_test)"
   ]
  },
  {
   "cell_type": "code",
   "execution_count": null,
   "metadata": {},
   "outputs": [],
   "source": []
  },
  {
   "cell_type": "markdown",
   "metadata": {},
   "source": [
    "# точность чуть улучшилась. Результат не столь заметен, так как в переменной не так много значений."
   ]
  },
  {
   "cell_type": "markdown",
   "metadata": {},
   "source": [
    "# попробуем еще раз загрузить на сайт"
   ]
  },
  {
   "cell_type": "code",
   "execution_count": 436,
   "metadata": {},
   "outputs": [
    {
     "name": "stderr",
     "output_type": "stream",
     "text": [
      "C:\\Users\\Python\\Anaconda3\\lib\\site-packages\\sklearn\\preprocessing\\label.py:95: DataConversionWarning: A column-vector y was passed when a 1d array was expected. Please change the shape of y to (n_samples, ), for example using ravel().\n",
      "  y = column_or_1d(y, warn=True)\n",
      "C:\\Users\\Python\\Anaconda3\\lib\\site-packages\\sklearn\\preprocessing\\label.py:128: DataConversionWarning: A column-vector y was passed when a 1d array was expected. Please change the shape of y to (n_samples, ), for example using ravel().\n",
      "  y = column_or_1d(y, warn=True)\n"
     ]
    }
   ],
   "source": [
    "xgb = xgboost.XGBClassifier(**params)\n",
    "xgb.fit(general_train_with_components_with_WOE_scalled, y_train)\n",
    "y_test_predict = xgb.predict_proba(general_test_with_components_with_WOE_scalled)"
   ]
  },
  {
   "cell_type": "code",
   "execution_count": 440,
   "metadata": {},
   "outputs": [],
   "source": [
    "predict = pd.DataFrame(test_cl_id)\n",
    "predict['_VAL_'] = y_test_predict[:, 1]\n",
    "predict.to_csv ('predict.csv', index= False)"
   ]
  },
  {
   "cell_type": "code",
   "execution_count": 319,
   "metadata": {},
   "outputs": [],
   "source": [
    "##Получилось 0.7628"
   ]
  },
  {
   "cell_type": "markdown",
   "metadata": {},
   "source": [
    "# Попробуем SVM"
   ]
  },
  {
   "cell_type": "code",
   "execution_count": 368,
   "metadata": {},
   "outputs": [
    {
     "name": "stderr",
     "output_type": "stream",
     "text": [
      "C:\\Users\\Python\\Anaconda3\\lib\\site-packages\\ipykernel_launcher.py:2: DataConversionWarning: A column-vector y was passed when a 1d array was expected. Please change the shape of y to (n_samples,), for example using ravel().\n",
      "  \n"
     ]
    }
   ],
   "source": [
    "clf = RandomForestClassifier(n_estimators=100, max_depth=15, min_samples_leaf=20, max_features=0.8, n_jobs=-1)\n",
    "clf.fit(general_train_with_components_with_WOE,y_train)\n",
    "y_test_predict = clf.predict_proba(general_test_with_components_with_WOE)\n",
    "\n",
    "predict = pd.DataFrame(test_cl_id)\n",
    "predict['_VAL_'] = y_test_predict[:, 1]\n",
    "\n",
    "\n",
    "predict.to_csv ('predict.csv', index= False)"
   ]
  }
 ],
 "metadata": {
  "kernelspec": {
   "display_name": "Python 3",
   "language": "python",
   "name": "python3"
  },
  "language_info": {
   "codemirror_mode": {
    "name": "ipython",
    "version": 3
   },
   "file_extension": ".py",
   "mimetype": "text/x-python",
   "name": "python",
   "nbconvert_exporter": "python",
   "pygments_lexer": "ipython3",
   "version": "3.6.4"
  }
 },
 "nbformat": 4,
 "nbformat_minor": 2
}
