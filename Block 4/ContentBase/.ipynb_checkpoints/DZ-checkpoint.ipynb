{
 "cells": [
  {
   "cell_type": "markdown",
   "metadata": {},
   "source": [
    "## ДЗ "
   ]
  },
  {
   "cell_type": "code",
   "execution_count": 1,
   "metadata": {
    "slideshow": {
     "slide_type": "slide"
    }
   },
   "outputs": [],
   "source": [
    "%matplotlib inline\n",
    "import matplotlib.pyplot as plt\n",
    "import seaborn as sns\n",
    "\n",
    "DATA_DIR = \"/data/ml-latest\""
   ]
  },
  {
   "cell_type": "code",
   "execution_count": 3,
   "metadata": {
    "collapsed": true,
    "slideshow": {
     "slide_type": "fragment"
    }
   },
   "outputs": [
    {
     "name": "stdout",
     "output_type": "stream",
     "text": [
      "_SUCCESS\r\n",
      "part-00000-1db21bc5-3e5c-4d2c-bb96-4d500f91e364-c000.snappy.parquet\r\n",
      "part-00001-1db21bc5-3e5c-4d2c-bb96-4d500f91e364-c000.snappy.parquet\r\n",
      "part-00002-1db21bc5-3e5c-4d2c-bb96-4d500f91e364-c000.snappy.parquet\r\n",
      "part-00003-1db21bc5-3e5c-4d2c-bb96-4d500f91e364-c000.snappy.parquet\r\n",
      "part-00004-1db21bc5-3e5c-4d2c-bb96-4d500f91e364-c000.snappy.parquet\r\n",
      "part-00005-1db21bc5-3e5c-4d2c-bb96-4d500f91e364-c000.snappy.parquet\r\n",
      "part-00006-1db21bc5-3e5c-4d2c-bb96-4d500f91e364-c000.snappy.parquet\r\n",
      "part-00007-1db21bc5-3e5c-4d2c-bb96-4d500f91e364-c000.snappy.parquet\r\n",
      "part-00008-1db21bc5-3e5c-4d2c-bb96-4d500f91e364-c000.snappy.parquet\r\n",
      "part-00009-1db21bc5-3e5c-4d2c-bb96-4d500f91e364-c000.snappy.parquet\r\n",
      "part-00010-1db21bc5-3e5c-4d2c-bb96-4d500f91e364-c000.snappy.parquet\r\n",
      "part-00011-1db21bc5-3e5c-4d2c-bb96-4d500f91e364-c000.snappy.parquet\r\n",
      "part-00012-1db21bc5-3e5c-4d2c-bb96-4d500f91e364-c000.snappy.parquet\r\n",
      "part-00013-1db21bc5-3e5c-4d2c-bb96-4d500f91e364-c000.snappy.parquet\r\n",
      "part-00014-1db21bc5-3e5c-4d2c-bb96-4d500f91e364-c000.snappy.parquet\r\n",
      "part-00015-1db21bc5-3e5c-4d2c-bb96-4d500f91e364-c000.snappy.parquet\r\n",
      "part-00016-1db21bc5-3e5c-4d2c-bb96-4d500f91e364-c000.snappy.parquet\r\n",
      "part-00017-1db21bc5-3e5c-4d2c-bb96-4d500f91e364-c000.snappy.parquet\r\n",
      "part-00018-1db21bc5-3e5c-4d2c-bb96-4d500f91e364-c000.snappy.parquet\r\n",
      "part-00019-1db21bc5-3e5c-4d2c-bb96-4d500f91e364-c000.snappy.parquet\r\n",
      "part-00020-1db21bc5-3e5c-4d2c-bb96-4d500f91e364-c000.snappy.parquet\r\n",
      "part-00021-1db21bc5-3e5c-4d2c-bb96-4d500f91e364-c000.snappy.parquet\r\n",
      "part-00022-1db21bc5-3e5c-4d2c-bb96-4d500f91e364-c000.snappy.parquet\r\n",
      "part-00023-1db21bc5-3e5c-4d2c-bb96-4d500f91e364-c000.snappy.parquet\r\n",
      "part-00024-1db21bc5-3e5c-4d2c-bb96-4d500f91e364-c000.snappy.parquet\r\n",
      "part-00025-1db21bc5-3e5c-4d2c-bb96-4d500f91e364-c000.snappy.parquet\r\n",
      "part-00026-1db21bc5-3e5c-4d2c-bb96-4d500f91e364-c000.snappy.parquet\r\n",
      "part-00027-1db21bc5-3e5c-4d2c-bb96-4d500f91e364-c000.snappy.parquet\r\n",
      "part-00028-1db21bc5-3e5c-4d2c-bb96-4d500f91e364-c000.snappy.parquet\r\n",
      "part-00029-1db21bc5-3e5c-4d2c-bb96-4d500f91e364-c000.snappy.parquet\r\n",
      "part-00030-1db21bc5-3e5c-4d2c-bb96-4d500f91e364-c000.snappy.parquet\r\n",
      "part-00031-1db21bc5-3e5c-4d2c-bb96-4d500f91e364-c000.snappy.parquet\r\n",
      "part-00032-1db21bc5-3e5c-4d2c-bb96-4d500f91e364-c000.snappy.parquet\r\n",
      "part-00033-1db21bc5-3e5c-4d2c-bb96-4d500f91e364-c000.snappy.parquet\r\n",
      "part-00034-1db21bc5-3e5c-4d2c-bb96-4d500f91e364-c000.snappy.parquet\r\n",
      "part-00035-1db21bc5-3e5c-4d2c-bb96-4d500f91e364-c000.snappy.parquet\r\n",
      "part-00036-1db21bc5-3e5c-4d2c-bb96-4d500f91e364-c000.snappy.parquet\r\n",
      "part-00037-1db21bc5-3e5c-4d2c-bb96-4d500f91e364-c000.snappy.parquet\r\n",
      "part-00038-1db21bc5-3e5c-4d2c-bb96-4d500f91e364-c000.snappy.parquet\r\n",
      "part-00039-1db21bc5-3e5c-4d2c-bb96-4d500f91e364-c000.snappy.parquet\r\n",
      "part-00040-1db21bc5-3e5c-4d2c-bb96-4d500f91e364-c000.snappy.parquet\r\n",
      "part-00041-1db21bc5-3e5c-4d2c-bb96-4d500f91e364-c000.snappy.parquet\r\n",
      "part-00042-1db21bc5-3e5c-4d2c-bb96-4d500f91e364-c000.snappy.parquet\r\n",
      "part-00043-1db21bc5-3e5c-4d2c-bb96-4d500f91e364-c000.snappy.parquet\r\n",
      "part-00044-1db21bc5-3e5c-4d2c-bb96-4d500f91e364-c000.snappy.parquet\r\n",
      "part-00045-1db21bc5-3e5c-4d2c-bb96-4d500f91e364-c000.snappy.parquet\r\n",
      "part-00046-1db21bc5-3e5c-4d2c-bb96-4d500f91e364-c000.snappy.parquet\r\n",
      "part-00047-1db21bc5-3e5c-4d2c-bb96-4d500f91e364-c000.snappy.parquet\r\n",
      "part-00048-1db21bc5-3e5c-4d2c-bb96-4d500f91e364-c000.snappy.parquet\r\n",
      "part-00049-1db21bc5-3e5c-4d2c-bb96-4d500f91e364-c000.snappy.parquet\r\n",
      "part-00050-1db21bc5-3e5c-4d2c-bb96-4d500f91e364-c000.snappy.parquet\r\n",
      "part-00051-1db21bc5-3e5c-4d2c-bb96-4d500f91e364-c000.snappy.parquet\r\n",
      "part-00052-1db21bc5-3e5c-4d2c-bb96-4d500f91e364-c000.snappy.parquet\r\n",
      "part-00053-1db21bc5-3e5c-4d2c-bb96-4d500f91e364-c000.snappy.parquet\r\n",
      "part-00054-1db21bc5-3e5c-4d2c-bb96-4d500f91e364-c000.snappy.parquet\r\n",
      "part-00055-1db21bc5-3e5c-4d2c-bb96-4d500f91e364-c000.snappy.parquet\r\n",
      "part-00056-1db21bc5-3e5c-4d2c-bb96-4d500f91e364-c000.snappy.parquet\r\n",
      "part-00057-1db21bc5-3e5c-4d2c-bb96-4d500f91e364-c000.snappy.parquet\r\n",
      "part-00058-1db21bc5-3e5c-4d2c-bb96-4d500f91e364-c000.snappy.parquet\r\n",
      "part-00059-1db21bc5-3e5c-4d2c-bb96-4d500f91e364-c000.snappy.parquet\r\n",
      "part-00060-1db21bc5-3e5c-4d2c-bb96-4d500f91e364-c000.snappy.parquet\r\n",
      "part-00061-1db21bc5-3e5c-4d2c-bb96-4d500f91e364-c000.snappy.parquet\r\n",
      "part-00062-1db21bc5-3e5c-4d2c-bb96-4d500f91e364-c000.snappy.parquet\r\n",
      "part-00063-1db21bc5-3e5c-4d2c-bb96-4d500f91e364-c000.snappy.parquet\r\n",
      "part-00064-1db21bc5-3e5c-4d2c-bb96-4d500f91e364-c000.snappy.parquet\r\n",
      "part-00065-1db21bc5-3e5c-4d2c-bb96-4d500f91e364-c000.snappy.parquet\r\n",
      "part-00066-1db21bc5-3e5c-4d2c-bb96-4d500f91e364-c000.snappy.parquet\r\n",
      "part-00067-1db21bc5-3e5c-4d2c-bb96-4d500f91e364-c000.snappy.parquet\r\n",
      "part-00068-1db21bc5-3e5c-4d2c-bb96-4d500f91e364-c000.snappy.parquet\r\n",
      "part-00069-1db21bc5-3e5c-4d2c-bb96-4d500f91e364-c000.snappy.parquet\r\n",
      "part-00070-1db21bc5-3e5c-4d2c-bb96-4d500f91e364-c000.snappy.parquet\r\n",
      "part-00071-1db21bc5-3e5c-4d2c-bb96-4d500f91e364-c000.snappy.parquet\r\n",
      "part-00072-1db21bc5-3e5c-4d2c-bb96-4d500f91e364-c000.snappy.parquet\r\n",
      "part-00073-1db21bc5-3e5c-4d2c-bb96-4d500f91e364-c000.snappy.parquet\r\n",
      "part-00074-1db21bc5-3e5c-4d2c-bb96-4d500f91e364-c000.snappy.parquet\r\n",
      "part-00075-1db21bc5-3e5c-4d2c-bb96-4d500f91e364-c000.snappy.parquet\r\n",
      "part-00076-1db21bc5-3e5c-4d2c-bb96-4d500f91e364-c000.snappy.parquet\r\n",
      "part-00077-1db21bc5-3e5c-4d2c-bb96-4d500f91e364-c000.snappy.parquet\r\n",
      "part-00078-1db21bc5-3e5c-4d2c-bb96-4d500f91e364-c000.snappy.parquet\r\n",
      "part-00079-1db21bc5-3e5c-4d2c-bb96-4d500f91e364-c000.snappy.parquet\r\n",
      "part-00080-1db21bc5-3e5c-4d2c-bb96-4d500f91e364-c000.snappy.parquet\r\n",
      "part-00081-1db21bc5-3e5c-4d2c-bb96-4d500f91e364-c000.snappy.parquet\r\n",
      "part-00082-1db21bc5-3e5c-4d2c-bb96-4d500f91e364-c000.snappy.parquet\r\n",
      "part-00083-1db21bc5-3e5c-4d2c-bb96-4d500f91e364-c000.snappy.parquet\r\n",
      "part-00084-1db21bc5-3e5c-4d2c-bb96-4d500f91e364-c000.snappy.parquet\r\n",
      "part-00085-1db21bc5-3e5c-4d2c-bb96-4d500f91e364-c000.snappy.parquet\r\n",
      "part-00086-1db21bc5-3e5c-4d2c-bb96-4d500f91e364-c000.snappy.parquet\r\n",
      "part-00087-1db21bc5-3e5c-4d2c-bb96-4d500f91e364-c000.snappy.parquet\r\n",
      "part-00088-1db21bc5-3e5c-4d2c-bb96-4d500f91e364-c000.snappy.parquet\r\n",
      "part-00089-1db21bc5-3e5c-4d2c-bb96-4d500f91e364-c000.snappy.parquet\r\n",
      "part-00090-1db21bc5-3e5c-4d2c-bb96-4d500f91e364-c000.snappy.parquet\r\n",
      "part-00091-1db21bc5-3e5c-4d2c-bb96-4d500f91e364-c000.snappy.parquet\r\n",
      "part-00092-1db21bc5-3e5c-4d2c-bb96-4d500f91e364-c000.snappy.parquet\r\n",
      "part-00093-1db21bc5-3e5c-4d2c-bb96-4d500f91e364-c000.snappy.parquet\r\n",
      "part-00094-1db21bc5-3e5c-4d2c-bb96-4d500f91e364-c000.snappy.parquet\r\n",
      "part-00095-1db21bc5-3e5c-4d2c-bb96-4d500f91e364-c000.snappy.parquet\r\n",
      "part-00096-1db21bc5-3e5c-4d2c-bb96-4d500f91e364-c000.snappy.parquet\r\n",
      "part-00097-1db21bc5-3e5c-4d2c-bb96-4d500f91e364-c000.snappy.parquet\r\n",
      "part-00098-1db21bc5-3e5c-4d2c-bb96-4d500f91e364-c000.snappy.parquet\r\n",
      "part-00099-1db21bc5-3e5c-4d2c-bb96-4d500f91e364-c000.snappy.parquet\r\n",
      "part-00100-1db21bc5-3e5c-4d2c-bb96-4d500f91e364-c000.snappy.parquet\r\n",
      "part-00101-1db21bc5-3e5c-4d2c-bb96-4d500f91e364-c000.snappy.parquet\r\n",
      "part-00102-1db21bc5-3e5c-4d2c-bb96-4d500f91e364-c000.snappy.parquet\r\n",
      "part-00103-1db21bc5-3e5c-4d2c-bb96-4d500f91e364-c000.snappy.parquet\r\n",
      "part-00104-1db21bc5-3e5c-4d2c-bb96-4d500f91e364-c000.snappy.parquet\r\n",
      "part-00105-1db21bc5-3e5c-4d2c-bb96-4d500f91e364-c000.snappy.parquet\r\n",
      "part-00106-1db21bc5-3e5c-4d2c-bb96-4d500f91e364-c000.snappy.parquet\r\n",
      "part-00107-1db21bc5-3e5c-4d2c-bb96-4d500f91e364-c000.snappy.parquet\r\n",
      "part-00108-1db21bc5-3e5c-4d2c-bb96-4d500f91e364-c000.snappy.parquet\r\n",
      "part-00109-1db21bc5-3e5c-4d2c-bb96-4d500f91e364-c000.snappy.parquet\r\n",
      "part-00110-1db21bc5-3e5c-4d2c-bb96-4d500f91e364-c000.snappy.parquet\r\n",
      "part-00111-1db21bc5-3e5c-4d2c-bb96-4d500f91e364-c000.snappy.parquet\r\n",
      "part-00112-1db21bc5-3e5c-4d2c-bb96-4d500f91e364-c000.snappy.parquet\r\n",
      "part-00113-1db21bc5-3e5c-4d2c-bb96-4d500f91e364-c000.snappy.parquet\r\n",
      "part-00114-1db21bc5-3e5c-4d2c-bb96-4d500f91e364-c000.snappy.parquet\r\n",
      "part-00115-1db21bc5-3e5c-4d2c-bb96-4d500f91e364-c000.snappy.parquet\r\n",
      "part-00116-1db21bc5-3e5c-4d2c-bb96-4d500f91e364-c000.snappy.parquet\r\n",
      "part-00117-1db21bc5-3e5c-4d2c-bb96-4d500f91e364-c000.snappy.parquet\r\n",
      "part-00118-1db21bc5-3e5c-4d2c-bb96-4d500f91e364-c000.snappy.parquet\r\n",
      "part-00119-1db21bc5-3e5c-4d2c-bb96-4d500f91e364-c000.snappy.parquet\r\n",
      "part-00120-1db21bc5-3e5c-4d2c-bb96-4d500f91e364-c000.snappy.parquet\r\n",
      "part-00121-1db21bc5-3e5c-4d2c-bb96-4d500f91e364-c000.snappy.parquet\r\n",
      "part-00122-1db21bc5-3e5c-4d2c-bb96-4d500f91e364-c000.snappy.parquet\r\n",
      "part-00123-1db21bc5-3e5c-4d2c-bb96-4d500f91e364-c000.snappy.parquet\r\n",
      "part-00124-1db21bc5-3e5c-4d2c-bb96-4d500f91e364-c000.snappy.parquet\r\n",
      "part-00125-1db21bc5-3e5c-4d2c-bb96-4d500f91e364-c000.snappy.parquet\r\n",
      "part-00126-1db21bc5-3e5c-4d2c-bb96-4d500f91e364-c000.snappy.parquet\r\n",
      "part-00127-1db21bc5-3e5c-4d2c-bb96-4d500f91e364-c000.snappy.parquet\r\n",
      "part-00128-1db21bc5-3e5c-4d2c-bb96-4d500f91e364-c000.snappy.parquet\r\n",
      "part-00129-1db21bc5-3e5c-4d2c-bb96-4d500f91e364-c000.snappy.parquet\r\n",
      "part-00130-1db21bc5-3e5c-4d2c-bb96-4d500f91e364-c000.snappy.parquet\r\n",
      "part-00131-1db21bc5-3e5c-4d2c-bb96-4d500f91e364-c000.snappy.parquet\r\n",
      "part-00132-1db21bc5-3e5c-4d2c-bb96-4d500f91e364-c000.snappy.parquet\r\n",
      "part-00133-1db21bc5-3e5c-4d2c-bb96-4d500f91e364-c000.snappy.parquet\r\n",
      "part-00134-1db21bc5-3e5c-4d2c-bb96-4d500f91e364-c000.snappy.parquet\r\n",
      "part-00135-1db21bc5-3e5c-4d2c-bb96-4d500f91e364-c000.snappy.parquet\r\n",
      "part-00136-1db21bc5-3e5c-4d2c-bb96-4d500f91e364-c000.snappy.parquet\r\n",
      "part-00137-1db21bc5-3e5c-4d2c-bb96-4d500f91e364-c000.snappy.parquet\r\n",
      "part-00138-1db21bc5-3e5c-4d2c-bb96-4d500f91e364-c000.snappy.parquet\r\n",
      "part-00139-1db21bc5-3e5c-4d2c-bb96-4d500f91e364-c000.snappy.parquet\r\n",
      "part-00140-1db21bc5-3e5c-4d2c-bb96-4d500f91e364-c000.snappy.parquet\r\n",
      "part-00141-1db21bc5-3e5c-4d2c-bb96-4d500f91e364-c000.snappy.parquet\r\n",
      "part-00142-1db21bc5-3e5c-4d2c-bb96-4d500f91e364-c000.snappy.parquet\r\n",
      "part-00143-1db21bc5-3e5c-4d2c-bb96-4d500f91e364-c000.snappy.parquet\r\n",
      "part-00144-1db21bc5-3e5c-4d2c-bb96-4d500f91e364-c000.snappy.parquet\r\n",
      "part-00145-1db21bc5-3e5c-4d2c-bb96-4d500f91e364-c000.snappy.parquet\r\n",
      "part-00146-1db21bc5-3e5c-4d2c-bb96-4d500f91e364-c000.snappy.parquet\r\n",
      "part-00147-1db21bc5-3e5c-4d2c-bb96-4d500f91e364-c000.snappy.parquet\r\n",
      "part-00148-1db21bc5-3e5c-4d2c-bb96-4d500f91e364-c000.snappy.parquet\r\n",
      "part-00149-1db21bc5-3e5c-4d2c-bb96-4d500f91e364-c000.snappy.parquet\r\n",
      "part-00150-1db21bc5-3e5c-4d2c-bb96-4d500f91e364-c000.snappy.parquet\r\n",
      "part-00151-1db21bc5-3e5c-4d2c-bb96-4d500f91e364-c000.snappy.parquet\r\n",
      "part-00152-1db21bc5-3e5c-4d2c-bb96-4d500f91e364-c000.snappy.parquet\r\n",
      "part-00153-1db21bc5-3e5c-4d2c-bb96-4d500f91e364-c000.snappy.parquet\r\n",
      "part-00154-1db21bc5-3e5c-4d2c-bb96-4d500f91e364-c000.snappy.parquet\r\n",
      "part-00155-1db21bc5-3e5c-4d2c-bb96-4d500f91e364-c000.snappy.parquet\r\n",
      "part-00156-1db21bc5-3e5c-4d2c-bb96-4d500f91e364-c000.snappy.parquet\r\n",
      "part-00157-1db21bc5-3e5c-4d2c-bb96-4d500f91e364-c000.snappy.parquet\r\n",
      "part-00158-1db21bc5-3e5c-4d2c-bb96-4d500f91e364-c000.snappy.parquet\r\n",
      "part-00159-1db21bc5-3e5c-4d2c-bb96-4d500f91e364-c000.snappy.parquet\r\n",
      "part-00160-1db21bc5-3e5c-4d2c-bb96-4d500f91e364-c000.snappy.parquet\r\n",
      "part-00161-1db21bc5-3e5c-4d2c-bb96-4d500f91e364-c000.snappy.parquet\r\n",
      "part-00162-1db21bc5-3e5c-4d2c-bb96-4d500f91e364-c000.snappy.parquet\r\n",
      "part-00163-1db21bc5-3e5c-4d2c-bb96-4d500f91e364-c000.snappy.parquet\r\n",
      "part-00164-1db21bc5-3e5c-4d2c-bb96-4d500f91e364-c000.snappy.parquet\r\n",
      "part-00165-1db21bc5-3e5c-4d2c-bb96-4d500f91e364-c000.snappy.parquet\r\n",
      "part-00166-1db21bc5-3e5c-4d2c-bb96-4d500f91e364-c000.snappy.parquet\r\n",
      "part-00167-1db21bc5-3e5c-4d2c-bb96-4d500f91e364-c000.snappy.parquet\r\n",
      "part-00168-1db21bc5-3e5c-4d2c-bb96-4d500f91e364-c000.snappy.parquet\r\n",
      "part-00169-1db21bc5-3e5c-4d2c-bb96-4d500f91e364-c000.snappy.parquet\r\n",
      "part-00170-1db21bc5-3e5c-4d2c-bb96-4d500f91e364-c000.snappy.parquet\r\n",
      "part-00171-1db21bc5-3e5c-4d2c-bb96-4d500f91e364-c000.snappy.parquet\r\n",
      "part-00172-1db21bc5-3e5c-4d2c-bb96-4d500f91e364-c000.snappy.parquet\r\n",
      "part-00173-1db21bc5-3e5c-4d2c-bb96-4d500f91e364-c000.snappy.parquet\r\n",
      "part-00174-1db21bc5-3e5c-4d2c-bb96-4d500f91e364-c000.snappy.parquet\r\n",
      "part-00175-1db21bc5-3e5c-4d2c-bb96-4d500f91e364-c000.snappy.parquet\r\n",
      "part-00176-1db21bc5-3e5c-4d2c-bb96-4d500f91e364-c000.snappy.parquet\r\n",
      "part-00177-1db21bc5-3e5c-4d2c-bb96-4d500f91e364-c000.snappy.parquet\r\n",
      "part-00178-1db21bc5-3e5c-4d2c-bb96-4d500f91e364-c000.snappy.parquet\r\n",
      "part-00179-1db21bc5-3e5c-4d2c-bb96-4d500f91e364-c000.snappy.parquet\r\n",
      "part-00180-1db21bc5-3e5c-4d2c-bb96-4d500f91e364-c000.snappy.parquet\r\n",
      "part-00181-1db21bc5-3e5c-4d2c-bb96-4d500f91e364-c000.snappy.parquet\r\n",
      "part-00182-1db21bc5-3e5c-4d2c-bb96-4d500f91e364-c000.snappy.parquet\r\n",
      "part-00183-1db21bc5-3e5c-4d2c-bb96-4d500f91e364-c000.snappy.parquet\r\n",
      "part-00184-1db21bc5-3e5c-4d2c-bb96-4d500f91e364-c000.snappy.parquet\r\n",
      "part-00185-1db21bc5-3e5c-4d2c-bb96-4d500f91e364-c000.snappy.parquet\r\n",
      "part-00186-1db21bc5-3e5c-4d2c-bb96-4d500f91e364-c000.snappy.parquet\r\n",
      "part-00187-1db21bc5-3e5c-4d2c-bb96-4d500f91e364-c000.snappy.parquet\r\n",
      "part-00188-1db21bc5-3e5c-4d2c-bb96-4d500f91e364-c000.snappy.parquet\r\n",
      "part-00189-1db21bc5-3e5c-4d2c-bb96-4d500f91e364-c000.snappy.parquet\r\n",
      "part-00190-1db21bc5-3e5c-4d2c-bb96-4d500f91e364-c000.snappy.parquet\r\n",
      "part-00191-1db21bc5-3e5c-4d2c-bb96-4d500f91e364-c000.snappy.parquet\r\n",
      "part-00192-1db21bc5-3e5c-4d2c-bb96-4d500f91e364-c000.snappy.parquet\r\n",
      "part-00193-1db21bc5-3e5c-4d2c-bb96-4d500f91e364-c000.snappy.parquet\r\n",
      "part-00194-1db21bc5-3e5c-4d2c-bb96-4d500f91e364-c000.snappy.parquet\r\n",
      "part-00195-1db21bc5-3e5c-4d2c-bb96-4d500f91e364-c000.snappy.parquet\r\n",
      "part-00196-1db21bc5-3e5c-4d2c-bb96-4d500f91e364-c000.snappy.parquet\r\n",
      "part-00197-1db21bc5-3e5c-4d2c-bb96-4d500f91e364-c000.snappy.parquet\r\n",
      "part-00198-1db21bc5-3e5c-4d2c-bb96-4d500f91e364-c000.snappy.parquet\r\n",
      "part-00199-1db21bc5-3e5c-4d2c-bb96-4d500f91e364-c000.snappy.parquet\r\n"
     ]
    }
   ],
   "source": [
    "# мы будем использовать данные, сохраннённые в предыдущем ноутбуке\n",
    "!ls {DATA_DIR}/tf_idf.parquet"
   ]
  },
  {
   "cell_type": "code",
   "execution_count": 4,
   "metadata": {
    "slideshow": {
     "slide_type": "slide"
    }
   },
   "outputs": [],
   "source": [
    "# создаём сессию Spark\n",
    "from pyspark.sql import SparkSession\n",
    "\n",
    "spark = (\n",
    "    SparkSession\n",
    "    .builder\n",
    "    .master(\"local[*]\")\n",
    "    .config(\"spark.driver.memory\", \"4g\")\n",
    "    .getOrCreate()\n",
    ")"
   ]
  },
  {
   "cell_type": "code",
   "execution_count": 5,
   "metadata": {
    "slideshow": {
     "slide_type": "slide"
    }
   },
   "outputs": [
    {
     "name": "stdout",
     "output_type": "stream",
     "text": [
      "+-------+--------------------+--------------------+\n",
      "|movieId|               title|              tf_idf|\n",
      "+-------+--------------------+--------------------+\n",
      "|     35|   Carrington (1995)|(1024,[8,74,189,2...|\n",
      "|    503| New Age, The (1994)|(1024,[434,769,82...|\n",
      "|    583|Dear Diary (Caro ...|(1024,[434,741,84...|\n",
      "|    594|Snow White and th...|(1024,[29,52,60,8...|\n",
      "|    610|  Heavy Metal (1981)|(1024,[32,93,112,...|\n",
      "|    614|       Loaded (1994)|(1024,[263,434],[...|\n",
      "|    761| Phantom, The (1996)|(1024,[43,169,196...|\n",
      "|    880|Island of Dr. Mor...|(1024,[44,81,219,...|\n",
      "|   1369|I Can't Sleep (J'...|(1024,[263,434],[...|\n",
      "|   1519|Broken English (1...|(1024,[434,829],[...|\n",
      "|   1589|     Cop Land (1997)|(1024,[37,61,164,...|\n",
      "|   1815|         Eden (1997)|(1024,[434,829],[...|\n",
      "|   1881|Quest for Camelot...|(1024,[57,165,337...|\n",
      "|   2080|Lady and the Tram...|(1024,[29,37,83,1...|\n",
      "|   2324|Life Is Beautiful...|(1024,[3,31,32,45...|\n",
      "|   2444|24 7: Twenty Four...|(1024,[122,221,43...|\n",
      "|   2445|At First Sight (1...|(1024,[177,208,34...|\n",
      "|   2649|Son of Frankenste...|(1024,[40,78,208,...|\n",
      "|   2915|Risky Business (1...|(1024,[9,65,76,10...|\n",
      "|   3065|Nothing to Lose (...|(1024,[434,829],[...|\n",
      "+-------+--------------------+--------------------+\n",
      "only showing top 20 rows\n",
      "\n"
     ]
    }
   ],
   "source": [
    "import os\n",
    "import pyspark.sql.functions as sql_func\n",
    "\n",
    "# поскольку в Parquet схема данных хранится внутри самого файла, читать их очень просто\n",
    "tf_idf = spark.read.parquet(os.path.join(DATA_DIR, \"tf_idf.parquet\")).cache()\n",
    "tf_idf.show()"
   ]
  },
  {
   "cell_type": "code",
   "execution_count": 6,
   "metadata": {
    "slideshow": {
     "slide_type": "slide"
    }
   },
   "outputs": [],
   "source": [
    "# считаем данные об оценках\n",
    "ratings = (\n",
    "    spark\n",
    "    .read\n",
    "    .csv(\n",
    "        os.path.join(DATA_DIR, \"ratings.csv\"),\n",
    "        header=True,\n",
    "        inferSchema=True\n",
    "    )\n",
    "    # только о миллионе. потому что даже на таком объёме обсчёт модели на четырёх ядрах\n",
    "    # занимает пару часов\n",
    "    .limit(100000)\n",
    "    .select(\"movieId\", \"userId\", \"rating\")\n",
    ")"
   ]
  },
  {
   "cell_type": "code",
   "execution_count": 13,
   "metadata": {
    "collapsed": true
   },
   "outputs": [
    {
     "name": "stdout",
     "output_type": "stream",
     "text": [
      "+------+------------------+\n",
      "|userId|   avg_rating_user|\n",
      "+------+------------------+\n",
      "|     1| 4.277777777777778|\n",
      "|     2|3.3181818181818183|\n",
      "|     3|               3.1|\n",
      "|     4|               3.5|\n",
      "|     5| 4.269230769230769|\n",
      "|     6|              3.75|\n",
      "|     7|3.3679245283018866|\n",
      "|     8|2.9911504424778763|\n",
      "|     9|3.8511904761904763|\n",
      "|    10| 4.230769230769231|\n",
      "|    11| 3.211453744493392|\n",
      "|    12|3.8548387096774195|\n",
      "|    13|2.8181818181818183|\n",
      "|    14|               3.4|\n",
      "|    15|3.7367256637168142|\n",
      "|    16| 4.417582417582418|\n",
      "|    17|3.5833333333333335|\n",
      "|    18| 4.166666666666667|\n",
      "|    19|2.2666666666666666|\n",
      "|    20| 3.846296296296296|\n",
      "+------+------------------+\n",
      "only showing top 20 rows\n",
      "\n"
     ]
    }
   ],
   "source": [
    "### Посчитаем среднюю оценку пользователя\n",
    "user_avg = ratings.groupBy('userId').agg(sql_func.avg(\"rating\").alias(\"avg_rating_user\"))\n",
    "user_avg.show()"
   ]
  },
  {
   "cell_type": "code",
   "execution_count": 58,
   "metadata": {
    "collapsed": true
   },
   "outputs": [
    {
     "name": "stdout",
     "output_type": "stream",
     "text": [
      "+-------+------------------+\n",
      "|movieID|  avg_rating_movie|\n",
      "+-------+------------------+\n",
      "|    110| 3.911290322580645|\n",
      "|    147| 3.480769230769231|\n",
      "|    858|4.4511111111111115|\n",
      "|   1221| 4.248466257668712|\n",
      "|   1246|3.8317757009345796|\n",
      "|   1968|3.8440366972477062|\n",
      "|   2762| 4.015151515151516|\n",
      "|   2918| 4.008064516129032|\n",
      "|   2959| 4.192139737991266|\n",
      "|   4226| 4.043103448275862|\n",
      "|   4878|3.7548076923076925|\n",
      "|   5577|3.0416666666666665|\n",
      "|  33794|3.7288135593220337|\n",
      "|  54503|3.7804878048780486|\n",
      "|  58559| 4.082781456953643|\n",
      "|  59315|3.9402173913043477|\n",
      "|  68358| 4.172131147540983|\n",
      "|  69844| 3.769230769230769|\n",
      "|  73017|3.6444444444444444|\n",
      "|  81834|               3.9|\n",
      "+-------+------------------+\n",
      "only showing top 20 rows\n",
      "\n"
     ]
    }
   ],
   "source": [
    "### Посчитаем среднюю оценку фильма\n",
    "movie_avg = ratings.groupBy('movieID').agg(sql_func.avg(\"rating\").alias(\"avg_rating_movie\"))\n",
    "movie_avg.show()"
   ]
  },
  {
   "cell_type": "code",
   "execution_count": null,
   "metadata": {},
   "outputs": [],
   "source": [
    "## сджойним  все данные\n",
    "joined_data = (ratings.alias(\"r\")\\\n",
    "        .join(tf_idf.alias(\"tf-idf\"), sql_func.col(\"tf-idf.movieId\") ==  sql_func.col(\"r.movieId\"))\\\n",
    "        .join(user_avg.alias(\"user\"), sql_func.col(\"user.userId\") ==  sql_func.col(\"r.userId\"))\\\n",
    "        .join(movie_avg.alias(\"movie\"), sql_func.col(\"movie.movieId\") ==  sql_func.col(\"r.movieId\"))\\\n",
    "        .select(sql_func.col(\"r.userId\"),sql_func.col(\"r.movieId\"),sql_func.col(\"r.rating\"),\\\n",
    "        sql_func.col(\"user.avg_rating_user\"),sql_func.col(\"movie.avg_rating_movie\"),sql_func.col(\"tf-idf.tf_idf\")))"
   ]
  },
  {
   "cell_type": "code",
   "execution_count": 7,
   "metadata": {
    "slideshow": {
     "slide_type": "slide"
    }
   },
   "outputs": [],
   "source": [
    "from sklearn.linear_model import ElasticNet\n",
    "import numpy as np\n",
    "from pyspark.sql.types import FloatType, ArrayType\n",
    "\n",
    "def sklearn_lr(spark_x: list, spark_y: list) -> list:\n",
    "    \"\"\"\n",
    "        spark_x: список pyspark.ml.linalg.SparseVector - фичи для регрессии\n",
    "        spark_y: список значений целевой переменной регрессии\n",
    "        return: список коэффициентов регресии\n",
    "    \"\"\"\n",
    "    # перевеодим данные из формата Spark в удобный для sklearn\n",
    "    numpy_x = np.array([vector.toArray() for vector in spark_x])\n",
    "    numpy_y = np.array(spark_y).reshape(-1, 1)\n",
    "    # применяем обычную модель из sklearn\n",
    "    lr = ElasticNet().fit(numpy_x, numpy_y)\n",
    "    # возвращаем в ответе плотный вектор коэффициентов регрессии\n",
    "    return [lr.sparse_coef_.todense().tolist()[0], lr.intercept_.tolist()]\n",
    "\n",
    "# определяем Spark UDF, которая обучает регрессию на своих аргументах\n",
    "reg_udf = sql_func.udf(\n",
    "    sklearn_lr,\n",
    "    returnType=ArrayType(ArrayType(FloatType()))\n",
    ")"
   ]
  },
  {
   "cell_type": "markdown",
   "metadata": {},
   "source": [
    "# Здесь объеденил списки tf-idf и средних оценок. Сделал из этого верктор X. По идее остальной код остается без изменений"
   ]
  },
  {
   "cell_type": "code",
   "execution_count": 77,
   "metadata": {
    "collapsed": true
   },
   "outputs": [
    {
     "ename": "Py4JJavaError",
     "evalue": "An error occurred while calling o1218.cache.\n: java.util.concurrent.TimeoutException: Futures timed out after [300 seconds]\n\tat scala.concurrent.impl.Promise$DefaultPromise.ready(Promise.scala:219)\n\tat scala.concurrent.impl.Promise$DefaultPromise.result(Promise.scala:223)\n\tat org.apache.spark.util.ThreadUtils$.awaitResult(ThreadUtils.scala:201)\n\tat org.apache.spark.sql.execution.exchange.BroadcastExchangeExec.doExecuteBroadcast(BroadcastExchangeExec.scala:136)\n\tat org.apache.spark.sql.execution.InputAdapter.doExecuteBroadcast(WholeStageCodegenExec.scala:367)\n\tat org.apache.spark.sql.execution.SparkPlan$$anonfun$executeBroadcast$1.apply(SparkPlan.scala:144)\n\tat org.apache.spark.sql.execution.SparkPlan$$anonfun$executeBroadcast$1.apply(SparkPlan.scala:140)\n\tat org.apache.spark.sql.execution.SparkPlan$$anonfun$executeQuery$1.apply(SparkPlan.scala:155)\n\tat org.apache.spark.rdd.RDDOperationScope$.withScope(RDDOperationScope.scala:151)\n\tat org.apache.spark.sql.execution.SparkPlan.executeQuery(SparkPlan.scala:152)\n\tat org.apache.spark.sql.execution.SparkPlan.executeBroadcast(SparkPlan.scala:140)\n\tat org.apache.spark.sql.execution.joins.BroadcastHashJoinExec.prepareBroadcast(BroadcastHashJoinExec.scala:135)\n\tat org.apache.spark.sql.execution.joins.BroadcastHashJoinExec.codegenInner(BroadcastHashJoinExec.scala:232)\n\tat org.apache.spark.sql.execution.joins.BroadcastHashJoinExec.doConsume(BroadcastHashJoinExec.scala:102)\n\tat org.apache.spark.sql.execution.CodegenSupport$class.consume(WholeStageCodegenExec.scala:181)\n\tat org.apache.spark.sql.execution.FilterExec.consume(basicPhysicalOperators.scala:85)\n\tat org.apache.spark.sql.execution.FilterExec.doConsume(basicPhysicalOperators.scala:206)\n\tat org.apache.spark.sql.execution.CodegenSupport$class.consume(WholeStageCodegenExec.scala:181)\n\tat org.apache.spark.sql.execution.InputAdapter.consume(WholeStageCodegenExec.scala:354)\n\tat org.apache.spark.sql.execution.InputAdapter.doProduce(WholeStageCodegenExec.scala:383)\n\tat org.apache.spark.sql.execution.CodegenSupport$$anonfun$produce$1.apply(WholeStageCodegenExec.scala:88)\n\tat org.apache.spark.sql.execution.CodegenSupport$$anonfun$produce$1.apply(WholeStageCodegenExec.scala:83)\n\tat org.apache.spark.sql.execution.SparkPlan$$anonfun$executeQuery$1.apply(SparkPlan.scala:155)\n\tat org.apache.spark.rdd.RDDOperationScope$.withScope(RDDOperationScope.scala:151)\n\tat org.apache.spark.sql.execution.SparkPlan.executeQuery(SparkPlan.scala:152)\n\tat org.apache.spark.sql.execution.CodegenSupport$class.produce(WholeStageCodegenExec.scala:83)\n\tat org.apache.spark.sql.execution.InputAdapter.produce(WholeStageCodegenExec.scala:354)\n\tat org.apache.spark.sql.execution.FilterExec.doProduce(basicPhysicalOperators.scala:125)\n\tat org.apache.spark.sql.execution.CodegenSupport$$anonfun$produce$1.apply(WholeStageCodegenExec.scala:88)\n\tat org.apache.spark.sql.execution.CodegenSupport$$anonfun$produce$1.apply(WholeStageCodegenExec.scala:83)\n\tat org.apache.spark.sql.execution.SparkPlan$$anonfun$executeQuery$1.apply(SparkPlan.scala:155)\n\tat org.apache.spark.rdd.RDDOperationScope$.withScope(RDDOperationScope.scala:151)\n\tat org.apache.spark.sql.execution.SparkPlan.executeQuery(SparkPlan.scala:152)\n\tat org.apache.spark.sql.execution.CodegenSupport$class.produce(WholeStageCodegenExec.scala:83)\n\tat org.apache.spark.sql.execution.FilterExec.produce(basicPhysicalOperators.scala:85)\n\tat org.apache.spark.sql.execution.joins.BroadcastHashJoinExec.doProduce(BroadcastHashJoinExec.scala:97)\n\tat org.apache.spark.sql.execution.CodegenSupport$$anonfun$produce$1.apply(WholeStageCodegenExec.scala:88)\n\tat org.apache.spark.sql.execution.CodegenSupport$$anonfun$produce$1.apply(WholeStageCodegenExec.scala:83)\n\tat org.apache.spark.sql.execution.SparkPlan$$anonfun$executeQuery$1.apply(SparkPlan.scala:155)\n\tat org.apache.spark.rdd.RDDOperationScope$.withScope(RDDOperationScope.scala:151)\n\tat org.apache.spark.sql.execution.SparkPlan.executeQuery(SparkPlan.scala:152)\n\tat org.apache.spark.sql.execution.CodegenSupport$class.produce(WholeStageCodegenExec.scala:83)\n\tat org.apache.spark.sql.execution.joins.BroadcastHashJoinExec.produce(BroadcastHashJoinExec.scala:39)\n\tat org.apache.spark.sql.execution.ProjectExec.doProduce(basicPhysicalOperators.scala:45)\n\tat org.apache.spark.sql.execution.CodegenSupport$$anonfun$produce$1.apply(WholeStageCodegenExec.scala:88)\n\tat org.apache.spark.sql.execution.CodegenSupport$$anonfun$produce$1.apply(WholeStageCodegenExec.scala:83)\n\tat org.apache.spark.sql.execution.SparkPlan$$anonfun$executeQuery$1.apply(SparkPlan.scala:155)\n\tat org.apache.spark.rdd.RDDOperationScope$.withScope(RDDOperationScope.scala:151)\n\tat org.apache.spark.sql.execution.SparkPlan.executeQuery(SparkPlan.scala:152)\n\tat org.apache.spark.sql.execution.CodegenSupport$class.produce(WholeStageCodegenExec.scala:83)\n\tat org.apache.spark.sql.execution.ProjectExec.produce(basicPhysicalOperators.scala:35)\n\tat org.apache.spark.sql.execution.joins.BroadcastHashJoinExec.doProduce(BroadcastHashJoinExec.scala:97)\n\tat org.apache.spark.sql.execution.CodegenSupport$$anonfun$produce$1.apply(WholeStageCodegenExec.scala:88)\n\tat org.apache.spark.sql.execution.CodegenSupport$$anonfun$produce$1.apply(WholeStageCodegenExec.scala:83)\n\tat org.apache.spark.sql.execution.SparkPlan$$anonfun$executeQuery$1.apply(SparkPlan.scala:155)\n\tat org.apache.spark.rdd.RDDOperationScope$.withScope(RDDOperationScope.scala:151)\n\tat org.apache.spark.sql.execution.SparkPlan.executeQuery(SparkPlan.scala:152)\n\tat org.apache.spark.sql.execution.CodegenSupport$class.produce(WholeStageCodegenExec.scala:83)\n\tat org.apache.spark.sql.execution.joins.BroadcastHashJoinExec.produce(BroadcastHashJoinExec.scala:39)\n\tat org.apache.spark.sql.execution.ProjectExec.doProduce(basicPhysicalOperators.scala:45)\n\tat org.apache.spark.sql.execution.CodegenSupport$$anonfun$produce$1.apply(WholeStageCodegenExec.scala:88)\n\tat org.apache.spark.sql.execution.CodegenSupport$$anonfun$produce$1.apply(WholeStageCodegenExec.scala:83)\n\tat org.apache.spark.sql.execution.SparkPlan$$anonfun$executeQuery$1.apply(SparkPlan.scala:155)\n\tat org.apache.spark.rdd.RDDOperationScope$.withScope(RDDOperationScope.scala:151)\n\tat org.apache.spark.sql.execution.SparkPlan.executeQuery(SparkPlan.scala:152)\n\tat org.apache.spark.sql.execution.CodegenSupport$class.produce(WholeStageCodegenExec.scala:83)\n\tat org.apache.spark.sql.execution.ProjectExec.produce(basicPhysicalOperators.scala:35)\n\tat org.apache.spark.sql.execution.joins.BroadcastHashJoinExec.doProduce(BroadcastHashJoinExec.scala:97)\n\tat org.apache.spark.sql.execution.CodegenSupport$$anonfun$produce$1.apply(WholeStageCodegenExec.scala:88)\n\tat org.apache.spark.sql.execution.CodegenSupport$$anonfun$produce$1.apply(WholeStageCodegenExec.scala:83)\n\tat org.apache.spark.sql.execution.SparkPlan$$anonfun$executeQuery$1.apply(SparkPlan.scala:155)\n\tat org.apache.spark.rdd.RDDOperationScope$.withScope(RDDOperationScope.scala:151)\n\tat org.apache.spark.sql.execution.SparkPlan.executeQuery(SparkPlan.scala:152)\n\tat org.apache.spark.sql.execution.CodegenSupport$class.produce(WholeStageCodegenExec.scala:83)\n\tat org.apache.spark.sql.execution.joins.BroadcastHashJoinExec.produce(BroadcastHashJoinExec.scala:39)\n\tat org.apache.spark.sql.execution.ProjectExec.doProduce(basicPhysicalOperators.scala:45)\n\tat org.apache.spark.sql.execution.CodegenSupport$$anonfun$produce$1.apply(WholeStageCodegenExec.scala:88)\n\tat org.apache.spark.sql.execution.CodegenSupport$$anonfun$produce$1.apply(WholeStageCodegenExec.scala:83)\n\tat org.apache.spark.sql.execution.SparkPlan$$anonfun$executeQuery$1.apply(SparkPlan.scala:155)\n\tat org.apache.spark.rdd.RDDOperationScope$.withScope(RDDOperationScope.scala:151)\n\tat org.apache.spark.sql.execution.SparkPlan.executeQuery(SparkPlan.scala:152)\n\tat org.apache.spark.sql.execution.CodegenSupport$class.produce(WholeStageCodegenExec.scala:83)\n\tat org.apache.spark.sql.execution.ProjectExec.produce(basicPhysicalOperators.scala:35)\n\tat org.apache.spark.sql.execution.WholeStageCodegenExec.doCodeGen(WholeStageCodegenExec.scala:524)\n\tat org.apache.spark.sql.execution.WholeStageCodegenExec.doExecute(WholeStageCodegenExec.scala:576)\n\tat org.apache.spark.sql.execution.SparkPlan$$anonfun$execute$1.apply(SparkPlan.scala:131)\n\tat org.apache.spark.sql.execution.SparkPlan$$anonfun$execute$1.apply(SparkPlan.scala:127)\n\tat org.apache.spark.sql.execution.SparkPlan$$anonfun$executeQuery$1.apply(SparkPlan.scala:155)\n\tat org.apache.spark.rdd.RDDOperationScope$.withScope(RDDOperationScope.scala:151)\n\tat org.apache.spark.sql.execution.SparkPlan.executeQuery(SparkPlan.scala:152)\n\tat org.apache.spark.sql.execution.SparkPlan.execute(SparkPlan.scala:127)\n\tat org.apache.spark.sql.execution.python.EvalPythonExec.doExecute(EvalPythonExec.scala:89)\n\tat org.apache.spark.sql.execution.SparkPlan$$anonfun$execute$1.apply(SparkPlan.scala:131)\n\tat org.apache.spark.sql.execution.SparkPlan$$anonfun$execute$1.apply(SparkPlan.scala:127)\n\tat org.apache.spark.sql.execution.SparkPlan$$anonfun$executeQuery$1.apply(SparkPlan.scala:155)\n\tat org.apache.spark.rdd.RDDOperationScope$.withScope(RDDOperationScope.scala:151)\n\tat org.apache.spark.sql.execution.SparkPlan.executeQuery(SparkPlan.scala:152)\n\tat org.apache.spark.sql.execution.SparkPlan.execute(SparkPlan.scala:127)\n\tat org.apache.spark.sql.execution.InputAdapter.inputRDDs(WholeStageCodegenExec.scala:371)\n\tat org.apache.spark.sql.execution.ProjectExec.inputRDDs(basicPhysicalOperators.scala:41)\n\tat org.apache.spark.sql.execution.SortExec.inputRDDs(SortExec.scala:121)\n\tat org.apache.spark.sql.execution.SampleExec.inputRDDs(basicPhysicalOperators.scala:271)\n\tat org.apache.spark.sql.execution.WholeStageCodegenExec.doExecute(WholeStageCodegenExec.scala:605)\n\tat org.apache.spark.sql.execution.SparkPlan$$anonfun$execute$1.apply(SparkPlan.scala:131)\n\tat org.apache.spark.sql.execution.SparkPlan$$anonfun$execute$1.apply(SparkPlan.scala:127)\n\tat org.apache.spark.sql.execution.SparkPlan$$anonfun$executeQuery$1.apply(SparkPlan.scala:155)\n\tat org.apache.spark.rdd.RDDOperationScope$.withScope(RDDOperationScope.scala:151)\n\tat org.apache.spark.sql.execution.SparkPlan.executeQuery(SparkPlan.scala:152)\n\tat org.apache.spark.sql.execution.SparkPlan.execute(SparkPlan.scala:127)\n\tat org.apache.spark.sql.execution.columnar.InMemoryRelation.buildBuffers(InMemoryRelation.scala:97)\n\tat org.apache.spark.sql.execution.columnar.InMemoryRelation.<init>(InMemoryRelation.scala:92)\n\tat org.apache.spark.sql.execution.columnar.InMemoryRelation$.apply(InMemoryRelation.scala:42)\n\tat org.apache.spark.sql.execution.CacheManager$$anonfun$cacheQuery$1.apply(CacheManager.scala:97)\n\tat org.apache.spark.sql.execution.CacheManager.writeLock(CacheManager.scala:67)\n\tat org.apache.spark.sql.execution.CacheManager.cacheQuery(CacheManager.scala:91)\n\tat org.apache.spark.sql.Dataset.persist(Dataset.scala:2902)\n\tat org.apache.spark.sql.Dataset.cache(Dataset.scala:2912)\n\tat sun.reflect.NativeMethodAccessorImpl.invoke0(Native Method)\n\tat sun.reflect.NativeMethodAccessorImpl.invoke(NativeMethodAccessorImpl.java:62)\n\tat sun.reflect.DelegatingMethodAccessorImpl.invoke(DelegatingMethodAccessorImpl.java:43)\n\tat java.lang.reflect.Method.invoke(Method.java:498)\n\tat py4j.reflection.MethodInvoker.invoke(MethodInvoker.java:244)\n\tat py4j.reflection.ReflectionEngine.invoke(ReflectionEngine.java:357)\n\tat py4j.Gateway.invoke(Gateway.java:282)\n\tat py4j.commands.AbstractCommand.invokeMethod(AbstractCommand.java:132)\n\tat py4j.commands.CallCommand.execute(CallCommand.java:79)\n\tat py4j.GatewayConnection.run(GatewayConnection.java:214)\n\tat java.lang.Thread.run(Thread.java:748)\n",
     "output_type": "error",
     "traceback": [
      "\u001b[0;31m\u001b[0m",
      "\u001b[0;31mPy4JJavaError\u001b[0mTraceback (most recent call last)",
      "\u001b[0;32m<ipython-input-77-855ad47e6512>\u001b[0m in \u001b[0;36m<module>\u001b[0;34m()\u001b[0m\n\u001b[1;32m      3\u001b[0m \u001b[0mtrain_data\u001b[0m\u001b[0;34m,\u001b[0m \u001b[0mtest_data\u001b[0m  \u001b[0;34m=\u001b[0m \u001b[0mjoined_data\u001b[0m        \u001b[0;34m.\u001b[0m\u001b[0mselect\u001b[0m\u001b[0;34m(\u001b[0m\u001b[0msql_func\u001b[0m\u001b[0;34m.\u001b[0m\u001b[0mcol\u001b[0m\u001b[0;34m(\u001b[0m\u001b[0;34m\"userId\"\u001b[0m\u001b[0;34m)\u001b[0m\u001b[0;34m,\u001b[0m\u001b[0msql_func\u001b[0m\u001b[0;34m.\u001b[0m\u001b[0mcol\u001b[0m\u001b[0;34m(\u001b[0m\u001b[0;34m\"movieId\"\u001b[0m\u001b[0;34m)\u001b[0m\u001b[0;34m,\u001b[0m\u001b[0msql_func\u001b[0m\u001b[0;34m.\u001b[0m\u001b[0mcol\u001b[0m\u001b[0;34m(\u001b[0m\u001b[0;34m\"rating\"\u001b[0m\u001b[0;34m)\u001b[0m\u001b[0;34m,\u001b[0m        \u001b[0mlist_concat\u001b[0m\u001b[0;34m(\u001b[0m\u001b[0;34m\"tf_idf\"\u001b[0m\u001b[0;34m,\u001b[0m\u001b[0;34m\"avg_rating_user\"\u001b[0m\u001b[0;34m,\u001b[0m\u001b[0;34m\"avg_rating_movie\"\u001b[0m\u001b[0;34m)\u001b[0m\u001b[0;34m.\u001b[0m\u001b[0malias\u001b[0m\u001b[0;34m(\u001b[0m\u001b[0;34m\"tf_idf\"\u001b[0m\u001b[0;34m)\u001b[0m\u001b[0;34m)\u001b[0m        \u001b[0;34m.\u001b[0m\u001b[0mrandomSplit\u001b[0m\u001b[0;34m(\u001b[0m\u001b[0;34m[\u001b[0m\u001b[0;36m0.8\u001b[0m\u001b[0;34m,\u001b[0m \u001b[0;36m0.2\u001b[0m\u001b[0;34m]\u001b[0m\u001b[0;34m,\u001b[0m \u001b[0mseed\u001b[0m\u001b[0;34m=\u001b[0m\u001b[0;36m42\u001b[0m\u001b[0;34m)\u001b[0m\u001b[0;34m\u001b[0m\u001b[0m\n\u001b[1;32m      4\u001b[0m \u001b[0;34m\u001b[0m\u001b[0m\n\u001b[0;32m----> 5\u001b[0;31m \u001b[0mtrain_data\u001b[0m\u001b[0;34m.\u001b[0m\u001b[0mcache\u001b[0m\u001b[0;34m(\u001b[0m\u001b[0;34m)\u001b[0m\u001b[0;34m\u001b[0m\u001b[0m\n\u001b[0m\u001b[1;32m      6\u001b[0m \u001b[0mtest_data\u001b[0m\u001b[0;34m.\u001b[0m\u001b[0mcache\u001b[0m\u001b[0;34m(\u001b[0m\u001b[0;34m)\u001b[0m\u001b[0;34m\u001b[0m\u001b[0m\n",
      "\u001b[0;32m/usr/local/lib/python3.6/dist-packages/pyspark/sql/dataframe.py\u001b[0m in \u001b[0;36mcache\u001b[0;34m(self)\u001b[0m\n\u001b[1;32m    536\u001b[0m         \"\"\"\n\u001b[1;32m    537\u001b[0m         \u001b[0mself\u001b[0m\u001b[0;34m.\u001b[0m\u001b[0mis_cached\u001b[0m \u001b[0;34m=\u001b[0m \u001b[0;32mTrue\u001b[0m\u001b[0;34m\u001b[0m\u001b[0m\n\u001b[0;32m--> 538\u001b[0;31m         \u001b[0mself\u001b[0m\u001b[0;34m.\u001b[0m\u001b[0m_jdf\u001b[0m\u001b[0;34m.\u001b[0m\u001b[0mcache\u001b[0m\u001b[0;34m(\u001b[0m\u001b[0;34m)\u001b[0m\u001b[0;34m\u001b[0m\u001b[0m\n\u001b[0m\u001b[1;32m    539\u001b[0m         \u001b[0;32mreturn\u001b[0m \u001b[0mself\u001b[0m\u001b[0;34m\u001b[0m\u001b[0m\n\u001b[1;32m    540\u001b[0m \u001b[0;34m\u001b[0m\u001b[0m\n",
      "\u001b[0;32m/usr/local/lib/python3.6/dist-packages/py4j/java_gateway.py\u001b[0m in \u001b[0;36m__call__\u001b[0;34m(self, *args)\u001b[0m\n\u001b[1;32m   1158\u001b[0m         \u001b[0manswer\u001b[0m \u001b[0;34m=\u001b[0m \u001b[0mself\u001b[0m\u001b[0;34m.\u001b[0m\u001b[0mgateway_client\u001b[0m\u001b[0;34m.\u001b[0m\u001b[0msend_command\u001b[0m\u001b[0;34m(\u001b[0m\u001b[0mcommand\u001b[0m\u001b[0;34m)\u001b[0m\u001b[0;34m\u001b[0m\u001b[0m\n\u001b[1;32m   1159\u001b[0m         return_value = get_return_value(\n\u001b[0;32m-> 1160\u001b[0;31m             answer, self.gateway_client, self.target_id, self.name)\n\u001b[0m\u001b[1;32m   1161\u001b[0m \u001b[0;34m\u001b[0m\u001b[0m\n\u001b[1;32m   1162\u001b[0m         \u001b[0;32mfor\u001b[0m \u001b[0mtemp_arg\u001b[0m \u001b[0;32min\u001b[0m \u001b[0mtemp_args\u001b[0m\u001b[0;34m:\u001b[0m\u001b[0;34m\u001b[0m\u001b[0m\n",
      "\u001b[0;32m/usr/local/lib/python3.6/dist-packages/pyspark/sql/utils.py\u001b[0m in \u001b[0;36mdeco\u001b[0;34m(*a, **kw)\u001b[0m\n\u001b[1;32m     61\u001b[0m     \u001b[0;32mdef\u001b[0m \u001b[0mdeco\u001b[0m\u001b[0;34m(\u001b[0m\u001b[0;34m*\u001b[0m\u001b[0ma\u001b[0m\u001b[0;34m,\u001b[0m \u001b[0;34m**\u001b[0m\u001b[0mkw\u001b[0m\u001b[0;34m)\u001b[0m\u001b[0;34m:\u001b[0m\u001b[0;34m\u001b[0m\u001b[0m\n\u001b[1;32m     62\u001b[0m         \u001b[0;32mtry\u001b[0m\u001b[0;34m:\u001b[0m\u001b[0;34m\u001b[0m\u001b[0m\n\u001b[0;32m---> 63\u001b[0;31m             \u001b[0;32mreturn\u001b[0m \u001b[0mf\u001b[0m\u001b[0;34m(\u001b[0m\u001b[0;34m*\u001b[0m\u001b[0ma\u001b[0m\u001b[0;34m,\u001b[0m \u001b[0;34m**\u001b[0m\u001b[0mkw\u001b[0m\u001b[0;34m)\u001b[0m\u001b[0;34m\u001b[0m\u001b[0m\n\u001b[0m\u001b[1;32m     64\u001b[0m         \u001b[0;32mexcept\u001b[0m \u001b[0mpy4j\u001b[0m\u001b[0;34m.\u001b[0m\u001b[0mprotocol\u001b[0m\u001b[0;34m.\u001b[0m\u001b[0mPy4JJavaError\u001b[0m \u001b[0;32mas\u001b[0m \u001b[0me\u001b[0m\u001b[0;34m:\u001b[0m\u001b[0;34m\u001b[0m\u001b[0m\n\u001b[1;32m     65\u001b[0m             \u001b[0ms\u001b[0m \u001b[0;34m=\u001b[0m \u001b[0me\u001b[0m\u001b[0;34m.\u001b[0m\u001b[0mjava_exception\u001b[0m\u001b[0;34m.\u001b[0m\u001b[0mtoString\u001b[0m\u001b[0;34m(\u001b[0m\u001b[0;34m)\u001b[0m\u001b[0;34m\u001b[0m\u001b[0m\n",
      "\u001b[0;32m/usr/local/lib/python3.6/dist-packages/py4j/protocol.py\u001b[0m in \u001b[0;36mget_return_value\u001b[0;34m(answer, gateway_client, target_id, name)\u001b[0m\n\u001b[1;32m    318\u001b[0m                 raise Py4JJavaError(\n\u001b[1;32m    319\u001b[0m                     \u001b[0;34m\"An error occurred while calling {0}{1}{2}.\\n\"\u001b[0m\u001b[0;34m.\u001b[0m\u001b[0;34m\u001b[0m\u001b[0m\n\u001b[0;32m--> 320\u001b[0;31m                     format(target_id, \".\", name), value)\n\u001b[0m\u001b[1;32m    321\u001b[0m             \u001b[0;32melse\u001b[0m\u001b[0;34m:\u001b[0m\u001b[0;34m\u001b[0m\u001b[0m\n\u001b[1;32m    322\u001b[0m                 raise Py4JError(\n",
      "\u001b[0;31mPy4JJavaError\u001b[0m: An error occurred while calling o1218.cache.\n: java.util.concurrent.TimeoutException: Futures timed out after [300 seconds]\n\tat scala.concurrent.impl.Promise$DefaultPromise.ready(Promise.scala:219)\n\tat scala.concurrent.impl.Promise$DefaultPromise.result(Promise.scala:223)\n\tat org.apache.spark.util.ThreadUtils$.awaitResult(ThreadUtils.scala:201)\n\tat org.apache.spark.sql.execution.exchange.BroadcastExchangeExec.doExecuteBroadcast(BroadcastExchangeExec.scala:136)\n\tat org.apache.spark.sql.execution.InputAdapter.doExecuteBroadcast(WholeStageCodegenExec.scala:367)\n\tat org.apache.spark.sql.execution.SparkPlan$$anonfun$executeBroadcast$1.apply(SparkPlan.scala:144)\n\tat org.apache.spark.sql.execution.SparkPlan$$anonfun$executeBroadcast$1.apply(SparkPlan.scala:140)\n\tat org.apache.spark.sql.execution.SparkPlan$$anonfun$executeQuery$1.apply(SparkPlan.scala:155)\n\tat org.apache.spark.rdd.RDDOperationScope$.withScope(RDDOperationScope.scala:151)\n\tat org.apache.spark.sql.execution.SparkPlan.executeQuery(SparkPlan.scala:152)\n\tat org.apache.spark.sql.execution.SparkPlan.executeBroadcast(SparkPlan.scala:140)\n\tat org.apache.spark.sql.execution.joins.BroadcastHashJoinExec.prepareBroadcast(BroadcastHashJoinExec.scala:135)\n\tat org.apache.spark.sql.execution.joins.BroadcastHashJoinExec.codegenInner(BroadcastHashJoinExec.scala:232)\n\tat org.apache.spark.sql.execution.joins.BroadcastHashJoinExec.doConsume(BroadcastHashJoinExec.scala:102)\n\tat org.apache.spark.sql.execution.CodegenSupport$class.consume(WholeStageCodegenExec.scala:181)\n\tat org.apache.spark.sql.execution.FilterExec.consume(basicPhysicalOperators.scala:85)\n\tat org.apache.spark.sql.execution.FilterExec.doConsume(basicPhysicalOperators.scala:206)\n\tat org.apache.spark.sql.execution.CodegenSupport$class.consume(WholeStageCodegenExec.scala:181)\n\tat org.apache.spark.sql.execution.InputAdapter.consume(WholeStageCodegenExec.scala:354)\n\tat org.apache.spark.sql.execution.InputAdapter.doProduce(WholeStageCodegenExec.scala:383)\n\tat org.apache.spark.sql.execution.CodegenSupport$$anonfun$produce$1.apply(WholeStageCodegenExec.scala:88)\n\tat org.apache.spark.sql.execution.CodegenSupport$$anonfun$produce$1.apply(WholeStageCodegenExec.scala:83)\n\tat org.apache.spark.sql.execution.SparkPlan$$anonfun$executeQuery$1.apply(SparkPlan.scala:155)\n\tat org.apache.spark.rdd.RDDOperationScope$.withScope(RDDOperationScope.scala:151)\n\tat org.apache.spark.sql.execution.SparkPlan.executeQuery(SparkPlan.scala:152)\n\tat org.apache.spark.sql.execution.CodegenSupport$class.produce(WholeStageCodegenExec.scala:83)\n\tat org.apache.spark.sql.execution.InputAdapter.produce(WholeStageCodegenExec.scala:354)\n\tat org.apache.spark.sql.execution.FilterExec.doProduce(basicPhysicalOperators.scala:125)\n\tat org.apache.spark.sql.execution.CodegenSupport$$anonfun$produce$1.apply(WholeStageCodegenExec.scala:88)\n\tat org.apache.spark.sql.execution.CodegenSupport$$anonfun$produce$1.apply(WholeStageCodegenExec.scala:83)\n\tat org.apache.spark.sql.execution.SparkPlan$$anonfun$executeQuery$1.apply(SparkPlan.scala:155)\n\tat org.apache.spark.rdd.RDDOperationScope$.withScope(RDDOperationScope.scala:151)\n\tat org.apache.spark.sql.execution.SparkPlan.executeQuery(SparkPlan.scala:152)\n\tat org.apache.spark.sql.execution.CodegenSupport$class.produce(WholeStageCodegenExec.scala:83)\n\tat org.apache.spark.sql.execution.FilterExec.produce(basicPhysicalOperators.scala:85)\n\tat org.apache.spark.sql.execution.joins.BroadcastHashJoinExec.doProduce(BroadcastHashJoinExec.scala:97)\n\tat org.apache.spark.sql.execution.CodegenSupport$$anonfun$produce$1.apply(WholeStageCodegenExec.scala:88)\n\tat org.apache.spark.sql.execution.CodegenSupport$$anonfun$produce$1.apply(WholeStageCodegenExec.scala:83)\n\tat org.apache.spark.sql.execution.SparkPlan$$anonfun$executeQuery$1.apply(SparkPlan.scala:155)\n\tat org.apache.spark.rdd.RDDOperationScope$.withScope(RDDOperationScope.scala:151)\n\tat org.apache.spark.sql.execution.SparkPlan.executeQuery(SparkPlan.scala:152)\n\tat org.apache.spark.sql.execution.CodegenSupport$class.produce(WholeStageCodegenExec.scala:83)\n\tat org.apache.spark.sql.execution.joins.BroadcastHashJoinExec.produce(BroadcastHashJoinExec.scala:39)\n\tat org.apache.spark.sql.execution.ProjectExec.doProduce(basicPhysicalOperators.scala:45)\n\tat org.apache.spark.sql.execution.CodegenSupport$$anonfun$produce$1.apply(WholeStageCodegenExec.scala:88)\n\tat org.apache.spark.sql.execution.CodegenSupport$$anonfun$produce$1.apply(WholeStageCodegenExec.scala:83)\n\tat org.apache.spark.sql.execution.SparkPlan$$anonfun$executeQuery$1.apply(SparkPlan.scala:155)\n\tat org.apache.spark.rdd.RDDOperationScope$.withScope(RDDOperationScope.scala:151)\n\tat org.apache.spark.sql.execution.SparkPlan.executeQuery(SparkPlan.scala:152)\n\tat org.apache.spark.sql.execution.CodegenSupport$class.produce(WholeStageCodegenExec.scala:83)\n\tat org.apache.spark.sql.execution.ProjectExec.produce(basicPhysicalOperators.scala:35)\n\tat org.apache.spark.sql.execution.joins.BroadcastHashJoinExec.doProduce(BroadcastHashJoinExec.scala:97)\n\tat org.apache.spark.sql.execution.CodegenSupport$$anonfun$produce$1.apply(WholeStageCodegenExec.scala:88)\n\tat org.apache.spark.sql.execution.CodegenSupport$$anonfun$produce$1.apply(WholeStageCodegenExec.scala:83)\n\tat org.apache.spark.sql.execution.SparkPlan$$anonfun$executeQuery$1.apply(SparkPlan.scala:155)\n\tat org.apache.spark.rdd.RDDOperationScope$.withScope(RDDOperationScope.scala:151)\n\tat org.apache.spark.sql.execution.SparkPlan.executeQuery(SparkPlan.scala:152)\n\tat org.apache.spark.sql.execution.CodegenSupport$class.produce(WholeStageCodegenExec.scala:83)\n\tat org.apache.spark.sql.execution.joins.BroadcastHashJoinExec.produce(BroadcastHashJoinExec.scala:39)\n\tat org.apache.spark.sql.execution.ProjectExec.doProduce(basicPhysicalOperators.scala:45)\n\tat org.apache.spark.sql.execution.CodegenSupport$$anonfun$produce$1.apply(WholeStageCodegenExec.scala:88)\n\tat org.apache.spark.sql.execution.CodegenSupport$$anonfun$produce$1.apply(WholeStageCodegenExec.scala:83)\n\tat org.apache.spark.sql.execution.SparkPlan$$anonfun$executeQuery$1.apply(SparkPlan.scala:155)\n\tat org.apache.spark.rdd.RDDOperationScope$.withScope(RDDOperationScope.scala:151)\n\tat org.apache.spark.sql.execution.SparkPlan.executeQuery(SparkPlan.scala:152)\n\tat org.apache.spark.sql.execution.CodegenSupport$class.produce(WholeStageCodegenExec.scala:83)\n\tat org.apache.spark.sql.execution.ProjectExec.produce(basicPhysicalOperators.scala:35)\n\tat org.apache.spark.sql.execution.joins.BroadcastHashJoinExec.doProduce(BroadcastHashJoinExec.scala:97)\n\tat org.apache.spark.sql.execution.CodegenSupport$$anonfun$produce$1.apply(WholeStageCodegenExec.scala:88)\n\tat org.apache.spark.sql.execution.CodegenSupport$$anonfun$produce$1.apply(WholeStageCodegenExec.scala:83)\n\tat org.apache.spark.sql.execution.SparkPlan$$anonfun$executeQuery$1.apply(SparkPlan.scala:155)\n\tat org.apache.spark.rdd.RDDOperationScope$.withScope(RDDOperationScope.scala:151)\n\tat org.apache.spark.sql.execution.SparkPlan.executeQuery(SparkPlan.scala:152)\n\tat org.apache.spark.sql.execution.CodegenSupport$class.produce(WholeStageCodegenExec.scala:83)\n\tat org.apache.spark.sql.execution.joins.BroadcastHashJoinExec.produce(BroadcastHashJoinExec.scala:39)\n\tat org.apache.spark.sql.execution.ProjectExec.doProduce(basicPhysicalOperators.scala:45)\n\tat org.apache.spark.sql.execution.CodegenSupport$$anonfun$produce$1.apply(WholeStageCodegenExec.scala:88)\n\tat org.apache.spark.sql.execution.CodegenSupport$$anonfun$produce$1.apply(WholeStageCodegenExec.scala:83)\n\tat org.apache.spark.sql.execution.SparkPlan$$anonfun$executeQuery$1.apply(SparkPlan.scala:155)\n\tat org.apache.spark.rdd.RDDOperationScope$.withScope(RDDOperationScope.scala:151)\n\tat org.apache.spark.sql.execution.SparkPlan.executeQuery(SparkPlan.scala:152)\n\tat org.apache.spark.sql.execution.CodegenSupport$class.produce(WholeStageCodegenExec.scala:83)\n\tat org.apache.spark.sql.execution.ProjectExec.produce(basicPhysicalOperators.scala:35)\n\tat org.apache.spark.sql.execution.WholeStageCodegenExec.doCodeGen(WholeStageCodegenExec.scala:524)\n\tat org.apache.spark.sql.execution.WholeStageCodegenExec.doExecute(WholeStageCodegenExec.scala:576)\n\tat org.apache.spark.sql.execution.SparkPlan$$anonfun$execute$1.apply(SparkPlan.scala:131)\n\tat org.apache.spark.sql.execution.SparkPlan$$anonfun$execute$1.apply(SparkPlan.scala:127)\n\tat org.apache.spark.sql.execution.SparkPlan$$anonfun$executeQuery$1.apply(SparkPlan.scala:155)\n\tat org.apache.spark.rdd.RDDOperationScope$.withScope(RDDOperationScope.scala:151)\n\tat org.apache.spark.sql.execution.SparkPlan.executeQuery(SparkPlan.scala:152)\n\tat org.apache.spark.sql.execution.SparkPlan.execute(SparkPlan.scala:127)\n\tat org.apache.spark.sql.execution.python.EvalPythonExec.doExecute(EvalPythonExec.scala:89)\n\tat org.apache.spark.sql.execution.SparkPlan$$anonfun$execute$1.apply(SparkPlan.scala:131)\n\tat org.apache.spark.sql.execution.SparkPlan$$anonfun$execute$1.apply(SparkPlan.scala:127)\n\tat org.apache.spark.sql.execution.SparkPlan$$anonfun$executeQuery$1.apply(SparkPlan.scala:155)\n\tat org.apache.spark.rdd.RDDOperationScope$.withScope(RDDOperationScope.scala:151)\n\tat org.apache.spark.sql.execution.SparkPlan.executeQuery(SparkPlan.scala:152)\n\tat org.apache.spark.sql.execution.SparkPlan.execute(SparkPlan.scala:127)\n\tat org.apache.spark.sql.execution.InputAdapter.inputRDDs(WholeStageCodegenExec.scala:371)\n\tat org.apache.spark.sql.execution.ProjectExec.inputRDDs(basicPhysicalOperators.scala:41)\n\tat org.apache.spark.sql.execution.SortExec.inputRDDs(SortExec.scala:121)\n\tat org.apache.spark.sql.execution.SampleExec.inputRDDs(basicPhysicalOperators.scala:271)\n\tat org.apache.spark.sql.execution.WholeStageCodegenExec.doExecute(WholeStageCodegenExec.scala:605)\n\tat org.apache.spark.sql.execution.SparkPlan$$anonfun$execute$1.apply(SparkPlan.scala:131)\n\tat org.apache.spark.sql.execution.SparkPlan$$anonfun$execute$1.apply(SparkPlan.scala:127)\n\tat org.apache.spark.sql.execution.SparkPlan$$anonfun$executeQuery$1.apply(SparkPlan.scala:155)\n\tat org.apache.spark.rdd.RDDOperationScope$.withScope(RDDOperationScope.scala:151)\n\tat org.apache.spark.sql.execution.SparkPlan.executeQuery(SparkPlan.scala:152)\n\tat org.apache.spark.sql.execution.SparkPlan.execute(SparkPlan.scala:127)\n\tat org.apache.spark.sql.execution.columnar.InMemoryRelation.buildBuffers(InMemoryRelation.scala:97)\n\tat org.apache.spark.sql.execution.columnar.InMemoryRelation.<init>(InMemoryRelation.scala:92)\n\tat org.apache.spark.sql.execution.columnar.InMemoryRelation$.apply(InMemoryRelation.scala:42)\n\tat org.apache.spark.sql.execution.CacheManager$$anonfun$cacheQuery$1.apply(CacheManager.scala:97)\n\tat org.apache.spark.sql.execution.CacheManager.writeLock(CacheManager.scala:67)\n\tat org.apache.spark.sql.execution.CacheManager.cacheQuery(CacheManager.scala:91)\n\tat org.apache.spark.sql.Dataset.persist(Dataset.scala:2902)\n\tat org.apache.spark.sql.Dataset.cache(Dataset.scala:2912)\n\tat sun.reflect.NativeMethodAccessorImpl.invoke0(Native Method)\n\tat sun.reflect.NativeMethodAccessorImpl.invoke(NativeMethodAccessorImpl.java:62)\n\tat sun.reflect.DelegatingMethodAccessorImpl.invoke(DelegatingMethodAccessorImpl.java:43)\n\tat java.lang.reflect.Method.invoke(Method.java:498)\n\tat py4j.reflection.MethodInvoker.invoke(MethodInvoker.java:244)\n\tat py4j.reflection.ReflectionEngine.invoke(ReflectionEngine.java:357)\n\tat py4j.Gateway.invoke(Gateway.java:282)\n\tat py4j.commands.AbstractCommand.invokeMethod(AbstractCommand.java:132)\n\tat py4j.commands.CallCommand.execute(CallCommand.java:79)\n\tat py4j.GatewayConnection.run(GatewayConnection.java:214)\n\tat java.lang.Thread.run(Thread.java:748)\n"
     ]
    }
   ],
   "source": [
    "# разбиваем полученные данные на обучающую и тестовую выборки. Не знаю насклько правильно объеденить данные \n",
    "## tf-udf и средних оценок\n",
    "\n",
    "train_data, test_data  = joined_data\\\n",
    "        .select(sql_func.col(\"userId\"),sql_func.col(\"movieId\"),sql_func.col(\"rating\"),\\\n",
    "        list_concat(\"tf_idf\",\"avg_rating_user\",\"avg_rating_movie\").alias(\"tf_idf\"))\\\n",
    "        .randomSplit([0.8, 0.2], seed=42)\n",
    "                         \n",
    "train_data.cache()\n",
    "test_data.cache()"
   ]
  },
  {
   "cell_type": "code",
   "execution_count": 65,
   "metadata": {
    "slideshow": {
     "slide_type": "slide"
    }
   },
   "outputs": [],
   "source": [
    "\n",
    "# строим для каждого пользователя свою модель регрессии\n",
    "model_coef = (\n",
    "    train_data\n",
    "    .groupBy(\"userId\")\n",
    "    .agg(\n",
    "        sql_func.collect_list(\"tf_idf\").alias(\"x\"),\n",
    "        sql_func.collect_list(\"rating\").alias(\"y\")\n",
    "    )\n",
    "    .withColumn(\"model_coeff\", reg_udf(\"x\", \"y\"))\n",
    "    .cache()\n",
    ")"
   ]
  },
  {
   "cell_type": "code",
   "execution_count": 66,
   "metadata": {
    "slideshow": {
     "slide_type": "fragment"
    }
   },
   "outputs": [],
   "source": [
    "# на всякий случай сохраняем полученные коэффициенты регрессий на диск\n",
    "model_coef.write.mode(\"overwrite\").parquet(os.path.join(DATA_DIR, \"model_coef.parquet\"))"
   ]
  },
  {
   "cell_type": "code",
   "execution_count": 67,
   "metadata": {
    "slideshow": {
     "slide_type": "slide"
    }
   },
   "outputs": [
    {
     "data": {
      "text/plain": [
       "1010"
      ]
     },
     "execution_count": 67,
     "metadata": {},
     "output_type": "execute_result"
    }
   ],
   "source": [
    "model_coef.count()"
   ]
  },
  {
   "cell_type": "code",
   "execution_count": 68,
   "metadata": {
    "slideshow": {
     "slide_type": "fragment"
    }
   },
   "outputs": [
    {
     "name": "stdout",
     "output_type": "stream",
     "text": [
      "+------+--------------------+--------------------+--------------------+\n",
      "|userId|                   x|                   y|         model_coeff|\n",
      "+------+--------------------+--------------------+--------------------+\n",
      "|   148|[(1024,[1,2,5,7,8...|[4.0, 4.0, 4.0, 3...|[[0.0, 0.0, 0.0, ...|\n",
      "|   463|[(1024,[4,45,46,4...|[1.0, 1.0, 4.0, 2...|[[0.0, 0.0, 0.0, ...|\n",
      "|   471|[(1024,[3,20,27,2...|[3.5, 5.0, 5.0, 4...|[[0.0, 0.0, 0.0, ...|\n",
      "|   496|[(1024,[1,2,5,7,8...|[5.0, 4.0, 3.0, 5...|[[0.0, 0.0, 0.0, ...|\n",
      "|   833|[(1024,[23,24,35,...|     [5.0, 4.0, 4.0]|[[0.0, 0.0, 0.0, ...|\n",
      "|   243|[(1024,[0,5,65,68...|[4.0, 3.0, 3.5, 3...|[[0.008234739, 0....|\n",
      "|   392|[(1024,[23,24,27,...|[4.0, 4.0, 2.0, 5...|[[0.0, 0.0, 0.0, ...|\n",
      "|   540|[(1024,[11,12,29,...|[4.0, 5.0, 5.0, 5...|[[0.0, 0.0, 0.0, ...|\n",
      "|   623|[(1024,[4,45,46,4...|[4.0, 5.0, 5.0, 4...|[[0.0, 0.0, 0.0, ...|\n",
      "|   737|[(1024,[3,4,13,29...|[1.5, 1.0, 3.5, 4.0]|[[0.0, 0.0, 0.0, ...|\n",
      "|   858|[(1024,[1,2,5,7,8...|[5.0, 5.0, 5.0, 1...|[[0.0, 0.0, 0.0, ...|\n",
      "|   897|[(1024,[23,35,48,...|          [4.5, 5.0]|[[0.0, 0.0, 0.0, ...|\n",
      "|    31|[(1024,[9,10,36,5...|[4.5, 4.5, 4.0, 4...|[[0.0, 0.0, 0.0, ...|\n",
      "|   516|[(1024,[11,15,51,...|[2.0, 2.0, 4.0, 2...|[[0.0, 0.0, 0.0, ...|\n",
      "|   137|[(1024,[197,225,3...|[4.0, 5.0, 3.0, 2...|[[0.0, 0.0, 0.0, ...|\n",
      "|   251|[(1024,[5,9,88,19...|[2.5, 5.0, 2.5, 2...|[[0.0, 0.0, 0.0, ...|\n",
      "|   451|[(1024,[1,2,5,7,8...|[5.0, 5.0, 5.0, 4...|[[2.2507834E-4, 0...|\n",
      "|   580|[(1024,[4,12,14,2...|[5.0, 4.0, 4.5, 4...|[[0.0, 0.0, 0.0, ...|\n",
      "|   808|[(1024,[9,19,27,2...|[4.0, 3.0, 3.5, 4...|[[0.0, 0.0, 0.0, ...|\n",
      "|    85|[(1024,[87,208,74...|[3.0, 3.0, 2.0, 2...|[[0.0, 0.0, 0.0, ...|\n",
      "+------+--------------------+--------------------+--------------------+\n",
      "only showing top 20 rows\n",
      "\n"
     ]
    }
   ],
   "source": [
    "# поскольку мы применяли L1-регуляризацию, среди коэффициентов много нулей\n",
    "model_coef.show()"
   ]
  },
  {
   "cell_type": "code",
   "execution_count": 69,
   "metadata": {
    "slideshow": {
     "slide_type": "slide"
    }
   },
   "outputs": [],
   "source": [
    "from pyspark.ml.linalg import SparseVector\n",
    "\n",
    "def lr_apply(x: SparseVector, lr_coef: list) -> float:\n",
    "    \"\"\"\n",
    "        param x: вектор фич для регрессии\n",
    "        param lr_coef: \n",
    "        return: предсказанное моделью регрессии значение\n",
    "    \"\"\"\n",
    "    return float(np.array(x).dot(np.array(lr_coef[0])) + lr_coef[1][0])\n",
    "\n",
    "lr_apply_udf = sql_func.udf(lr_apply, returnType=FloatType())"
   ]
  },
  {
   "cell_type": "code",
   "execution_count": 70,
   "metadata": {
    "slideshow": {
     "slide_type": "fragment"
    }
   },
   "outputs": [],
   "source": [
    "from pyspark.sql import DataFrame\n",
    "\n",
    "def get_prediction(data: DataFrame) -> DataFrame:\n",
    "    return (\n",
    "        data\n",
    "        .join(model_coef, \"userId\")\n",
    "        .select(\n",
    "            \"userId\",\n",
    "            \"rating\",\n",
    "            \"movieId\",\n",
    "            \"tf_idf\", \n",
    "            lr_apply_udf(\"tf_idf\", \"model_coeff\").alias(\"prediction\"))\n",
    "        .cache()\n",
    "    )"
   ]
  },
  {
   "cell_type": "code",
   "execution_count": 71,
   "metadata": {
    "collapsed": true,
    "slideshow": {
     "slide_type": "slide"
    }
   },
   "outputs": [
    {
     "ename": "KeyboardInterrupt",
     "evalue": "",
     "output_type": "error",
     "traceback": [
      "\u001b[0;31m\u001b[0m",
      "\u001b[0;31mKeyboardInterrupt\u001b[0mTraceback (most recent call last)",
      "\u001b[0;32m<ipython-input-71-7fffc6c5d9b7>\u001b[0m in \u001b[0;36m<module>\u001b[0;34m()\u001b[0m\n\u001b[1;32m      2\u001b[0m (\n\u001b[1;32m      3\u001b[0m     \u001b[0mtrain_prediction\u001b[0m\u001b[0;34m.\u001b[0m\u001b[0mwrite\u001b[0m\u001b[0;34m.\u001b[0m\u001b[0mmode\u001b[0m\u001b[0;34m(\u001b[0m\u001b[0;34m\"overwrite\"\u001b[0m\u001b[0;34m)\u001b[0m\u001b[0;34m\u001b[0m\u001b[0m\n\u001b[0;32m----> 4\u001b[0;31m     \u001b[0;34m.\u001b[0m\u001b[0mparquet\u001b[0m\u001b[0;34m(\u001b[0m\u001b[0mos\u001b[0m\u001b[0;34m.\u001b[0m\u001b[0mpath\u001b[0m\u001b[0;34m.\u001b[0m\u001b[0mjoin\u001b[0m\u001b[0;34m(\u001b[0m\u001b[0mDATA_DIR\u001b[0m\u001b[0;34m,\u001b[0m \u001b[0;34m\"train_prediction.parquet\"\u001b[0m\u001b[0;34m)\u001b[0m\u001b[0;34m)\u001b[0m\u001b[0;34m\u001b[0m\u001b[0m\n\u001b[0m\u001b[1;32m      5\u001b[0m )\n",
      "\u001b[0;32m/usr/local/lib/python3.6/dist-packages/pyspark/sql/readwriter.py\u001b[0m in \u001b[0;36mparquet\u001b[0;34m(self, path, mode, partitionBy, compression)\u001b[0m\n\u001b[1;32m    800\u001b[0m             \u001b[0mself\u001b[0m\u001b[0;34m.\u001b[0m\u001b[0mpartitionBy\u001b[0m\u001b[0;34m(\u001b[0m\u001b[0mpartitionBy\u001b[0m\u001b[0;34m)\u001b[0m\u001b[0;34m\u001b[0m\u001b[0m\n\u001b[1;32m    801\u001b[0m         \u001b[0mself\u001b[0m\u001b[0;34m.\u001b[0m\u001b[0m_set_opts\u001b[0m\u001b[0;34m(\u001b[0m\u001b[0mcompression\u001b[0m\u001b[0;34m=\u001b[0m\u001b[0mcompression\u001b[0m\u001b[0;34m)\u001b[0m\u001b[0;34m\u001b[0m\u001b[0m\n\u001b[0;32m--> 802\u001b[0;31m         \u001b[0mself\u001b[0m\u001b[0;34m.\u001b[0m\u001b[0m_jwrite\u001b[0m\u001b[0;34m.\u001b[0m\u001b[0mparquet\u001b[0m\u001b[0;34m(\u001b[0m\u001b[0mpath\u001b[0m\u001b[0;34m)\u001b[0m\u001b[0;34m\u001b[0m\u001b[0m\n\u001b[0m\u001b[1;32m    803\u001b[0m \u001b[0;34m\u001b[0m\u001b[0m\n\u001b[1;32m    804\u001b[0m     \u001b[0;34m@\u001b[0m\u001b[0msince\u001b[0m\u001b[0;34m(\u001b[0m\u001b[0;36m1.6\u001b[0m\u001b[0;34m)\u001b[0m\u001b[0;34m\u001b[0m\u001b[0m\n",
      "\u001b[0;32m/usr/local/lib/python3.6/dist-packages/py4j/java_gateway.py\u001b[0m in \u001b[0;36m__call__\u001b[0;34m(self, *args)\u001b[0m\n\u001b[1;32m   1156\u001b[0m             \u001b[0mproto\u001b[0m\u001b[0;34m.\u001b[0m\u001b[0mEND_COMMAND_PART\u001b[0m\u001b[0;34m\u001b[0m\u001b[0m\n\u001b[1;32m   1157\u001b[0m \u001b[0;34m\u001b[0m\u001b[0m\n\u001b[0;32m-> 1158\u001b[0;31m         \u001b[0manswer\u001b[0m \u001b[0;34m=\u001b[0m \u001b[0mself\u001b[0m\u001b[0;34m.\u001b[0m\u001b[0mgateway_client\u001b[0m\u001b[0;34m.\u001b[0m\u001b[0msend_command\u001b[0m\u001b[0;34m(\u001b[0m\u001b[0mcommand\u001b[0m\u001b[0;34m)\u001b[0m\u001b[0;34m\u001b[0m\u001b[0m\n\u001b[0m\u001b[1;32m   1159\u001b[0m         return_value = get_return_value(\n\u001b[1;32m   1160\u001b[0m             answer, self.gateway_client, self.target_id, self.name)\n",
      "\u001b[0;32m/usr/local/lib/python3.6/dist-packages/py4j/java_gateway.py\u001b[0m in \u001b[0;36msend_command\u001b[0;34m(self, command, retry, binary)\u001b[0m\n\u001b[1;32m    906\u001b[0m         \u001b[0mconnection\u001b[0m \u001b[0;34m=\u001b[0m \u001b[0mself\u001b[0m\u001b[0;34m.\u001b[0m\u001b[0m_get_connection\u001b[0m\u001b[0;34m(\u001b[0m\u001b[0;34m)\u001b[0m\u001b[0;34m\u001b[0m\u001b[0m\n\u001b[1;32m    907\u001b[0m         \u001b[0;32mtry\u001b[0m\u001b[0;34m:\u001b[0m\u001b[0;34m\u001b[0m\u001b[0m\n\u001b[0;32m--> 908\u001b[0;31m             \u001b[0mresponse\u001b[0m \u001b[0;34m=\u001b[0m \u001b[0mconnection\u001b[0m\u001b[0;34m.\u001b[0m\u001b[0msend_command\u001b[0m\u001b[0;34m(\u001b[0m\u001b[0mcommand\u001b[0m\u001b[0;34m)\u001b[0m\u001b[0;34m\u001b[0m\u001b[0m\n\u001b[0m\u001b[1;32m    909\u001b[0m             \u001b[0;32mif\u001b[0m \u001b[0mbinary\u001b[0m\u001b[0;34m:\u001b[0m\u001b[0;34m\u001b[0m\u001b[0m\n\u001b[1;32m    910\u001b[0m                 \u001b[0;32mreturn\u001b[0m \u001b[0mresponse\u001b[0m\u001b[0;34m,\u001b[0m \u001b[0mself\u001b[0m\u001b[0;34m.\u001b[0m\u001b[0m_create_connection_guard\u001b[0m\u001b[0;34m(\u001b[0m\u001b[0mconnection\u001b[0m\u001b[0;34m)\u001b[0m\u001b[0;34m\u001b[0m\u001b[0m\n",
      "\u001b[0;32m/usr/local/lib/python3.6/dist-packages/py4j/java_gateway.py\u001b[0m in \u001b[0;36msend_command\u001b[0;34m(self, command)\u001b[0m\n\u001b[1;32m   1053\u001b[0m \u001b[0;34m\u001b[0m\u001b[0m\n\u001b[1;32m   1054\u001b[0m         \u001b[0;32mtry\u001b[0m\u001b[0;34m:\u001b[0m\u001b[0;34m\u001b[0m\u001b[0m\n\u001b[0;32m-> 1055\u001b[0;31m             \u001b[0manswer\u001b[0m \u001b[0;34m=\u001b[0m \u001b[0msmart_decode\u001b[0m\u001b[0;34m(\u001b[0m\u001b[0mself\u001b[0m\u001b[0;34m.\u001b[0m\u001b[0mstream\u001b[0m\u001b[0;34m.\u001b[0m\u001b[0mreadline\u001b[0m\u001b[0;34m(\u001b[0m\u001b[0;34m)\u001b[0m\u001b[0;34m[\u001b[0m\u001b[0;34m:\u001b[0m\u001b[0;34m-\u001b[0m\u001b[0;36m1\u001b[0m\u001b[0;34m]\u001b[0m\u001b[0;34m)\u001b[0m\u001b[0;34m\u001b[0m\u001b[0m\n\u001b[0m\u001b[1;32m   1056\u001b[0m             \u001b[0mlogger\u001b[0m\u001b[0;34m.\u001b[0m\u001b[0mdebug\u001b[0m\u001b[0;34m(\u001b[0m\u001b[0;34m\"Answer received: {0}\"\u001b[0m\u001b[0;34m.\u001b[0m\u001b[0mformat\u001b[0m\u001b[0;34m(\u001b[0m\u001b[0manswer\u001b[0m\u001b[0;34m)\u001b[0m\u001b[0;34m)\u001b[0m\u001b[0;34m\u001b[0m\u001b[0m\n\u001b[1;32m   1057\u001b[0m             \u001b[0;32mif\u001b[0m \u001b[0manswer\u001b[0m\u001b[0;34m.\u001b[0m\u001b[0mstartswith\u001b[0m\u001b[0;34m(\u001b[0m\u001b[0mproto\u001b[0m\u001b[0;34m.\u001b[0m\u001b[0mRETURN_MESSAGE\u001b[0m\u001b[0;34m)\u001b[0m\u001b[0;34m:\u001b[0m\u001b[0;34m\u001b[0m\u001b[0m\n",
      "\u001b[0;32m/usr/lib/python3.6/socket.py\u001b[0m in \u001b[0;36mreadinto\u001b[0;34m(self, b)\u001b[0m\n\u001b[1;32m    584\u001b[0m         \u001b[0;32mwhile\u001b[0m \u001b[0;32mTrue\u001b[0m\u001b[0;34m:\u001b[0m\u001b[0;34m\u001b[0m\u001b[0m\n\u001b[1;32m    585\u001b[0m             \u001b[0;32mtry\u001b[0m\u001b[0;34m:\u001b[0m\u001b[0;34m\u001b[0m\u001b[0m\n\u001b[0;32m--> 586\u001b[0;31m                 \u001b[0;32mreturn\u001b[0m \u001b[0mself\u001b[0m\u001b[0;34m.\u001b[0m\u001b[0m_sock\u001b[0m\u001b[0;34m.\u001b[0m\u001b[0mrecv_into\u001b[0m\u001b[0;34m(\u001b[0m\u001b[0mb\u001b[0m\u001b[0;34m)\u001b[0m\u001b[0;34m\u001b[0m\u001b[0m\n\u001b[0m\u001b[1;32m    587\u001b[0m             \u001b[0;32mexcept\u001b[0m \u001b[0mtimeout\u001b[0m\u001b[0;34m:\u001b[0m\u001b[0;34m\u001b[0m\u001b[0m\n\u001b[1;32m    588\u001b[0m                 \u001b[0mself\u001b[0m\u001b[0;34m.\u001b[0m\u001b[0m_timeout_occurred\u001b[0m \u001b[0;34m=\u001b[0m \u001b[0;32mTrue\u001b[0m\u001b[0;34m\u001b[0m\u001b[0m\n",
      "\u001b[0;31mKeyboardInterrupt\u001b[0m: "
     ]
    }
   ],
   "source": [
    "train_prediction = get_prediction(train_data)\n",
    "(\n",
    "    train_prediction.write.mode(\"overwrite\")\n",
    "    .parquet(os.path.join(DATA_DIR, \"train_prediction.parquet\"))\n",
    ")"
   ]
  },
  {
   "cell_type": "code",
   "execution_count": 14,
   "metadata": {
    "collapsed": true,
    "slideshow": {
     "slide_type": "fragment"
    }
   },
   "outputs": [
    {
     "name": "stdout",
     "output_type": "stream",
     "text": [
      "+------+------+-------+--------------------+----------+\n",
      "|userId|rating|movieId|              tf_idf|prediction|\n",
      "+------+------+-------+--------------------+----------+\n",
      "|   148|   4.0|    260|(1024,[1,2,5,7,8,...|  3.995837|\n",
      "|   148|   4.0|    589|(1024,[3,9,29,36,...| 4.0452337|\n",
      "|   148|   3.5|   1196|(1024,[9,10,23,29...|  3.517842|\n",
      "|   148|   3.5|   1210|(1024,[4,9,23,29,...| 3.5223696|\n",
      "|   148|   2.5|   1291|(1024,[23,29,51,5...| 2.5620809|\n",
      "|   148|   4.0|   2028|(1024,[3,4,29,52,...|  3.994406|\n",
      "|   148|   5.0|   3300|(1024,[27,29,37,4...|  4.906541|\n",
      "|   148|   1.5|   4246|(1024,[13,44,50,5...| 1.6575054|\n",
      "|   148|   5.0|   4993|(1024,[4,9,10,13,...|  5.053576|\n",
      "|   148|   4.5|   5445|(1024,[8,15,44,46...|  4.464959|\n",
      "|   148|   4.5|   5574|(1024,[17,49,54,5...| 4.4506645|\n",
      "|   148|   5.0|   5952|(1024,[9,10,13,17...| 4.9269485|\n",
      "|   148|   3.5|   6373|(1024,[5,29,40,51...|  3.593023|\n",
      "|   148|   4.5|   7143|(1024,[1,10,13,32...|  4.452602|\n",
      "|   148|   5.0|   7153|(1024,[3,6,9,17,2...|  4.944062|\n",
      "|   148|   4.0|   8665|(1024,[17,19,51,5...| 3.9128366|\n",
      "|   148|   4.0|  31696|(1024,[27,46,51,8...| 4.1426606|\n",
      "|   148|   4.0|  40815|(1024,[0,2,13,14,...| 4.0457125|\n",
      "|   148|   3.5|  54286|(1024,[13,26,29,3...| 3.5758665|\n",
      "|   148|   3.5|  58559|(1024,[3,4,7,9,17...| 3.4797995|\n",
      "+------+------+-------+--------------------+----------+\n",
      "only showing top 20 rows\n",
      "\n"
     ]
    }
   ],
   "source": [
    "train_prediction.show()"
   ]
  },
  {
   "cell_type": "code",
   "execution_count": 15,
   "metadata": {
    "slideshow": {
     "slide_type": "slide"
    }
   },
   "outputs": [],
   "source": [
    "def evaluate_prediction(prediction: DataFrame) -> float:\n",
    "    return np.sqrt(\n",
    "        prediction\n",
    "        .selectExpr(\"\"\"\n",
    "            CASE\n",
    "                WHEN prediction > 5 THEN 5\n",
    "                WHEN prediction < 0.5 THEN 0.5\n",
    "                ELSE prediction\n",
    "            END AS prediction\n",
    "        \"\"\", \"rating\")\n",
    "        .select(\n",
    "            sql_func.pow(sql_func.col(\"rating\") - sql_func.col(\"prediction\"), 2)\n",
    "            .alias(\"squared_error\")\n",
    "        )\n",
    "        .agg(sql_func.avg(\"squared_error\"))\n",
    "        .first()[0]\n",
    "    )"
   ]
  },
  {
   "cell_type": "code",
   "execution_count": 16,
   "metadata": {
    "slideshow": {
     "slide_type": "slide"
    }
   },
   "outputs": [
    {
     "data": {
      "text/plain": [
       "0.6416910375297744"
      ]
     },
     "execution_count": 16,
     "metadata": {},
     "output_type": "execute_result"
    }
   ],
   "source": [
    "evaluate_prediction(train_prediction)"
   ]
  },
  {
   "cell_type": "code",
   "execution_count": 17,
   "metadata": {
    "slideshow": {
     "slide_type": "fragment"
    }
   },
   "outputs": [],
   "source": [
    "test_prediction = get_prediction(test_data)\n",
    "(\n",
    "    test_prediction.write.mode(\"overwrite\")\n",
    "    .parquet(os.path.join(DATA_DIR, \"test_prediction.parquet\"))\n",
    ")"
   ]
  },
  {
   "cell_type": "code",
   "execution_count": 18,
   "metadata": {
    "slideshow": {
     "slide_type": "fragment"
    }
   },
   "outputs": [
    {
     "data": {
      "text/plain": [
       "0.9859142865193938"
      ]
     },
     "execution_count": 18,
     "metadata": {},
     "output_type": "execute_result"
    }
   ],
   "source": [
    "evaluate_prediction(test_prediction)"
   ]
  }
 ],
 "metadata": {
  "celltoolbar": "Slideshow",
  "kernelspec": {
   "display_name": "Python 3",
   "language": "python",
   "name": "python3"
  },
  "language_info": {
   "codemirror_mode": {
    "name": "ipython",
    "version": 3
   },
   "file_extension": ".py",
   "mimetype": "text/x-python",
   "name": "python",
   "nbconvert_exporter": "python",
   "pygments_lexer": "ipython3",
   "version": "3.6.3"
  }
 },
 "nbformat": 4,
 "nbformat_minor": 2
}
