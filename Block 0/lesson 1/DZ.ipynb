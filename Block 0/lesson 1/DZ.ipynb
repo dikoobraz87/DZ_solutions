{
 "cells": [
  {
   "cell_type": "markdown",
   "metadata": {},
   "source": [
    "# Решение"
   ]
  },
  {
   "cell_type": "code",
   "execution_count": 29,
   "metadata": {},
   "outputs": [],
   "source": [
    "import pandas as pd\n",
    "import numpy as np\n",
    "import re"
   ]
  },
  {
   "cell_type": "markdown",
   "metadata": {},
   "source": [
    "## Упрженение первое"
   ]
  },
  {
   "cell_type": "code",
   "execution_count": 31,
   "metadata": {},
   "outputs": [
    {
     "data": {
      "text/plain": [
       "{'articles': 7,\n",
       " 'auto': 1,\n",
       " 'business': 5,\n",
       " 'cis': 4,\n",
       " 'crazy-world': 2,\n",
       " 'economics': 3,\n",
       " 'europe': 1,\n",
       " 'finances': 1,\n",
       " 'head': 3,\n",
       " 'health': 2,\n",
       " 'incidents': 6,\n",
       " 'kinomusic': 1,\n",
       " 'latest': 2,\n",
       " 'lifestyle': 2,\n",
       " 'middleeast': 3,\n",
       " 'moscow_city': 1,\n",
       " 'politics': 11,\n",
       " 'science': 6,\n",
       " 'scitech': 1,\n",
       " 'sport': 3,\n",
       " 'starlife': 13,\n",
       " 'travel': 1,\n",
       " 'video': 10,\n",
       " 'world': 9}"
      ]
     },
     "execution_count": 31,
     "metadata": {},
     "output_type": "execute_result"
    }
   ],
   "source": [
    "###Импортируем файл как Frame\n",
    "Data_frame = pd.read_csv('urls.txt', header=None, names=[\"a\"])\n",
    "##Data_frame.head(100)\n",
    "\n",
    "### Создаем list из строк, каждую из которых представляем тоже в виде list`a из отдельных слов, где нам нужно второе слово\n",
    "words = [ x.split('/') for x in Data_frame.a  ]\n",
    "##word\n",
    "dicts = {}\n",
    "pattern = '[0-9A-z].*'\n",
    "prog = re.compile( pattern )\n",
    "for x in words:\n",
    "    if prog.match( x[1] ):\n",
    "        dicts.setdefault(x[1], 0)\n",
    "        dicts[x[1]] += 1\n",
    "dicts\n"
   ]
  },
  {
   "cell_type": "markdown",
   "metadata": {},
   "source": [
    "## Упражение второе"
   ]
  },
  {
   "cell_type": "code",
   "execution_count": 57,
   "metadata": {},
   "outputs": [
    {
     "name": "stdout",
     "output_type": "stream",
     "text": [
      "ер\n",
      "клот\n",
      "кол\n",
      "колесо\n",
      "колет\n",
      "колос\n",
      "ком\n",
      "корм\n",
      "корсет\n",
      "корт\n",
      "кот\n",
      "крем\n",
      "креол\n",
      "кресло\n",
      "крест\n",
      "крот\n",
      "леер\n",
      "лек\n",
      "лектор\n",
      "лес\n",
      "лето\n",
      "леток\n",
      "лоск\n",
      "лоток\n",
      "лотос\n",
      "мел\n",
      "мелок\n",
      "мелос\n",
      "место\n",
      "метеор\n",
      "метол\n",
      "молот\n",
      "море\n",
      "морс\n",
      "мост\n",
      "мот\n",
      "моток\n",
      "мотор\n",
      "окот\n",
      "окрол\n",
      "ом\n",
      "омлет\n",
      "ореол\n",
      "орок\n",
      "орс\n",
      "орт\n",
      "осек\n",
      "оселок\n",
      "осмол\n",
      "осмотр\n",
      "осот\n",
      "ост\n",
      "откол\n",
      "откорм\n",
      "откос\n",
      "отроек\n",
      "отрок\n",
      "отсек\n",
      "ремесло\n",
      "рокот\n",
      "рол\n",
      "ром\n",
      "рост\n",
      "росток\n",
      "селектор\n",
      "село\n",
      "сет\n",
      "скол\n",
      "скорм\n",
      "скот\n",
      "слом\n",
      "сок\n",
      "солемер\n",
      "сом\n",
      "сор\n",
      "сорт\n",
      "срок\n",
      "стек\n",
      "стекло\n",
      "сток\n",
      "стокер\n",
      "стрелок\n",
      "телекс\n",
      "тело\n",
      "терем\n",
      "термос\n",
      "тесло\n",
      "тол\n",
      "том\n",
      "торк\n",
      "торос\n",
      "торс\n",
      "трек\n",
      "треск\n",
      "трок\n",
      "трос\n"
     ]
    },
    {
     "data": {
      "text/plain": [
       "1"
      ]
     },
     "execution_count": 57,
     "metadata": {},
     "output_type": "execute_result"
    }
   ],
   "source": [
    "import codecs\n",
    "rus_dict_list = []\n",
    "with codecs.open('word_rus.txt','r',encoding='utf8') as f:\n",
    "    for line in f:\n",
    "        line = line.strip()\n",
    "        rus_dict_list.append(line)  \n",
    "##print (rus_dict_list)\n",
    "\n",
    "\n",
    "word_dict = {}  ### словарь для букв проверяемого слова\n",
    "def word_checker (word ):\n",
    "    ###### заполняем словарь#############\n",
    "    for letter in  word:\n",
    "        word_dict.setdefault (letter,0)\n",
    "        word_dict[letter] +=1\n",
    "    ###################################\n",
    "    \n",
    "    \n",
    "    ## В цикле для каждого элемента листа инициалзируем и заполняем словарь букв\n",
    "    for word in rus_dict_list:\n",
    "        temp_dict= {}\n",
    "        for letter_dict in word:\n",
    "            temp_dict.setdefault ( letter_dict,0)\n",
    "            temp_dict[ letter_dict] +=1\n",
    "            \n",
    "     #### в цикле бежим по словарю из букв и проверяем условия совпадения ключей и значений       \n",
    "        i=0   \n",
    "        for x in temp_dict.keys():\n",
    "            \n",
    "            if x in word_dict:\n",
    "                if temp_dict[x] <= word_dict[x]:\n",
    "                    i+=1\n",
    "        \n",
    "        ###print (i)       \n",
    "   ###################################################\n",
    "####### Проверяем вхождение одного множества в другое\n",
    "        if i == len(temp_dict):\n",
    "            print (word)\n",
    "\n",
    "        \n",
    "        \n",
    "    return 1\n",
    "\n",
    "word_checker ('ростелеком')"
   ]
  }
 ],
 "metadata": {
  "kernelspec": {
   "display_name": "Python 3",
   "language": "python",
   "name": "python3"
  },
  "language_info": {
   "codemirror_mode": {
    "name": "ipython",
    "version": 3
   },
   "file_extension": ".py",
   "mimetype": "text/x-python",
   "name": "python",
   "nbconvert_exporter": "python",
   "pygments_lexer": "ipython3",
   "version": "3.6.4"
  }
 },
 "nbformat": 4,
 "nbformat_minor": 2
}
