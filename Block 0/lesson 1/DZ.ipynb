{
 "cells": [
  {
   "cell_type": "markdown",
   "metadata": {},
   "source": [
    "# Решение"
   ]
  },
  {
   "cell_type": "code",
   "execution_count": 29,
   "metadata": {},
   "outputs": [],
   "source": [
    "import pandas as pd\n",
    "import numpy as np\n",
    "import re"
   ]
  },
  {
   "cell_type": "markdown",
   "metadata": {},
   "source": [
    "## Упрженение первое"
   ]
  },
  {
   "cell_type": "code",
   "execution_count": 31,
   "metadata": {},
   "outputs": [
    {
     "data": {
      "text/plain": [
       "{'articles': 7,\n",
       " 'auto': 1,\n",
       " 'business': 5,\n",
       " 'cis': 4,\n",
       " 'crazy-world': 2,\n",
       " 'economics': 3,\n",
       " 'europe': 1,\n",
       " 'finances': 1,\n",
       " 'head': 3,\n",
       " 'health': 2,\n",
       " 'incidents': 6,\n",
       " 'kinomusic': 1,\n",
       " 'latest': 2,\n",
       " 'lifestyle': 2,\n",
       " 'middleeast': 3,\n",
       " 'moscow_city': 1,\n",
       " 'politics': 11,\n",
       " 'science': 6,\n",
       " 'scitech': 1,\n",
       " 'sport': 3,\n",
       " 'starlife': 13,\n",
       " 'travel': 1,\n",
       " 'video': 10,\n",
       " 'world': 9}"
      ]
     },
     "execution_count": 31,
     "metadata": {},
     "output_type": "execute_result"
    }
   ],
   "source": [
    "###Импортируем файл как Frame\n",
    "Data_frame = pd.read_csv('urls.txt', header=None, names=[\"a\"])\n",
    "##Data_frame.head(100)\n",
    "\n",
    "### Создаем list из строк, каждую из которых представляем тоже в виде list`a из отдельных слов, где нам нужно второе слово\n",
    "words = [ x.split('/') for x in Data_frame.a  ]\n",
    "##word\n",
    "dicts = {}\n",
    "pattern = '[0-9A-z].*'\n",
    "prog = re.compile( pattern )\n",
    "for x in words:\n",
    "    if prog.match( x[1] ):\n",
    "        dicts.setdefault(x[1], 0)\n",
    "        dicts[x[1]] += 1\n",
    "dicts\n"
   ]
  },
  {
   "cell_type": "markdown",
   "metadata": {},
   "source": [
    "## Упражение второе"
   ]
  },
  {
   "cell_type": "code",
   "execution_count": 47,
   "metadata": {},
   "outputs": [
    {
     "name": "stdout",
     "output_type": "stream",
     "text": [
      "колос\n",
      "леер\n",
      "лоток\n",
      "лотос\n",
      "молот\n",
      "моток\n",
      "мотор\n",
      "окот\n",
      "окрол\n",
      "орок\n",
      "осмол\n",
      "осмотр\n",
      "осот\n",
      "откол\n",
      "откорм\n",
      "откос\n",
      "отрок\n",
      "рокот\n",
      "росток\n",
      "телекс\n",
      "терем\n",
      "торос\n"
     ]
    },
    {
     "data": {
      "text/plain": [
       "1"
      ]
     },
     "execution_count": 47,
     "metadata": {},
     "output_type": "execute_result"
    }
   ],
   "source": [
    "import codecs\n",
    "rus_dict_list = []\n",
    "with codecs.open('word_rus.txt','r',encoding='utf8') as f:\n",
    "    for line in f:\n",
    "        line = line.strip()\n",
    "        rus_dict_list.append(line)  \n",
    "##print (rus_dict_list)\n",
    "\n",
    "\n",
    "word_dict = {}  ### словарь для букв проверяемого слова\n",
    "def word_checker (word ):\n",
    "    ###### заполняем словарь#############\n",
    "    for letter in  word:\n",
    "        word_dict.setdefault (letter,0)\n",
    "        word_dict[letter] +=1\n",
    "    ###################################\n",
    "    \n",
    "    \n",
    "    ## В цикле для каждого элемента листа инициалзируем и заполняем словарь букв\n",
    "    for word in rus_dict_list:\n",
    "        temp_dict= {}\n",
    "        for letter_dict in word:\n",
    "            temp_dict.setdefault ( letter_dict,0)\n",
    "            temp_dict[ letter_dict] +=1\n",
    "   ###################################################\n",
    "####### Проверяем вхождение одного множества в другое, превращаем словари в листы состоящие из set, где каждый  set  это пара буква:число\n",
    "        if temp_dict.items() <= word_dict.items():\n",
    "            print (word)\n",
    "\n",
    "        \n",
    "        \n",
    "    return 1\n",
    "\n",
    "word_checker ('ростелеком')"
   ]
  }
 ],
 "metadata": {
  "kernelspec": {
   "display_name": "Python 3",
   "language": "python",
   "name": "python3"
  },
  "language_info": {
   "codemirror_mode": {
    "name": "ipython",
    "version": 3
   },
   "file_extension": ".py",
   "mimetype": "text/x-python",
   "name": "python",
   "nbconvert_exporter": "python",
   "pygments_lexer": "ipython3",
   "version": "3.6.4"
  }
 },
 "nbformat": 4,
 "nbformat_minor": 2
}
